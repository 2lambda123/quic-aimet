{
 "cells": [
  {
   "cell_type": "markdown",
   "metadata": {
    "pycharm": {
     "name": "#%% md\n"
    }
   },
   "source": [
    "# AutoQuant\n",
    "\n",
    "This notebook shows a working code example of how to use AIMET AutoQuant feature.\n",
    "\n",
    "AIMET offers a suite of neural network post-training quantization techniques. Often, applying these techniques in a specific sequence, results in better accuracy and performance. Without the AutoQuant feature, the AIMET user needs to manually try out various combinations of AIMET quantization features. This manual process is error-prone and often time-consuming.\n",
    "\n",
    "The AutoQuant feature, analyzes the model, determines the sequence of AIMET quantization techniques and applies these techniques. In addition, the user can specify the amount of accuracy drop that can be tolerated, in the AutoQuant API. As soon as this threshold accuracy is reached, AutoQuant stops applying any additional quantization technique. In summary, the AutoQuant feature saves time and automates the quantization of the neural networks.\n",
    "\n",
    "\n",
    "#### Overall flow\n",
    "This notebook covers the following\n",
    "1. Instantiate the example evaluation and training pipeline\n",
    "2. Load a pretrained FP32 model and apply the AutoQuant feature\n",
    "3. Create a quantization simulation model (with fake quantization ops inserted) and evaluate this simuation model to get a quantized accuracy score\n",
    "\n",
    "#### What this notebook is not\n",
    "* This notebook is not designed to show state-of-the-art AutoQuant results. For example, it uses a relatively quantization-friendly model like Resnet18. Also, some optimization parameters like number of epochs to fine-tune are deliberately chosen to have the notebook execute more quickly."
   ]
  },
  {
   "cell_type": "markdown",
   "metadata": {},
   "source": [
    "---\n",
    "## Dataset\n",
    "\n",
    "This notebook relies on the ImageNet dataset for the task of image classification. If you already have a version of the dataset readily available, please use that. Else, please download the dataset from appropriate location (e.g. https://image-net.org/challenges/LSVRC/2012/index.php#).\n",
    "\n",
    "**Note1**: The ImageNet dataset typically has the following characteristics and the dataloader provided in this example notebook rely on these\n",
    "- Subfolders 'train' for the training samples and 'val' for the validation samples. Please see the [pytorch dataset description](https://pytorch.org/vision/0.8/_modules/torchvision/datasets/imagenet.html) for more details.\n",
    "- A subdirectory per class, and a file per each image sample\n",
    "\n",
    "**Note2**: To speed up the execution of this notebook, you may use a reduced subset of the ImageNet dataset. E.g. the entire ILSVRC2012 dataset has 1000 classes, 1000 training samples per class and 50 validation samples per class. But for the purpose of running this notebook, you could perhaps reduce the dataset to say 2 samples per class. This exercise is left upto the reader and is not necessary.\n",
    "\n",
    "Edit the cell below and specify the directory where the downloaded ImageNet dataset is saved."
   ]
  },
  {
   "cell_type": "code",
   "execution_count": 1,
   "metadata": {
    "pycharm": {
     "is_executing": true
    }
   },
   "outputs": [],
   "source": [
    "DATASET_DIR = '/prj/neo-nas/databatch/ILSVRC2012_PyTorch_tmp'         # Please replace this with a real directory"
   ]
  },
  {
   "cell_type": "markdown",
   "metadata": {
    "pycharm": {
     "name": "#%% md\n"
    }
   },
   "source": [
    "---\n",
    "## 1. Example evaluation and training pipeline\n",
    "\n",
    "The following is an example training and validation loop for this image classification task.\n",
    "\n",
    "- **Does AIMET have any limitations on how the training, validation pipeline is written?** Not really. We will see later that AIMET will modify the user's model to create a QuantizationSim model which is still a PyTorch model. This QuantizationSim model can be used in place of the original model when doing inference or training.\n",
    "- **Does AIMET put any limitation on the interface of the evaluate() or train() methods?** Not really. You should be able to use your existing evaluate and train routines as-is.\n"
   ]
  },
  {
   "cell_type": "code",
   "execution_count": 2,
   "metadata": {
    "pycharm": {
     "is_executing": true,
     "name": "#%%\n"
    }
   },
   "outputs": [],
   "source": [
    "import os\n",
    "import torch\n",
    "from Examples.common import image_net_config\n",
    "from Examples.torch.utils.image_net_evaluator import ImageNetEvaluator\n",
    "from Examples.torch.utils.image_net_trainer import ImageNetTrainer\n",
    "from Examples.torch.utils.image_net_data_loader import ImageNetDataLoader\n",
    "\n",
    "class ImageNetDataPipeline:\n",
    "\n",
    "    @staticmethod\n",
    "    def get_val_dataloader() -> torch.utils.data.DataLoader:\n",
    "        \"\"\"\n",
    "        Instantiates a validation dataloader for ImageNet dataset and returns it\n",
    "        \"\"\"\n",
    "        data_loader = ImageNetDataLoader(DATASET_DIR,\n",
    "                                         image_size=image_net_config.dataset['image_size'],\n",
    "                                         batch_size=image_net_config.evaluation['batch_size'],\n",
    "                                         is_training=False,\n",
    "                                         num_workers=image_net_config.evaluation['num_workers']).data_loader\n",
    "        return data_loader\n",
    "\n",
    "    @staticmethod\n",
    "    def evaluate(model: torch.nn.Module, use_cuda: bool) -> float:\n",
    "        \"\"\"\n",
    "        Given a torch model, evaluates its Top-1 accuracy on the dataset\n",
    "        :param model: the model to evaluate\n",
    "        :param use_cuda: whether or not the GPU should be used.\n",
    "        \"\"\"\n",
    "        evaluator = ImageNetEvaluator(DATASET_DIR, image_size=image_net_config.dataset['image_size'],\n",
    "                                      batch_size=image_net_config.evaluation['batch_size'],\n",
    "                                      num_workers=image_net_config.evaluation['num_workers'])\n",
    "\n",
    "        return evaluator.evaluate(model, iterations=None, use_cuda=use_cuda)\n",
    "\n",
    "    @staticmethod\n",
    "    def finetune(model: torch.nn.Module, epochs, learning_rate, learning_rate_schedule, use_cuda):\n",
    "        \"\"\"\n",
    "        Given a torch model, finetunes the model to improve its accuracy\n",
    "        :param model: the model to finetune\n",
    "        :param epochs: The number of epochs used during the finetuning step.\n",
    "        :param learning_rate: The learning rate used during the finetuning step.\n",
    "        :param learning_rate_schedule: The learning rate schedule used during the finetuning step.\n",
    "        :param use_cuda: whether or not the GPU should be used.\n",
    "        \"\"\"\n",
    "        trainer = ImageNetTrainer(DATASET_DIR, image_size=image_net_config.dataset['image_size'],\n",
    "                                  batch_size=image_net_config.train['batch_size'],\n",
    "                                  num_workers=image_net_config.train['num_workers'])\n",
    "\n",
    "        trainer.train(model, max_epochs=epochs, learning_rate=learning_rate,\n",
    "                      learning_rate_schedule=learning_rate_schedule, use_cuda=use_cuda)"
   ]
  },
  {
   "cell_type": "code",
   "execution_count": 3,
   "metadata": {},
   "outputs": [],
   "source": [
    "import torchvision\n",
    "from torchvision import datasets, transforms\n",
    "from torchvision import transforms as T\n",
    "\n",
    "def generate_dataloader(data, name,transform, batch_size=32):\n",
    "    if data is None:\n",
    "        return None\n",
    "\n",
    "    if transform is None:\n",
    "        dataset = torchvision.datasets.ImageFolder(data, transform=T.ToTensor())\n",
    "    else:\n",
    "        dataset = torchvision.datasets.ImageFolder(data, transform=transform)\n",
    "\n",
    "    dataloader = DataLoader(dataset, batch_size=batch_size,shuffle=False)\n",
    "\n",
    "    return dataloader"
   ]
  },
  {
   "cell_type": "code",
   "execution_count": 4,
   "metadata": {},
   "outputs": [],
   "source": [
    "from torch.utils.data import Dataset, DataLoader, SubsetRandomSampler\n",
    "BATCH_SIZE = 100\n",
    "\n",
    "transform = transforms.Compose((\n",
    "    transforms.ToTensor(),\n",
    "))\n",
    "\n",
    "preprocess_transform_pretrain = T.Compose([\n",
    "    T.Resize(256),  # Resize images to 256 x 256\n",
    "    T.CenterCrop(224),  # Center crop image\n",
    "    T.RandomHorizontalFlip(),\n",
    "    T.ToTensor(),  # Converting cropped images to tensors\n",
    "    T.Normalize(mean=[0.485, 0.456, 0.406],\n",
    "                std=[0.229, 0.224, 0.225])\n",
    "])\n",
    "\n",
    "\n",
    "img_net_dataloader = generate_dataloader(DATASET_DIR, \"val\",\n",
    "                                 transform=preprocess_transform_pretrain, batch_size=BATCH_SIZE)"
   ]
  },
  {
   "cell_type": "markdown",
   "metadata": {
    "pycharm": {
     "name": "#%% md\n"
    }
   },
   "source": [
    "---\n",
    "## 2. Load the model and evaluate to get a baseline FP32 accuracy score"
   ]
  },
  {
   "cell_type": "markdown",
   "metadata": {
    "pycharm": {
     "name": "#%% md\n"
    }
   },
   "source": [
    "For this example notebook, we are going to load a pretrained resnet18 model from torchvision. Similarly, you can load any pretrained PyTorch model instead."
   ]
  },
  {
   "cell_type": "code",
   "execution_count": 5,
   "metadata": {
    "pycharm": {
     "name": "#%%\n"
    }
   },
   "outputs": [],
   "source": [
    "from torchvision.models import resnet18\n",
    "\n",
    "model = resnet18(pretrained=True)"
   ]
  },
  {
   "cell_type": "markdown",
   "metadata": {},
   "source": [
    "AIMET quantization simulation requires the user's model definition to follow certain guidelines. For example, functionals defined in forward pass should be changed to equivalent torch.nn.Module.\n",
    "AIMET user guide lists all these guidelines.\n",
    "The following **ModelPreparer** API uses new graph transformation feature available in PyTorch 1.9+ version and automates model definition changes required to comply with the above guidelines. "
   ]
  },
  {
   "cell_type": "code",
   "execution_count": 6,
   "metadata": {},
   "outputs": [
    {
     "name": "stdout",
     "output_type": "stream",
     "text": [
      "2022-06-08 22:09:04,491 - root - INFO - AIMET\n",
      "2022-06-08 22:09:04,528 - Quant - INFO - Functional         : Adding new module for node: {add} \n",
      "2022-06-08 22:09:04,529 - Quant - INFO - Reused/Duplicate   : Adding new module for node: {layer1_0_relu_1} \n",
      "2022-06-08 22:09:04,529 - Quant - INFO - Functional         : Adding new module for node: {add_1} \n",
      "2022-06-08 22:09:04,530 - Quant - INFO - Reused/Duplicate   : Adding new module for node: {layer1_1_relu_1} \n",
      "2022-06-08 22:09:04,531 - Quant - INFO - Functional         : Adding new module for node: {add_2} \n",
      "2022-06-08 22:09:04,531 - Quant - INFO - Reused/Duplicate   : Adding new module for node: {layer2_0_relu_1} \n",
      "2022-06-08 22:09:04,532 - Quant - INFO - Functional         : Adding new module for node: {add_3} \n",
      "2022-06-08 22:09:04,532 - Quant - INFO - Reused/Duplicate   : Adding new module for node: {layer2_1_relu_1} \n",
      "2022-06-08 22:09:04,533 - Quant - INFO - Functional         : Adding new module for node: {add_4} \n",
      "2022-06-08 22:09:04,533 - Quant - INFO - Reused/Duplicate   : Adding new module for node: {layer3_0_relu_1} \n",
      "2022-06-08 22:09:04,534 - Quant - INFO - Functional         : Adding new module for node: {add_5} \n",
      "2022-06-08 22:09:04,534 - Quant - INFO - Reused/Duplicate   : Adding new module for node: {layer3_1_relu_1} \n",
      "2022-06-08 22:09:04,535 - Quant - INFO - Functional         : Adding new module for node: {add_6} \n",
      "2022-06-08 22:09:04,535 - Quant - INFO - Reused/Duplicate   : Adding new module for node: {layer4_0_relu_1} \n",
      "2022-06-08 22:09:04,536 - Quant - INFO - Functional         : Adding new module for node: {add_7} \n",
      "2022-06-08 22:09:04,537 - Quant - INFO - Reused/Duplicate   : Adding new module for node: {layer4_1_relu_1} \n"
     ]
    },
    {
     "name": "stderr",
     "output_type": "stream",
     "text": [
      "/usr/local/lib/python3.6/dist-packages/torch/fx/graph.py:606: UserWarning: Attempted to insert a call_module Node with no underlying reference in the owning GraphModule! Call GraphModule.add_submodule to add the necessary submodule\n",
      "  warnings.warn(\"Attempted to insert a call_module Node with \"\n"
     ]
    }
   ],
   "source": [
    "from aimet_torch.model_preparer import prepare_model\n",
    "\n",
    "model = prepare_model(model)"
   ]
  },
  {
   "cell_type": "markdown",
   "metadata": {},
   "source": [
    "---\n",
    "We should decide whether to place the model on a CPU or CUDA device. This example code will use CUDA if available in your current execution environment. You can change this logic and force a device placement if needed."
   ]
  },
  {
   "cell_type": "code",
   "execution_count": 7,
   "metadata": {
    "pycharm": {
     "name": "#%%\n"
    }
   },
   "outputs": [
    {
     "name": "stdout",
     "output_type": "stream",
     "text": [
      "YES. CUDA is available\n"
     ]
    }
   ],
   "source": [
    "use_cuda = False\n",
    "if torch.cuda.is_available():\n",
    "    print(\"YES. CUDA is available\")\n",
    "    use_cuda = True\n",
    "    model.to(torch.device('cuda'))"
   ]
  },
  {
   "cell_type": "markdown",
   "metadata": {},
   "source": [
    "---\n",
    "Let's determine the FP32 (floating point 32-bit) accuracy of this model using the evaluate() routine"
   ]
  },
  {
   "cell_type": "code",
   "execution_count": 8,
   "metadata": {
    "pycharm": {
     "name": "#%%\n"
    }
   },
   "outputs": [
    {
     "name": "stdout",
     "output_type": "stream",
     "text": [
      "2022-06-08 22:09:19,316 - Dataloader - INFO - Dataset consists of 2000 images in 1000 classes\n",
      "2022-06-08 22:09:19,319 - Eval - INFO - No value of iteration is provided, running evaluation on complete dataset.\n",
      "2022-06-08 22:09:19,320 - Eval - INFO - Evaluating nn.Module for 63 iterations with batch_size 32\n"
     ]
    },
    {
     "name": "stderr",
     "output_type": "stream",
     "text": [
      "100% (63 of 63) |########################| Elapsed Time: 0:00:11 Time:  0:00:11\n"
     ]
    },
    {
     "name": "stdout",
     "output_type": "stream",
     "text": [
      "2022-06-08 22:09:30,877 - Eval - INFO - Avg accuracy Top 1: 70.287698 Avg accuracy Top 5: 89.682540 on validation Dataset\n",
      "70.28769841269842\n"
     ]
    }
   ],
   "source": [
    "accuracy = ImageNetDataPipeline.evaluate(model, use_cuda)\n",
    "print(accuracy)"
   ]
  },
  {
   "cell_type": "markdown",
   "metadata": {},
   "source": [
    "---\n",
    "## 3. Define Constants and Helper functions"
   ]
  },
  {
   "cell_type": "code",
   "execution_count": 9,
   "metadata": {
    "pycharm": {
     "name": "#%%\n"
    }
   },
   "outputs": [],
   "source": [
    "import random\n",
    "\n",
    "EVAL_DATASET_SIZE = 5000\n",
    "CALIBRATION_DATASET_SIZE = 2000\n",
    "BATCH_SIZE = 100\n",
    "\n",
    "_subset_samplers = {}\n",
    "\n",
    "def _create_sampled_data_loader(dataset, num_samples):\n",
    "    if num_samples not in _subset_samplers:\n",
    "        indices = random.sample(range(len(dataset)), num_samples)\n",
    "        _subset_samplers[num_samples] = SubsetRandomSampler(indices=indices)\n",
    "    return DataLoader(dataset,\n",
    "                      sampler=_subset_samplers[num_samples],\n",
    "                      batch_size=BATCH_SIZE)"
   ]
  },
  {
   "cell_type": "markdown",
   "metadata": {
    "pycharm": {
     "name": "#%% md\n"
    }
   },
   "source": [
    "## Prepare the Dataset\n",
    "\n",
    "NOTE: In the actual use cases, a real dataset should provide by the users.\n",
    "\n",
    "Now we use AIMET to create a QuantizationSimModel. This basically means that AIMET will insert fake quantization ops in the model graph and will configure them.\n",
    "A few of the parameters are explained here\n",
    "- **quant_scheme**: We set this to \"training_range_learning_with_tf_init\"\n",
    "    - This is the key setting that enables \"range learning\". With this choice of quant scheme, AIMET will use the TF quant scheme to initialize the quantization parameters like scale/offset. And then those parameters are set to be trainable so they can continue to be updated during fine-tuning.\n",
    "    - Another choice for quant_scheme is \"training_range_learning_with_tf_enhanced_init\". Similar to the above, but the initialization for scale/offset is doing using the TF Enhanced scheme. Since in both schemes the quantization parameters are set to be trainable, there is not much benefit to using this choice instead of \"training_range_learning_with_tf_init.\n",
    "- **default_output_bw**: Setting this to 8, essentially means that we are asking AIMET to perform all activation quantizations in the model using integer 8-bit precision\n",
    "- **default_param_bw**: Setting this to 8, essentially means that we are asking AIMET to perform all parameter quantizations in the model using integer 8-bit precision\n",
    "\n",
    "There are other parameters that are set to default values in this example. Please check the AIMET API documentation of QuantizationSimModel to see reference documentation for all the parameters."
   ]
  },
  {
   "cell_type": "code",
   "execution_count": 10,
   "metadata": {},
   "outputs": [],
   "source": [
    "from torchvision import datasets, transforms\n",
    "\n",
    "input_shape = (1, 3, 224, 224)\n",
    "\n",
    "\n",
    "transform = transforms.Compose((\n",
    "    transforms.ToTensor(),\n",
    "))\n",
    "\n",
    "eval_dataset = datasets.FakeData(size=EVAL_DATASET_SIZE,\n",
    "                                 image_size=input_shape[1:],\n",
    "                                 num_classes=1000,\n",
    "                                 transform=transform)\n",
    "\n"
   ]
  },
  {
   "cell_type": "markdown",
   "metadata": {},
   "source": [
    "---\n",
    "## Prepare unlabeled dataset\n",
    "NOTE: In the actual use cases, the users should implement this part to serve\n",
    "       their own goals if necessary."
   ]
  },
  {
   "cell_type": "code",
   "execution_count": 11,
   "metadata": {
    "pycharm": {
     "name": "#%%\n"
    }
   },
   "outputs": [],
   "source": [
    "from torch.utils.data import Dataset, DataLoader, SubsetRandomSampler\n",
    "\n",
    "class UnlabeledDatasetWrapper(Dataset):\n",
    "    def __init__(self, dataset):\n",
    "        self._dataset = dataset\n",
    "\n",
    "    def __len__(self):\n",
    "        return len(self._dataset)\n",
    "\n",
    "    def __getitem__(self, index):\n",
    "        images, _ = self._dataset[index]\n",
    "        return images\n",
    "\n",
    "unlabeled_dataset = UnlabeledDatasetWrapper(eval_dataset)\n",
    "unlabeled_data_loader = _create_sampled_data_loader(unlabeled_dataset, CALIBRATION_DATASET_SIZE)\n",
    "\n",
    "img_net_data_set = UnlabeledDatasetWrapper(DATASET_DIR)\n",
    "in_ds_dl = _create_sampled_data_loader(img_net_data_set, CALIBRATION_DATASET_SIZE)"
   ]
  },
  {
   "cell_type": "markdown",
   "metadata": {},
   "source": [
    "---\n",
    "Even though AIMET has added 'quantizer' nodes to the model graph but the model is not ready to be used yet. Before we can use the sim model for inference or training, we need to find appropriate scale/offset quantization parameters for each 'quantizer' node. For activation quantization nodes, we need to pass unlabeled data samples through the model to collect range statistics which will then let AIMET calculate appropriate scale/offset quantization parameters. This process is sometimes referred to as calibration. AIMET simply refers to it as 'computing encodings'.\n",
    "\n",
    "So we create a routine to pass unlabeled data samples through the model. This should be fairly simple - use the existing train or validation data loader to extract some samples and pass them to the model. We don't need to compute any loss metric etc. So we can just ignore the model output for this purpose. A few pointers regarding the data samples\n",
    "- In practice, we need a very small percentage of the overall data samples for computing encodings. For example, the training dataset for ImageNet has 1M samples. For computing encodings we only need 500 or 1000 samples.\n",
    "- It may be beneficial if the samples used for computing encoding are well distributed. It's not necessary that all classes need to be covered etc. since we are only looking at the range of values at every layer activation. However, we definitely want to avoid an extreme scenario like all 'dark' or 'light' samples are used - e.g. only using pictures captured at night might not give ideal results.\n",
    "\n",
    "The following shows an example of a routine that passes unlabeled samples through the model for computing encodings. This routine can be written in many different ways, this is just an example."
   ]
  },
  {
   "cell_type": "code",
   "execution_count": 12,
   "metadata": {
    "pycharm": {
     "name": "#%%\n"
    }
   },
   "outputs": [],
   "source": [
    "def pass_calibration_data(sim_model, use_cuda):\n",
    "    data_loader = ImageNetDataPipeline.get_val_dataloader()\n",
    "    batch_size = data_loader.batch_size\n",
    "\n",
    "    if use_cuda:\n",
    "        device = torch.device('cuda')\n",
    "    else:\n",
    "        device = torch.device('cpu')\n",
    "\n",
    "    sim_model.eval()\n",
    "    samples = 1000\n",
    "\n",
    "    batch_cntr = 0\n",
    "    with torch.no_grad():\n",
    "        for input_data, target_data in data_loader:\n",
    "\n",
    "            inputs_batch = input_data.to(device)\n",
    "            sim_model(inputs_batch)\n",
    "\n",
    "            batch_cntr += 1\n",
    "            if (batch_cntr * batch_size) > samples:\n",
    "                break"
   ]
  },
  {
   "cell_type": "markdown",
   "metadata": {},
   "source": [
    "---\n",
    "Now we call AIMET to use the above routine to pass data through the model and then subsequently compute the quantization encodings. Encodings here refer to scale/offset quantization parameters."
   ]
  },
  {
   "cell_type": "markdown",
   "metadata": {},
   "source": [
    "## Prepare eval callback"
   ]
  },
  {
   "cell_type": "code",
   "execution_count": 13,
   "metadata": {},
   "outputs": [],
   "source": [
    "from typing import Optional\n",
    "\n",
    "def eval_callback(model: torch.nn.Module, num_samples: Optional[int] = None) -> float:\n",
    "    if num_samples is None:\n",
    "        num_samples = len(eval_dataset)\n",
    "\n",
    "    eval_data_loader = _create_sampled_data_loader(eval_dataset, num_samples)\n",
    "\n",
    "    num_correct_predictions = 0\n",
    "    for images, labels in eval_data_loader:\n",
    "        predictions = torch.argmax(model(images.cuda()), dim=1)\n",
    "        num_correct_predictions += torch.sum(predictions.cpu() == labels)\n",
    "\n",
    "    return int(num_correct_predictions) / num_samples"
   ]
  },
  {
   "cell_type": "code",
   "execution_count": 25,
   "metadata": {},
   "outputs": [],
   "source": [
    "def eval_callback_2(model: torch.nn.Module, num_samples: Optional[int] = None) -> float:\n",
    "    return ImageNetDataPipeline.evaluate(model, use_cuda)\n",
    "    "
   ]
  },
  {
   "cell_type": "markdown",
   "metadata": {},
   "source": [
    "---\n",
    "## 4. Create AutoQuant  object\n",
    "\n",
    "To perform quantization aware training (QAT), we simply train the model for a few more epochs (typically 15-20). As with any training job, hyper-parameters need to be searched for optimal results. Good starting points are to use a learning rate on the same order as the ending learning rate when training the original model, and to drop the learning rate by a factor of 10 every 5 epochs or so.\n",
    "\n",
    "For the purpose of this example notebook, we are going to train only for 1 epoch. But feel free to change these parameters as you see fit."
   ]
  },
  {
   "cell_type": "code",
   "execution_count": 26,
   "metadata": {},
   "outputs": [],
   "source": [
    "from aimet_torch.auto_quant import AutoQuant\n",
    "\n",
    "auto_quant = AutoQuant(allowed_accuracy_drop=0.01,\n",
    "                       unlabeled_dataset_iterable=unlabeled_data_loader,\n",
    "                       eval_callback=eval_callback_2)"
   ]
  },
  {
   "cell_type": "markdown",
   "metadata": {},
   "source": [
    "## Optionally set AdaRound Parameters\n",
    "The AutoQuant feature, internally uses default parameters to run the AdaRound step.\n",
    "If and only if necessary, the daefault AdaRound Parameters could be modified using the API shown below."
   ]
  },
  {
   "cell_type": "code",
   "execution_count": 27,
   "metadata": {
    "pycharm": {
     "name": "#%%\n"
    }
   },
   "outputs": [],
   "source": [
    "from aimet_torch.adaround.adaround_weight import AdaroundParameters\n",
    "\n",
    "ADAROUND_DATASET_SIZE = 2000\n",
    "adaround_data_loader = _create_sampled_data_loader(unlabeled_dataset, ADAROUND_DATASET_SIZE)\n",
    "adaround_params = AdaroundParameters(adaround_data_loader, num_batches=len(adaround_data_loader))\n",
    "auto_quant.set_adaround_params(adaround_params)"
   ]
  },
  {
   "cell_type": "markdown",
   "metadata": {},
   "source": [
    "---\n",
    "Depending on your settings you may have observed a slight gain in accuracy after one epoch of training. Ofcourse, this was just an example. Please try this against the model of your choice and play with the hyper-parameters to get the best results.\n",
    "\n",
    "So we have an improved model after QAT. Now the next step would be to actually take this model to target. For this purpose, we need to export the model with the updated weights without the fake quant ops. And also to export the encodings (scale/offset quantization parameters) that were updated during training since we employed QAT with range-learning. AIMET QuantizationSimModel provides an export API for this purpose."
   ]
  },
  {
   "cell_type": "markdown",
   "metadata": {},
   "source": [
    "## Run AutoQuant"
   ]
  },
  {
   "cell_type": "code",
   "execution_count": 28,
   "metadata": {
    "scrolled": false
   },
   "outputs": [
    {
     "name": "stdout",
     "output_type": "stream",
     "text": [
      "2022-06-08 22:41:38,544 - AutoQuant - INFO - Starting AutoQuant\n",
      "2022-06-08 22:41:40,610 - Dataloader - INFO - Dataset consists of 2000 images in 1000 classes\n",
      "2022-06-08 22:41:40,612 - Eval - INFO - No value of iteration is provided, running evaluation on complete dataset.\n",
      "2022-06-08 22:41:40,614 - Eval - INFO - Evaluating nn.Module for 63 iterations with batch_size 32\n"
     ]
    },
    {
     "name": "stderr",
     "output_type": "stream",
     "text": [
      "100% (63 of 63) |########################| Elapsed Time: 0:00:11 Time:  0:00:11\n"
     ]
    },
    {
     "name": "stdout",
     "output_type": "stream",
     "text": [
      "2022-06-08 22:41:52,117 - Eval - INFO - Avg accuracy Top 1: 70.287698 Avg accuracy Top 5: 89.682540 on validation Dataset\n",
      "2022-06-08 22:41:52,119 - AutoQuant - INFO - Target eval score: 70.28\n",
      "2022-06-08 22:41:52,119 - AutoQuant - INFO - FP32 eval score (W32A32): 70.29\n"
     ]
    },
    {
     "name": "stderr",
     "output_type": "stream",
     "text": [
      "                                 \r"
     ]
    },
    {
     "name": "stdout",
     "output_type": "stream",
     "text": [
      "2022-06-08 22:41:52,343 - Quant - INFO - No config file provided, defaulting to config file at /local/mnt/workspace/sundarr/os/aimet-mirror/build/staging/universal/lib/python/aimet_common/quantsim_config/default_config.json\n"
     ]
    },
    {
     "name": "stderr",
     "output_type": "stream",
     "text": [
      "                                 \r"
     ]
    },
    {
     "name": "stdout",
     "output_type": "stream",
     "text": [
      "2022-06-08 22:41:52,351 - Utils - INFO - ...... subset to store [Conv_0, Relu_1]\n"
     ]
    },
    {
     "name": "stderr",
     "output_type": "stream",
     "text": [
      "                                 \r"
     ]
    },
    {
     "name": "stdout",
     "output_type": "stream",
     "text": [
      "2022-06-08 22:41:52,353 - Utils - INFO - ...... subset to store [Conv_3, Relu_4]\n"
     ]
    },
    {
     "name": "stderr",
     "output_type": "stream",
     "text": [
      "                                 \r"
     ]
    },
    {
     "name": "stdout",
     "output_type": "stream",
     "text": [
      "2022-06-08 22:41:52,355 - Utils - INFO - ...... subset to store [Add_6, Relu_7]\n"
     ]
    },
    {
     "name": "stderr",
     "output_type": "stream",
     "text": [
      "                                 \r"
     ]
    },
    {
     "name": "stdout",
     "output_type": "stream",
     "text": [
      "2022-06-08 22:41:52,358 - Utils - INFO - ...... subset to store [Conv_8, Relu_9]\n"
     ]
    },
    {
     "name": "stderr",
     "output_type": "stream",
     "text": [
      "                                 \r"
     ]
    },
    {
     "name": "stdout",
     "output_type": "stream",
     "text": [
      "2022-06-08 22:41:52,360 - Utils - INFO - ...... subset to store [Add_11, Relu_12]\n"
     ]
    },
    {
     "name": "stderr",
     "output_type": "stream",
     "text": [
      "                                 \r"
     ]
    },
    {
     "name": "stdout",
     "output_type": "stream",
     "text": [
      "2022-06-08 22:41:52,362 - Utils - INFO - ...... subset to store [Conv_13, Relu_14]\n"
     ]
    },
    {
     "name": "stderr",
     "output_type": "stream",
     "text": [
      "                                 \r"
     ]
    },
    {
     "name": "stdout",
     "output_type": "stream",
     "text": [
      "2022-06-08 22:41:52,365 - Utils - INFO - ...... subset to store [Add_17, Relu_18]\n"
     ]
    },
    {
     "name": "stderr",
     "output_type": "stream",
     "text": [
      "                                 \r"
     ]
    },
    {
     "name": "stdout",
     "output_type": "stream",
     "text": [
      "2022-06-08 22:41:52,367 - Utils - INFO - ...... subset to store [Conv_19, Relu_20]\n"
     ]
    },
    {
     "name": "stderr",
     "output_type": "stream",
     "text": [
      "                                 \r"
     ]
    },
    {
     "name": "stdout",
     "output_type": "stream",
     "text": [
      "2022-06-08 22:41:52,372 - Utils - INFO - ...... subset to store [Add_22, Relu_23]\n"
     ]
    },
    {
     "name": "stderr",
     "output_type": "stream",
     "text": [
      "                                 \r"
     ]
    },
    {
     "name": "stdout",
     "output_type": "stream",
     "text": [
      "2022-06-08 22:41:52,377 - Utils - INFO - ...... subset to store [Conv_24, Relu_25]\n"
     ]
    },
    {
     "name": "stderr",
     "output_type": "stream",
     "text": [
      "                                 \r"
     ]
    },
    {
     "name": "stdout",
     "output_type": "stream",
     "text": [
      "2022-06-08 22:41:52,380 - Utils - INFO - ...... subset to store [Add_28, Relu_29]\n"
     ]
    },
    {
     "name": "stderr",
     "output_type": "stream",
     "text": [
      "                                 \r"
     ]
    },
    {
     "name": "stdout",
     "output_type": "stream",
     "text": [
      "2022-06-08 22:41:52,382 - Utils - INFO - ...... subset to store [Conv_30, Relu_31]\n"
     ]
    },
    {
     "name": "stderr",
     "output_type": "stream",
     "text": [
      "                                 \r"
     ]
    },
    {
     "name": "stdout",
     "output_type": "stream",
     "text": [
      "2022-06-08 22:41:52,384 - Utils - INFO - ...... subset to store [Add_33, Relu_34]\n"
     ]
    },
    {
     "name": "stderr",
     "output_type": "stream",
     "text": [
      "                                 \r"
     ]
    },
    {
     "name": "stdout",
     "output_type": "stream",
     "text": [
      "2022-06-08 22:41:52,386 - Utils - INFO - ...... subset to store [Conv_35, Relu_36]\n"
     ]
    },
    {
     "name": "stderr",
     "output_type": "stream",
     "text": [
      "                                 \r"
     ]
    },
    {
     "name": "stdout",
     "output_type": "stream",
     "text": [
      "2022-06-08 22:41:52,389 - Utils - INFO - ...... subset to store [Add_39, Relu_40]\n"
     ]
    },
    {
     "name": "stderr",
     "output_type": "stream",
     "text": [
      "                                 \r"
     ]
    },
    {
     "name": "stdout",
     "output_type": "stream",
     "text": [
      "2022-06-08 22:41:52,391 - Utils - INFO - ...... subset to store [Conv_41, Relu_42]\n"
     ]
    },
    {
     "name": "stderr",
     "output_type": "stream",
     "text": [
      "                                 \r"
     ]
    },
    {
     "name": "stdout",
     "output_type": "stream",
     "text": [
      "2022-06-08 22:41:52,393 - Utils - INFO - ...... subset to store [Add_44, Relu_45]\n"
     ]
    },
    {
     "name": "stderr",
     "output_type": "stream",
     "text": [
      "- Weight Quantization Sensitivity\n",
      "\\ Weight Quantization Sensitivityit/s]\u001b[A\n",
      "/ Weight Quantization Sensitivity5,  6.63s/it]\u001b[A\n",
      "\\ Weight Quantization Sensitivity6,  5.37s/it]\u001b[A\n",
      "/ Weight Quantization Sensitivity4,  4.99s/it]\u001b[A\n",
      "\\ Weight Quantization Sensitivity6,  4.76s/it]\u001b[A\n",
      "/ Weight Quantization Sensitivity9,  4.63s/it]\u001b[A\n",
      "\\ Weight Quantization Sensitivity3,  4.55s/it]\u001b[A\n",
      "/ Weight Quantization Sensitivity8,  4.51s/it]\u001b[A\n",
      "\\ Weight Quantization Sensitivity3,  4.48s/it]\u001b[A\n",
      "- Weight Quantization Sensitivity9,  4.46s/it]\u001b[A\n",
      "\\ Weight Quantization Sensitivity44,  4.45s/it]\u001b[A\n",
      "/ Weight Quantization Sensitivity39,  4.44s/it]\u001b[A\n",
      "\\ Weight Quantization Sensitivity35,  4.42s/it]\u001b[A\n",
      "/ Weight Quantization Sensitivity30,  4.42s/it]\u001b[A\n",
      "\\ Weight Quantization Sensitivity26,  4.42s/it]\u001b[A\n",
      "/ Weight Quantization Sensitivity22,  4.42s/it]\u001b[A\n",
      "\\ Weight Quantization Sensitivity17,  4.41s/it]\u001b[A\n",
      "/ Weight Quantization Sensitivity13,  4.41s/it]\u001b[A\n",
      "\\ Weight Quantization Sensitivity08,  4.41s/it]\u001b[A\n",
      "/ Weight Quantization Sensitivity04,  4.40s/it]\u001b[A\n",
      "100%|██████████| 20/20 [01:30<00:00,  4.53s/it]\u001b[A\n",
      "                                 \r"
     ]
    },
    {
     "name": "stdout",
     "output_type": "stream",
     "text": [
      "2022-06-08 22:43:24,932 - Dataloader - INFO - Dataset consists of 2000 images in 1000 classes\n"
     ]
    },
    {
     "name": "stderr",
     "output_type": "stream",
     "text": [
      "                                 \r"
     ]
    },
    {
     "name": "stdout",
     "output_type": "stream",
     "text": [
      "2022-06-08 22:43:24,937 - Eval - INFO - No value of iteration is provided, running evaluation on complete dataset.\n"
     ]
    },
    {
     "name": "stderr",
     "output_type": "stream",
     "text": [
      "                                 \r"
     ]
    },
    {
     "name": "stdout",
     "output_type": "stream",
     "text": [
      "2022-06-08 22:43:24,942 - Eval - INFO - Evaluating nn.Module for 63 iterations with batch_size 32\n"
     ]
    },
    {
     "name": "stderr",
     "output_type": "stream",
     "text": [
      "100% (63 of 63) |########################| Elapsed Time: 0:00:10 Time:  0:00:10\n",
      "                                 \r"
     ]
    },
    {
     "name": "stdout",
     "output_type": "stream",
     "text": [
      "2022-06-08 22:43:36,064 - Eval - INFO - Avg accuracy Top 1: 6.299603 Avg accuracy Top 5: 23.313492 on validation Dataset\n"
     ]
    },
    {
     "name": "stderr",
     "output_type": "stream",
     "text": [
      "\\ Weight Quantization Sensitivity\n",
      "                                     \r"
     ]
    },
    {
     "name": "stdout",
     "output_type": "stream",
     "text": [
      "2022-06-08 22:43:36,501 - Quant - INFO - No config file provided, defaulting to config file at /local/mnt/workspace/sundarr/os/aimet-mirror/build/staging/universal/lib/python/aimet_common/quantsim_config/default_config.json\n"
     ]
    },
    {
     "name": "stderr",
     "output_type": "stream",
     "text": [
      "                                     \r"
     ]
    },
    {
     "name": "stdout",
     "output_type": "stream",
     "text": [
      "2022-06-08 22:43:36,510 - Utils - INFO - ...... subset to store [Conv_0, Relu_1]\n"
     ]
    },
    {
     "name": "stderr",
     "output_type": "stream",
     "text": [
      "                                     \r"
     ]
    },
    {
     "name": "stdout",
     "output_type": "stream",
     "text": [
      "2022-06-08 22:43:36,513 - Utils - INFO - ...... subset to store [Conv_3, Relu_4]\n"
     ]
    },
    {
     "name": "stderr",
     "output_type": "stream",
     "text": [
      "                                     \r"
     ]
    },
    {
     "name": "stdout",
     "output_type": "stream",
     "text": [
      "2022-06-08 22:43:36,516 - Utils - INFO - ...... subset to store [Add_6, Relu_7]\n"
     ]
    },
    {
     "name": "stderr",
     "output_type": "stream",
     "text": [
      "                                     \r"
     ]
    },
    {
     "name": "stdout",
     "output_type": "stream",
     "text": [
      "2022-06-08 22:43:36,519 - Utils - INFO - ...... subset to store [Conv_8, Relu_9]\n"
     ]
    },
    {
     "name": "stderr",
     "output_type": "stream",
     "text": [
      "                                     \r"
     ]
    },
    {
     "name": "stdout",
     "output_type": "stream",
     "text": [
      "2022-06-08 22:43:36,523 - Utils - INFO - ...... subset to store [Add_11, Relu_12]\n"
     ]
    },
    {
     "name": "stderr",
     "output_type": "stream",
     "text": [
      "                                     \r"
     ]
    },
    {
     "name": "stdout",
     "output_type": "stream",
     "text": [
      "2022-06-08 22:43:36,526 - Utils - INFO - ...... subset to store [Conv_13, Relu_14]\n"
     ]
    },
    {
     "name": "stderr",
     "output_type": "stream",
     "text": [
      "                                     \r"
     ]
    },
    {
     "name": "stdout",
     "output_type": "stream",
     "text": [
      "2022-06-08 22:43:36,531 - Utils - INFO - ...... subset to store [Add_17, Relu_18]\n"
     ]
    },
    {
     "name": "stderr",
     "output_type": "stream",
     "text": [
      "                                     \r"
     ]
    },
    {
     "name": "stdout",
     "output_type": "stream",
     "text": [
      "2022-06-08 22:43:36,535 - Utils - INFO - ...... subset to store [Conv_19, Relu_20]\n"
     ]
    },
    {
     "name": "stderr",
     "output_type": "stream",
     "text": [
      "                                     \r"
     ]
    },
    {
     "name": "stdout",
     "output_type": "stream",
     "text": [
      "2022-06-08 22:43:36,537 - Utils - INFO - ...... subset to store [Add_22, Relu_23]\n"
     ]
    },
    {
     "name": "stderr",
     "output_type": "stream",
     "text": [
      "                                     \r"
     ]
    },
    {
     "name": "stdout",
     "output_type": "stream",
     "text": [
      "2022-06-08 22:43:36,539 - Utils - INFO - ...... subset to store [Conv_24, Relu_25]\n"
     ]
    },
    {
     "name": "stderr",
     "output_type": "stream",
     "text": [
      "                                     \r"
     ]
    },
    {
     "name": "stdout",
     "output_type": "stream",
     "text": [
      "2022-06-08 22:43:36,542 - Utils - INFO - ...... subset to store [Add_28, Relu_29]\n"
     ]
    },
    {
     "name": "stderr",
     "output_type": "stream",
     "text": [
      "                                     \r"
     ]
    },
    {
     "name": "stdout",
     "output_type": "stream",
     "text": [
      "2022-06-08 22:43:36,544 - Utils - INFO - ...... subset to store [Conv_30, Relu_31]\n"
     ]
    },
    {
     "name": "stderr",
     "output_type": "stream",
     "text": [
      "                                     \r"
     ]
    },
    {
     "name": "stdout",
     "output_type": "stream",
     "text": [
      "2022-06-08 22:43:36,546 - Utils - INFO - ...... subset to store [Add_33, Relu_34]\n"
     ]
    },
    {
     "name": "stderr",
     "output_type": "stream",
     "text": [
      "                                     \r"
     ]
    },
    {
     "name": "stdout",
     "output_type": "stream",
     "text": [
      "2022-06-08 22:43:36,548 - Utils - INFO - ...... subset to store [Conv_35, Relu_36]\n"
     ]
    },
    {
     "name": "stderr",
     "output_type": "stream",
     "text": [
      "                                     \r"
     ]
    },
    {
     "name": "stdout",
     "output_type": "stream",
     "text": [
      "2022-06-08 22:43:36,550 - Utils - INFO - ...... subset to store [Add_39, Relu_40]\n"
     ]
    },
    {
     "name": "stderr",
     "output_type": "stream",
     "text": [
      "                                     \r"
     ]
    },
    {
     "name": "stdout",
     "output_type": "stream",
     "text": [
      "2022-06-08 22:43:36,553 - Utils - INFO - ...... subset to store [Conv_41, Relu_42]\n"
     ]
    },
    {
     "name": "stderr",
     "output_type": "stream",
     "text": [
      "                                     \r"
     ]
    },
    {
     "name": "stdout",
     "output_type": "stream",
     "text": [
      "2022-06-08 22:43:36,554 - Utils - INFO - ...... subset to store [Add_44, Relu_45]\n"
     ]
    },
    {
     "name": "stderr",
     "output_type": "stream",
     "text": [
      "- Activation Quantization Sensitivity\n",
      "\\ Activation Quantization Sensitivity]\u001b[A\n",
      "| Activation Quantization Sensitivity6.64s/it]\u001b[A\n",
      "- Activation Quantization Sensitivity5.33s/it]\u001b[A\n",
      "| Activation Quantization Sensitivity4.91s/it]\u001b[A\n",
      "- Activation Quantization Sensitivity4.71s/it]\u001b[A\n",
      "| Activation Quantization Sensitivity4.61s/it]\u001b[A\n",
      "- Activation Quantization Sensitivity4.55s/it]\u001b[A\n",
      "| Activation Quantization Sensitivity4.51s/it]\u001b[A\n",
      "- Activation Quantization Sensitivity4.47s/it]\u001b[A\n",
      "| Activation Quantization Sensitivity4.45s/it]\u001b[A\n",
      "- Activation Quantization Sensitivity 4.44s/it]\u001b[A\n",
      "| Activation Quantization Sensitivity 4.43s/it]\u001b[A\n",
      "- Activation Quantization Sensitivity 4.43s/it]\u001b[A\n",
      "| Activation Quantization Sensitivity 4.42s/it]\u001b[A\n",
      "- Activation Quantization Sensitivity 4.42s/it]\u001b[A\n",
      "| Activation Quantization Sensitivity 4.41s/it]\u001b[A\n",
      "- Activation Quantization Sensitivity 4.41s/it]\u001b[A\n",
      "| Activation Quantization Sensitivity 4.41s/it]\u001b[A\n",
      "- Activation Quantization Sensitivity 4.41s/it]\u001b[A\n",
      "| Activation Quantization Sensitivity 4.41s/it]\u001b[A\n",
      "100%|██████████| 20/20 [01:30<00:00,  4.52s/it]\u001b[A\n",
      "                                     \r"
     ]
    },
    {
     "name": "stdout",
     "output_type": "stream",
     "text": [
      "2022-06-08 22:45:09,204 - Dataloader - INFO - Dataset consists of 2000 images in 1000 classes\n"
     ]
    },
    {
     "name": "stderr",
     "output_type": "stream",
     "text": [
      "                                     \r"
     ]
    },
    {
     "name": "stdout",
     "output_type": "stream",
     "text": [
      "2022-06-08 22:45:09,209 - Eval - INFO - No value of iteration is provided, running evaluation on complete dataset.\n"
     ]
    },
    {
     "name": "stderr",
     "output_type": "stream",
     "text": [
      "                                     \r"
     ]
    },
    {
     "name": "stdout",
     "output_type": "stream",
     "text": [
      "2022-06-08 22:45:09,213 - Eval - INFO - Evaluating nn.Module for 63 iterations with batch_size 32\n"
     ]
    },
    {
     "name": "stderr",
     "output_type": "stream",
     "text": [
      "100% (63 of 63) |########################| Elapsed Time: 0:00:10 Time:  0:00:10\n",
      "                                     \r"
     ]
    },
    {
     "name": "stdout",
     "output_type": "stream",
     "text": [
      "2022-06-08 22:45:19,981 - Eval - INFO - Avg accuracy Top 1: 6.994048 Avg accuracy Top 5: 27.182540 on validation Dataset\n"
     ]
    },
    {
     "name": "stderr",
     "output_type": "stream",
     "text": [
      "- Activation Quantization Sensitivity\n",
      "                   \r"
     ]
    },
    {
     "name": "stdout",
     "output_type": "stream",
     "text": [
      "2022-06-08 22:45:20,749 - Quant - INFO - No config file provided, defaulting to config file at /local/mnt/workspace/sundarr/os/aimet-mirror/build/staging/universal/lib/python/aimet_common/quantsim_config/default_config.json\n"
     ]
    },
    {
     "name": "stderr",
     "output_type": "stream",
     "text": [
      "                   \r"
     ]
    },
    {
     "name": "stdout",
     "output_type": "stream",
     "text": [
      "2022-06-08 22:45:20,757 - Utils - INFO - ...... subset to store [Conv_0, Relu_1]\n"
     ]
    },
    {
     "name": "stderr",
     "output_type": "stream",
     "text": [
      "                   \r"
     ]
    },
    {
     "name": "stdout",
     "output_type": "stream",
     "text": [
      "2022-06-08 22:45:20,760 - Utils - INFO - ...... subset to store [Conv_3, Relu_4]\n"
     ]
    },
    {
     "name": "stderr",
     "output_type": "stream",
     "text": [
      "                   \r"
     ]
    },
    {
     "name": "stdout",
     "output_type": "stream",
     "text": [
      "2022-06-08 22:45:20,762 - Utils - INFO - ...... subset to store [Add_6, Relu_7]\n"
     ]
    },
    {
     "name": "stderr",
     "output_type": "stream",
     "text": [
      "                   \r"
     ]
    },
    {
     "name": "stdout",
     "output_type": "stream",
     "text": [
      "2022-06-08 22:45:20,765 - Utils - INFO - ...... subset to store [Conv_8, Relu_9]\n"
     ]
    },
    {
     "name": "stderr",
     "output_type": "stream",
     "text": [
      "                   \r"
     ]
    },
    {
     "name": "stdout",
     "output_type": "stream",
     "text": [
      "2022-06-08 22:45:20,767 - Utils - INFO - ...... subset to store [Add_11, Relu_12]\n"
     ]
    },
    {
     "name": "stderr",
     "output_type": "stream",
     "text": [
      "                   \r"
     ]
    },
    {
     "name": "stdout",
     "output_type": "stream",
     "text": [
      "2022-06-08 22:45:20,769 - Utils - INFO - ...... subset to store [Conv_13, Relu_14]\n"
     ]
    },
    {
     "name": "stderr",
     "output_type": "stream",
     "text": [
      "                   \r"
     ]
    },
    {
     "name": "stdout",
     "output_type": "stream",
     "text": [
      "2022-06-08 22:45:20,771 - Utils - INFO - ...... subset to store [Add_17, Relu_18]\n"
     ]
    },
    {
     "name": "stderr",
     "output_type": "stream",
     "text": [
      "                   \r"
     ]
    },
    {
     "name": "stdout",
     "output_type": "stream",
     "text": [
      "2022-06-08 22:45:20,778 - Utils - INFO - ...... subset to store [Conv_19, Relu_20]\n"
     ]
    },
    {
     "name": "stderr",
     "output_type": "stream",
     "text": [
      "                   \r"
     ]
    },
    {
     "name": "stdout",
     "output_type": "stream",
     "text": [
      "2022-06-08 22:45:20,782 - Utils - INFO - ...... subset to store [Add_22, Relu_23]\n"
     ]
    },
    {
     "name": "stderr",
     "output_type": "stream",
     "text": [
      "                   \r"
     ]
    },
    {
     "name": "stdout",
     "output_type": "stream",
     "text": [
      "2022-06-08 22:45:20,784 - Utils - INFO - ...... subset to store [Conv_24, Relu_25]\n"
     ]
    },
    {
     "name": "stderr",
     "output_type": "stream",
     "text": [
      "                   \r"
     ]
    },
    {
     "name": "stdout",
     "output_type": "stream",
     "text": [
      "2022-06-08 22:45:20,786 - Utils - INFO - ...... subset to store [Add_28, Relu_29]\n"
     ]
    },
    {
     "name": "stderr",
     "output_type": "stream",
     "text": [
      "                   \r"
     ]
    },
    {
     "name": "stdout",
     "output_type": "stream",
     "text": [
      "2022-06-08 22:45:20,789 - Utils - INFO - ...... subset to store [Conv_30, Relu_31]\n"
     ]
    },
    {
     "name": "stderr",
     "output_type": "stream",
     "text": [
      "                   \r"
     ]
    },
    {
     "name": "stdout",
     "output_type": "stream",
     "text": [
      "2022-06-08 22:45:20,791 - Utils - INFO - ...... subset to store [Add_33, Relu_34]\n"
     ]
    },
    {
     "name": "stderr",
     "output_type": "stream",
     "text": [
      "                   \r"
     ]
    },
    {
     "name": "stdout",
     "output_type": "stream",
     "text": [
      "2022-06-08 22:45:20,793 - Utils - INFO - ...... subset to store [Conv_35, Relu_36]\n"
     ]
    },
    {
     "name": "stderr",
     "output_type": "stream",
     "text": [
      "                   \r"
     ]
    },
    {
     "name": "stdout",
     "output_type": "stream",
     "text": [
      "2022-06-08 22:45:20,795 - Utils - INFO - ...... subset to store [Add_39, Relu_40]\n"
     ]
    },
    {
     "name": "stderr",
     "output_type": "stream",
     "text": [
      "                   \r"
     ]
    },
    {
     "name": "stdout",
     "output_type": "stream",
     "text": [
      "2022-06-08 22:45:20,796 - Utils - INFO - ...... subset to store [Conv_41, Relu_42]\n"
     ]
    },
    {
     "name": "stderr",
     "output_type": "stream",
     "text": [
      "                   \r"
     ]
    },
    {
     "name": "stdout",
     "output_type": "stream",
     "text": [
      "2022-06-08 22:45:20,798 - Utils - INFO - ...... subset to store [Add_44, Relu_45]\n"
     ]
    },
    {
     "name": "stderr",
     "output_type": "stream",
     "text": [
      "- Batchnorm Folding\n",
      "\\ Batchnorm Folding20 [00:00<?, ?it/s]\u001b[A\n",
      "| Batchnorm Folding20 [00:06<02:05,  6.62s/it]\u001b[A\n",
      "- Batchnorm Folding20 [00:11<01:35,  5.33s/it]\u001b[A\n",
      "| Batchnorm Folding20 [00:15<01:23,  4.91s/it]\u001b[A\n",
      "- Batchnorm Folding20 [00:19<01:15,  4.71s/it]\u001b[A\n",
      "| Batchnorm Folding20 [00:24<01:09,  4.61s/it]\u001b[A\n",
      "- Batchnorm Folding20 [00:28<01:03,  4.54s/it]\u001b[A\n",
      "| Batchnorm Folding20 [00:33<00:58,  4.50s/it]\u001b[A\n",
      "- Batchnorm Folding20 [00:37<00:53,  4.48s/it]\u001b[A\n",
      "| Batchnorm Folding20 [00:42<00:49,  4.53s/it]\u001b[A\n",
      "- Batchnorm Folding/20 [00:46<00:45,  4.57s/it]\u001b[A\n",
      "| Batchnorm Folding/20 [00:51<00:40,  4.55s/it]\u001b[A\n",
      "- Batchnorm Folding/20 [00:55<00:36,  4.51s/it]\u001b[A\n",
      "| Batchnorm Folding/20 [01:00<00:31,  4.47s/it]\u001b[A\n",
      "- Batchnorm Folding/20 [01:04<00:26,  4.45s/it]\u001b[A\n",
      "| Batchnorm Folding/20 [01:08<00:22,  4.43s/it]\u001b[A\n",
      "- Batchnorm Folding/20 [01:13<00:17,  4.43s/it]\u001b[A\n",
      "| Batchnorm Folding/20 [01:17<00:13,  4.42s/it]\u001b[A\n",
      "- Batchnorm Folding/20 [01:22<00:08,  4.42s/it]\u001b[A\n",
      "| Batchnorm Folding/20 [01:26<00:04,  4.41s/it]\u001b[A\n",
      "100%|██████████| 20/20 [01:30<00:00,  4.55s/it]\u001b[A\n",
      "                   \r"
     ]
    },
    {
     "name": "stdout",
     "output_type": "stream",
     "text": [
      "2022-06-08 22:46:53,815 - Dataloader - INFO - Dataset consists of 2000 images in 1000 classes\n"
     ]
    },
    {
     "name": "stderr",
     "output_type": "stream",
     "text": [
      "                   \r"
     ]
    },
    {
     "name": "stdout",
     "output_type": "stream",
     "text": [
      "2022-06-08 22:46:53,820 - Eval - INFO - No value of iteration is provided, running evaluation on complete dataset.\n"
     ]
    },
    {
     "name": "stderr",
     "output_type": "stream",
     "text": [
      "                   \r"
     ]
    },
    {
     "name": "stdout",
     "output_type": "stream",
     "text": [
      "2022-06-08 22:46:53,824 - Eval - INFO - Evaluating nn.Module for 63 iterations with batch_size 32\n"
     ]
    },
    {
     "name": "stderr",
     "output_type": "stream",
     "text": [
      "100% (63 of 63) |########################| Elapsed Time: 0:00:10 Time:  0:00:10\n",
      "                   \r"
     ]
    },
    {
     "name": "stdout",
     "output_type": "stream",
     "text": [
      "2022-06-08 22:47:04,826 - Eval - INFO - Avg accuracy Top 1: 7.589286 Avg accuracy Top 5: 29.216270 on validation Dataset\n"
     ]
    },
    {
     "name": "stderr",
     "output_type": "stream",
     "text": [
      "                   \r"
     ]
    },
    {
     "name": "stdout",
     "output_type": "stream",
     "text": [
      "2022-06-08 22:47:05,790 - Quant - WARNING - Could not determine the last op in the sub-graph for layer=module_add, candidates=[]\n"
     ]
    },
    {
     "name": "stderr",
     "output_type": "stream",
     "text": [
      "                   \r"
     ]
    },
    {
     "name": "stdout",
     "output_type": "stream",
     "text": [
      "2022-06-08 22:47:05,874 - AutoQuant - INFO - The results of Batchnorm Folding is saved in /tmp/.trace/batchnorm_folding.pth and /tmp/.trace/batchnorm_folding.encodings.\n"
     ]
    },
    {
     "name": "stderr",
     "output_type": "stream",
     "text": [
      "| Batchnorm Folding"
     ]
    },
    {
     "name": "stdout",
     "output_type": "stream",
     "text": [
      "2022-06-08 22:47:06,084 - AutoQuant - INFO - Session finished: Batchnorm Folding. (eval score: 7.59)\n"
     ]
    },
    {
     "name": "stderr",
     "output_type": "stream",
     "text": [
      "\n",
      "                          \r"
     ]
    },
    {
     "name": "stdout",
     "output_type": "stream",
     "text": [
      "2022-06-08 22:47:09,401 - Quant - INFO - High Bias folding is not supported for models without BatchNorm Layers\n"
     ]
    },
    {
     "name": "stderr",
     "output_type": "stream",
     "text": [
      "                          \r"
     ]
    },
    {
     "name": "stdout",
     "output_type": "stream",
     "text": [
      "2022-06-08 22:47:09,616 - Quant - INFO - No config file provided, defaulting to config file at /local/mnt/workspace/sundarr/os/aimet-mirror/build/staging/universal/lib/python/aimet_common/quantsim_config/default_config.json\n"
     ]
    },
    {
     "name": "stderr",
     "output_type": "stream",
     "text": [
      "                          \r"
     ]
    },
    {
     "name": "stdout",
     "output_type": "stream",
     "text": [
      "2022-06-08 22:47:09,625 - Utils - INFO - ...... subset to store [Conv_0, Relu_1]\n"
     ]
    },
    {
     "name": "stderr",
     "output_type": "stream",
     "text": [
      "                          \r"
     ]
    },
    {
     "name": "stdout",
     "output_type": "stream",
     "text": [
      "2022-06-08 22:47:09,628 - Utils - INFO - ...... subset to store [Conv_3, Relu_4]\n"
     ]
    },
    {
     "name": "stderr",
     "output_type": "stream",
     "text": [
      "                          \r"
     ]
    },
    {
     "name": "stdout",
     "output_type": "stream",
     "text": [
      "2022-06-08 22:47:09,631 - Utils - INFO - ...... subset to store [Add_6, Relu_7]\n"
     ]
    },
    {
     "name": "stderr",
     "output_type": "stream",
     "text": [
      "                          \r"
     ]
    },
    {
     "name": "stdout",
     "output_type": "stream",
     "text": [
      "2022-06-08 22:47:09,636 - Utils - INFO - ...... subset to store [Conv_8, Relu_9]\n"
     ]
    },
    {
     "name": "stderr",
     "output_type": "stream",
     "text": [
      "                          \r"
     ]
    },
    {
     "name": "stdout",
     "output_type": "stream",
     "text": [
      "2022-06-08 22:47:09,640 - Utils - INFO - ...... subset to store [Add_11, Relu_12]\n"
     ]
    },
    {
     "name": "stderr",
     "output_type": "stream",
     "text": [
      "                          \r"
     ]
    },
    {
     "name": "stdout",
     "output_type": "stream",
     "text": [
      "2022-06-08 22:47:09,643 - Utils - INFO - ...... subset to store [Conv_13, Relu_14]\n"
     ]
    },
    {
     "name": "stderr",
     "output_type": "stream",
     "text": [
      "                          \r"
     ]
    },
    {
     "name": "stdout",
     "output_type": "stream",
     "text": [
      "2022-06-08 22:47:09,646 - Utils - INFO - ...... subset to store [Add_17, Relu_18]\n"
     ]
    },
    {
     "name": "stderr",
     "output_type": "stream",
     "text": [
      "                          \r"
     ]
    },
    {
     "name": "stdout",
     "output_type": "stream",
     "text": [
      "2022-06-08 22:47:09,648 - Utils - INFO - ...... subset to store [Conv_19, Relu_20]\n"
     ]
    },
    {
     "name": "stderr",
     "output_type": "stream",
     "text": [
      "                          \r"
     ]
    },
    {
     "name": "stdout",
     "output_type": "stream",
     "text": [
      "2022-06-08 22:47:09,651 - Utils - INFO - ...... subset to store [Add_22, Relu_23]\n"
     ]
    },
    {
     "name": "stderr",
     "output_type": "stream",
     "text": [
      "                          \r"
     ]
    },
    {
     "name": "stdout",
     "output_type": "stream",
     "text": [
      "2022-06-08 22:47:09,653 - Utils - INFO - ...... subset to store [Conv_24, Relu_25]\n"
     ]
    },
    {
     "name": "stderr",
     "output_type": "stream",
     "text": [
      "                          \r"
     ]
    },
    {
     "name": "stdout",
     "output_type": "stream",
     "text": [
      "2022-06-08 22:47:09,656 - Utils - INFO - ...... subset to store [Add_28, Relu_29]\n"
     ]
    },
    {
     "name": "stderr",
     "output_type": "stream",
     "text": [
      "                          \r"
     ]
    },
    {
     "name": "stdout",
     "output_type": "stream",
     "text": [
      "2022-06-08 22:47:09,658 - Utils - INFO - ...... subset to store [Conv_30, Relu_31]\n"
     ]
    },
    {
     "name": "stderr",
     "output_type": "stream",
     "text": [
      "                          \r"
     ]
    },
    {
     "name": "stdout",
     "output_type": "stream",
     "text": [
      "2022-06-08 22:47:09,661 - Utils - INFO - ...... subset to store [Add_33, Relu_34]\n"
     ]
    },
    {
     "name": "stderr",
     "output_type": "stream",
     "text": [
      "                          \r"
     ]
    },
    {
     "name": "stdout",
     "output_type": "stream",
     "text": [
      "2022-06-08 22:47:09,663 - Utils - INFO - ...... subset to store [Conv_35, Relu_36]\n"
     ]
    },
    {
     "name": "stderr",
     "output_type": "stream",
     "text": [
      "                          \r"
     ]
    },
    {
     "name": "stdout",
     "output_type": "stream",
     "text": [
      "2022-06-08 22:47:09,665 - Utils - INFO - ...... subset to store [Add_39, Relu_40]\n"
     ]
    },
    {
     "name": "stderr",
     "output_type": "stream",
     "text": [
      "                          \r"
     ]
    },
    {
     "name": "stdout",
     "output_type": "stream",
     "text": [
      "2022-06-08 22:47:09,667 - Utils - INFO - ...... subset to store [Conv_41, Relu_42]\n"
     ]
    },
    {
     "name": "stderr",
     "output_type": "stream",
     "text": [
      "                          \r"
     ]
    },
    {
     "name": "stdout",
     "output_type": "stream",
     "text": [
      "2022-06-08 22:47:09,669 - Utils - INFO - ...... subset to store [Add_44, Relu_45]\n"
     ]
    },
    {
     "name": "stderr",
     "output_type": "stream",
     "text": [
      "\\ Cross-Layer Equalization\n",
      "| Cross-Layer Equalization00<?, ?it/s]\u001b[A\n",
      "\\ Cross-Layer Equalization06<02:05,  6.62s/it]\u001b[A\n",
      "| Cross-Layer Equalization11<01:36,  5.37s/it]\u001b[A\n",
      "- Cross-Layer Equalization15<01:23,  4.93s/it]\u001b[A\n",
      "| Cross-Layer Equalization19<01:15,  4.73s/it]\u001b[A\n",
      "- Cross-Layer Equalization24<01:09,  4.61s/it]\u001b[A\n",
      "| Cross-Layer Equalization28<01:03,  4.55s/it]\u001b[A\n",
      "- Cross-Layer Equalization33<00:58,  4.50s/it]\u001b[A\n",
      "| Cross-Layer Equalization37<00:53,  4.47s/it]\u001b[A\n",
      "- Cross-Layer Equalization41<00:48,  4.45s/it]\u001b[A\n",
      "| Cross-Layer Equalization:46<00:44,  4.44s/it]\u001b[A\n",
      "- Cross-Layer Equalization:50<00:39,  4.43s/it]\u001b[A\n",
      "| Cross-Layer Equalization:55<00:35,  4.42s/it]\u001b[A\n",
      "- Cross-Layer Equalization:59<00:30,  4.43s/it]\u001b[A\n",
      "| Cross-Layer Equalization:04<00:26,  4.42s/it]\u001b[A\n",
      "- Cross-Layer Equalization:08<00:22,  4.42s/it]\u001b[A\n",
      "| Cross-Layer Equalization:12<00:17,  4.41s/it]\u001b[A\n",
      "- Cross-Layer Equalization:17<00:13,  4.41s/it]\u001b[A\n",
      "| Cross-Layer Equalization:21<00:08,  4.41s/it]\u001b[A\n",
      "- Cross-Layer Equalization:26<00:04,  4.42s/it]\u001b[A\n",
      "100%|██████████| 20/20 [01:30<00:00,  4.53s/it]\u001b[A\n",
      "                          \r"
     ]
    },
    {
     "name": "stdout",
     "output_type": "stream",
     "text": [
      "2022-06-08 22:48:42,875 - Dataloader - INFO - Dataset consists of 2000 images in 1000 classes\n"
     ]
    },
    {
     "name": "stderr",
     "output_type": "stream",
     "text": [
      "                          \r"
     ]
    },
    {
     "name": "stdout",
     "output_type": "stream",
     "text": [
      "2022-06-08 22:48:42,880 - Eval - INFO - No value of iteration is provided, running evaluation on complete dataset.\n"
     ]
    },
    {
     "name": "stderr",
     "output_type": "stream",
     "text": [
      "                          \r"
     ]
    },
    {
     "name": "stdout",
     "output_type": "stream",
     "text": [
      "2022-06-08 22:48:42,887 - Eval - INFO - Evaluating nn.Module for 63 iterations with batch_size 32\n"
     ]
    },
    {
     "name": "stderr",
     "output_type": "stream",
     "text": [
      "100% (63 of 63) |########################| Elapsed Time: 0:00:11 Time:  0:00:11\n",
      "                          \r"
     ]
    },
    {
     "name": "stdout",
     "output_type": "stream",
     "text": [
      "2022-06-08 22:48:54,389 - Eval - INFO - Avg accuracy Top 1: 6.101190 Avg accuracy Top 5: 24.801587 on validation Dataset\n"
     ]
    },
    {
     "name": "stderr",
     "output_type": "stream",
     "text": [
      "                          \r"
     ]
    },
    {
     "name": "stdout",
     "output_type": "stream",
     "text": [
      "2022-06-08 22:48:55,159 - Quant - WARNING - Could not determine the last op in the sub-graph for layer=module_add, candidates=[]\n"
     ]
    },
    {
     "name": "stderr",
     "output_type": "stream",
     "text": [
      "                          \r"
     ]
    },
    {
     "name": "stdout",
     "output_type": "stream",
     "text": [
      "2022-06-08 22:48:55,225 - AutoQuant - INFO - The results of Cross-Layer Equalization is saved in /tmp/.trace/cross_layer_equalization.pth and /tmp/.trace/cross_layer_equalization.encodings.\n"
     ]
    },
    {
     "name": "stderr",
     "output_type": "stream",
     "text": [
      "| Cross-Layer Equalization"
     ]
    },
    {
     "name": "stdout",
     "output_type": "stream",
     "text": [
      "2022-06-08 22:48:55,500 - AutoQuant - INFO - Session finished: Cross-Layer Equalization. (eval score: 6.10)\n"
     ]
    },
    {
     "name": "stderr",
     "output_type": "stream",
     "text": [
      "\n",
      "          \r"
     ]
    },
    {
     "name": "stdout",
     "output_type": "stream",
     "text": [
      "2022-06-08 22:48:55,746 - Quant - INFO - No config file provided, defaulting to config file at /local/mnt/workspace/sundarr/os/aimet-mirror/build/staging/universal/lib/python/aimet_common/quantsim_config/default_config.json\n"
     ]
    },
    {
     "name": "stderr",
     "output_type": "stream",
     "text": [
      "          \r"
     ]
    },
    {
     "name": "stdout",
     "output_type": "stream",
     "text": [
      "2022-06-08 22:48:55,756 - Utils - INFO - ...... subset to store [Conv_0, Relu_1]\n"
     ]
    },
    {
     "name": "stderr",
     "output_type": "stream",
     "text": [
      "          \r"
     ]
    },
    {
     "name": "stdout",
     "output_type": "stream",
     "text": [
      "2022-06-08 22:48:55,758 - Utils - INFO - ...... subset to store [Conv_3, Relu_4]\n"
     ]
    },
    {
     "name": "stderr",
     "output_type": "stream",
     "text": [
      "          \r"
     ]
    },
    {
     "name": "stdout",
     "output_type": "stream",
     "text": [
      "2022-06-08 22:48:55,761 - Utils - INFO - ...... subset to store [Add_6, Relu_7]\n"
     ]
    },
    {
     "name": "stderr",
     "output_type": "stream",
     "text": [
      "          \r"
     ]
    },
    {
     "name": "stdout",
     "output_type": "stream",
     "text": [
      "2022-06-08 22:48:55,764 - Utils - INFO - ...... subset to store [Conv_8, Relu_9]\n"
     ]
    },
    {
     "name": "stderr",
     "output_type": "stream",
     "text": [
      "          \r"
     ]
    },
    {
     "name": "stdout",
     "output_type": "stream",
     "text": [
      "2022-06-08 22:48:55,768 - Utils - INFO - ...... subset to store [Add_11, Relu_12]\n"
     ]
    },
    {
     "name": "stderr",
     "output_type": "stream",
     "text": [
      "          \r"
     ]
    },
    {
     "name": "stdout",
     "output_type": "stream",
     "text": [
      "2022-06-08 22:48:55,772 - Utils - INFO - ...... subset to store [Conv_13, Relu_14]\n"
     ]
    },
    {
     "name": "stderr",
     "output_type": "stream",
     "text": [
      "          \r"
     ]
    },
    {
     "name": "stdout",
     "output_type": "stream",
     "text": [
      "2022-06-08 22:48:55,776 - Utils - INFO - ...... subset to store [Add_17, Relu_18]\n"
     ]
    },
    {
     "name": "stderr",
     "output_type": "stream",
     "text": [
      "          \r"
     ]
    },
    {
     "name": "stdout",
     "output_type": "stream",
     "text": [
      "2022-06-08 22:48:55,779 - Utils - INFO - ...... subset to store [Conv_19, Relu_20]\n"
     ]
    },
    {
     "name": "stderr",
     "output_type": "stream",
     "text": [
      "          \r"
     ]
    },
    {
     "name": "stdout",
     "output_type": "stream",
     "text": [
      "2022-06-08 22:48:55,781 - Utils - INFO - ...... subset to store [Add_22, Relu_23]\n"
     ]
    },
    {
     "name": "stderr",
     "output_type": "stream",
     "text": [
      "          \r"
     ]
    },
    {
     "name": "stdout",
     "output_type": "stream",
     "text": [
      "2022-06-08 22:48:55,784 - Utils - INFO - ...... subset to store [Conv_24, Relu_25]\n"
     ]
    },
    {
     "name": "stderr",
     "output_type": "stream",
     "text": [
      "          \r"
     ]
    },
    {
     "name": "stdout",
     "output_type": "stream",
     "text": [
      "2022-06-08 22:48:55,786 - Utils - INFO - ...... subset to store [Add_28, Relu_29]\n"
     ]
    },
    {
     "name": "stderr",
     "output_type": "stream",
     "text": [
      "          \r"
     ]
    },
    {
     "name": "stdout",
     "output_type": "stream",
     "text": [
      "2022-06-08 22:48:55,788 - Utils - INFO - ...... subset to store [Conv_30, Relu_31]\n"
     ]
    },
    {
     "name": "stderr",
     "output_type": "stream",
     "text": [
      "          \r"
     ]
    },
    {
     "name": "stdout",
     "output_type": "stream",
     "text": [
      "2022-06-08 22:48:55,791 - Utils - INFO - ...... subset to store [Add_33, Relu_34]\n"
     ]
    },
    {
     "name": "stderr",
     "output_type": "stream",
     "text": [
      "          \r"
     ]
    },
    {
     "name": "stdout",
     "output_type": "stream",
     "text": [
      "2022-06-08 22:48:55,793 - Utils - INFO - ...... subset to store [Conv_35, Relu_36]\n"
     ]
    },
    {
     "name": "stderr",
     "output_type": "stream",
     "text": [
      "          \r"
     ]
    },
    {
     "name": "stdout",
     "output_type": "stream",
     "text": [
      "2022-06-08 22:48:55,795 - Utils - INFO - ...... subset to store [Add_39, Relu_40]\n"
     ]
    },
    {
     "name": "stderr",
     "output_type": "stream",
     "text": [
      "          \r"
     ]
    },
    {
     "name": "stdout",
     "output_type": "stream",
     "text": [
      "2022-06-08 22:48:55,797 - Utils - INFO - ...... subset to store [Conv_41, Relu_42]\n"
     ]
    },
    {
     "name": "stderr",
     "output_type": "stream",
     "text": [
      "          \r"
     ]
    },
    {
     "name": "stdout",
     "output_type": "stream",
     "text": [
      "2022-06-08 22:48:55,799 - Utils - INFO - ...... subset to store [Add_44, Relu_45]\n"
     ]
    },
    {
     "name": "stderr",
     "output_type": "stream",
     "text": [
      "          \r"
     ]
    },
    {
     "name": "stdout",
     "output_type": "stream",
     "text": [
      "2022-06-08 22:49:02,075 - Utils - INFO - Caching 20 batches from data loader at path location: /tmp/adaround/\n"
     ]
    },
    {
     "name": "stderr",
     "output_type": "stream",
     "text": [
      "- AdaRound\n",
      "  0%|          | 0/68 [00:00<?, ?it/s]\u001b[A\n",
      "                                      \r"
     ]
    },
    {
     "name": "stdout",
     "output_type": "stream",
     "text": [
      "2022-06-08 22:49:02,104 - Quant - INFO - Started Optimizing weight rounding of module: conv1\n"
     ]
    },
    {
     "name": "stderr",
     "output_type": "stream",
     "text": [
      "\n",
      "- AdaRound     | 0/68 [00:00<?, ?it/s]\u001b[A\n",
      "  1%|▏         | 1/68 [01:20<1:29:53, 80.51s/it]\u001b[A\n",
      "                                                \r"
     ]
    },
    {
     "name": "stdout",
     "output_type": "stream",
     "text": [
      "2022-06-08 22:50:22,612 - Quant - INFO - Started Optimizing weight rounding of module: layer1.0.conv1\n"
     ]
    },
    {
     "name": "stderr",
     "output_type": "stream",
     "text": [
      "\n",
      "\\ AdaRound     | 1/68 [01:20<1:29:53, 80.51s/it]\u001b[A\n",
      "  7%|▋         | 5/68 [02:13<24:24, 23.25s/it]  \u001b[A\n",
      "                                              \r"
     ]
    },
    {
     "name": "stdout",
     "output_type": "stream",
     "text": [
      "2022-06-08 22:51:15,522 - Quant - INFO - Started Optimizing weight rounding of module: layer1.0.conv2\n"
     ]
    },
    {
     "name": "stderr",
     "output_type": "stream",
     "text": [
      "\n",
      "- AdaRound     | 5/68 [02:13<24:24, 23.25s/it]\u001b[A\n",
      " 12%|█▏        | 8/68 [03:05<20:23, 20.39s/it]\u001b[A\n",
      "                                              \r"
     ]
    },
    {
     "name": "stdout",
     "output_type": "stream",
     "text": [
      "2022-06-08 22:52:07,323 - Quant - INFO - Started Optimizing weight rounding of module: layer1.1.conv1\n"
     ]
    },
    {
     "name": "stderr",
     "output_type": "stream",
     "text": [
      "\n",
      "| AdaRound     | 8/68 [03:05<20:23, 20.39s/it]\u001b[A\n",
      " 18%|█▊        | 12/68 [03:58<15:56, 17.08s/it]\u001b[A\n",
      "                                               \r"
     ]
    },
    {
     "name": "stdout",
     "output_type": "stream",
     "text": [
      "2022-06-08 22:53:01,085 - Quant - INFO - Started Optimizing weight rounding of module: layer1.1.conv2\n"
     ]
    },
    {
     "name": "stderr",
     "output_type": "stream",
     "text": [
      "\n",
      "- AdaRound     | 12/68 [03:58<15:56, 17.08s/it]\u001b[A\n",
      " 22%|██▏       | 15/68 [04:52<15:18, 17.34s/it]\u001b[A\n",
      "                                               \r"
     ]
    },
    {
     "name": "stdout",
     "output_type": "stream",
     "text": [
      "2022-06-08 22:53:54,594 - Quant - INFO - Started Optimizing weight rounding of module: layer2.0.conv1\n"
     ]
    },
    {
     "name": "stderr",
     "output_type": "stream",
     "text": [
      "\n",
      "| AdaRound     | 15/68 [04:52<15:18, 17.34s/it]\u001b[A\n",
      " 28%|██▊       | 19/68 [05:46<12:55, 15.82s/it]\u001b[A\n",
      "                                               \r"
     ]
    },
    {
     "name": "stdout",
     "output_type": "stream",
     "text": [
      "2022-06-08 22:54:48,400 - Quant - INFO - Started Optimizing weight rounding of module: layer2.0.conv2\n"
     ]
    },
    {
     "name": "stderr",
     "output_type": "stream",
     "text": [
      "\n",
      "\\ AdaRound     | 19/68 [05:46<12:55, 15.82s/it]\u001b[A\n",
      " 32%|███▏      | 22/68 [06:37<12:26, 16.23s/it]\u001b[A\n",
      "                                               \r"
     ]
    },
    {
     "name": "stdout",
     "output_type": "stream",
     "text": [
      "2022-06-08 22:55:40,068 - Quant - INFO - Started Optimizing weight rounding of module: layer2.0.downsample.0\n"
     ]
    },
    {
     "name": "stderr",
     "output_type": "stream",
     "text": [
      "\n",
      "- AdaRound     | 22/68 [06:37<12:26, 16.23s/it]\u001b[A\n",
      " 35%|███▌      | 24/68 [07:30<13:30, 18.42s/it]\u001b[A\n",
      "                                               \r"
     ]
    },
    {
     "name": "stdout",
     "output_type": "stream",
     "text": [
      "2022-06-08 22:56:32,441 - Quant - INFO - Started Optimizing weight rounding of module: layer2.1.conv1\n"
     ]
    },
    {
     "name": "stderr",
     "output_type": "stream",
     "text": [
      "\n",
      "/ AdaRound     | 24/68 [07:30<13:30, 18.42s/it]\u001b[A\n",
      " 41%|████      | 28/68 [08:20<10:44, 16.11s/it]\u001b[A\n",
      "                                               \r"
     ]
    },
    {
     "name": "stdout",
     "output_type": "stream",
     "text": [
      "2022-06-08 22:57:22,148 - Quant - INFO - Started Optimizing weight rounding of module: layer2.1.conv2\n"
     ]
    },
    {
     "name": "stderr",
     "output_type": "stream",
     "text": [
      "\n",
      "\\ AdaRound     | 28/68 [08:20<10:44, 16.11s/it]\u001b[A\n",
      " 46%|████▌     | 31/68 [09:09<09:59, 16.21s/it]\u001b[A\n",
      "                                               \r"
     ]
    },
    {
     "name": "stdout",
     "output_type": "stream",
     "text": [
      "2022-06-08 22:58:11,523 - Quant - INFO - Started Optimizing weight rounding of module: layer3.0.conv1\n"
     ]
    },
    {
     "name": "stderr",
     "output_type": "stream",
     "text": [
      "\n",
      "\\ AdaRound     | 31/68 [09:09<09:59, 16.21s/it]\u001b[A\n",
      " 51%|█████▏    | 35/68 [10:09<08:41, 15.81s/it]\u001b[A\n",
      "                                               \r"
     ]
    },
    {
     "name": "stdout",
     "output_type": "stream",
     "text": [
      "2022-06-08 22:59:11,913 - Quant - INFO - Started Optimizing weight rounding of module: layer3.0.conv2\n"
     ]
    },
    {
     "name": "stderr",
     "output_type": "stream",
     "text": [
      "\n",
      "\\ AdaRound▏    | 35/68 [10:09<08:41, 15.81s/it]\u001b[A\n",
      " 56%|█████▌    | 38/68 [10:56<07:53, 15.78s/it]\u001b[A\n",
      "                                               \r"
     ]
    },
    {
     "name": "stdout",
     "output_type": "stream",
     "text": [
      "2022-06-08 22:59:58,998 - Quant - INFO - Started Optimizing weight rounding of module: layer3.0.downsample.0\n"
     ]
    },
    {
     "name": "stderr",
     "output_type": "stream",
     "text": [
      "\n",
      "\\ AdaRound▌    | 38/68 [10:56<07:53, 15.78s/it]\u001b[A\n",
      " 59%|█████▉    | 40/68 [11:51<08:28, 18.15s/it]\u001b[A\n",
      "                                               \r"
     ]
    },
    {
     "name": "stdout",
     "output_type": "stream",
     "text": [
      "2022-06-08 23:00:53,226 - Quant - INFO - Started Optimizing weight rounding of module: layer3.1.conv1\n"
     ]
    },
    {
     "name": "stderr",
     "output_type": "stream",
     "text": [
      "\n",
      "\\ AdaRound▉    | 40/68 [11:51<08:28, 18.15s/it]\u001b[A\n",
      " 65%|██████▍   | 44/68 [12:37<06:17, 15.72s/it]\u001b[A\n",
      "                                               \r"
     ]
    },
    {
     "name": "stdout",
     "output_type": "stream",
     "text": [
      "2022-06-08 23:01:39,783 - Quant - INFO - Started Optimizing weight rounding of module: layer3.1.conv2\n"
     ]
    },
    {
     "name": "stderr",
     "output_type": "stream",
     "text": [
      "\n",
      "\\ AdaRound█▍   | 44/68 [12:37<06:17, 15.72s/it]\u001b[A\n",
      " 69%|██████▉   | 47/68 [13:24<05:28, 15.64s/it]\u001b[A\n",
      "                                               \r"
     ]
    },
    {
     "name": "stdout",
     "output_type": "stream",
     "text": [
      "2022-06-08 23:02:26,136 - Quant - INFO - Started Optimizing weight rounding of module: layer4.0.conv1\n"
     ]
    },
    {
     "name": "stderr",
     "output_type": "stream",
     "text": [
      "\n",
      "| AdaRound█▉   | 47/68 [13:24<05:28, 15.64s/it]\u001b[A\n",
      " 75%|███████▌  | 51/68 [14:24<04:23, 15.49s/it]\u001b[A\n",
      "                                               \r"
     ]
    },
    {
     "name": "stdout",
     "output_type": "stream",
     "text": [
      "2022-06-08 23:03:27,016 - Quant - INFO - Started Optimizing weight rounding of module: layer4.0.conv2\n"
     ]
    },
    {
     "name": "stderr",
     "output_type": "stream",
     "text": [
      "\n",
      "/ AdaRound██▌  | 51/68 [14:24<04:23, 15.49s/it]\u001b[A\n",
      " 79%|███████▉  | 54/68 [15:15<03:42, 15.90s/it]\u001b[A\n",
      "                                               \r"
     ]
    },
    {
     "name": "stdout",
     "output_type": "stream",
     "text": [
      "2022-06-08 23:04:17,937 - Quant - INFO - Started Optimizing weight rounding of module: layer4.0.downsample.0\n"
     ]
    },
    {
     "name": "stderr",
     "output_type": "stream",
     "text": [
      "\n",
      "/ AdaRound██▉  | 54/68 [15:15<03:42, 15.90s/it]\u001b[A\n",
      " 82%|████████▏ | 56/68 [16:09<03:38, 18.20s/it]\u001b[A\n",
      "                                               \r"
     ]
    },
    {
     "name": "stdout",
     "output_type": "stream",
     "text": [
      "2022-06-08 23:05:11,984 - Quant - INFO - Started Optimizing weight rounding of module: layer4.1.conv1\n"
     ]
    },
    {
     "name": "stderr",
     "output_type": "stream",
     "text": [
      "\n",
      "| AdaRound███▏ | 56/68 [16:09<03:38, 18.20s/it]\u001b[A\n",
      " 88%|████████▊ | 60/68 [17:02<02:10, 16.28s/it]\u001b[A\n",
      "                                               \r"
     ]
    },
    {
     "name": "stdout",
     "output_type": "stream",
     "text": [
      "2022-06-08 23:06:04,124 - Quant - INFO - Started Optimizing weight rounding of module: layer4.1.conv2\n"
     ]
    },
    {
     "name": "stderr",
     "output_type": "stream",
     "text": [
      "\n",
      "/ AdaRound███▊ | 60/68 [17:02<02:10, 16.28s/it]\u001b[A\n",
      " 93%|█████████▎| 63/68 [17:56<01:24, 16.82s/it]\u001b[A\n",
      "                                               \r"
     ]
    },
    {
     "name": "stdout",
     "output_type": "stream",
     "text": [
      "2022-06-08 23:06:58,599 - Quant - INFO - Started Optimizing weight rounding of module: fc\n"
     ]
    },
    {
     "name": "stderr",
     "output_type": "stream",
     "text": [
      "\n",
      "| AdaRound████▎| 63/68 [17:56<01:24, 16.82s/it]\u001b[A\n",
      "100%|██████████| 68/68 [18:45<00:00, 16.55s/it]\u001b[A\n",
      "          \r"
     ]
    },
    {
     "name": "stdout",
     "output_type": "stream",
     "text": [
      "2022-06-08 23:07:47,347 - Quant - INFO - Deleting model inputs from location: /tmp/adaround/\n"
     ]
    },
    {
     "name": "stderr",
     "output_type": "stream",
     "text": [
      "          \r"
     ]
    },
    {
     "name": "stdout",
     "output_type": "stream",
     "text": [
      "2022-06-08 23:07:47,456 - Quant - INFO - Completed Adarounding Model\n"
     ]
    },
    {
     "name": "stderr",
     "output_type": "stream",
     "text": [
      "          \r"
     ]
    },
    {
     "name": "stdout",
     "output_type": "stream",
     "text": [
      "2022-06-08 23:07:47,728 - Quant - INFO - No config file provided, defaulting to config file at /local/mnt/workspace/sundarr/os/aimet-mirror/build/staging/universal/lib/python/aimet_common/quantsim_config/default_config.json\n"
     ]
    },
    {
     "name": "stderr",
     "output_type": "stream",
     "text": [
      "          \r"
     ]
    },
    {
     "name": "stdout",
     "output_type": "stream",
     "text": [
      "2022-06-08 23:07:47,738 - Utils - INFO - ...... subset to store [Conv_0, Relu_1]\n"
     ]
    },
    {
     "name": "stderr",
     "output_type": "stream",
     "text": [
      "          \r"
     ]
    },
    {
     "name": "stdout",
     "output_type": "stream",
     "text": [
      "2022-06-08 23:07:47,740 - Utils - INFO - ...... subset to store [Conv_3, Relu_4]\n"
     ]
    },
    {
     "name": "stderr",
     "output_type": "stream",
     "text": [
      "          \r"
     ]
    },
    {
     "name": "stdout",
     "output_type": "stream",
     "text": [
      "2022-06-08 23:07:47,742 - Utils - INFO - ...... subset to store [Add_6, Relu_7]\n"
     ]
    },
    {
     "name": "stderr",
     "output_type": "stream",
     "text": [
      "          \r"
     ]
    },
    {
     "name": "stdout",
     "output_type": "stream",
     "text": [
      "2022-06-08 23:07:47,745 - Utils - INFO - ...... subset to store [Conv_8, Relu_9]\n"
     ]
    },
    {
     "name": "stderr",
     "output_type": "stream",
     "text": [
      "          \r"
     ]
    },
    {
     "name": "stdout",
     "output_type": "stream",
     "text": [
      "2022-06-08 23:07:47,747 - Utils - INFO - ...... subset to store [Add_11, Relu_12]\n"
     ]
    },
    {
     "name": "stderr",
     "output_type": "stream",
     "text": [
      "          \r"
     ]
    },
    {
     "name": "stdout",
     "output_type": "stream",
     "text": [
      "2022-06-08 23:07:47,749 - Utils - INFO - ...... subset to store [Conv_13, Relu_14]\n"
     ]
    },
    {
     "name": "stderr",
     "output_type": "stream",
     "text": [
      "          \r"
     ]
    },
    {
     "name": "stdout",
     "output_type": "stream",
     "text": [
      "2022-06-08 23:07:47,751 - Utils - INFO - ...... subset to store [Add_17, Relu_18]\n"
     ]
    },
    {
     "name": "stderr",
     "output_type": "stream",
     "text": [
      "          \r"
     ]
    },
    {
     "name": "stdout",
     "output_type": "stream",
     "text": [
      "2022-06-08 23:07:47,754 - Utils - INFO - ...... subset to store [Conv_19, Relu_20]\n"
     ]
    },
    {
     "name": "stderr",
     "output_type": "stream",
     "text": [
      "          \r"
     ]
    },
    {
     "name": "stdout",
     "output_type": "stream",
     "text": [
      "2022-06-08 23:07:47,762 - Utils - INFO - ...... subset to store [Add_22, Relu_23]\n"
     ]
    },
    {
     "name": "stderr",
     "output_type": "stream",
     "text": [
      "          \r"
     ]
    },
    {
     "name": "stdout",
     "output_type": "stream",
     "text": [
      "2022-06-08 23:07:47,766 - Utils - INFO - ...... subset to store [Conv_24, Relu_25]\n"
     ]
    },
    {
     "name": "stderr",
     "output_type": "stream",
     "text": [
      "          \r"
     ]
    },
    {
     "name": "stdout",
     "output_type": "stream",
     "text": [
      "2022-06-08 23:07:47,769 - Utils - INFO - ...... subset to store [Add_28, Relu_29]\n"
     ]
    },
    {
     "name": "stderr",
     "output_type": "stream",
     "text": [
      "          \r"
     ]
    },
    {
     "name": "stdout",
     "output_type": "stream",
     "text": [
      "2022-06-08 23:07:47,771 - Utils - INFO - ...... subset to store [Conv_30, Relu_31]\n"
     ]
    },
    {
     "name": "stderr",
     "output_type": "stream",
     "text": [
      "          \r"
     ]
    },
    {
     "name": "stdout",
     "output_type": "stream",
     "text": [
      "2022-06-08 23:07:47,774 - Utils - INFO - ...... subset to store [Add_33, Relu_34]\n"
     ]
    },
    {
     "name": "stderr",
     "output_type": "stream",
     "text": [
      "          \r"
     ]
    },
    {
     "name": "stdout",
     "output_type": "stream",
     "text": [
      "2022-06-08 23:07:47,776 - Utils - INFO - ...... subset to store [Conv_35, Relu_36]\n"
     ]
    },
    {
     "name": "stderr",
     "output_type": "stream",
     "text": [
      "          \r"
     ]
    },
    {
     "name": "stdout",
     "output_type": "stream",
     "text": [
      "2022-06-08 23:07:47,779 - Utils - INFO - ...... subset to store [Add_39, Relu_40]\n"
     ]
    },
    {
     "name": "stderr",
     "output_type": "stream",
     "text": [
      "          \r"
     ]
    },
    {
     "name": "stdout",
     "output_type": "stream",
     "text": [
      "2022-06-08 23:07:47,781 - Utils - INFO - ...... subset to store [Conv_41, Relu_42]\n"
     ]
    },
    {
     "name": "stderr",
     "output_type": "stream",
     "text": [
      "          \r"
     ]
    },
    {
     "name": "stdout",
     "output_type": "stream",
     "text": [
      "2022-06-08 23:07:47,783 - Utils - INFO - ...... subset to store [Add_44, Relu_45]\n"
     ]
    },
    {
     "name": "stderr",
     "output_type": "stream",
     "text": [
      "          \r"
     ]
    },
    {
     "name": "stdout",
     "output_type": "stream",
     "text": [
      "2022-06-08 23:07:47,787 - Quant - INFO - Setting quantization encodings for parameter: conv1.weight\n"
     ]
    },
    {
     "name": "stderr",
     "output_type": "stream",
     "text": [
      "          \r"
     ]
    },
    {
     "name": "stdout",
     "output_type": "stream",
     "text": [
      "2022-06-08 23:07:47,789 - Quant - INFO - Freezing quantization encodings for parameter: conv1.weight\n"
     ]
    },
    {
     "name": "stderr",
     "output_type": "stream",
     "text": [
      "          \r"
     ]
    },
    {
     "name": "stdout",
     "output_type": "stream",
     "text": [
      "2022-06-08 23:07:47,792 - Quant - INFO - Setting quantization encodings for parameter: layer1.0.conv1.weight\n"
     ]
    },
    {
     "name": "stderr",
     "output_type": "stream",
     "text": [
      "          \r"
     ]
    },
    {
     "name": "stdout",
     "output_type": "stream",
     "text": [
      "2022-06-08 23:07:47,794 - Quant - INFO - Freezing quantization encodings for parameter: layer1.0.conv1.weight\n"
     ]
    },
    {
     "name": "stderr",
     "output_type": "stream",
     "text": [
      "          \r"
     ]
    },
    {
     "name": "stdout",
     "output_type": "stream",
     "text": [
      "2022-06-08 23:07:47,796 - Quant - INFO - Setting quantization encodings for parameter: layer1.0.conv2.weight\n"
     ]
    },
    {
     "name": "stderr",
     "output_type": "stream",
     "text": [
      "          \r"
     ]
    },
    {
     "name": "stdout",
     "output_type": "stream",
     "text": [
      "2022-06-08 23:07:47,798 - Quant - INFO - Freezing quantization encodings for parameter: layer1.0.conv2.weight\n"
     ]
    },
    {
     "name": "stderr",
     "output_type": "stream",
     "text": [
      "          \r"
     ]
    },
    {
     "name": "stdout",
     "output_type": "stream",
     "text": [
      "2022-06-08 23:07:47,800 - Quant - INFO - Setting quantization encodings for parameter: layer1.1.conv1.weight\n"
     ]
    },
    {
     "name": "stderr",
     "output_type": "stream",
     "text": [
      "          \r"
     ]
    },
    {
     "name": "stdout",
     "output_type": "stream",
     "text": [
      "2022-06-08 23:07:47,802 - Quant - INFO - Freezing quantization encodings for parameter: layer1.1.conv1.weight\n"
     ]
    },
    {
     "name": "stderr",
     "output_type": "stream",
     "text": [
      "          \r"
     ]
    },
    {
     "name": "stdout",
     "output_type": "stream",
     "text": [
      "2022-06-08 23:07:47,805 - Quant - INFO - Setting quantization encodings for parameter: layer1.1.conv2.weight\n"
     ]
    },
    {
     "name": "stderr",
     "output_type": "stream",
     "text": [
      "          \r"
     ]
    },
    {
     "name": "stdout",
     "output_type": "stream",
     "text": [
      "2022-06-08 23:07:47,807 - Quant - INFO - Freezing quantization encodings for parameter: layer1.1.conv2.weight\n"
     ]
    },
    {
     "name": "stderr",
     "output_type": "stream",
     "text": [
      "          \r"
     ]
    },
    {
     "name": "stdout",
     "output_type": "stream",
     "text": [
      "2022-06-08 23:07:47,809 - Quant - INFO - Setting quantization encodings for parameter: layer2.0.conv1.weight\n"
     ]
    },
    {
     "name": "stderr",
     "output_type": "stream",
     "text": [
      "          \r"
     ]
    },
    {
     "name": "stdout",
     "output_type": "stream",
     "text": [
      "2022-06-08 23:07:47,811 - Quant - INFO - Freezing quantization encodings for parameter: layer2.0.conv1.weight\n"
     ]
    },
    {
     "name": "stderr",
     "output_type": "stream",
     "text": [
      "          \r"
     ]
    },
    {
     "name": "stdout",
     "output_type": "stream",
     "text": [
      "2022-06-08 23:07:47,814 - Quant - INFO - Setting quantization encodings for parameter: layer2.0.conv2.weight\n"
     ]
    },
    {
     "name": "stderr",
     "output_type": "stream",
     "text": [
      "          \r"
     ]
    },
    {
     "name": "stdout",
     "output_type": "stream",
     "text": [
      "2022-06-08 23:07:47,815 - Quant - INFO - Freezing quantization encodings for parameter: layer2.0.conv2.weight\n"
     ]
    },
    {
     "name": "stderr",
     "output_type": "stream",
     "text": [
      "          \r"
     ]
    },
    {
     "name": "stdout",
     "output_type": "stream",
     "text": [
      "2022-06-08 23:07:47,818 - Quant - INFO - Setting quantization encodings for parameter: layer2.0.downsample.0.weight\n"
     ]
    },
    {
     "name": "stderr",
     "output_type": "stream",
     "text": [
      "          \r"
     ]
    },
    {
     "name": "stdout",
     "output_type": "stream",
     "text": [
      "2022-06-08 23:07:47,819 - Quant - INFO - Freezing quantization encodings for parameter: layer2.0.downsample.0.weight\n"
     ]
    },
    {
     "name": "stderr",
     "output_type": "stream",
     "text": [
      "          \r"
     ]
    },
    {
     "name": "stdout",
     "output_type": "stream",
     "text": [
      "2022-06-08 23:07:47,821 - Quant - INFO - Setting quantization encodings for parameter: layer2.1.conv1.weight\n"
     ]
    },
    {
     "name": "stderr",
     "output_type": "stream",
     "text": [
      "          \r"
     ]
    },
    {
     "name": "stdout",
     "output_type": "stream",
     "text": [
      "2022-06-08 23:07:47,823 - Quant - INFO - Freezing quantization encodings for parameter: layer2.1.conv1.weight\n"
     ]
    },
    {
     "name": "stderr",
     "output_type": "stream",
     "text": [
      "          \r"
     ]
    },
    {
     "name": "stdout",
     "output_type": "stream",
     "text": [
      "2022-06-08 23:07:47,826 - Quant - INFO - Setting quantization encodings for parameter: layer2.1.conv2.weight\n"
     ]
    },
    {
     "name": "stderr",
     "output_type": "stream",
     "text": [
      "          \r"
     ]
    },
    {
     "name": "stdout",
     "output_type": "stream",
     "text": [
      "2022-06-08 23:07:47,827 - Quant - INFO - Freezing quantization encodings for parameter: layer2.1.conv2.weight\n"
     ]
    },
    {
     "name": "stderr",
     "output_type": "stream",
     "text": [
      "          \r"
     ]
    },
    {
     "name": "stdout",
     "output_type": "stream",
     "text": [
      "2022-06-08 23:07:47,830 - Quant - INFO - Setting quantization encodings for parameter: layer3.0.conv1.weight\n"
     ]
    },
    {
     "name": "stderr",
     "output_type": "stream",
     "text": [
      "          \r"
     ]
    },
    {
     "name": "stdout",
     "output_type": "stream",
     "text": [
      "2022-06-08 23:07:47,832 - Quant - INFO - Freezing quantization encodings for parameter: layer3.0.conv1.weight\n"
     ]
    },
    {
     "name": "stderr",
     "output_type": "stream",
     "text": [
      "          \r"
     ]
    },
    {
     "name": "stdout",
     "output_type": "stream",
     "text": [
      "2022-06-08 23:07:47,834 - Quant - INFO - Setting quantization encodings for parameter: layer3.0.conv2.weight\n"
     ]
    },
    {
     "name": "stderr",
     "output_type": "stream",
     "text": [
      "          \r"
     ]
    },
    {
     "name": "stdout",
     "output_type": "stream",
     "text": [
      "2022-06-08 23:07:47,836 - Quant - INFO - Freezing quantization encodings for parameter: layer3.0.conv2.weight\n"
     ]
    },
    {
     "name": "stderr",
     "output_type": "stream",
     "text": [
      "          \r"
     ]
    },
    {
     "name": "stdout",
     "output_type": "stream",
     "text": [
      "2022-06-08 23:07:47,838 - Quant - INFO - Setting quantization encodings for parameter: layer3.0.downsample.0.weight\n"
     ]
    },
    {
     "name": "stderr",
     "output_type": "stream",
     "text": [
      "          \r"
     ]
    },
    {
     "name": "stdout",
     "output_type": "stream",
     "text": [
      "2022-06-08 23:07:47,840 - Quant - INFO - Freezing quantization encodings for parameter: layer3.0.downsample.0.weight\n"
     ]
    },
    {
     "name": "stderr",
     "output_type": "stream",
     "text": [
      "          \r"
     ]
    },
    {
     "name": "stdout",
     "output_type": "stream",
     "text": [
      "2022-06-08 23:07:47,842 - Quant - INFO - Setting quantization encodings for parameter: layer3.1.conv1.weight\n"
     ]
    },
    {
     "name": "stderr",
     "output_type": "stream",
     "text": [
      "          \r"
     ]
    },
    {
     "name": "stdout",
     "output_type": "stream",
     "text": [
      "2022-06-08 23:07:47,844 - Quant - INFO - Freezing quantization encodings for parameter: layer3.1.conv1.weight\n"
     ]
    },
    {
     "name": "stderr",
     "output_type": "stream",
     "text": [
      "          \r"
     ]
    },
    {
     "name": "stdout",
     "output_type": "stream",
     "text": [
      "2022-06-08 23:07:47,846 - Quant - INFO - Setting quantization encodings for parameter: layer3.1.conv2.weight\n"
     ]
    },
    {
     "name": "stderr",
     "output_type": "stream",
     "text": [
      "          \r"
     ]
    },
    {
     "name": "stdout",
     "output_type": "stream",
     "text": [
      "2022-06-08 23:07:47,848 - Quant - INFO - Freezing quantization encodings for parameter: layer3.1.conv2.weight\n"
     ]
    },
    {
     "name": "stderr",
     "output_type": "stream",
     "text": [
      "          \r"
     ]
    },
    {
     "name": "stdout",
     "output_type": "stream",
     "text": [
      "2022-06-08 23:07:47,850 - Quant - INFO - Setting quantization encodings for parameter: layer4.0.conv1.weight\n"
     ]
    },
    {
     "name": "stderr",
     "output_type": "stream",
     "text": [
      "          \r"
     ]
    },
    {
     "name": "stdout",
     "output_type": "stream",
     "text": [
      "2022-06-08 23:07:47,852 - Quant - INFO - Freezing quantization encodings for parameter: layer4.0.conv1.weight\n"
     ]
    },
    {
     "name": "stderr",
     "output_type": "stream",
     "text": [
      "          \r"
     ]
    },
    {
     "name": "stdout",
     "output_type": "stream",
     "text": [
      "2022-06-08 23:07:47,854 - Quant - INFO - Setting quantization encodings for parameter: layer4.0.conv2.weight\n"
     ]
    },
    {
     "name": "stderr",
     "output_type": "stream",
     "text": [
      "          \r"
     ]
    },
    {
     "name": "stdout",
     "output_type": "stream",
     "text": [
      "2022-06-08 23:07:47,856 - Quant - INFO - Freezing quantization encodings for parameter: layer4.0.conv2.weight\n"
     ]
    },
    {
     "name": "stderr",
     "output_type": "stream",
     "text": [
      "          \r"
     ]
    },
    {
     "name": "stdout",
     "output_type": "stream",
     "text": [
      "2022-06-08 23:07:47,858 - Quant - INFO - Setting quantization encodings for parameter: layer4.0.downsample.0.weight\n"
     ]
    },
    {
     "name": "stderr",
     "output_type": "stream",
     "text": [
      "          \r"
     ]
    },
    {
     "name": "stdout",
     "output_type": "stream",
     "text": [
      "2022-06-08 23:07:47,860 - Quant - INFO - Freezing quantization encodings for parameter: layer4.0.downsample.0.weight\n"
     ]
    },
    {
     "name": "stderr",
     "output_type": "stream",
     "text": [
      "          \r"
     ]
    },
    {
     "name": "stdout",
     "output_type": "stream",
     "text": [
      "2022-06-08 23:07:47,862 - Quant - INFO - Setting quantization encodings for parameter: layer4.1.conv1.weight\n"
     ]
    },
    {
     "name": "stderr",
     "output_type": "stream",
     "text": [
      "          \r"
     ]
    },
    {
     "name": "stdout",
     "output_type": "stream",
     "text": [
      "2022-06-08 23:07:47,864 - Quant - INFO - Freezing quantization encodings for parameter: layer4.1.conv1.weight\n"
     ]
    },
    {
     "name": "stderr",
     "output_type": "stream",
     "text": [
      "          \r"
     ]
    },
    {
     "name": "stdout",
     "output_type": "stream",
     "text": [
      "2022-06-08 23:07:47,866 - Quant - INFO - Setting quantization encodings for parameter: layer4.1.conv2.weight\n"
     ]
    },
    {
     "name": "stderr",
     "output_type": "stream",
     "text": [
      "          \r"
     ]
    },
    {
     "name": "stdout",
     "output_type": "stream",
     "text": [
      "2022-06-08 23:07:47,868 - Quant - INFO - Freezing quantization encodings for parameter: layer4.1.conv2.weight\n"
     ]
    },
    {
     "name": "stderr",
     "output_type": "stream",
     "text": [
      "          \r"
     ]
    },
    {
     "name": "stdout",
     "output_type": "stream",
     "text": [
      "2022-06-08 23:07:47,870 - Quant - INFO - Setting quantization encodings for parameter: fc.weight\n"
     ]
    },
    {
     "name": "stderr",
     "output_type": "stream",
     "text": [
      "          \r"
     ]
    },
    {
     "name": "stdout",
     "output_type": "stream",
     "text": [
      "2022-06-08 23:07:47,872 - Quant - INFO - Freezing quantization encodings for parameter: fc.weight\n"
     ]
    },
    {
     "name": "stderr",
     "output_type": "stream",
     "text": [
      "/ AdaRound\n",
      "/ AdaRound     | 0/20 [00:00<?, ?it/s]\u001b[A\n",
      "\\ AdaRound     | 1/20 [00:06<02:00,  6.37s/it]\u001b[A\n",
      "/ AdaRound     | 2/20 [00:10<01:33,  5.21s/it]\u001b[A\n",
      "\\ AdaRound     | 3/20 [00:15<01:22,  4.85s/it]\u001b[A\n",
      "/ AdaRound     | 4/20 [00:19<01:14,  4.68s/it]\u001b[A\n",
      "\\ AdaRound     | 5/20 [00:24<01:08,  4.59s/it]\u001b[A\n",
      "/ AdaRound     | 6/20 [00:28<01:03,  4.53s/it]\u001b[A\n",
      "\\ AdaRound     | 7/20 [00:32<00:58,  4.48s/it]\u001b[A\n",
      "/ AdaRound     | 8/20 [00:37<00:53,  4.46s/it]\u001b[A\n",
      "\\ AdaRound     | 9/20 [00:41<00:48,  4.44s/it]\u001b[A\n",
      "/ AdaRound     | 10/20 [00:46<00:44,  4.43s/it]\u001b[A\n",
      "\\ AdaRound▌    | 11/20 [00:50<00:39,  4.43s/it]\u001b[A\n",
      "/ AdaRound█    | 12/20 [00:54<00:35,  4.43s/it]\u001b[A\n",
      "| AdaRound█▌   | 13/20 [00:59<00:30,  4.42s/it]\u001b[A\n",
      "/ AdaRound██   | 14/20 [01:03<00:26,  4.41s/it]\u001b[A\n",
      "\\ AdaRound██▌  | 15/20 [01:08<00:22,  4.41s/it]\u001b[A\n",
      "/ AdaRound███  | 16/20 [01:12<00:17,  4.42s/it]\u001b[A\n",
      "\\ AdaRound███▌ | 17/20 [01:16<00:13,  4.42s/it]\u001b[A\n",
      "/ AdaRound████ | 18/20 [01:21<00:08,  4.42s/it]\u001b[A\n",
      "\\ AdaRound████▌| 19/20 [01:25<00:04,  4.42s/it]\u001b[A\n",
      "100%|██████████| 20/20 [01:30<00:00,  4.51s/it]\u001b[A\n",
      "          \r"
     ]
    },
    {
     "name": "stdout",
     "output_type": "stream",
     "text": [
      "2022-06-08 23:09:22,189 - Dataloader - INFO - Dataset consists of 2000 images in 1000 classes\n"
     ]
    },
    {
     "name": "stderr",
     "output_type": "stream",
     "text": [
      "          \r"
     ]
    },
    {
     "name": "stdout",
     "output_type": "stream",
     "text": [
      "2022-06-08 23:09:22,194 - Eval - INFO - No value of iteration is provided, running evaluation on complete dataset.\n"
     ]
    },
    {
     "name": "stderr",
     "output_type": "stream",
     "text": [
      "          \r"
     ]
    },
    {
     "name": "stdout",
     "output_type": "stream",
     "text": [
      "2022-06-08 23:09:22,198 - Eval - INFO - Evaluating nn.Module for 63 iterations with batch_size 32\n"
     ]
    },
    {
     "name": "stderr",
     "output_type": "stream",
     "text": [
      "100% (63 of 63) |########################| Elapsed Time: 0:00:14 Time:  0:00:14\n",
      "          \r"
     ]
    },
    {
     "name": "stdout",
     "output_type": "stream",
     "text": [
      "2022-06-08 23:09:37,063 - Eval - INFO - Avg accuracy Top 1: 6.944444 Avg accuracy Top 5: 27.579365 on validation Dataset\n"
     ]
    },
    {
     "name": "stderr",
     "output_type": "stream",
     "text": [
      "          \r"
     ]
    },
    {
     "name": "stdout",
     "output_type": "stream",
     "text": [
      "2022-06-08 23:09:37,811 - Quant - WARNING - Could not determine the last op in the sub-graph for layer=module_add, candidates=[]\n"
     ]
    },
    {
     "name": "stderr",
     "output_type": "stream",
     "text": [
      "          \r"
     ]
    },
    {
     "name": "stdout",
     "output_type": "stream",
     "text": [
      "2022-06-08 23:09:37,883 - AutoQuant - INFO - The results of AdaRound is saved in /tmp/.trace/adaround.pth and /tmp/.trace/adaround.encodings.\n"
     ]
    },
    {
     "name": "stderr",
     "output_type": "stream",
     "text": [
      "- AdaRound"
     ]
    },
    {
     "name": "stdout",
     "output_type": "stream",
     "text": [
      "2022-06-08 23:09:37,893 - AutoQuant - INFO - Session finished: AdaRound. (eval score: 6.94)\n"
     ]
    },
    {
     "name": "stderr",
     "output_type": "stream",
     "text": [
      "\n"
     ]
    },
    {
     "name": "stdout",
     "output_type": "stream",
     "text": [
      "2022-06-08 23:09:38,018 - AutoQuant - INFO - Best eval score: 7.59\n",
      "2022-06-08 23:09:38,019 - AutoQuant - INFO - AutoQuant is unable to match the target accuracy. Consider Quantization Aware Training.\n"
     ]
    }
   ],
   "source": [
    "dummy_input = torch.randn(input_shape)\n",
    "model.eval()\n",
    "model, accuracy, encoding_path =\\\n",
    "    auto_quant.apply(model.cuda(),\n",
    "                     dummy_input_on_cpu=dummy_input.cpu(),\n",
    "                     dummy_input_on_gpu=dummy_input.cuda())"
   ]
  },
  {
   "cell_type": "code",
   "execution_count": 29,
   "metadata": {},
   "outputs": [
    {
     "name": "stdout",
     "output_type": "stream",
     "text": [
      "7.589285714285714\n",
      "/tmp/.trace/batchnorm_folding.encodings\n"
     ]
    }
   ],
   "source": [
    "print(accuracy)\n",
    "print(encoding_path)"
   ]
  },
  {
   "cell_type": "markdown",
   "metadata": {
    "pycharm": {
     "name": "#%% md\n"
    }
   },
   "source": [
    "---\n",
    "## Summary\n",
    "\n",
    "Hope this notebook was useful for you to understand how to use AIMET for performing QAT with range-learning.\n",
    "\n",
    "Few additional resources\n",
    "- Refer to the AIMET API docs to know more details of the APIs and optional parameters\n",
    "- Refer to the other example notebooks to understand how to use AIMET post-training quantization techniques and the vanilla QAT method (without range-learning)"
   ]
  }
 ],
 "metadata": {
  "kernelspec": {
   "display_name": "Python 3",
   "language": "python",
   "name": "python3"
  },
  "language_info": {
   "codemirror_mode": {
    "name": "ipython",
    "version": 3
   },
   "file_extension": ".py",
   "mimetype": "text/x-python",
   "name": "python",
   "nbconvert_exporter": "python",
   "pygments_lexer": "ipython3",
   "version": "3.6.9"
  }
 },
 "nbformat": 4,
 "nbformat_minor": 2
}
