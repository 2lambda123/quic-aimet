{
 "cells": [
  {
   "cell_type": "markdown",
   "metadata": {},
   "source": [
    "# Cross Layer Equalization and Bias Correction Example Code\n",
    "\n",
    "This script utilizes AIMET to apply Cross Layer Equalization and Bias Correction on a resnet18.The general procedure for quantization is to optionally change the model through Cross-Layer Equalization and/or Bias Correction, then use AIMET's QuantizationSimModel to compute new encodings, then finetune the model. Here is an overview of each featue this notebook showcases.\n",
    "\n",
    "**Cross Layer Equalization**  \n",
    "1. Batch Norm Folding: accounting for the parameters of batch norm layers by changing the weights of the subsequent convolutional layers\n",
    "2. Cross-Layer Scaling: rescaling the weights of consecutive convolutional layers to make them closer in magnitude to one another\n",
    "3. High Bias Folding: redistributing the high biases of some layers to other layers with lower biases.\n",
    "\n",
    "**Bias Correction**  \n",
    "Bias Correction is used to make sure the mean of the outputs of a given layer is the same before and after the quantization step. This is done simply by taking the quantized bias and subtracting the expected difference between the outputs associated with the original weights and the quantized weights.\n",
    "\n",
    "\n",
    "#### The example code shows the following:\n",
    "1. Instantiate Data Pipeline for evaluation \n",
    "2. Load the pretrained resnet18 Pytorch model\n",
    "3. Calculate Model accuracy\n",
    "    * 3.1. Calculate floating point accuracy\n",
    "    * 3.2. Calculate Quant Simulator accuracy\n",
    "4. Apply AIMET CLE and BC\n",
    "    * 4.1. Apply AIMET CLE and calculates QuantSim accuracy\n",
    "    * 4.2. Apply AIMET BC and calculates QuantSim accuracy\n"
   ]
  },
  {
   "cell_type": "code",
   "execution_count": null,
   "metadata": {},
   "outputs": [],
   "source": [
    "import warnings\n",
    "warnings.filterwarnings(\"ignore\", \".*param.*\")\n",
    "\n",
    "import os\n",
    "import copy\n",
    "import argparse\n",
    "from typing import List\n",
    "from datetime import datetime\n",
    "from functools import partial\n",
    "import torch\n",
    "from torchvision.models import resnet18"
   ]
  },
  {
   "cell_type": "code",
   "execution_count": null,
   "metadata": {},
   "outputs": [],
   "source": [
    "# AIMET Imports for Quantization\n",
    "from aimet_common.defs import QuantScheme\n",
    "from aimet_torch.quantsim import QuantizationSimModel, QuantParams\n",
    "from aimet_torch.bias_correction import correct_bias\n",
    "from aimet_torch.cross_layer_equalization import equalize_model\n",
    "from aimet_torch.batch_norm_fold import fold_all_batch_norms\n"
   ]
  },
  {
   "cell_type": "code",
   "execution_count": null,
   "metadata": {},
   "outputs": [],
   "source": [
    "# Data Pipeline Imports\n",
    "from Examples.common import image_net_config\n",
    "from Examples.torch.utils.image_net_evaluator import ImageNetEvaluator\n",
    "from Examples.torch.utils.image_net_trainer import ImageNetTrainer\n",
    "from Examples.torch.utils.image_net_evaluator import ImageNetDataLoader"
   ]
  },
  {
   "cell_type": "markdown",
   "metadata": {},
   "source": [
    "## Setting Up Our Config Dictionary\n",
    "\n",
    "The config dictionary specifies a number of things \n",
    "\n",
    "config: \n",
    "This mapping expects following parameters:\n",
    "1. **dataset_dir:** Path to a directory containing ImageNet dataset. This folder should contain subfolders 'train' for training dataset and 'val' for validation dataset.\n",
    "3. **use_cuda:** A boolean var to indicate to run the quantization on GPU.\n",
    "4. **logdir:** Path to a directory for logging.\n",
    "\n",
    "To get a better understanding of when each of the parameters in the config dictionary is used, read the code in those cells.  \n",
    "**Note:** You will have to replace the dataset_dir path with the path to your own imagenet/tinyimagenet dataset"
   ]
  },
  {
   "cell_type": "code",
   "execution_count": null,
   "metadata": {},
   "outputs": [],
   "source": [
    "config = {'dataset_dir': \"path/to/dataset\",\n",
    "          'use_cuda': True,\n",
    "          'logdir': os.path.join(\"benchmark_output\", \"cle_bc_\"+datetime.now().strftime(\"%Y-%m-%d-%H-%M-%S\"))}\n",
    "\n",
    "os.makedirs(config['logdir'], exist_ok=True)"
   ]
  },
  {
   "cell_type": "markdown",
   "metadata": {},
   "source": [
    "## 1. Instantiate Data Pipeline\n",
    "\n",
    "The ImageNetDataPipeline class takes care of evaluating a model using a dataset directory. For more detail on how it works, see the relevant files under examples/torch/utils.\n",
    "\n",
    "The data pipeline class is simply a template for the user to follow. The methods for this class can be replaced by the user to fit their needs."
   ]
  },
  {
   "cell_type": "code",
   "execution_count": null,
   "metadata": {},
   "outputs": [],
   "source": [
    "class ImageNetDataPipeline:\n",
    "    \"\"\"\n",
    "    Provides APIs for model quantization using evaluation and finetuning.\n",
    "    \"\"\"\n",
    "\n",
    "    def __init__(self, config):\n",
    "        \"\"\"\n",
    "        :param config:\n",
    "        \"\"\"\n",
    "        self._config = config\n",
    "\n",
    "    def data_loader(self):\n",
    "        \"\"\"\n",
    "        :return: ImageNetDataloader\n",
    "        \"\"\"\n",
    "        \n",
    "        data_loader = ImageNetDataLoader(is_training=False, images_dir=self._config[\"dataset_dir\"],\n",
    "                                         image_size=image_net_config.dataset['image_size']).data_loader\n",
    "\n",
    "        return data_loader\n",
    "    \n",
    "    def evaluate(self, model: torch.nn.Module, iterations: int = None, use_cuda: bool = False) -> float:\n",
    "        \"\"\"\n",
    "        Evaluate the specified model using the specified number of samples from the validation set.\n",
    "        :param model: The model to be evaluated.\n",
    "        :param iterations: The number of batches of the dataset.\n",
    "        :param use_cuda: If True then use a GPU for inference.\n",
    "        :return: The accuracy for the sample with the maximum accuracy.\n",
    "        \"\"\"\n",
    "\n",
    "        # Your code goes here\n",
    "\n",
    "        evaluator = ImageNetEvaluator(self._config['dataset_dir'], image_size=image_net_config.dataset['image_size'],\n",
    "                                      batch_size=image_net_config.evaluation['batch_size'],\n",
    "                                      num_workers=image_net_config.evaluation['num_workers'])\n",
    "\n",
    "        return evaluator.evaluate(model, iterations, use_cuda)"
   ]
  },
  {
   "cell_type": "markdown",
   "metadata": {},
   "source": [
    "## 2. Load the Model, Initialize DataPipeline\n",
    "\n",
    "The next section will initialize the model and data pipeline for the quantization"
   ]
  },
  {
   "cell_type": "markdown",
   "metadata": {},
   "source": [
    "We initialize the pipeline and the model. Before quantizing the model, we calculate the original floating point (FP32) accuracy of the model on the dataset provided."
   ]
  },
  {
   "cell_type": "code",
   "execution_count": null,
   "metadata": {},
   "outputs": [],
   "source": [
    "data_pipeline = ImageNetDataPipeline(config)\n",
    "\n",
    "model = resnet18(pretrained=True)\n",
    "if config['use_cuda']:\n",
    "    if torch.cuda.is_available():\n",
    "        model.to(torch.device('cuda'))\n",
    "    else:\n",
    "        raise Exception(\"use_cuda is True but cuda is unavailable\")\n",
    "model.eval()\n",
    "\n",
    "accuracy = data_pipeline.evaluate(model, use_cuda=config['use_cuda'])\n",
    "print(\"Original Model Accuracy: \", accuracy)"
   ]
  },
  {
   "cell_type": "markdown",
   "metadata": {},
   "source": [
    "## 3. Quantization Simulator\n",
    "\n",
    "The next cells are for the actual quantization step. The quantization parameters are specified in the following cell:\n",
    "\n",
    "1. **quant_scheme**: The scheme used to quantize the model. We can choose from s - post_training_tf or post_training_tf_enhanced.\n",
    "\n",
    "2. **rounding_mode**: The rounding mode used for quantization. There are two possible choices here - 'nearest' or 'stochastic'\n",
    "\n",
    "3. **default_output_bw**: The bitwidth of the activation tensors. The value of this should be a power of 2, less than 32.\n",
    "\n",
    "4. **default_param_bw**: The bidwidth of the parameter tensors. The value of this should be a power of 2, less than 32.\n",
    "\n",
    "5. **num_batches**: The number of batches used to evaluate the model while calculating the quantization encodings.Number of batches to use for computing encodings. Only 5 batches are used here to speed up the process. In addition, the number of images in these 5 batches should be sufficient for compute encodings"
   ]
  },
  {
   "cell_type": "code",
   "execution_count": null,
   "metadata": {},
   "outputs": [],
   "source": [
    "quant_scheme = QuantScheme.post_training_tf_enhanced\n",
    "rounding_mode = 'nearest'\n",
    "default_output_bw = 8\n",
    "default_param_bw = 8\n",
    "\n",
    "#Uncomment one of the following lines\n",
    "# num_batches = 5 #Typical\n",
    "num_batches = 1 #Test"
   ]
  },
  {
   "cell_type": "markdown",
   "metadata": {},
   "source": [
    "We now set up the quantization simulator, and quantize the model. The resulting quantized (INT8) Model is then evaluated on the dataset. We utilize the evaluate function from the data pipeline to compute the new weights.\n",
    "\n",
    "it is customary to fold batch norms; however, the Cross Layer Equalization API expects a model which does not have folded batch norms. For this reason, we make a copy of our model to evaluate."
   ]
  },
  {
   "cell_type": "code",
   "execution_count": null,
   "metadata": {},
   "outputs": [],
   "source": [
    "dummy_input = torch.rand(1, 3, 224, 224)\n",
    "if config['use_cuda']:\n",
    "    dummy_input = dummy_input.to(torch.device('cuda'))\n",
    "\n",
    "\n",
    "BN_folded_model = copy.deepcopy(model)\n",
    "_ = fold_all_batch_norms(BN_folded_model, input_shapes=(1, 3, 224, 224))\n",
    "\n",
    "quantizer = QuantizationSimModel(model=BN_folded_model,\n",
    "                                 quant_scheme=quant_scheme,\n",
    "                                 dummy_input=dummy_input,\n",
    "                                 rounding_mode=rounding_mode,\n",
    "                                 default_output_bw=default_output_bw,\n",
    "                                 default_param_bw=default_param_bw)\n",
    "\n",
    "quantizer.compute_encodings(forward_pass_callback=partial(data_pipeline.evaluate,\n",
    "                                                          use_cuda=config['use_cuda']),\n",
    "                            forward_pass_callback_args=num_batches)\n",
    "\n",
    "# Calculate quantized (INT8) accuracy after CLE\n",
    "accuracy = data_pipeline.evaluate(quantizer.model)\n",
    "print(\"Quantized (INT8) Model Top-1 Accuracy: \", accuracy)"
   ]
  },
  {
   "cell_type": "markdown",
   "metadata": {},
   "source": [
    "## 4. 1 Cross Layer Equalization\n",
    "\n",
    "The next cell performs cross-layer equalization on the model. As noted before, the function folds batch norms, applies cross-layer scaling, and then folds high biases."
   ]
  },
  {
   "cell_type": "code",
   "execution_count": null,
   "metadata": {},
   "outputs": [],
   "source": [
    "# This API will equalize the model in-place\n",
    "equalize_model(model, input_shapes=(1, 3, 224, 224))"
   ]
  },
  {
   "cell_type": "markdown",
   "metadata": {},
   "source": [
    "Then, the model is quantized, and the accuracy is noted. This is done before the bias correction step in order to measure the individual impacts of each technique."
   ]
  },
  {
   "cell_type": "code",
   "execution_count": null,
   "metadata": {},
   "outputs": [],
   "source": [
    "dummy_input = torch.rand(1, 3, 224, 224)\n",
    "if config['use_cuda']:\n",
    "    dummy_input = dummy_input.to(torch.device('cuda'))\n",
    "\n",
    "cle_quantizer = QuantizationSimModel(model=model,\n",
    "                                     quant_scheme=quant_scheme,\n",
    "                                     dummy_input=dummy_input,\n",
    "                                     rounding_mode=rounding_mode,\n",
    "                                     default_output_bw=default_output_bw,\n",
    "                                     default_param_bw=default_param_bw)\n",
    "\n",
    "cle_quantizer.compute_encodings(forward_pass_callback=partial(data_pipeline.evaluate,\n",
    "                                                              use_cuda=config['use_cuda']),\n",
    "                                forward_pass_callback_args=num_batches)\n",
    "\n",
    "accuracy = data_pipeline.evaluate(cle_quantizer.model)\n",
    "print(\"CLE applied Model Top-1 accuracy on Quant Simulator: \", accuracy)"
   ]
  },
  {
   "cell_type": "markdown",
   "metadata": {},
   "source": [
    "## 4. 2 Bias Correction\n",
    "\n",
    "Perform Bias correction and calculate the accuracy on the quantsim model. The first cell includes two parameters related to this step:\n",
    "\n",
    "1. **num_quant_samples**: The number of samples used during quantization\n",
    "2. **num_bias_correction_samples**: The number of samples used during bias correction"
   ]
  },
  {
   "cell_type": "code",
   "execution_count": null,
   "metadata": {},
   "outputs": [],
   "source": [
    "# Uncomment one of the following sets of parameters\n",
    "num_quant_samples = 16 #Typical\n",
    "num_bias_correct_samples = 16 #Typical\n",
    "\n",
    "num_quant_samples = 1 #Test\n",
    "num_bias_correct_samples = 1 #Test"
   ]
  },
  {
   "cell_type": "markdown",
   "metadata": {},
   "source": [
    "Here the actual bias correction steps are performed:"
   ]
  },
  {
   "cell_type": "code",
   "execution_count": null,
   "metadata": {},
   "outputs": [],
   "source": [
    "data_loader = data_pipeline.data_loader()\n",
    "\n",
    "bc_params = QuantParams(weight_bw=default_param_bw,\n",
    "                        act_bw=default_output_bw,\n",
    "                        round_mode=rounding_mode,\n",
    "                        quant_scheme=quant_scheme)\n",
    "\n",
    "correct_bias(model,\n",
    "             bc_params,\n",
    "             num_quant_samples=num_quant_samples,\n",
    "             data_loader=data_loader,\n",
    "             num_bias_correct_samples=num_bias_correct_samples)"
   ]
  },
  {
   "cell_type": "markdown",
   "metadata": {},
   "source": [
    "Finally, the model is quantized, the accuracy is logged, and the model is saved."
   ]
  },
  {
   "cell_type": "code",
   "execution_count": null,
   "metadata": {},
   "outputs": [],
   "source": [
    "dummy_input = torch.rand(1, 3, 224, 224)\n",
    "if config['use_cuda']:\n",
    "    dummy_input = dummy_input.to(torch.device('cuda'))\n",
    "\n",
    "bc_quantizer = QuantizationSimModel(model=model,\n",
    "                                    quant_scheme=quant_scheme,\n",
    "                                    dummy_input=dummy_input,\n",
    "                                    rounding_mode=rounding_mode,\n",
    "                                    default_output_bw=default_output_bw,\n",
    "                                    default_param_bw=default_param_bw,\n",
    "                                    in_place=False)\n",
    "\n",
    "bc_quantizer.compute_encodings(forward_pass_callback=partial(data_pipeline.evaluate,\n",
    "                                                             use_cuda=config['use_cuda']),\n",
    "                               forward_pass_callback_args=num_batches)\n",
    "\n",
    "accuracy = data_pipeline.evaluate(bc_quantizer.model)\n",
    "print(\"Quantized (INT8) Model Top-1 Accuracy After Bias Correction: \", accuracy)\n",
    "\n",
    "torch.save(model, os.path.join(config['logdir'], 'quantized_model.pth'))"
   ]
  },
  {
   "cell_type": "markdown",
   "metadata": {},
   "source": [
    "## Resources\n",
    "\n",
    "For more information on how Cross Layer Equalization and Bias Correction works, be sure to check out this [page](https://quic.github.io/aimet-pages/AimetDocs/user_guide/post_training_quant_techniques.html#ug-post-training-quantization) on post-training quantization techniques and this [paper](https://arxiv.org/abs/1906.04721) on Cross Layer Equalization and Bias Correction.\n",
    "\n",
    "For more information about AIMET's APIs, visit the [documentation](https://quic.github.io/aimet-pages/AimetDocs/api_docs/torch_quantization.html) on Torch Model Quantization. For a better understanding on what AIMET has to offer, be sure to check out this [YouTube playlist](https://www.youtube.com/playlist?list=PLd0XF75dq-1a7OZTl1kAiM2ZqeKqQpKFH), and this [page](https://quic.github.io/aimet-pages/index.html) on AIMET."
   ]
  },
  {
   "cell_type": "code",
   "execution_count": null,
   "metadata": {},
   "outputs": [],
   "source": []
  },
  {
   "cell_type": "code",
   "execution_count": null,
   "metadata": {},
   "outputs": [],
   "source": []
  }
 ],
 "metadata": {
  "kernelspec": {
   "display_name": "Python 3",
   "language": "python",
   "name": "python3"
  },
  "language_info": {
   "codemirror_mode": {
    "name": "ipython",
    "version": 3
   },
   "file_extension": ".py",
   "mimetype": "text/x-python",
   "name": "python",
   "nbconvert_exporter": "python",
   "pygments_lexer": "ipython3",
   "version": "3.6.9"
  }
 },
 "nbformat": 4,
 "nbformat_minor": 2
}
