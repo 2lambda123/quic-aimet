{
 "cells": [
  {
   "cell_type": "markdown",
   "metadata": {},
   "source": [
    "# Model compression using Spatial SVD followed by Channel Pruning \n",
    "\n",
    "This notebook shows a working code example of how to use AIMET to perform model compression. Two model-compression techniques are applied back-to-back: Spatial SVD followed by Channel Pruning.\n",
    "\n",
    "Here is a brief introduction to the techniques. Please refer to the AIMET user guide for more details.\n",
    "\n",
    "1. **Spatial SVD**: This is a tensor-decomposition technique generally applied to convolutional layers (Conv2D). Applying this technique will decompose a single convolutional layer into two. The weight tensor of the layer to be split is flattended to a 2D matrix and singular value decomposition (SVD) is applied to this matrix. Compression is achieved by discarding the least significant singular values in the diagonal matrix. The decomposed matrices are combined back into two separate convolutional layers.\n",
    "2. **Channel Pruning**: In this technique AIMET will discard least significant (using a magnitude metric) input channels of a given convolutional (Conv2D) layer. The layers of the model feeding into this convolutional layer also have the channels dimension modified to get back to a working graph. This technique also uses a layer-by-layer reconstruction procedure that modifies the weights of the compressed layers to minimize the distance of the compressed layer output to the corresponding layer output of the original model.\n",
    "\n",
    "Both of the above techniques are structured pruning techniques that aim to reduce computational macs or memory requirements of the model. Subsequent to applying either of these techniques, the compressed model needs to be fine-tuned (meaning trained again for a few epochs) to recover accuracy close to the original model.\n",
    "\n",
    "This notebook shows working code example of how both the techniques (#1 and #2) can be used to compress the model. You can find a separate notebook for only #1 or #2 in the same folder.\n",
    "\n",
    "#### Overall flow\n",
    "This notebook covers the following\n",
    "1. Instantiate the example evaluation and training pipeline\n",
    "2. Load the model and evaluate it to find the baseline accuracy\n",
    "3. Compress the model and fine-tune:  \n",
    "    3.1 Compress model using Spatial SVD and evaluate it to find post-compression accuracy  \n",
    "    3.2 Fine-tune the model after Spatial SVD  \n",
    "    3.3 Compress model using Channel Pruning and evaluate it to find post-compression accuracy  \n",
    "    3.4 Fine-tune the model after Channel Pruning  \n",
    "\n",
    "\n",
    "#### What this notebook is not \n",
    "* This notebook is not designed to show state-of-the-art compression results. For example, some optimization parameters such as num_comp_ratio_candidates, num_eval_iterations and epochs are deliberately chosen to have the notebook execute more quickly.\n"
   ]
  },
  {
   "cell_type": "markdown",
   "metadata": {},
   "source": [
    "---\n",
    "## Dataset\n",
    "\n",
    "This notebook relies on the ImageNet dataset for the task of image classification. If you already have a version of the dataset readily available, please use that. Else, please download the dataset from appropriate location (e.g. https://image-net.org/challenges/LSVRC/2012/index.php#).\n",
    "\n",
    "**Note1**: The ImageNet dataset typically has the following characteristics and the dataloader provided in this example notebook rely on these\n",
    "- Subfolders 'train' for the training samples and 'val' for the validation samples\n",
    "- A subdirectory per class, and a file per each image sample\n",
    "\n",
    "**Note2**: To speed up the execution of this notebook, you may use a reduced subset of the ImageNet dataset. E.g. the entire ILSVRC2012 dataset has 1000 classes, 1000 training samples per class and 50 validation samples per class. But for the purpose of running this notebook, you could perhaps reduce the dataset to say 2 samples per class. This exercise is left upto the reader and is not necessary.\n",
    "\n",
    "Edit the cell below and specify the directory where the downloaded ImageNet dataset is saved."
   ]
  },
  {
   "cell_type": "code",
   "execution_count": 1,
   "metadata": {},
   "outputs": [],
   "source": [
    "DATASET_DIR = 'path/to/dataset'         # Please replace this with a real directory"
   ]
  },
  {
   "cell_type": "markdown",
   "metadata": {},
   "source": [
    "---\n",
    "## 1. Example evaluation and training pipeline\n",
    "\n",
    "The following is an example training and validation loop for this image classification task.\n",
    "\n",
    "- **Does AIMET have any limitations on how the training, validation pipeline is written?** Not really. We will see later that AIMET will modify the user's model to compress it and the resultant model is still a PyTorch model. This compressed model can be used in place of the original model when doing inference or training.\n",
    "- **Does AIMET put any limitation on the interface of the evaluate() or train() methods?** Not really, but evaluate() method should return a single number representing the accuracy of the model. Ideally, You should be able to use your existing evaluate and train routines as-is.\n"
   ]
  },
  {
   "cell_type": "code",
   "execution_count": 2,
   "metadata": {},
   "outputs": [],
   "source": [
    "import os\n",
    "import torch\n",
    "from typing import List\n",
    "from Examples.common import image_net_config\n",
    "from Examples.torch.utils.image_net_evaluator import ImageNetEvaluator\n",
    "from Examples.torch.utils.image_net_trainer import ImageNetTrainer\n",
    "from Examples.torch.utils.image_net_data_loader import ImageNetDataLoader\n",
    "\n",
    "class ImageNetDataPipeline:\n",
    "\n",
    "    @staticmethod\n",
    "    def get_val_dataloader() -> torch.utils.data.DataLoader:\n",
    "        \"\"\"\n",
    "        Instantiates a validation dataloader for ImageNet dataset and returns it\n",
    "        \"\"\"\n",
    "        data_loader = ImageNetDataLoader(DATASET_DIR,\n",
    "                                         image_size=image_net_config.dataset['image_size'],\n",
    "                                         batch_size=image_net_config.evaluation['batch_size'],\n",
    "                                         is_training=False,\n",
    "                                         num_workers=image_net_config.evaluation['num_workers']).data_loader\n",
    "        return data_loader\n",
    "\n",
    "    @staticmethod\n",
    "    def evaluate(model: torch.nn.Module, iterations: int, use_cuda: bool) -> float:\n",
    "        \"\"\"\n",
    "        Given a torch model, evaluates its Top-1 accuracy on the dataset\n",
    "        :param model: the model to evaluate\n",
    "        :param iterations: the number of batches to be used to evaluate the model. A value of 'None' means the model will be\n",
    "                           evaluated on the entire dataset once.\n",
    "        :param use_cuda: whether or not the GPU should be used.\n",
    "        \"\"\"\n",
    "        evaluator = ImageNetEvaluator(DATASET_DIR, image_size=image_net_config.dataset['image_size'],\n",
    "                                      batch_size=image_net_config.evaluation['batch_size'],\n",
    "                                      num_workers=image_net_config.evaluation['num_workers'])\n",
    "\n",
    "        return evaluator.evaluate(model, iterations=iterations, use_cuda=use_cuda)\n",
    "\n",
    "    @staticmethod\n",
    "    def finetune(model: torch.nn.Module, epochs: int, learning_rate: float, learning_rate_schedule: List, use_cuda: bool):\n",
    "        \"\"\"\n",
    "        Given a torch model, finetunes the model to improve its accuracy\n",
    "        :param model: the model to finetune\n",
    "        :param epochs: The number of epochs used during the finetuning step.\n",
    "        :param learning_rate: The learning rate used during the finetuning step.\n",
    "        :param learning_rate_schedule: The learning rate schedule used during the finetuning step.\n",
    "        :param use_cuda: whether or not the GPU should be used.\n",
    "        \"\"\"\n",
    "        trainer = ImageNetTrainer(DATASET_DIR, image_size=image_net_config.dataset['image_size'],\n",
    "                                  batch_size=image_net_config.train['batch_size'],\n",
    "                                  num_workers=image_net_config.train['num_workers'])\n",
    "\n",
    "        trainer.train(model, max_epochs=epochs, learning_rate=learning_rate,\n",
    "                      learning_rate_schedule=learning_rate_schedule, use_cuda=use_cuda)"
   ]
  },
  {
   "cell_type": "markdown",
   "metadata": {},
   "source": [
    "---\n",
    "## 2. Load the model and evaluate it to find the baseline accuracy"
   ]
  },
  {
   "cell_type": "markdown",
   "metadata": {},
   "source": [
    "For this example notebook, we are going to load a pretrained resnet18 model from torchvision. Similarly, you can load any pretrained PyTorch model instead."
   ]
  },
  {
   "cell_type": "code",
   "execution_count": 3,
   "metadata": {},
   "outputs": [],
   "source": [
    "from torchvision.models import resnet18\n",
    "\n",
    "model = resnet18(pretrained=True)"
   ]
  },
  {
   "cell_type": "markdown",
   "metadata": {},
   "source": [
    "---\n",
    "We should decide whether to place the model on a CPU or CUDA device. This example code will use CUDA if available in your current execution environment. You can change this logic and force a device placement if needed."
   ]
  },
  {
   "cell_type": "code",
   "execution_count": 4,
   "metadata": {},
   "outputs": [],
   "source": [
    "use_cuda = False\n",
    "if torch.cuda.is_available():\n",
    "    use_cuda = True\n",
    "    model.to(torch.device('cuda'))"
   ]
  },
  {
   "cell_type": "markdown",
   "metadata": {},
   "source": [
    "---\n",
    "Let's determine the FP32 (floating point 32-bit) accuracy of this model using the evaluate() routine"
   ]
  },
  {
   "cell_type": "code",
   "execution_count": 5,
   "metadata": {},
   "outputs": [
    {
     "name": "stderr",
     "output_type": "stream",
     "text": [
      "100% (32 of 32) |########################| Elapsed Time: 0:00:04 Time:  0:00:04\n"
     ]
    },
    {
     "name": "stdout",
     "output_type": "stream",
     "text": [
      "69.23828125\n"
     ]
    }
   ],
   "source": [
    "accuracy = ImageNetDataPipeline.evaluate(model, iterations=None, use_cuda=use_cuda)\n",
    "print(accuracy)"
   ]
  },
  {
   "cell_type": "markdown",
   "metadata": {},
   "source": [
    "## 3. Compress the model and fine-tune\n",
    "\n",
    "### 3.1. Compress model using Spatial SVD and evaluate it to find post-compression accuracy\n",
    "Now we use AIMET to define compression parameters for Spatial SVD, few of which are explained here\n",
    "\n",
    "- **target_comp_ratio**: The desired compression ratio for Spatial SVD. We are using 0.8 to compress the model by 20%.\n",
    "\n",
    "- **num_comp_ratio_candidates**: As part of determining how compressible each layer is, AIMET performs various measurements. This number denotes the different compression ratios tried by the AIMET for each layer. We are using 3 here which translates to  0.33, 0.66 and 1.00 compression ratios at each layer. Optimal value is 10. The higher the number of candidates the more granular the measurements for each layer, but also the higher the time taken to complete these measurements.\n",
    "\n",
    "- **modules_to_ignore**: This list can contain the references of model-layers that should be ignored during compression. We have added the first layer to be ignored to preserve the way the input interacts with the model; other layers can be added too if desired.\n",
    "\n",
    "- **mode**: We are chossing **Auto** mode which means AIMET performs per-layer compressibility analysis and determines how much to compress each layer. The alternate choice is **Manual**.\n",
    "\n",
    "- **eval_callback**: The model evaluation function. The expected signature of the evaluate function should be `<function_name>(model, eval_iterations, use_cuda)` and it is expected to return an accuracy metric.\n",
    "\n",
    "- **eval_iterations**: The number of batches of data to use for evaluating the model while the model is compressing. We are using 1 to speed up the notebook execution. But please choose a high enough number of samples so that we can trust the accuracy of the model given those samples. It is expected that the eval callback would use the same samples for every invocation of the callback.\n",
    "\n",
    "- **compress_scheme**: We choose the 'spatial svd' compression scheme.\n",
    "\n",
    "- **cost_metric**: Determines whether we want to target either to reduce MACs or memory by the desired compression ratio. We are chossing 'mac' here.\n"
   ]
  },
  {
   "cell_type": "code",
   "execution_count": 6,
   "metadata": {},
   "outputs": [],
   "source": [
    "from decimal import Decimal\n",
    "from aimet_torch.defs import GreedySelectionParameters, SpatialSvdParameters\n",
    "from aimet_common.defs import CompressionScheme, CostMetric\n",
    "\n",
    "greedy_params = GreedySelectionParameters(target_comp_ratio=Decimal(0.8),\n",
    "                                          num_comp_ratio_candidates=3)\n",
    "modules_to_ignore = [model.conv1]\n",
    "auto_params = SpatialSvdParameters.AutoModeParams(greedy_select_params=greedy_params,\n",
    "                                                  modules_to_ignore=modules_to_ignore)\n",
    "params = SpatialSvdParameters(mode=SpatialSvdParameters.Mode.auto, params=auto_params)\n",
    "\n",
    "eval_callback = ImageNetDataPipeline.evaluate\n",
    "eval_iterations = 1\n",
    "compress_scheme = CompressionScheme.spatial_svd\n",
    "cost_metric = CostMetric.mac"
   ]
  },
  {
   "cell_type": "markdown",
   "metadata": {},
   "source": [
    "---\n",
    "We call the AIMET ModelCompressor.compress_model API using the above parameters. This call returns a compressed model as well as relevant statistics.  \n",
    "**Note**: the ModelCompressor evaluates the model while compressing using the same evaluate function that is in our data pipeline.\n"
   ]
  },
  {
   "cell_type": "code",
   "execution_count": 7,
   "metadata": {
    "scrolled": true
   },
   "outputs": [
    {
     "name": "stdout",
     "output_type": "stream",
     "text": [
      "2022-02-03 21:33:25,259 - CompRatioSelect - INFO - Analyzing compression ratio: 0.3333333333333333333333333333 =====================>\n",
      "2022-02-03 21:33:25,273 - Svd - INFO - Spatial SVD splitting layer: layer1.0.conv1 using rank: 32\n",
      "2022-02-03 21:33:26,051 - Dataloader - INFO - Dataset consists of 1000 images in 1000 classes\n",
      "2022-02-03 21:33:26,054 - Eval - INFO - Evaluating nn.Module for 1 iterations with batch_size 32\n"
     ]
    },
    {
     "name": "stderr",
     "output_type": "stream",
     "text": [
      "100% (1 of 1) |##########################| Elapsed Time: 0:00:00 Time:  0:00:00\n"
     ]
    },
    {
     "name": "stdout",
     "output_type": "stream",
     "text": [
      "2022-02-03 21:33:26,521 - Eval - INFO - Avg accuracy Top 1: 81.250000 Avg accuracy Top 5: 96.875000 on validation Dataset\n",
      "2022-02-03 21:33:26,524 - CompRatioSelect - INFO - Layer layer1.0.conv1, comp_ratio 0.333333 ==> eval_score=81.250000\n",
      "2022-02-03 21:33:26,525 - CompRatioSelect - INFO - Analyzing compression ratio: 0.6666666666666666666666666666 =====================>\n",
      "2022-02-03 21:33:26,542 - Svd - INFO - Spatial SVD splitting layer: layer1.0.conv1 using rank: 63\n",
      "2022-02-03 21:33:27,347 - Dataloader - INFO - Dataset consists of 1000 images in 1000 classes\n",
      "2022-02-03 21:33:27,349 - Eval - INFO - Evaluating nn.Module for 1 iterations with batch_size 32\n"
     ]
    },
    {
     "name": "stderr",
     "output_type": "stream",
     "text": [
      "100% (1 of 1) |##########################| Elapsed Time: 0:00:00 Time:  0:00:00\n"
     ]
    },
    {
     "name": "stdout",
     "output_type": "stream",
     "text": [
      "2022-02-03 21:33:27,846 - Eval - INFO - Avg accuracy Top 1: 81.250000 Avg accuracy Top 5: 93.750000 on validation Dataset\n",
      "2022-02-03 21:33:27,849 - CompRatioSelect - INFO - Layer layer1.0.conv1, comp_ratio 0.666667 ==> eval_score=81.250000\n",
      "2022-02-03 21:33:27,850 - CompRatioSelect - INFO - Analyzing compression ratio: 0.3333333333333333333333333333 =====================>\n",
      "2022-02-03 21:33:27,865 - Svd - INFO - Spatial SVD splitting layer: layer1.0.conv2 using rank: 32\n",
      "2022-02-03 21:33:28,682 - Dataloader - INFO - Dataset consists of 1000 images in 1000 classes\n",
      "2022-02-03 21:33:28,684 - Eval - INFO - Evaluating nn.Module for 1 iterations with batch_size 32\n"
     ]
    },
    {
     "name": "stderr",
     "output_type": "stream",
     "text": [
      "100% (1 of 1) |##########################| Elapsed Time: 0:00:00 Time:  0:00:00\n"
     ]
    },
    {
     "name": "stdout",
     "output_type": "stream",
     "text": [
      "2022-02-03 21:33:29,181 - Eval - INFO - Avg accuracy Top 1: 81.250000 Avg accuracy Top 5: 93.750000 on validation Dataset\n",
      "2022-02-03 21:33:29,184 - CompRatioSelect - INFO - Layer layer1.0.conv2, comp_ratio 0.333333 ==> eval_score=81.250000\n",
      "2022-02-03 21:33:29,185 - CompRatioSelect - INFO - Analyzing compression ratio: 0.6666666666666666666666666666 =====================>\n",
      "2022-02-03 21:33:29,204 - Svd - INFO - Spatial SVD splitting layer: layer1.0.conv2 using rank: 63\n",
      "2022-02-03 21:33:30,018 - Dataloader - INFO - Dataset consists of 1000 images in 1000 classes\n",
      "2022-02-03 21:33:30,019 - Eval - INFO - Evaluating nn.Module for 1 iterations with batch_size 32\n"
     ]
    },
    {
     "name": "stderr",
     "output_type": "stream",
     "text": [
      "100% (1 of 1) |##########################| Elapsed Time: 0:00:00 Time:  0:00:00\n"
     ]
    },
    {
     "name": "stdout",
     "output_type": "stream",
     "text": [
      "2022-02-03 21:33:30,483 - Eval - INFO - Avg accuracy Top 1: 81.250000 Avg accuracy Top 5: 96.875000 on validation Dataset\n",
      "2022-02-03 21:33:30,486 - CompRatioSelect - INFO - Layer layer1.0.conv2, comp_ratio 0.666667 ==> eval_score=81.250000\n",
      "2022-02-03 21:33:30,486 - CompRatioSelect - INFO - Analyzing compression ratio: 0.3333333333333333333333333333 =====================>\n",
      "2022-02-03 21:33:30,503 - Svd - INFO - Spatial SVD splitting layer: layer1.1.conv1 using rank: 32\n",
      "2022-02-03 21:33:31,310 - Dataloader - INFO - Dataset consists of 1000 images in 1000 classes\n",
      "2022-02-03 21:33:31,312 - Eval - INFO - Evaluating nn.Module for 1 iterations with batch_size 32\n"
     ]
    },
    {
     "name": "stderr",
     "output_type": "stream",
     "text": [
      "100% (1 of 1) |##########################| Elapsed Time: 0:00:00 Time:  0:00:00\n"
     ]
    },
    {
     "name": "stdout",
     "output_type": "stream",
     "text": [
      "2022-02-03 21:33:31,785 - Eval - INFO - Avg accuracy Top 1: 75.000000 Avg accuracy Top 5: 90.625000 on validation Dataset\n",
      "2022-02-03 21:33:31,788 - CompRatioSelect - INFO - Layer layer1.1.conv1, comp_ratio 0.333333 ==> eval_score=75.000000\n",
      "2022-02-03 21:33:31,789 - CompRatioSelect - INFO - Analyzing compression ratio: 0.6666666666666666666666666666 =====================>\n",
      "2022-02-03 21:33:31,806 - Svd - INFO - Spatial SVD splitting layer: layer1.1.conv1 using rank: 63\n",
      "2022-02-03 21:33:32,573 - Dataloader - INFO - Dataset consists of 1000 images in 1000 classes\n",
      "2022-02-03 21:33:32,575 - Eval - INFO - Evaluating nn.Module for 1 iterations with batch_size 32\n"
     ]
    },
    {
     "name": "stderr",
     "output_type": "stream",
     "text": [
      "100% (1 of 1) |##########################| Elapsed Time: 0:00:00 Time:  0:00:00\n"
     ]
    },
    {
     "name": "stdout",
     "output_type": "stream",
     "text": [
      "2022-02-03 21:33:33,031 - Eval - INFO - Avg accuracy Top 1: 84.375000 Avg accuracy Top 5: 93.750000 on validation Dataset\n",
      "2022-02-03 21:33:33,033 - CompRatioSelect - INFO - Layer layer1.1.conv1, comp_ratio 0.666667 ==> eval_score=84.375000\n",
      "2022-02-03 21:33:33,034 - CompRatioSelect - INFO - Analyzing compression ratio: 0.3333333333333333333333333333 =====================>\n",
      "2022-02-03 21:33:33,052 - Svd - INFO - Spatial SVD splitting layer: layer1.1.conv2 using rank: 32\n",
      "2022-02-03 21:33:33,862 - Dataloader - INFO - Dataset consists of 1000 images in 1000 classes\n",
      "2022-02-03 21:33:33,865 - Eval - INFO - Evaluating nn.Module for 1 iterations with batch_size 32\n"
     ]
    },
    {
     "name": "stderr",
     "output_type": "stream",
     "text": [
      "100% (1 of 1) |##########################| Elapsed Time: 0:00:00 Time:  0:00:00\n"
     ]
    },
    {
     "name": "stdout",
     "output_type": "stream",
     "text": [
      "2022-02-03 21:33:34,336 - Eval - INFO - Avg accuracy Top 1: 71.875000 Avg accuracy Top 5: 93.750000 on validation Dataset\n",
      "2022-02-03 21:33:34,339 - CompRatioSelect - INFO - Layer layer1.1.conv2, comp_ratio 0.333333 ==> eval_score=71.875000\n",
      "2022-02-03 21:33:34,340 - CompRatioSelect - INFO - Analyzing compression ratio: 0.6666666666666666666666666666 =====================>\n",
      "2022-02-03 21:33:34,357 - Svd - INFO - Spatial SVD splitting layer: layer1.1.conv2 using rank: 63\n",
      "2022-02-03 21:33:35,456 - Dataloader - INFO - Dataset consists of 1000 images in 1000 classes\n",
      "2022-02-03 21:33:35,458 - Eval - INFO - Evaluating nn.Module for 1 iterations with batch_size 32\n"
     ]
    },
    {
     "name": "stderr",
     "output_type": "stream",
     "text": [
      "100% (1 of 1) |##########################| Elapsed Time: 0:00:00 Time:  0:00:00\n"
     ]
    },
    {
     "name": "stdout",
     "output_type": "stream",
     "text": [
      "2022-02-03 21:33:35,927 - Eval - INFO - Avg accuracy Top 1: 81.250000 Avg accuracy Top 5: 96.875000 on validation Dataset\n",
      "2022-02-03 21:33:35,930 - CompRatioSelect - INFO - Layer layer1.1.conv2, comp_ratio 0.666667 ==> eval_score=81.250000\n",
      "2022-02-03 21:33:35,931 - CompRatioSelect - INFO - Analyzing compression ratio: 0.3333333333333333333333333333 =====================>\n",
      "2022-02-03 21:33:35,949 - Svd - INFO - Spatial SVD splitting layer: layer2.0.conv1 using rank: 32\n",
      "2022-02-03 21:33:36,778 - Dataloader - INFO - Dataset consists of 1000 images in 1000 classes\n",
      "2022-02-03 21:33:36,779 - Eval - INFO - Evaluating nn.Module for 1 iterations with batch_size 32\n"
     ]
    },
    {
     "name": "stderr",
     "output_type": "stream",
     "text": [
      "100% (1 of 1) |##########################| Elapsed Time: 0:00:00 Time:  0:00:00\n"
     ]
    },
    {
     "name": "stdout",
     "output_type": "stream",
     "text": [
      "2022-02-03 21:33:37,245 - Eval - INFO - Avg accuracy Top 1: 56.250000 Avg accuracy Top 5: 71.875000 on validation Dataset\n",
      "2022-02-03 21:33:37,247 - CompRatioSelect - INFO - Layer layer2.0.conv1, comp_ratio 0.333333 ==> eval_score=56.250000\n",
      "2022-02-03 21:33:37,248 - CompRatioSelect - INFO - Analyzing compression ratio: 0.6666666666666666666666666666 =====================>\n",
      "2022-02-03 21:33:37,269 - Svd - INFO - Spatial SVD splitting layer: layer2.0.conv1 using rank: 64\n",
      "2022-02-03 21:33:38,132 - Dataloader - INFO - Dataset consists of 1000 images in 1000 classes\n",
      "2022-02-03 21:33:38,134 - Eval - INFO - Evaluating nn.Module for 1 iterations with batch_size 32\n"
     ]
    },
    {
     "name": "stderr",
     "output_type": "stream",
     "text": [
      "100% (1 of 1) |##########################| Elapsed Time: 0:00:00 Time:  0:00:00\n"
     ]
    },
    {
     "name": "stdout",
     "output_type": "stream",
     "text": [
      "2022-02-03 21:33:38,606 - Eval - INFO - Avg accuracy Top 1: 71.875000 Avg accuracy Top 5: 87.500000 on validation Dataset\n",
      "2022-02-03 21:33:38,608 - CompRatioSelect - INFO - Layer layer2.0.conv1, comp_ratio 0.666667 ==> eval_score=71.875000\n",
      "2022-02-03 21:33:38,608 - CompRatioSelect - INFO - Analyzing compression ratio: 0.3333333333333333333333333333 =====================>\n",
      "2022-02-03 21:33:38,624 - Svd - INFO - Spatial SVD splitting layer: layer2.0.conv2 using rank: 64\n",
      "2022-02-03 21:33:39,429 - Dataloader - INFO - Dataset consists of 1000 images in 1000 classes\n",
      "2022-02-03 21:33:39,431 - Eval - INFO - Evaluating nn.Module for 1 iterations with batch_size 32\n"
     ]
    },
    {
     "name": "stderr",
     "output_type": "stream",
     "text": [
      "100% (1 of 1) |##########################| Elapsed Time: 0:00:00 Time:  0:00:00\n"
     ]
    },
    {
     "name": "stdout",
     "output_type": "stream",
     "text": [
      "2022-02-03 21:33:39,912 - Eval - INFO - Avg accuracy Top 1: 81.250000 Avg accuracy Top 5: 93.750000 on validation Dataset\n",
      "2022-02-03 21:33:39,915 - CompRatioSelect - INFO - Layer layer2.0.conv2, comp_ratio 0.333333 ==> eval_score=81.250000\n",
      "2022-02-03 21:33:39,916 - CompRatioSelect - INFO - Analyzing compression ratio: 0.6666666666666666666666666666 =====================>\n",
      "2022-02-03 21:33:39,931 - Svd - INFO - Spatial SVD splitting layer: layer2.0.conv2 using rank: 127\n",
      "2022-02-03 21:33:41,043 - Dataloader - INFO - Dataset consists of 1000 images in 1000 classes\n",
      "2022-02-03 21:33:41,045 - Eval - INFO - Evaluating nn.Module for 1 iterations with batch_size 32\n"
     ]
    },
    {
     "name": "stderr",
     "output_type": "stream",
     "text": [
      "100% (1 of 1) |##########################| Elapsed Time: 0:00:00 Time:  0:00:00\n"
     ]
    },
    {
     "name": "stdout",
     "output_type": "stream",
     "text": [
      "2022-02-03 21:33:41,536 - Eval - INFO - Avg accuracy Top 1: 84.375000 Avg accuracy Top 5: 93.750000 on validation Dataset\n",
      "2022-02-03 21:33:41,539 - CompRatioSelect - INFO - Layer layer2.0.conv2, comp_ratio 0.666667 ==> eval_score=84.375000\n",
      "2022-02-03 21:33:41,540 - CompRatioSelect - INFO - Analyzing compression ratio: 0.3333333333333333333333333333 =====================>\n",
      "2022-02-03 21:33:41,557 - Svd - INFO - Spatial SVD splitting layer: layer2.0.downsample.0 using rank: 10\n",
      "2022-02-03 21:33:42,317 - Dataloader - INFO - Dataset consists of 1000 images in 1000 classes\n",
      "2022-02-03 21:33:42,319 - Eval - INFO - Evaluating nn.Module for 1 iterations with batch_size 32\n"
     ]
    },
    {
     "name": "stderr",
     "output_type": "stream",
     "text": [
      "100% (1 of 1) |##########################| Elapsed Time: 0:00:00 Time:  0:00:00\n"
     ]
    },
    {
     "name": "stdout",
     "output_type": "stream",
     "text": [
      "2022-02-03 21:33:42,784 - Eval - INFO - Avg accuracy Top 1: 53.125000 Avg accuracy Top 5: 78.125000 on validation Dataset\n",
      "2022-02-03 21:33:42,786 - CompRatioSelect - INFO - Layer layer2.0.downsample.0, comp_ratio 0.333333 ==> eval_score=53.125000\n",
      "2022-02-03 21:33:42,787 - CompRatioSelect - INFO - Analyzing compression ratio: 0.6666666666666666666666666666 =====================>\n",
      "2022-02-03 21:33:42,804 - Svd - INFO - Spatial SVD splitting layer: layer2.0.downsample.0 using rank: 21\n",
      "2022-02-03 21:33:43,633 - Dataloader - INFO - Dataset consists of 1000 images in 1000 classes\n",
      "2022-02-03 21:33:43,635 - Eval - INFO - Evaluating nn.Module for 1 iterations with batch_size 32\n"
     ]
    },
    {
     "name": "stderr",
     "output_type": "stream",
     "text": [
      "100% (1 of 1) |##########################| Elapsed Time: 0:00:00 Time:  0:00:00\n"
     ]
    },
    {
     "name": "stdout",
     "output_type": "stream",
     "text": [
      "2022-02-03 21:33:44,097 - Eval - INFO - Avg accuracy Top 1: 75.000000 Avg accuracy Top 5: 78.125000 on validation Dataset\n",
      "2022-02-03 21:33:44,099 - CompRatioSelect - INFO - Layer layer2.0.downsample.0, comp_ratio 0.666667 ==> eval_score=75.000000\n",
      "2022-02-03 21:33:44,100 - CompRatioSelect - INFO - Analyzing compression ratio: 0.3333333333333333333333333333 =====================>\n",
      "2022-02-03 21:33:44,117 - Svd - INFO - Spatial SVD splitting layer: layer2.1.conv1 using rank: 64\n",
      "2022-02-03 21:33:44,925 - Dataloader - INFO - Dataset consists of 1000 images in 1000 classes\n",
      "2022-02-03 21:33:44,927 - Eval - INFO - Evaluating nn.Module for 1 iterations with batch_size 32\n"
     ]
    },
    {
     "name": "stderr",
     "output_type": "stream",
     "text": [
      "100% (1 of 1) |##########################| Elapsed Time: 0:00:00 Time:  0:00:00\n"
     ]
    },
    {
     "name": "stdout",
     "output_type": "stream",
     "text": [
      "2022-02-03 21:33:45,392 - Eval - INFO - Avg accuracy Top 1: 78.125000 Avg accuracy Top 5: 90.625000 on validation Dataset\n",
      "2022-02-03 21:33:45,395 - CompRatioSelect - INFO - Layer layer2.1.conv1, comp_ratio 0.333333 ==> eval_score=78.125000\n",
      "2022-02-03 21:33:45,396 - CompRatioSelect - INFO - Analyzing compression ratio: 0.6666666666666666666666666666 =====================>\n",
      "2022-02-03 21:33:45,415 - Svd - INFO - Spatial SVD splitting layer: layer2.1.conv1 using rank: 127\n",
      "2022-02-03 21:33:46,240 - Dataloader - INFO - Dataset consists of 1000 images in 1000 classes\n",
      "2022-02-03 21:33:46,242 - Eval - INFO - Evaluating nn.Module for 1 iterations with batch_size 32\n"
     ]
    },
    {
     "name": "stderr",
     "output_type": "stream",
     "text": [
      "100% (1 of 1) |##########################| Elapsed Time: 0:00:00 Time:  0:00:00\n"
     ]
    },
    {
     "name": "stdout",
     "output_type": "stream",
     "text": [
      "2022-02-03 21:33:46,708 - Eval - INFO - Avg accuracy Top 1: 84.375000 Avg accuracy Top 5: 93.750000 on validation Dataset\n",
      "2022-02-03 21:33:46,711 - CompRatioSelect - INFO - Layer layer2.1.conv1, comp_ratio 0.666667 ==> eval_score=84.375000\n",
      "2022-02-03 21:33:46,712 - CompRatioSelect - INFO - Analyzing compression ratio: 0.3333333333333333333333333333 =====================>\n",
      "2022-02-03 21:33:46,729 - Svd - INFO - Spatial SVD splitting layer: layer2.1.conv2 using rank: 64\n",
      "2022-02-03 21:33:47,614 - Dataloader - INFO - Dataset consists of 1000 images in 1000 classes\n",
      "2022-02-03 21:33:47,616 - Eval - INFO - Evaluating nn.Module for 1 iterations with batch_size 32\n"
     ]
    },
    {
     "name": "stderr",
     "output_type": "stream",
     "text": [
      "100% (1 of 1) |##########################| Elapsed Time: 0:00:00 Time:  0:00:00\n"
     ]
    },
    {
     "name": "stdout",
     "output_type": "stream",
     "text": [
      "2022-02-03 21:33:48,103 - Eval - INFO - Avg accuracy Top 1: 81.250000 Avg accuracy Top 5: 90.625000 on validation Dataset\n",
      "2022-02-03 21:33:48,106 - CompRatioSelect - INFO - Layer layer2.1.conv2, comp_ratio 0.333333 ==> eval_score=81.250000\n",
      "2022-02-03 21:33:48,108 - CompRatioSelect - INFO - Analyzing compression ratio: 0.6666666666666666666666666666 =====================>\n",
      "2022-02-03 21:33:48,126 - Svd - INFO - Spatial SVD splitting layer: layer2.1.conv2 using rank: 127\n",
      "2022-02-03 21:33:49,138 - Dataloader - INFO - Dataset consists of 1000 images in 1000 classes\n",
      "2022-02-03 21:33:49,140 - Eval - INFO - Evaluating nn.Module for 1 iterations with batch_size 32\n"
     ]
    },
    {
     "name": "stderr",
     "output_type": "stream",
     "text": [
      "100% (1 of 1) |##########################| Elapsed Time: 0:00:00 Time:  0:00:00\n"
     ]
    },
    {
     "name": "stdout",
     "output_type": "stream",
     "text": [
      "2022-02-03 21:33:49,616 - Eval - INFO - Avg accuracy Top 1: 81.250000 Avg accuracy Top 5: 93.750000 on validation Dataset\n",
      "2022-02-03 21:33:49,619 - CompRatioSelect - INFO - Layer layer2.1.conv2, comp_ratio 0.666667 ==> eval_score=81.250000\n",
      "2022-02-03 21:33:49,620 - CompRatioSelect - INFO - Analyzing compression ratio: 0.3333333333333333333333333333 =====================>\n",
      "2022-02-03 21:33:49,637 - Svd - INFO - Spatial SVD splitting layer: layer3.0.conv1 using rank: 64\n",
      "2022-02-03 21:33:50,536 - Dataloader - INFO - Dataset consists of 1000 images in 1000 classes\n",
      "2022-02-03 21:33:50,538 - Eval - INFO - Evaluating nn.Module for 1 iterations with batch_size 32\n"
     ]
    },
    {
     "name": "stderr",
     "output_type": "stream",
     "text": [
      "100% (1 of 1) |##########################| Elapsed Time: 0:00:00 Time:  0:00:00\n"
     ]
    },
    {
     "name": "stdout",
     "output_type": "stream",
     "text": [
      "2022-02-03 21:33:50,994 - Eval - INFO - Avg accuracy Top 1: 68.750000 Avg accuracy Top 5: 87.500000 on validation Dataset\n",
      "2022-02-03 21:33:50,997 - CompRatioSelect - INFO - Layer layer3.0.conv1, comp_ratio 0.333333 ==> eval_score=68.750000\n",
      "2022-02-03 21:33:50,998 - CompRatioSelect - INFO - Analyzing compression ratio: 0.6666666666666666666666666666 =====================>\n",
      "2022-02-03 21:33:51,015 - Svd - INFO - Spatial SVD splitting layer: layer3.0.conv1 using rank: 128\n",
      "2022-02-03 21:33:51,917 - Dataloader - INFO - Dataset consists of 1000 images in 1000 classes\n",
      "2022-02-03 21:33:51,919 - Eval - INFO - Evaluating nn.Module for 1 iterations with batch_size 32\n"
     ]
    },
    {
     "name": "stderr",
     "output_type": "stream",
     "text": [
      "100% (1 of 1) |##########################| Elapsed Time: 0:00:00 Time:  0:00:00\n"
     ]
    },
    {
     "name": "stdout",
     "output_type": "stream",
     "text": [
      "2022-02-03 21:33:52,389 - Eval - INFO - Avg accuracy Top 1: 84.375000 Avg accuracy Top 5: 96.875000 on validation Dataset\n",
      "2022-02-03 21:33:52,391 - CompRatioSelect - INFO - Layer layer3.0.conv1, comp_ratio 0.666667 ==> eval_score=84.375000\n",
      "2022-02-03 21:33:52,392 - CompRatioSelect - INFO - Analyzing compression ratio: 0.3333333333333333333333333333 =====================>\n",
      "2022-02-03 21:33:52,406 - Svd - INFO - Spatial SVD splitting layer: layer3.0.conv2 using rank: 128\n",
      "2022-02-03 21:33:53,467 - Dataloader - INFO - Dataset consists of 1000 images in 1000 classes\n",
      "2022-02-03 21:33:53,468 - Eval - INFO - Evaluating nn.Module for 1 iterations with batch_size 32\n"
     ]
    },
    {
     "name": "stderr",
     "output_type": "stream",
     "text": [
      "100% (1 of 1) |##########################| Elapsed Time: 0:00:00 Time:  0:00:00\n"
     ]
    },
    {
     "name": "stdout",
     "output_type": "stream",
     "text": [
      "2022-02-03 21:33:53,937 - Eval - INFO - Avg accuracy Top 1: 78.125000 Avg accuracy Top 5: 90.625000 on validation Dataset\n",
      "2022-02-03 21:33:53,940 - CompRatioSelect - INFO - Layer layer3.0.conv2, comp_ratio 0.333333 ==> eval_score=78.125000\n",
      "2022-02-03 21:33:53,941 - CompRatioSelect - INFO - Analyzing compression ratio: 0.6666666666666666666666666666 =====================>\n",
      "2022-02-03 21:33:53,959 - Svd - INFO - Spatial SVD splitting layer: layer3.0.conv2 using rank: 255\n",
      "2022-02-03 21:33:55,091 - Dataloader - INFO - Dataset consists of 1000 images in 1000 classes\n",
      "2022-02-03 21:33:55,093 - Eval - INFO - Evaluating nn.Module for 1 iterations with batch_size 32\n"
     ]
    },
    {
     "name": "stderr",
     "output_type": "stream",
     "text": [
      "100% (1 of 1) |##########################| Elapsed Time: 0:00:00 Time:  0:00:00\n"
     ]
    },
    {
     "name": "stdout",
     "output_type": "stream",
     "text": [
      "2022-02-03 21:33:55,557 - Eval - INFO - Avg accuracy Top 1: 81.250000 Avg accuracy Top 5: 93.750000 on validation Dataset\n",
      "2022-02-03 21:33:55,559 - CompRatioSelect - INFO - Layer layer3.0.conv2, comp_ratio 0.666667 ==> eval_score=81.250000\n",
      "2022-02-03 21:33:55,560 - CompRatioSelect - INFO - Analyzing compression ratio: 0.3333333333333333333333333333 =====================>\n",
      "2022-02-03 21:33:55,574 - Svd - INFO - Spatial SVD splitting layer: layer3.0.downsample.0 using rank: 21\n",
      "2022-02-03 21:33:56,366 - Dataloader - INFO - Dataset consists of 1000 images in 1000 classes\n",
      "2022-02-03 21:33:56,368 - Eval - INFO - Evaluating nn.Module for 1 iterations with batch_size 32\n"
     ]
    },
    {
     "name": "stderr",
     "output_type": "stream",
     "text": [
      "100% (1 of 1) |##########################| Elapsed Time: 0:00:00 Time:  0:00:00\n"
     ]
    },
    {
     "name": "stdout",
     "output_type": "stream",
     "text": [
      "2022-02-03 21:33:56,833 - Eval - INFO - Avg accuracy Top 1: 84.375000 Avg accuracy Top 5: 93.750000 on validation Dataset\n",
      "2022-02-03 21:33:56,835 - CompRatioSelect - INFO - Layer layer3.0.downsample.0, comp_ratio 0.333333 ==> eval_score=84.375000\n",
      "2022-02-03 21:33:56,835 - CompRatioSelect - INFO - Analyzing compression ratio: 0.6666666666666666666666666666 =====================>\n",
      "2022-02-03 21:33:56,849 - Svd - INFO - Spatial SVD splitting layer: layer3.0.downsample.0 using rank: 42\n",
      "2022-02-03 21:33:57,682 - Dataloader - INFO - Dataset consists of 1000 images in 1000 classes\n",
      "2022-02-03 21:33:57,684 - Eval - INFO - Evaluating nn.Module for 1 iterations with batch_size 32\n"
     ]
    },
    {
     "name": "stderr",
     "output_type": "stream",
     "text": [
      "100% (1 of 1) |##########################| Elapsed Time: 0:00:00 Time:  0:00:00\n"
     ]
    },
    {
     "name": "stdout",
     "output_type": "stream",
     "text": [
      "2022-02-03 21:33:58,150 - Eval - INFO - Avg accuracy Top 1: 84.375000 Avg accuracy Top 5: 96.875000 on validation Dataset\n",
      "2022-02-03 21:33:58,153 - CompRatioSelect - INFO - Layer layer3.0.downsample.0, comp_ratio 0.666667 ==> eval_score=84.375000\n",
      "2022-02-03 21:33:58,153 - CompRatioSelect - INFO - Analyzing compression ratio: 0.3333333333333333333333333333 =====================>\n",
      "2022-02-03 21:33:58,172 - Svd - INFO - Spatial SVD splitting layer: layer3.1.conv1 using rank: 128\n",
      "2022-02-03 21:33:59,411 - Dataloader - INFO - Dataset consists of 1000 images in 1000 classes\n",
      "2022-02-03 21:33:59,413 - Eval - INFO - Evaluating nn.Module for 1 iterations with batch_size 32\n"
     ]
    },
    {
     "name": "stderr",
     "output_type": "stream",
     "text": [
      "100% (1 of 1) |##########################| Elapsed Time: 0:00:00 Time:  0:00:00\n"
     ]
    },
    {
     "name": "stdout",
     "output_type": "stream",
     "text": [
      "2022-02-03 21:33:59,889 - Eval - INFO - Avg accuracy Top 1: 84.375000 Avg accuracy Top 5: 93.750000 on validation Dataset\n",
      "2022-02-03 21:33:59,892 - CompRatioSelect - INFO - Layer layer3.1.conv1, comp_ratio 0.333333 ==> eval_score=84.375000\n",
      "2022-02-03 21:33:59,893 - CompRatioSelect - INFO - Analyzing compression ratio: 0.6666666666666666666666666666 =====================>\n",
      "2022-02-03 21:33:59,907 - Svd - INFO - Spatial SVD splitting layer: layer3.1.conv1 using rank: 255\n",
      "2022-02-03 21:34:01,007 - Dataloader - INFO - Dataset consists of 1000 images in 1000 classes\n",
      "2022-02-03 21:34:01,009 - Eval - INFO - Evaluating nn.Module for 1 iterations with batch_size 32\n"
     ]
    },
    {
     "name": "stderr",
     "output_type": "stream",
     "text": [
      "100% (1 of 1) |##########################| Elapsed Time: 0:00:00 Time:  0:00:00\n"
     ]
    },
    {
     "name": "stdout",
     "output_type": "stream",
     "text": [
      "2022-02-03 21:34:01,465 - Eval - INFO - Avg accuracy Top 1: 84.375000 Avg accuracy Top 5: 93.750000 on validation Dataset\n",
      "2022-02-03 21:34:01,468 - CompRatioSelect - INFO - Layer layer3.1.conv1, comp_ratio 0.666667 ==> eval_score=84.375000\n",
      "2022-02-03 21:34:01,469 - CompRatioSelect - INFO - Analyzing compression ratio: 0.3333333333333333333333333333 =====================>\n",
      "2022-02-03 21:34:01,488 - Svd - INFO - Spatial SVD splitting layer: layer3.1.conv2 using rank: 128\n",
      "2022-02-03 21:34:02,500 - Dataloader - INFO - Dataset consists of 1000 images in 1000 classes\n",
      "2022-02-03 21:34:02,502 - Eval - INFO - Evaluating nn.Module for 1 iterations with batch_size 32\n"
     ]
    },
    {
     "name": "stderr",
     "output_type": "stream",
     "text": [
      "100% (1 of 1) |##########################| Elapsed Time: 0:00:00 Time:  0:00:00\n"
     ]
    },
    {
     "name": "stdout",
     "output_type": "stream",
     "text": [
      "2022-02-03 21:34:02,967 - Eval - INFO - Avg accuracy Top 1: 81.250000 Avg accuracy Top 5: 93.750000 on validation Dataset\n",
      "2022-02-03 21:34:02,970 - CompRatioSelect - INFO - Layer layer3.1.conv2, comp_ratio 0.333333 ==> eval_score=81.250000\n",
      "2022-02-03 21:34:02,971 - CompRatioSelect - INFO - Analyzing compression ratio: 0.6666666666666666666666666666 =====================>\n",
      "2022-02-03 21:34:02,988 - Svd - INFO - Spatial SVD splitting layer: layer3.1.conv2 using rank: 255\n",
      "2022-02-03 21:34:04,077 - Dataloader - INFO - Dataset consists of 1000 images in 1000 classes\n",
      "2022-02-03 21:34:04,079 - Eval - INFO - Evaluating nn.Module for 1 iterations with batch_size 32\n"
     ]
    },
    {
     "name": "stderr",
     "output_type": "stream",
     "text": [
      "100% (1 of 1) |##########################| Elapsed Time: 0:00:00 Time:  0:00:00\n"
     ]
    },
    {
     "name": "stdout",
     "output_type": "stream",
     "text": [
      "2022-02-03 21:34:04,529 - Eval - INFO - Avg accuracy Top 1: 84.375000 Avg accuracy Top 5: 93.750000 on validation Dataset\n",
      "2022-02-03 21:34:04,532 - CompRatioSelect - INFO - Layer layer3.1.conv2, comp_ratio 0.666667 ==> eval_score=84.375000\n",
      "2022-02-03 21:34:04,533 - CompRatioSelect - INFO - Analyzing compression ratio: 0.3333333333333333333333333333 =====================>\n",
      "2022-02-03 21:34:04,549 - Svd - INFO - Spatial SVD splitting layer: layer4.0.conv1 using rank: 128\n",
      "2022-02-03 21:34:05,852 - Dataloader - INFO - Dataset consists of 1000 images in 1000 classes\n",
      "2022-02-03 21:34:05,854 - Eval - INFO - Evaluating nn.Module for 1 iterations with batch_size 32\n"
     ]
    },
    {
     "name": "stderr",
     "output_type": "stream",
     "text": [
      "100% (1 of 1) |##########################| Elapsed Time: 0:00:00 Time:  0:00:00\n"
     ]
    },
    {
     "name": "stdout",
     "output_type": "stream",
     "text": [
      "2022-02-03 21:34:06,303 - Eval - INFO - Avg accuracy Top 1: 75.000000 Avg accuracy Top 5: 90.625000 on validation Dataset\n",
      "2022-02-03 21:34:06,306 - CompRatioSelect - INFO - Layer layer4.0.conv1, comp_ratio 0.333333 ==> eval_score=75.000000\n",
      "2022-02-03 21:34:06,307 - CompRatioSelect - INFO - Analyzing compression ratio: 0.6666666666666666666666666666 =====================>\n",
      "2022-02-03 21:34:06,323 - Svd - INFO - Spatial SVD splitting layer: layer4.0.conv1 using rank: 256\n",
      "2022-02-03 21:34:07,640 - Dataloader - INFO - Dataset consists of 1000 images in 1000 classes\n",
      "2022-02-03 21:34:07,642 - Eval - INFO - Evaluating nn.Module for 1 iterations with batch_size 32\n"
     ]
    },
    {
     "name": "stderr",
     "output_type": "stream",
     "text": [
      "100% (1 of 1) |##########################| Elapsed Time: 0:00:00 Time:  0:00:00\n"
     ]
    },
    {
     "name": "stdout",
     "output_type": "stream",
     "text": [
      "2022-02-03 21:34:08,104 - Eval - INFO - Avg accuracy Top 1: 78.125000 Avg accuracy Top 5: 93.750000 on validation Dataset\n",
      "2022-02-03 21:34:08,107 - CompRatioSelect - INFO - Layer layer4.0.conv1, comp_ratio 0.666667 ==> eval_score=78.125000\n",
      "2022-02-03 21:34:08,108 - CompRatioSelect - INFO - Analyzing compression ratio: 0.3333333333333333333333333333 =====================>\n",
      "2022-02-03 21:34:08,126 - Svd - INFO - Spatial SVD splitting layer: layer4.0.conv2 using rank: 256\n",
      "2022-02-03 21:34:10,358 - Dataloader - INFO - Dataset consists of 1000 images in 1000 classes\n",
      "2022-02-03 21:34:10,360 - Eval - INFO - Evaluating nn.Module for 1 iterations with batch_size 32\n"
     ]
    },
    {
     "name": "stderr",
     "output_type": "stream",
     "text": [
      "100% (1 of 1) |##########################| Elapsed Time: 0:00:00 Time:  0:00:00\n"
     ]
    },
    {
     "name": "stdout",
     "output_type": "stream",
     "text": [
      "2022-02-03 21:34:10,814 - Eval - INFO - Avg accuracy Top 1: 78.125000 Avg accuracy Top 5: 87.500000 on validation Dataset\n",
      "2022-02-03 21:34:10,817 - CompRatioSelect - INFO - Layer layer4.0.conv2, comp_ratio 0.333333 ==> eval_score=78.125000\n",
      "2022-02-03 21:34:10,818 - CompRatioSelect - INFO - Analyzing compression ratio: 0.6666666666666666666666666666 =====================>\n",
      "2022-02-03 21:34:10,838 - Svd - INFO - Spatial SVD splitting layer: layer4.0.conv2 using rank: 511\n",
      "2022-02-03 21:34:13,166 - Dataloader - INFO - Dataset consists of 1000 images in 1000 classes\n",
      "2022-02-03 21:34:13,168 - Eval - INFO - Evaluating nn.Module for 1 iterations with batch_size 32\n"
     ]
    },
    {
     "name": "stderr",
     "output_type": "stream",
     "text": [
      "100% (1 of 1) |##########################| Elapsed Time: 0:00:00 Time:  0:00:00\n"
     ]
    },
    {
     "name": "stdout",
     "output_type": "stream",
     "text": [
      "2022-02-03 21:34:13,614 - Eval - INFO - Avg accuracy Top 1: 84.375000 Avg accuracy Top 5: 93.750000 on validation Dataset\n",
      "2022-02-03 21:34:13,617 - CompRatioSelect - INFO - Layer layer4.0.conv2, comp_ratio 0.666667 ==> eval_score=84.375000\n",
      "2022-02-03 21:34:13,618 - CompRatioSelect - INFO - Analyzing compression ratio: 0.3333333333333333333333333333 =====================>\n",
      "2022-02-03 21:34:13,636 - Svd - INFO - Spatial SVD splitting layer: layer4.0.downsample.0 using rank: 42\n",
      "2022-02-03 21:34:14,496 - Dataloader - INFO - Dataset consists of 1000 images in 1000 classes\n",
      "2022-02-03 21:34:14,499 - Eval - INFO - Evaluating nn.Module for 1 iterations with batch_size 32\n"
     ]
    },
    {
     "name": "stderr",
     "output_type": "stream",
     "text": [
      "100% (1 of 1) |##########################| Elapsed Time: 0:00:00 Time:  0:00:00\n"
     ]
    },
    {
     "name": "stdout",
     "output_type": "stream",
     "text": [
      "2022-02-03 21:34:14,964 - Eval - INFO - Avg accuracy Top 1: 75.000000 Avg accuracy Top 5: 90.625000 on validation Dataset\n",
      "2022-02-03 21:34:14,967 - CompRatioSelect - INFO - Layer layer4.0.downsample.0, comp_ratio 0.333333 ==> eval_score=75.000000\n",
      "2022-02-03 21:34:14,968 - CompRatioSelect - INFO - Analyzing compression ratio: 0.6666666666666666666666666666 =====================>\n",
      "2022-02-03 21:34:14,985 - Svd - INFO - Spatial SVD splitting layer: layer4.0.downsample.0 using rank: 85\n",
      "2022-02-03 21:34:15,822 - Dataloader - INFO - Dataset consists of 1000 images in 1000 classes\n",
      "2022-02-03 21:34:15,824 - Eval - INFO - Evaluating nn.Module for 1 iterations with batch_size 32\n"
     ]
    },
    {
     "name": "stderr",
     "output_type": "stream",
     "text": [
      "100% (1 of 1) |##########################| Elapsed Time: 0:00:00 Time:  0:00:00\n"
     ]
    },
    {
     "name": "stdout",
     "output_type": "stream",
     "text": [
      "2022-02-03 21:34:16,291 - Eval - INFO - Avg accuracy Top 1: 81.250000 Avg accuracy Top 5: 96.875000 on validation Dataset\n",
      "2022-02-03 21:34:16,294 - CompRatioSelect - INFO - Layer layer4.0.downsample.0, comp_ratio 0.666667 ==> eval_score=81.250000\n",
      "2022-02-03 21:34:16,295 - CompRatioSelect - INFO - Analyzing compression ratio: 0.3333333333333333333333333333 =====================>\n",
      "2022-02-03 21:34:16,313 - Svd - INFO - Spatial SVD splitting layer: layer4.1.conv1 using rank: 256\n",
      "2022-02-03 21:34:18,742 - Dataloader - INFO - Dataset consists of 1000 images in 1000 classes\n",
      "2022-02-03 21:34:18,744 - Eval - INFO - Evaluating nn.Module for 1 iterations with batch_size 32\n"
     ]
    },
    {
     "name": "stderr",
     "output_type": "stream",
     "text": [
      "100% (1 of 1) |##########################| Elapsed Time: 0:00:00 Time:  0:00:00\n"
     ]
    },
    {
     "name": "stdout",
     "output_type": "stream",
     "text": [
      "2022-02-03 21:34:19,189 - Eval - INFO - Avg accuracy Top 1: 78.125000 Avg accuracy Top 5: 96.875000 on validation Dataset\n",
      "2022-02-03 21:34:19,192 - CompRatioSelect - INFO - Layer layer4.1.conv1, comp_ratio 0.333333 ==> eval_score=78.125000\n",
      "2022-02-03 21:34:19,194 - CompRatioSelect - INFO - Analyzing compression ratio: 0.6666666666666666666666666666 =====================>\n",
      "2022-02-03 21:34:19,209 - Svd - INFO - Spatial SVD splitting layer: layer4.1.conv1 using rank: 511\n",
      "2022-02-03 21:34:21,529 - Dataloader - INFO - Dataset consists of 1000 images in 1000 classes\n",
      "2022-02-03 21:34:21,531 - Eval - INFO - Evaluating nn.Module for 1 iterations with batch_size 32\n"
     ]
    },
    {
     "name": "stderr",
     "output_type": "stream",
     "text": [
      "100% (1 of 1) |##########################| Elapsed Time: 0:00:00 Time:  0:00:00\n"
     ]
    },
    {
     "name": "stdout",
     "output_type": "stream",
     "text": [
      "2022-02-03 21:34:21,991 - Eval - INFO - Avg accuracy Top 1: 81.250000 Avg accuracy Top 5: 96.875000 on validation Dataset\n",
      "2022-02-03 21:34:21,993 - CompRatioSelect - INFO - Layer layer4.1.conv1, comp_ratio 0.666667 ==> eval_score=81.250000\n",
      "2022-02-03 21:34:21,994 - CompRatioSelect - INFO - Analyzing compression ratio: 0.3333333333333333333333333333 =====================>\n",
      "2022-02-03 21:34:22,010 - Svd - INFO - Spatial SVD splitting layer: layer4.1.conv2 using rank: 256\n",
      "2022-02-03 21:34:24,402 - Dataloader - INFO - Dataset consists of 1000 images in 1000 classes\n",
      "2022-02-03 21:34:24,404 - Eval - INFO - Evaluating nn.Module for 1 iterations with batch_size 32\n"
     ]
    },
    {
     "name": "stderr",
     "output_type": "stream",
     "text": [
      "100% (1 of 1) |##########################| Elapsed Time: 0:00:00 Time:  0:00:00\n"
     ]
    },
    {
     "name": "stdout",
     "output_type": "stream",
     "text": [
      "2022-02-03 21:34:24,848 - Eval - INFO - Avg accuracy Top 1: 84.375000 Avg accuracy Top 5: 93.750000 on validation Dataset\n",
      "2022-02-03 21:34:24,851 - CompRatioSelect - INFO - Layer layer4.1.conv2, comp_ratio 0.333333 ==> eval_score=84.375000\n",
      "2022-02-03 21:34:24,852 - CompRatioSelect - INFO - Analyzing compression ratio: 0.6666666666666666666666666666 =====================>\n",
      "2022-02-03 21:34:24,869 - Svd - INFO - Spatial SVD splitting layer: layer4.1.conv2 using rank: 511\n",
      "2022-02-03 21:34:27,342 - Dataloader - INFO - Dataset consists of 1000 images in 1000 classes\n",
      "2022-02-03 21:34:27,344 - Eval - INFO - Evaluating nn.Module for 1 iterations with batch_size 32\n"
     ]
    },
    {
     "name": "stderr",
     "output_type": "stream",
     "text": [
      "100% (1 of 1) |##########################| Elapsed Time: 0:00:00 Time:  0:00:00\n"
     ]
    },
    {
     "name": "stdout",
     "output_type": "stream",
     "text": [
      "2022-02-03 21:34:27,823 - Eval - INFO - Avg accuracy Top 1: 84.375000 Avg accuracy Top 5: 93.750000 on validation Dataset\n",
      "2022-02-03 21:34:27,826 - CompRatioSelect - INFO - Layer layer4.1.conv2, comp_ratio 0.666667 ==> eval_score=84.375000\n",
      "2022-02-03 21:34:27,830 - CompRatioSelect - INFO - Greedy selection: Saved eval dict to ./data/greedy_selection_eval_scores_dict.pkl\n",
      "2022-02-03 21:34:27,833 - CompRatioSelect - INFO - Greedy selection: overall_min_score=53.125000, overall_max_score=84.375000\n",
      "2022-02-03 21:34:27,833 - CompRatioSelect - INFO - Greedy selection: Original model cost=(Cost: memory=11678912, mac=1814073344)\n",
      "2022-02-03 21:34:27,941 - CompRatioSelect - INFO - Greedy selection: final choice - comp_ratio=0.794242, score=84.373093\n",
      "2022-02-03 21:34:27,955 - Svd - INFO - Spatial SVD splitting layer: layer1.1.conv1 using rank: 63\n",
      "2022-02-03 21:34:27,984 - Svd - INFO - Spatial SVD splitting layer: layer2.0.conv2 using rank: 127\n",
      "2022-02-03 21:34:28,049 - Svd - INFO - Spatial SVD splitting layer: layer2.1.conv1 using rank: 127\n",
      "2022-02-03 21:34:28,112 - Svd - INFO - Spatial SVD splitting layer: layer3.0.conv1 using rank: 128\n",
      "2022-02-03 21:34:28,231 - Svd - INFO - Spatial SVD splitting layer: layer3.0.downsample.0 using rank: 21\n",
      "2022-02-03 21:34:28,249 - Svd - INFO - Spatial SVD splitting layer: layer3.1.conv1 using rank: 128\n",
      "2022-02-03 21:34:28,544 - Svd - INFO - Spatial SVD splitting layer: layer3.1.conv2 using rank: 255\n",
      "2022-02-03 21:34:28,813 - Svd - INFO - Spatial SVD splitting layer: layer4.0.conv2 using rank: 511\n",
      "2022-02-03 21:34:30,363 - Svd - INFO - Spatial SVD splitting layer: layer4.1.conv2 using rank: 256\n",
      "2022-02-03 21:34:32,625 - Dataloader - INFO - Dataset consists of 1000 images in 1000 classes\n",
      "2022-02-03 21:34:32,627 - Eval - INFO - No value of iteration is provided, running evaluation on complete dataset.\n",
      "2022-02-03 21:34:32,628 - Eval - INFO - Evaluating nn.Module for 32 iterations with batch_size 32\n"
     ]
    },
    {
     "name": "stderr",
     "output_type": "stream",
     "text": [
      "100% (32 of 32) |########################| Elapsed Time: 0:00:04 Time:  0:00:04\n"
     ]
    },
    {
     "name": "stdout",
     "output_type": "stream",
     "text": [
      "2022-02-03 21:34:37,606 - Eval - INFO - Avg accuracy Top 1: 69.238281 Avg accuracy Top 5: 88.671875 on validation Dataset\n",
      "2022-02-03 21:34:38,402 - Dataloader - INFO - Dataset consists of 1000 images in 1000 classes\n",
      "2022-02-03 21:34:38,404 - Eval - INFO - No value of iteration is provided, running evaluation on complete dataset.\n",
      "2022-02-03 21:34:38,405 - Eval - INFO - Evaluating nn.Module for 32 iterations with batch_size 32\n"
     ]
    },
    {
     "name": "stderr",
     "output_type": "stream",
     "text": [
      "100% (32 of 32) |########################| Elapsed Time: 0:00:04 Time:  0:00:04\n"
     ]
    },
    {
     "name": "stdout",
     "output_type": "stream",
     "text": [
      "2022-02-03 21:34:43,335 - Eval - INFO - Avg accuracy Top 1: 66.015625 Avg accuracy Top 5: 85.644531 on validation Dataset\n",
      "**********************************************************************************************\n",
      "Compressed Model Statistics\n",
      "Baseline model accuracy: 69.238281, Compressed model accuracy: 66.015625\n",
      "Compression ratio for memory=0.722714, mac=0.794242\n",
      "\n",
      "**********************************************************************************************\n",
      "\n",
      "Per-layer Stats\n",
      "    Name:layer1.0.conv1, compression-ratio: None\n",
      "    Name:layer1.0.conv2, compression-ratio: None\n",
      "    Name:layer1.1.conv1, compression-ratio: 0.6666666666666666666666666666\n",
      "    Name:layer1.1.conv2, compression-ratio: None\n",
      "    Name:layer2.0.conv1, compression-ratio: None\n",
      "    Name:layer2.0.conv2, compression-ratio: 0.6666666666666666666666666666\n",
      "    Name:layer2.0.downsample.0, compression-ratio: None\n",
      "    Name:layer2.1.conv1, compression-ratio: 0.6666666666666666666666666666\n",
      "    Name:layer2.1.conv2, compression-ratio: None\n",
      "    Name:layer3.0.conv1, compression-ratio: 0.6666666666666666666666666666\n",
      "    Name:layer3.0.conv2, compression-ratio: None\n",
      "    Name:layer3.0.downsample.0, compression-ratio: 0.3333333333333333333333333333\n",
      "    Name:layer3.1.conv1, compression-ratio: 0.3333333333333333333333333333\n",
      "    Name:layer3.1.conv2, compression-ratio: 0.6666666666666666666666666666\n",
      "    Name:layer4.0.conv1, compression-ratio: None\n",
      "    Name:layer4.0.conv2, compression-ratio: 0.6666666666666666666666666666\n",
      "    Name:layer4.0.downsample.0, compression-ratio: None\n",
      "    Name:layer4.1.conv1, compression-ratio: None\n",
      "    Name:layer4.1.conv2, compression-ratio: 0.3333333333333333333333333333\n",
      "\n",
      "**********************************************************************************************\n",
      "\n",
      "Greedy Eval Dict\n",
      "    Layer: layer1.0.conv1\n",
      "        Ratio=0.3333333333333333333333333333, Eval score=81.25\n",
      "        Ratio=0.6666666666666666666666666666, Eval score=81.25\n",
      "    Layer: layer1.0.conv2\n",
      "        Ratio=0.3333333333333333333333333333, Eval score=81.25\n",
      "        Ratio=0.6666666666666666666666666666, Eval score=81.25\n",
      "    Layer: layer1.1.conv1\n",
      "        Ratio=0.3333333333333333333333333333, Eval score=75.0\n",
      "        Ratio=0.6666666666666666666666666666, Eval score=84.375\n",
      "    Layer: layer1.1.conv2\n",
      "        Ratio=0.3333333333333333333333333333, Eval score=71.875\n",
      "        Ratio=0.6666666666666666666666666666, Eval score=81.25\n",
      "    Layer: layer2.0.conv1\n",
      "        Ratio=0.3333333333333333333333333333, Eval score=56.25\n",
      "        Ratio=0.6666666666666666666666666666, Eval score=71.875\n",
      "    Layer: layer2.0.conv2\n",
      "        Ratio=0.3333333333333333333333333333, Eval score=81.25\n",
      "        Ratio=0.6666666666666666666666666666, Eval score=84.375\n",
      "    Layer: layer2.0.downsample.0\n",
      "        Ratio=0.3333333333333333333333333333, Eval score=53.125\n",
      "        Ratio=0.6666666666666666666666666666, Eval score=75.0\n",
      "    Layer: layer2.1.conv1\n",
      "        Ratio=0.3333333333333333333333333333, Eval score=78.125\n",
      "        Ratio=0.6666666666666666666666666666, Eval score=84.375\n",
      "    Layer: layer2.1.conv2\n",
      "        Ratio=0.3333333333333333333333333333, Eval score=81.25\n",
      "        Ratio=0.6666666666666666666666666666, Eval score=81.25\n",
      "    Layer: layer3.0.conv1\n",
      "        Ratio=0.3333333333333333333333333333, Eval score=68.75\n",
      "        Ratio=0.6666666666666666666666666666, Eval score=84.375\n",
      "    Layer: layer3.0.conv2\n",
      "        Ratio=0.3333333333333333333333333333, Eval score=78.125\n",
      "        Ratio=0.6666666666666666666666666666, Eval score=81.25\n",
      "    Layer: layer3.0.downsample.0\n",
      "        Ratio=0.3333333333333333333333333333, Eval score=84.375\n",
      "        Ratio=0.6666666666666666666666666666, Eval score=84.375\n",
      "    Layer: layer3.1.conv1\n",
      "        Ratio=0.3333333333333333333333333333, Eval score=84.375\n",
      "        Ratio=0.6666666666666666666666666666, Eval score=84.375\n",
      "    Layer: layer3.1.conv2\n",
      "        Ratio=0.3333333333333333333333333333, Eval score=81.25\n",
      "        Ratio=0.6666666666666666666666666666, Eval score=84.375\n",
      "    Layer: layer4.0.conv1\n",
      "        Ratio=0.3333333333333333333333333333, Eval score=75.0\n",
      "        Ratio=0.6666666666666666666666666666, Eval score=78.125\n",
      "    Layer: layer4.0.conv2\n",
      "        Ratio=0.3333333333333333333333333333, Eval score=78.125\n",
      "        Ratio=0.6666666666666666666666666666, Eval score=84.375\n",
      "    Layer: layer4.0.downsample.0\n",
      "        Ratio=0.3333333333333333333333333333, Eval score=75.0\n",
      "        Ratio=0.6666666666666666666666666666, Eval score=81.25\n",
      "    Layer: layer4.1.conv1\n",
      "        Ratio=0.3333333333333333333333333333, Eval score=78.125\n",
      "        Ratio=0.6666666666666666666666666666, Eval score=81.25\n",
      "    Layer: layer4.1.conv2\n",
      "        Ratio=0.3333333333333333333333333333, Eval score=84.375\n",
      "        Ratio=0.6666666666666666666666666666, Eval score=84.375\n",
      "\n",
      "**********************************************************************************************\n",
      "\n"
     ]
    }
   ],
   "source": [
    "from aimet_torch.compress import ModelCompressor\n",
    "ssvd_compressed_model, ssvd_comp_stats = ModelCompressor.compress_model(model=model,\n",
    "                                                                        eval_callback=eval_callback,\n",
    "                                                                        eval_iterations=eval_iterations,\n",
    "                                                                        input_shape=(1, 3, 224, 224),\n",
    "                                                                        compress_scheme=compress_scheme,\n",
    "                                                                        cost_metric=cost_metric,\n",
    "                                                                        parameters=params)\n",
    "\n",
    "print(ssvd_comp_stats)"
   ]
  },
  {
   "cell_type": "markdown",
   "metadata": {},
   "source": [
    "---\n",
    "Now the compressed model is ready to be used for inference or training. First we can pass this model to the same evaluation routine we used before to calculated compressed model accuracy."
   ]
  },
  {
   "cell_type": "code",
   "execution_count": 8,
   "metadata": {},
   "outputs": [
    {
     "name": "stdout",
     "output_type": "stream",
     "text": [
      "2022-02-03 21:34:44,321 - Dataloader - INFO - Dataset consists of 1000 images in 1000 classes\n",
      "2022-02-03 21:34:44,323 - Eval - INFO - No value of iteration is provided, running evaluation on complete dataset.\n",
      "2022-02-03 21:34:44,325 - Eval - INFO - Evaluating nn.Module for 32 iterations with batch_size 32\n"
     ]
    },
    {
     "name": "stderr",
     "output_type": "stream",
     "text": [
      "100% (32 of 32) |########################| Elapsed Time: 0:00:05 Time:  0:00:05\n"
     ]
    },
    {
     "name": "stdout",
     "output_type": "stream",
     "text": [
      "2022-02-03 21:34:49,655 - Eval - INFO - Avg accuracy Top 1: 66.015625 Avg accuracy Top 5: 85.644531 on validation Dataset\n",
      "66.015625\n"
     ]
    }
   ],
   "source": [
    "accuracy = ImageNetDataPipeline.evaluate(ssvd_compressed_model, iterations=None, use_cuda=use_cuda)\n",
    "print(accuracy)"
   ]
  },
  {
   "cell_type": "markdown",
   "metadata": {},
   "source": [
    "---\n",
    "As you can see the model accuracy fell sharply after compression. This is expected. We will use model fine-tuning to recover this accuracy back."
   ]
  },
  {
   "cell_type": "markdown",
   "metadata": {},
   "source": [
    "### 3.2. Fine-tune the model after Spatial SVD\n",
    "\n",
    "After the model is compressed using Spatial SVD, we can simply train the model for a few more epochs (typically 15-20). As with any training job, hyper-parameters need to be searched for optimal results. Good starting points are to use a learning rate on the same order as the ending learning rate when training the original model, and to drop the learning rate by a factor of 10 every 5 epochs or so.\n",
    "\n",
    "For the purpose of this example notebook, we are going to train only for 1 epoch. But feel free to change these parameters as you see fit."
   ]
  },
  {
   "cell_type": "code",
   "execution_count": 9,
   "metadata": {},
   "outputs": [
    {
     "name": "stdout",
     "output_type": "stream",
     "text": [
      "2022-02-03 21:34:51,178 - Dataloader - INFO - Dataset consists of 1000 images in 1000 classes\n",
      "2022-02-03 21:34:51,983 - Dataloader - INFO - Dataset consists of 1000 images in 1000 classes\n"
     ]
    },
    {
     "name": "stderr",
     "output_type": "stream",
     "text": [
      "/usr/local/lib/python3.6/dist-packages/torch/utils/data/dataloader.py:481: UserWarning: This DataLoader will create 32 worker processes in total. Our suggested max number of worker in current system is 8, which is smaller than what this DataLoader is going to create. Please be aware that excessive worker creation might get DataLoader running slow or even freeze, lower the worker number to avoid potential slowness/freeze if necessary.\n",
      "  cpuset_checked))\n",
      "100% (63 of 63) |########################| Elapsed Time: 0:00:04 Time:  0:00:04\n"
     ]
    },
    {
     "name": "stdout",
     "output_type": "stream",
     "text": [
      "2022-02-03 21:34:56,855 - Eval - INFO - No value of iteration is provided, running evaluation on complete dataset.\n",
      "2022-02-03 21:34:56,856 - Eval - INFO - Evaluating nn.Module for 63 iterations with batch_size 16\n"
     ]
    },
    {
     "name": "stderr",
     "output_type": "stream",
     "text": [
      "100% (63 of 63) |########################| Elapsed Time: 0:00:01 Time:  0:00:01\n"
     ]
    },
    {
     "name": "stdout",
     "output_type": "stream",
     "text": [
      "2022-02-03 21:35:00,189 - Eval - INFO - Avg accuracy Top 1: 67.658730 Avg accuracy Top 5: 87.003968 on validation Dataset\n",
      "eval :  67.65873015873017\n",
      "2022-02-03 21:35:00,190 - Trainer - INFO - At the end of Epoch #1/1: Global Avg Loss=1.655334, Eval Accuracy=67.658730\n"
     ]
    }
   ],
   "source": [
    "ImageNetDataPipeline.finetune(ssvd_compressed_model, epochs=1, learning_rate=5e-7, learning_rate_schedule=[5, 10],\n",
    "                              use_cuda=use_cuda)"
   ]
  },
  {
   "cell_type": "markdown",
   "metadata": {},
   "source": [
    "---\n",
    "After we are done with finetuing the compressed model, we can check the floating point accuracy against the same validation dataset at the end to observe any improvements in accuracy."
   ]
  },
  {
   "cell_type": "code",
   "execution_count": 10,
   "metadata": {},
   "outputs": [
    {
     "name": "stdout",
     "output_type": "stream",
     "text": [
      "2022-02-03 21:35:01,010 - Dataloader - INFO - Dataset consists of 1000 images in 1000 classes\n",
      "2022-02-03 21:35:01,012 - Eval - INFO - No value of iteration is provided, running evaluation on complete dataset.\n",
      "2022-02-03 21:35:01,014 - Eval - INFO - Evaluating nn.Module for 32 iterations with batch_size 32\n"
     ]
    },
    {
     "name": "stderr",
     "output_type": "stream",
     "text": [
      "100% (32 of 32) |########################| Elapsed Time: 0:00:04 Time:  0:00:04\n"
     ]
    },
    {
     "name": "stdout",
     "output_type": "stream",
     "text": [
      "2022-02-03 21:35:06,172 - Eval - INFO - Avg accuracy Top 1: 67.968750 Avg accuracy Top 5: 87.011719 on validation Dataset\n",
      "67.96875\n"
     ]
    }
   ],
   "source": [
    "accuracy = ImageNetDataPipeline.evaluate(ssvd_compressed_model, iterations=None, use_cuda=use_cuda)\n",
    "print(accuracy)"
   ]
  },
  {
   "cell_type": "markdown",
   "metadata": {},
   "source": [
    "---\n",
    "Depending on your settings you should have observed a slight gain in accuracy after one epoch of training. Ofcourse, this was just an example. Please try this against the model of your choice and play with the hyper-parameters to get the best results.\n",
    "\n",
    "So we have an improved model after compression using spatial SVD. Optionally, this model now can be saved like a regular PyTorch model."
   ]
  },
  {
   "cell_type": "code",
   "execution_count": 11,
   "metadata": {},
   "outputs": [],
   "source": [
    "os.makedirs('./output/', exist_ok=True)\n",
    "torch.save(ssvd_compressed_model, './output/ssvd_finetuned_model')"
   ]
  },
  {
   "cell_type": "markdown",
   "metadata": {},
   "source": [
    "### 3.3. Compress model using Channel Pruning and evaluate it to find post-compression accuracy\n",
    "\n",
    "The fine-tuned model, compressed with Spatial SVD, can be further compressed using Channel Pruning method.  \n",
    "Similar to Spatial SVD, we will first define the parameters for Channel Pruning compression, out of which mostly are same as of Spatial SVD. The other parameters for Channel Pruning are as follows:\n",
    "\n",
    "- **data_loader**: Channel Pruning uses unlabelled data samples for the layer-by-layer reconstruction procedure explained at the start. This provided data loader is used to retrieve those samples. You can just pass your existing data loader - say for the validation or training dataset.\n",
    "\n",
    "- **num_reconstruction_samples**: The number of samples used in the layer-by-layer reconstruction procedure. We are using 10 here which is a ridiculously low number but enables this notebook to execute quickly. A typical setting here would ~1000 samples.\n",
    "\n",
    "- **allow_custom_downsample_ops**: If this flag is enabled, AIMET Channel Pruning will insert downsample ops into the model graph if needed. Enabling this can enable more convolutional layers to be considered for pruning, but it may increase memory bandwidth overhead for the additional downsample layers. So there is a trade-off to be considered. We suggest disabling this by default."
   ]
  },
  {
   "cell_type": "code",
   "execution_count": 12,
   "metadata": {},
   "outputs": [
    {
     "name": "stdout",
     "output_type": "stream",
     "text": [
      "2022-02-03 21:35:07,400 - Dataloader - INFO - Dataset consists of 1000 images in 1000 classes\n"
     ]
    }
   ],
   "source": [
    "from aimet_torch.defs import ChannelPruningParameters\n",
    "\n",
    "greedy_params = GreedySelectionParameters(target_comp_ratio=Decimal(0.9),\n",
    "                                          num_comp_ratio_candidates=3)\n",
    "modules_to_ignore = [ssvd_compressed_model.conv1]\n",
    "auto_params = ChannelPruningParameters.AutoModeParams(greedy_select_params=greedy_params,\n",
    "                                                      modules_to_ignore=modules_to_ignore)\n",
    "\n",
    "data_loader = ImageNetDataPipeline.get_val_dataloader()\n",
    "params = ChannelPruningParameters(data_loader=data_loader,\n",
    "                                  num_reconstruction_samples=10,\n",
    "                                  allow_custom_downsample_ops=False,\n",
    "                                  mode=ChannelPruningParameters.Mode.auto,\n",
    "                                  params=auto_params)\n",
    "\n",
    "eval_callback = ImageNetDataPipeline.evaluate\n",
    "eval_iterations = 1\n",
    "compress_scheme = CompressionScheme.channel_pruning\n",
    "cost_metric = CostMetric.mac"
   ]
  },
  {
   "cell_type": "markdown",
   "metadata": {},
   "source": [
    "---\n",
    "We call the AIMET ModelCompressor.compress_model API using the above parameters. This call returns a compressed model as well as relevant statistics.  \n",
    "**Note**: the ModelCompressor evaluates the model while compressing using the same evaluate function that is in our data pipeline."
   ]
  },
  {
   "cell_type": "code",
   "execution_count": 13,
   "metadata": {
    "scrolled": true
   },
   "outputs": [
    {
     "name": "stdout",
     "output_type": "stream",
     "text": [
      "2022-02-03 21:35:07,429 - CompRatioSelect - INFO - Analyzing compression ratio: 0.3333333333333333333333333333 =====================>\n"
     ]
    },
    {
     "name": "stderr",
     "output_type": "stream",
     "text": [
      "/usr/local/lib/python3.6/dist-packages/aimet_torch/winnow/mask_propagation_winnower.py:96: UserWarning: To copy construct from a tensor, it is recommended to use sourceTensor.clone().detach() or sourceTensor.clone().detach().requires_grad_(True), rather than torch.tensor(sourceTensor).\n",
      "  dummy_input = torch.tensor(dummy_input).cuda()  # pylint: disable=not-callable\n"
     ]
    },
    {
     "name": "stdout",
     "output_type": "stream",
     "text": [
      "2022-02-03 21:35:08,315 - ChannelPruning - INFO - finished linear regression fit \n",
      "2022-02-03 21:35:09,189 - Dataloader - INFO - Dataset consists of 1000 images in 1000 classes\n",
      "2022-02-03 21:35:09,191 - Eval - INFO - Evaluating nn.Module for 1 iterations with batch_size 32\n"
     ]
    },
    {
     "name": "stderr",
     "output_type": "stream",
     "text": [
      "100% (1 of 1) |##########################| Elapsed Time: 0:00:00 Time:  0:00:00\n"
     ]
    },
    {
     "name": "stdout",
     "output_type": "stream",
     "text": [
      "2022-02-03 21:35:09,673 - Eval - INFO - Avg accuracy Top 1: 84.375000 Avg accuracy Top 5: 90.625000 on validation Dataset\n",
      "2022-02-03 21:35:09,675 - CompRatioSelect - INFO - Layer layer1.0.conv1, comp_ratio 0.333333 ==> eval_score=84.375000\n",
      "2022-02-03 21:35:09,676 - CompRatioSelect - INFO - Analyzing compression ratio: 0.6666666666666666666666666666 =====================>\n"
     ]
    },
    {
     "name": "stderr",
     "output_type": "stream",
     "text": [
      "/usr/local/lib/python3.6/dist-packages/aimet_torch/winnow/mask_propagation_winnower.py:96: UserWarning: To copy construct from a tensor, it is recommended to use sourceTensor.clone().detach() or sourceTensor.clone().detach().requires_grad_(True), rather than torch.tensor(sourceTensor).\n",
      "  dummy_input = torch.tensor(dummy_input).cuda()  # pylint: disable=not-callable\n"
     ]
    },
    {
     "name": "stdout",
     "output_type": "stream",
     "text": [
      "2022-02-03 21:35:10,585 - ChannelPruning - INFO - finished linear regression fit \n",
      "2022-02-03 21:35:11,372 - Dataloader - INFO - Dataset consists of 1000 images in 1000 classes\n",
      "2022-02-03 21:35:11,374 - Eval - INFO - Evaluating nn.Module for 1 iterations with batch_size 32\n"
     ]
    },
    {
     "name": "stderr",
     "output_type": "stream",
     "text": [
      "100% (1 of 1) |##########################| Elapsed Time: 0:00:00 Time:  0:00:00\n"
     ]
    },
    {
     "name": "stdout",
     "output_type": "stream",
     "text": [
      "2022-02-03 21:35:11,857 - Eval - INFO - Avg accuracy Top 1: 84.375000 Avg accuracy Top 5: 93.750000 on validation Dataset\n",
      "2022-02-03 21:35:11,861 - CompRatioSelect - INFO - Layer layer1.0.conv1, comp_ratio 0.666667 ==> eval_score=84.375000\n",
      "2022-02-03 21:35:11,862 - CompRatioSelect - INFO - Analyzing compression ratio: 0.3333333333333333333333333333 =====================>\n"
     ]
    },
    {
     "name": "stderr",
     "output_type": "stream",
     "text": [
      "/usr/local/lib/python3.6/dist-packages/aimet_torch/winnow/mask_propagation_winnower.py:96: UserWarning: To copy construct from a tensor, it is recommended to use sourceTensor.clone().detach() or sourceTensor.clone().detach().requires_grad_(True), rather than torch.tensor(sourceTensor).\n",
      "  dummy_input = torch.tensor(dummy_input).cuda()  # pylint: disable=not-callable\n",
      "/usr/local/lib/python3.6/dist-packages/aimet_torch/winnow/winnow_utils.py:186: UserWarning: To copy construct from a tensor, it is recommended to use sourceTensor.clone().detach() or sourceTensor.clone().detach().requires_grad_(True), rather than torch.tensor(sourceTensor).\n",
      "  result = torch.tensor(tensor)  # pylint: disable=not-callable\n"
     ]
    },
    {
     "name": "stdout",
     "output_type": "stream",
     "text": [
      "2022-02-03 21:35:12,742 - ChannelPruning - INFO - finished linear regression fit \n",
      "2022-02-03 21:35:13,560 - Dataloader - INFO - Dataset consists of 1000 images in 1000 classes\n",
      "2022-02-03 21:35:13,562 - Eval - INFO - Evaluating nn.Module for 1 iterations with batch_size 32\n"
     ]
    },
    {
     "name": "stderr",
     "output_type": "stream",
     "text": [
      "100% (1 of 1) |##########################| Elapsed Time: 0:00:00 Time:  0:00:00\n"
     ]
    },
    {
     "name": "stdout",
     "output_type": "stream",
     "text": [
      "2022-02-03 21:35:14,008 - Eval - INFO - Avg accuracy Top 1: 62.500000 Avg accuracy Top 5: 90.625000 on validation Dataset\n",
      "2022-02-03 21:35:14,010 - CompRatioSelect - INFO - Layer layer1.0.conv2, comp_ratio 0.333333 ==> eval_score=62.500000\n",
      "2022-02-03 21:35:14,011 - CompRatioSelect - INFO - Analyzing compression ratio: 0.6666666666666666666666666666 =====================>\n"
     ]
    },
    {
     "name": "stderr",
     "output_type": "stream",
     "text": [
      "/usr/local/lib/python3.6/dist-packages/aimet_torch/winnow/mask_propagation_winnower.py:96: UserWarning: To copy construct from a tensor, it is recommended to use sourceTensor.clone().detach() or sourceTensor.clone().detach().requires_grad_(True), rather than torch.tensor(sourceTensor).\n",
      "  dummy_input = torch.tensor(dummy_input).cuda()  # pylint: disable=not-callable\n",
      "/usr/local/lib/python3.6/dist-packages/aimet_torch/winnow/winnow_utils.py:186: UserWarning: To copy construct from a tensor, it is recommended to use sourceTensor.clone().detach() or sourceTensor.clone().detach().requires_grad_(True), rather than torch.tensor(sourceTensor).\n",
      "  result = torch.tensor(tensor)  # pylint: disable=not-callable\n"
     ]
    },
    {
     "name": "stdout",
     "output_type": "stream",
     "text": [
      "2022-02-03 21:35:14,918 - ChannelPruning - INFO - finished linear regression fit \n",
      "2022-02-03 21:35:15,881 - Dataloader - INFO - Dataset consists of 1000 images in 1000 classes\n",
      "2022-02-03 21:35:15,883 - Eval - INFO - Evaluating nn.Module for 1 iterations with batch_size 32\n"
     ]
    },
    {
     "name": "stderr",
     "output_type": "stream",
     "text": [
      "100% (1 of 1) |##########################| Elapsed Time: 0:00:00 Time:  0:00:00\n"
     ]
    },
    {
     "name": "stdout",
     "output_type": "stream",
     "text": [
      "2022-02-03 21:35:16,362 - Eval - INFO - Avg accuracy Top 1: 65.625000 Avg accuracy Top 5: 84.375000 on validation Dataset\n",
      "2022-02-03 21:35:16,364 - CompRatioSelect - INFO - Layer layer1.0.conv2, comp_ratio 0.666667 ==> eval_score=65.625000\n",
      "2022-02-03 21:35:16,365 - CompRatioSelect - INFO - Analyzing compression ratio: 0.3333333333333333333333333333 =====================>\n"
     ]
    },
    {
     "name": "stderr",
     "output_type": "stream",
     "text": [
      "/usr/local/lib/python3.6/dist-packages/aimet_torch/winnow/mask_propagation_winnower.py:96: UserWarning: To copy construct from a tensor, it is recommended to use sourceTensor.clone().detach() or sourceTensor.clone().detach().requires_grad_(True), rather than torch.tensor(sourceTensor).\n",
      "  dummy_input = torch.tensor(dummy_input).cuda()  # pylint: disable=not-callable\n"
     ]
    },
    {
     "name": "stdout",
     "output_type": "stream",
     "text": [
      "2022-02-03 21:35:17,360 - ChannelPruning - INFO - finished linear regression fit \n",
      "2022-02-03 21:35:18,125 - Dataloader - INFO - Dataset consists of 1000 images in 1000 classes\n",
      "2022-02-03 21:35:18,127 - Eval - INFO - Evaluating nn.Module for 1 iterations with batch_size 32\n"
     ]
    },
    {
     "name": "stderr",
     "output_type": "stream",
     "text": [
      "100% (1 of 1) |##########################| Elapsed Time: 0:00:00 Time:  0:00:00\n"
     ]
    },
    {
     "name": "stdout",
     "output_type": "stream",
     "text": [
      "2022-02-03 21:35:18,717 - Eval - INFO - Avg accuracy Top 1: 81.250000 Avg accuracy Top 5: 93.750000 on validation Dataset\n",
      "2022-02-03 21:35:18,721 - CompRatioSelect - INFO - Layer layer1.1.conv1.0, comp_ratio 0.333333 ==> eval_score=81.250000\n",
      "2022-02-03 21:35:18,722 - CompRatioSelect - INFO - Analyzing compression ratio: 0.6666666666666666666666666666 =====================>\n"
     ]
    },
    {
     "name": "stderr",
     "output_type": "stream",
     "text": [
      "/usr/local/lib/python3.6/dist-packages/aimet_torch/winnow/mask_propagation_winnower.py:96: UserWarning: To copy construct from a tensor, it is recommended to use sourceTensor.clone().detach() or sourceTensor.clone().detach().requires_grad_(True), rather than torch.tensor(sourceTensor).\n",
      "  dummy_input = torch.tensor(dummy_input).cuda()  # pylint: disable=not-callable\n"
     ]
    },
    {
     "name": "stdout",
     "output_type": "stream",
     "text": [
      "2022-02-03 21:35:19,653 - ChannelPruning - INFO - finished linear regression fit \n",
      "2022-02-03 21:35:20,477 - Dataloader - INFO - Dataset consists of 1000 images in 1000 classes\n",
      "2022-02-03 21:35:20,479 - Eval - INFO - Evaluating nn.Module for 1 iterations with batch_size 32\n"
     ]
    },
    {
     "name": "stderr",
     "output_type": "stream",
     "text": [
      "100% (1 of 1) |##########################| Elapsed Time: 0:00:00 Time:  0:00:00\n"
     ]
    },
    {
     "name": "stdout",
     "output_type": "stream",
     "text": [
      "2022-02-03 21:35:20,938 - Eval - INFO - Avg accuracy Top 1: 81.250000 Avg accuracy Top 5: 93.750000 on validation Dataset\n",
      "2022-02-03 21:35:20,940 - CompRatioSelect - INFO - Layer layer1.1.conv1.0, comp_ratio 0.666667 ==> eval_score=81.250000\n",
      "2022-02-03 21:35:20,941 - CompRatioSelect - INFO - Analyzing compression ratio: 0.3333333333333333333333333333 =====================>\n"
     ]
    },
    {
     "name": "stderr",
     "output_type": "stream",
     "text": [
      "/usr/local/lib/python3.6/dist-packages/aimet_torch/winnow/mask_propagation_winnower.py:96: UserWarning: To copy construct from a tensor, it is recommended to use sourceTensor.clone().detach() or sourceTensor.clone().detach().requires_grad_(True), rather than torch.tensor(sourceTensor).\n",
      "  dummy_input = torch.tensor(dummy_input).cuda()  # pylint: disable=not-callable\n",
      "/usr/local/lib/python3.6/dist-packages/aimet_torch/winnow/winnow_utils.py:186: UserWarning: To copy construct from a tensor, it is recommended to use sourceTensor.clone().detach() or sourceTensor.clone().detach().requires_grad_(True), rather than torch.tensor(sourceTensor).\n",
      "  result = torch.tensor(tensor)  # pylint: disable=not-callable\n"
     ]
    },
    {
     "name": "stdout",
     "output_type": "stream",
     "text": [
      "2022-02-03 21:35:21,793 - ChannelPruning - INFO - finished linear regression fit \n",
      "2022-02-03 21:35:22,607 - Dataloader - INFO - Dataset consists of 1000 images in 1000 classes\n",
      "2022-02-03 21:35:22,610 - Eval - INFO - Evaluating nn.Module for 1 iterations with batch_size 32\n"
     ]
    },
    {
     "name": "stderr",
     "output_type": "stream",
     "text": [
      "100% (1 of 1) |##########################| Elapsed Time: 0:00:00 Time:  0:00:00\n"
     ]
    },
    {
     "name": "stdout",
     "output_type": "stream",
     "text": [
      "2022-02-03 21:35:23,069 - Eval - INFO - Avg accuracy Top 1: 78.125000 Avg accuracy Top 5: 93.750000 on validation Dataset\n",
      "2022-02-03 21:35:23,070 - CompRatioSelect - INFO - Layer layer1.1.conv1.1, comp_ratio 0.333333 ==> eval_score=78.125000\n",
      "2022-02-03 21:35:23,071 - CompRatioSelect - INFO - Analyzing compression ratio: 0.6666666666666666666666666666 =====================>\n"
     ]
    },
    {
     "name": "stderr",
     "output_type": "stream",
     "text": [
      "/usr/local/lib/python3.6/dist-packages/aimet_torch/winnow/mask_propagation_winnower.py:96: UserWarning: To copy construct from a tensor, it is recommended to use sourceTensor.clone().detach() or sourceTensor.clone().detach().requires_grad_(True), rather than torch.tensor(sourceTensor).\n",
      "  dummy_input = torch.tensor(dummy_input).cuda()  # pylint: disable=not-callable\n",
      "/usr/local/lib/python3.6/dist-packages/aimet_torch/winnow/winnow_utils.py:186: UserWarning: To copy construct from a tensor, it is recommended to use sourceTensor.clone().detach() or sourceTensor.clone().detach().requires_grad_(True), rather than torch.tensor(sourceTensor).\n",
      "  result = torch.tensor(tensor)  # pylint: disable=not-callable\n"
     ]
    },
    {
     "name": "stdout",
     "output_type": "stream",
     "text": [
      "2022-02-03 21:35:23,977 - ChannelPruning - INFO - finished linear regression fit \n",
      "2022-02-03 21:35:24,808 - Dataloader - INFO - Dataset consists of 1000 images in 1000 classes\n",
      "2022-02-03 21:35:24,810 - Eval - INFO - Evaluating nn.Module for 1 iterations with batch_size 32\n"
     ]
    },
    {
     "name": "stderr",
     "output_type": "stream",
     "text": [
      "100% (1 of 1) |##########################| Elapsed Time: 0:00:00 Time:  0:00:00\n"
     ]
    },
    {
     "name": "stdout",
     "output_type": "stream",
     "text": [
      "2022-02-03 21:35:25,304 - Eval - INFO - Avg accuracy Top 1: 81.250000 Avg accuracy Top 5: 93.750000 on validation Dataset\n",
      "2022-02-03 21:35:25,307 - CompRatioSelect - INFO - Layer layer1.1.conv1.1, comp_ratio 0.666667 ==> eval_score=81.250000\n",
      "2022-02-03 21:35:25,308 - CompRatioSelect - INFO - Analyzing compression ratio: 0.3333333333333333333333333333 =====================>\n"
     ]
    },
    {
     "name": "stderr",
     "output_type": "stream",
     "text": [
      "/usr/local/lib/python3.6/dist-packages/aimet_torch/winnow/mask_propagation_winnower.py:96: UserWarning: To copy construct from a tensor, it is recommended to use sourceTensor.clone().detach() or sourceTensor.clone().detach().requires_grad_(True), rather than torch.tensor(sourceTensor).\n",
      "  dummy_input = torch.tensor(dummy_input).cuda()  # pylint: disable=not-callable\n",
      "/usr/local/lib/python3.6/dist-packages/aimet_torch/winnow/winnow_utils.py:186: UserWarning: To copy construct from a tensor, it is recommended to use sourceTensor.clone().detach() or sourceTensor.clone().detach().requires_grad_(True), rather than torch.tensor(sourceTensor).\n",
      "  result = torch.tensor(tensor)  # pylint: disable=not-callable\n"
     ]
    },
    {
     "name": "stdout",
     "output_type": "stream",
     "text": [
      "2022-02-03 21:35:26,177 - ChannelPruning - INFO - finished linear regression fit \n",
      "2022-02-03 21:35:26,963 - Dataloader - INFO - Dataset consists of 1000 images in 1000 classes\n",
      "2022-02-03 21:35:26,965 - Eval - INFO - Evaluating nn.Module for 1 iterations with batch_size 32\n"
     ]
    },
    {
     "name": "stderr",
     "output_type": "stream",
     "text": [
      "100% (1 of 1) |##########################| Elapsed Time: 0:00:00 Time:  0:00:00\n"
     ]
    },
    {
     "name": "stdout",
     "output_type": "stream",
     "text": [
      "2022-02-03 21:35:27,447 - Eval - INFO - Avg accuracy Top 1: 75.000000 Avg accuracy Top 5: 90.625000 on validation Dataset\n",
      "2022-02-03 21:35:27,449 - CompRatioSelect - INFO - Layer layer1.1.conv2, comp_ratio 0.333333 ==> eval_score=75.000000\n",
      "2022-02-03 21:35:27,450 - CompRatioSelect - INFO - Analyzing compression ratio: 0.6666666666666666666666666666 =====================>\n"
     ]
    },
    {
     "name": "stderr",
     "output_type": "stream",
     "text": [
      "/usr/local/lib/python3.6/dist-packages/aimet_torch/winnow/mask_propagation_winnower.py:96: UserWarning: To copy construct from a tensor, it is recommended to use sourceTensor.clone().detach() or sourceTensor.clone().detach().requires_grad_(True), rather than torch.tensor(sourceTensor).\n",
      "  dummy_input = torch.tensor(dummy_input).cuda()  # pylint: disable=not-callable\n",
      "/usr/local/lib/python3.6/dist-packages/aimet_torch/winnow/winnow_utils.py:186: UserWarning: To copy construct from a tensor, it is recommended to use sourceTensor.clone().detach() or sourceTensor.clone().detach().requires_grad_(True), rather than torch.tensor(sourceTensor).\n",
      "  result = torch.tensor(tensor)  # pylint: disable=not-callable\n"
     ]
    },
    {
     "name": "stdout",
     "output_type": "stream",
     "text": [
      "2022-02-03 21:35:28,358 - ChannelPruning - INFO - finished linear regression fit \n",
      "2022-02-03 21:35:29,618 - Dataloader - INFO - Dataset consists of 1000 images in 1000 classes\n",
      "2022-02-03 21:35:29,620 - Eval - INFO - Evaluating nn.Module for 1 iterations with batch_size 32\n"
     ]
    },
    {
     "name": "stderr",
     "output_type": "stream",
     "text": [
      "100% (1 of 1) |##########################| Elapsed Time: 0:00:00 Time:  0:00:00\n"
     ]
    },
    {
     "name": "stdout",
     "output_type": "stream",
     "text": [
      "2022-02-03 21:35:30,100 - Eval - INFO - Avg accuracy Top 1: 87.500000 Avg accuracy Top 5: 93.750000 on validation Dataset\n",
      "2022-02-03 21:35:30,102 - CompRatioSelect - INFO - Layer layer1.1.conv2, comp_ratio 0.666667 ==> eval_score=87.500000\n",
      "2022-02-03 21:35:30,103 - CompRatioSelect - INFO - Analyzing compression ratio: 0.3333333333333333333333333333 =====================>\n"
     ]
    },
    {
     "name": "stderr",
     "output_type": "stream",
     "text": [
      "/usr/local/lib/python3.6/dist-packages/aimet_torch/winnow/mask_propagation_winnower.py:96: UserWarning: To copy construct from a tensor, it is recommended to use sourceTensor.clone().detach() or sourceTensor.clone().detach().requires_grad_(True), rather than torch.tensor(sourceTensor).\n",
      "  dummy_input = torch.tensor(dummy_input).cuda()  # pylint: disable=not-callable\n"
     ]
    },
    {
     "name": "stdout",
     "output_type": "stream",
     "text": [
      "2022-02-03 21:35:31,054 - ChannelPruning - INFO - finished linear regression fit \n",
      "2022-02-03 21:35:31,871 - Dataloader - INFO - Dataset consists of 1000 images in 1000 classes\n",
      "2022-02-03 21:35:31,873 - Eval - INFO - Evaluating nn.Module for 1 iterations with batch_size 32\n"
     ]
    },
    {
     "name": "stderr",
     "output_type": "stream",
     "text": [
      "100% (1 of 1) |##########################| Elapsed Time: 0:00:00 Time:  0:00:00\n"
     ]
    },
    {
     "name": "stdout",
     "output_type": "stream",
     "text": [
      "2022-02-03 21:35:32,353 - Eval - INFO - Avg accuracy Top 1: 81.250000 Avg accuracy Top 5: 93.750000 on validation Dataset\n",
      "2022-02-03 21:35:32,356 - CompRatioSelect - INFO - Layer layer2.0.conv1, comp_ratio 0.333333 ==> eval_score=81.250000\n",
      "2022-02-03 21:35:32,356 - CompRatioSelect - INFO - Analyzing compression ratio: 0.6666666666666666666666666666 =====================>\n"
     ]
    },
    {
     "name": "stderr",
     "output_type": "stream",
     "text": [
      "/usr/local/lib/python3.6/dist-packages/aimet_torch/winnow/mask_propagation_winnower.py:96: UserWarning: To copy construct from a tensor, it is recommended to use sourceTensor.clone().detach() or sourceTensor.clone().detach().requires_grad_(True), rather than torch.tensor(sourceTensor).\n",
      "  dummy_input = torch.tensor(dummy_input).cuda()  # pylint: disable=not-callable\n"
     ]
    },
    {
     "name": "stdout",
     "output_type": "stream",
     "text": [
      "2022-02-03 21:35:33,271 - ChannelPruning - INFO - finished linear regression fit \n",
      "2022-02-03 21:35:34,114 - Dataloader - INFO - Dataset consists of 1000 images in 1000 classes\n",
      "2022-02-03 21:35:34,116 - Eval - INFO - Evaluating nn.Module for 1 iterations with batch_size 32\n"
     ]
    },
    {
     "name": "stderr",
     "output_type": "stream",
     "text": [
      "100% (1 of 1) |##########################| Elapsed Time: 0:00:00 Time:  0:00:00\n"
     ]
    },
    {
     "name": "stdout",
     "output_type": "stream",
     "text": [
      "2022-02-03 21:35:34,586 - Eval - INFO - Avg accuracy Top 1: 81.250000 Avg accuracy Top 5: 93.750000 on validation Dataset\n",
      "2022-02-03 21:35:34,587 - CompRatioSelect - INFO - Layer layer2.0.conv1, comp_ratio 0.666667 ==> eval_score=81.250000\n",
      "2022-02-03 21:35:34,588 - CompRatioSelect - INFO - Analyzing compression ratio: 0.3333333333333333333333333333 =====================>\n"
     ]
    },
    {
     "name": "stderr",
     "output_type": "stream",
     "text": [
      "/usr/local/lib/python3.6/dist-packages/aimet_torch/winnow/mask_propagation_winnower.py:96: UserWarning: To copy construct from a tensor, it is recommended to use sourceTensor.clone().detach() or sourceTensor.clone().detach().requires_grad_(True), rather than torch.tensor(sourceTensor).\n",
      "  dummy_input = torch.tensor(dummy_input).cuda()  # pylint: disable=not-callable\n",
      "/usr/local/lib/python3.6/dist-packages/aimet_torch/winnow/winnow_utils.py:186: UserWarning: To copy construct from a tensor, it is recommended to use sourceTensor.clone().detach() or sourceTensor.clone().detach().requires_grad_(True), rather than torch.tensor(sourceTensor).\n",
      "  result = torch.tensor(tensor)  # pylint: disable=not-callable\n"
     ]
    },
    {
     "name": "stdout",
     "output_type": "stream",
     "text": [
      "2022-02-03 21:35:35,456 - ChannelPruning - INFO - finished linear regression fit \n",
      "2022-02-03 21:35:36,504 - Dataloader - INFO - Dataset consists of 1000 images in 1000 classes\n",
      "2022-02-03 21:35:36,506 - Eval - INFO - Evaluating nn.Module for 1 iterations with batch_size 32\n"
     ]
    },
    {
     "name": "stderr",
     "output_type": "stream",
     "text": [
      "100% (1 of 1) |##########################| Elapsed Time: 0:00:00 Time:  0:00:00\n"
     ]
    },
    {
     "name": "stdout",
     "output_type": "stream",
     "text": [
      "2022-02-03 21:35:36,980 - Eval - INFO - Avg accuracy Top 1: 65.625000 Avg accuracy Top 5: 93.750000 on validation Dataset\n",
      "2022-02-03 21:35:36,982 - CompRatioSelect - INFO - Layer layer2.0.conv2.0, comp_ratio 0.333333 ==> eval_score=65.625000\n",
      "2022-02-03 21:35:36,984 - CompRatioSelect - INFO - Analyzing compression ratio: 0.6666666666666666666666666666 =====================>\n"
     ]
    },
    {
     "name": "stderr",
     "output_type": "stream",
     "text": [
      "/usr/local/lib/python3.6/dist-packages/aimet_torch/winnow/mask_propagation_winnower.py:96: UserWarning: To copy construct from a tensor, it is recommended to use sourceTensor.clone().detach() or sourceTensor.clone().detach().requires_grad_(True), rather than torch.tensor(sourceTensor).\n",
      "  dummy_input = torch.tensor(dummy_input).cuda()  # pylint: disable=not-callable\n",
      "/usr/local/lib/python3.6/dist-packages/aimet_torch/winnow/winnow_utils.py:186: UserWarning: To copy construct from a tensor, it is recommended to use sourceTensor.clone().detach() or sourceTensor.clone().detach().requires_grad_(True), rather than torch.tensor(sourceTensor).\n",
      "  result = torch.tensor(tensor)  # pylint: disable=not-callable\n"
     ]
    },
    {
     "name": "stdout",
     "output_type": "stream",
     "text": [
      "2022-02-03 21:35:37,934 - ChannelPruning - INFO - finished linear regression fit \n",
      "2022-02-03 21:35:38,833 - Dataloader - INFO - Dataset consists of 1000 images in 1000 classes\n",
      "2022-02-03 21:35:38,835 - Eval - INFO - Evaluating nn.Module for 1 iterations with batch_size 32\n"
     ]
    },
    {
     "name": "stderr",
     "output_type": "stream",
     "text": [
      "100% (1 of 1) |##########################| Elapsed Time: 0:00:00 Time:  0:00:00\n"
     ]
    },
    {
     "name": "stdout",
     "output_type": "stream",
     "text": [
      "2022-02-03 21:35:39,312 - Eval - INFO - Avg accuracy Top 1: 68.750000 Avg accuracy Top 5: 90.625000 on validation Dataset\n",
      "2022-02-03 21:35:39,316 - CompRatioSelect - INFO - Layer layer2.0.conv2.0, comp_ratio 0.666667 ==> eval_score=68.750000\n",
      "2022-02-03 21:35:39,317 - CompRatioSelect - INFO - Analyzing compression ratio: 0.3333333333333333333333333333 =====================>\n"
     ]
    },
    {
     "name": "stderr",
     "output_type": "stream",
     "text": [
      "/usr/local/lib/python3.6/dist-packages/aimet_torch/winnow/mask_propagation_winnower.py:96: UserWarning: To copy construct from a tensor, it is recommended to use sourceTensor.clone().detach() or sourceTensor.clone().detach().requires_grad_(True), rather than torch.tensor(sourceTensor).\n",
      "  dummy_input = torch.tensor(dummy_input).cuda()  # pylint: disable=not-callable\n",
      "/usr/local/lib/python3.6/dist-packages/aimet_torch/winnow/winnow_utils.py:186: UserWarning: To copy construct from a tensor, it is recommended to use sourceTensor.clone().detach() or sourceTensor.clone().detach().requires_grad_(True), rather than torch.tensor(sourceTensor).\n",
      "  result = torch.tensor(tensor)  # pylint: disable=not-callable\n"
     ]
    },
    {
     "name": "stdout",
     "output_type": "stream",
     "text": [
      "2022-02-03 21:35:40,194 - ChannelPruning - INFO - finished linear regression fit \n",
      "2022-02-03 21:35:41,099 - Dataloader - INFO - Dataset consists of 1000 images in 1000 classes\n",
      "2022-02-03 21:35:41,101 - Eval - INFO - Evaluating nn.Module for 1 iterations with batch_size 32\n"
     ]
    },
    {
     "name": "stderr",
     "output_type": "stream",
     "text": [
      "100% (1 of 1) |##########################| Elapsed Time: 0:00:00 Time:  0:00:00\n"
     ]
    },
    {
     "name": "stdout",
     "output_type": "stream",
     "text": [
      "2022-02-03 21:35:41,587 - Eval - INFO - Avg accuracy Top 1: 81.250000 Avg accuracy Top 5: 93.750000 on validation Dataset\n",
      "2022-02-03 21:35:41,589 - CompRatioSelect - INFO - Layer layer2.0.conv2.1, comp_ratio 0.333333 ==> eval_score=81.250000\n",
      "2022-02-03 21:35:41,590 - CompRatioSelect - INFO - Analyzing compression ratio: 0.6666666666666666666666666666 =====================>\n"
     ]
    },
    {
     "name": "stderr",
     "output_type": "stream",
     "text": [
      "/usr/local/lib/python3.6/dist-packages/aimet_torch/winnow/mask_propagation_winnower.py:96: UserWarning: To copy construct from a tensor, it is recommended to use sourceTensor.clone().detach() or sourceTensor.clone().detach().requires_grad_(True), rather than torch.tensor(sourceTensor).\n",
      "  dummy_input = torch.tensor(dummy_input).cuda()  # pylint: disable=not-callable\n",
      "/usr/local/lib/python3.6/dist-packages/aimet_torch/winnow/winnow_utils.py:186: UserWarning: To copy construct from a tensor, it is recommended to use sourceTensor.clone().detach() or sourceTensor.clone().detach().requires_grad_(True), rather than torch.tensor(sourceTensor).\n",
      "  result = torch.tensor(tensor)  # pylint: disable=not-callable\n"
     ]
    },
    {
     "name": "stdout",
     "output_type": "stream",
     "text": [
      "2022-02-03 21:35:42,487 - ChannelPruning - INFO - finished linear regression fit \n",
      "2022-02-03 21:35:43,258 - Dataloader - INFO - Dataset consists of 1000 images in 1000 classes\n",
      "2022-02-03 21:35:43,260 - Eval - INFO - Evaluating nn.Module for 1 iterations with batch_size 32\n"
     ]
    },
    {
     "name": "stderr",
     "output_type": "stream",
     "text": [
      "100% (1 of 1) |##########################| Elapsed Time: 0:00:00 Time:  0:00:00\n"
     ]
    },
    {
     "name": "stdout",
     "output_type": "stream",
     "text": [
      "2022-02-03 21:35:43,728 - Eval - INFO - Avg accuracy Top 1: 84.375000 Avg accuracy Top 5: 93.750000 on validation Dataset\n",
      "2022-02-03 21:35:43,731 - CompRatioSelect - INFO - Layer layer2.0.conv2.1, comp_ratio 0.666667 ==> eval_score=84.375000\n",
      "2022-02-03 21:35:43,732 - CompRatioSelect - INFO - Analyzing compression ratio: 0.3333333333333333333333333333 =====================>\n"
     ]
    },
    {
     "name": "stderr",
     "output_type": "stream",
     "text": [
      "/usr/local/lib/python3.6/dist-packages/aimet_torch/winnow/mask_propagation_winnower.py:96: UserWarning: To copy construct from a tensor, it is recommended to use sourceTensor.clone().detach() or sourceTensor.clone().detach().requires_grad_(True), rather than torch.tensor(sourceTensor).\n",
      "  dummy_input = torch.tensor(dummy_input).cuda()  # pylint: disable=not-callable\n"
     ]
    },
    {
     "name": "stdout",
     "output_type": "stream",
     "text": [
      "2022-02-03 21:35:44,602 - ChannelPruning - INFO - finished linear regression fit \n",
      "2022-02-03 21:35:45,390 - Dataloader - INFO - Dataset consists of 1000 images in 1000 classes\n",
      "2022-02-03 21:35:45,392 - Eval - INFO - Evaluating nn.Module for 1 iterations with batch_size 32\n"
     ]
    },
    {
     "name": "stderr",
     "output_type": "stream",
     "text": [
      "100% (1 of 1) |##########################| Elapsed Time: 0:00:00 Time:  0:00:00\n"
     ]
    },
    {
     "name": "stdout",
     "output_type": "stream",
     "text": [
      "2022-02-03 21:35:45,836 - Eval - INFO - Avg accuracy Top 1: 81.250000 Avg accuracy Top 5: 93.750000 on validation Dataset\n",
      "2022-02-03 21:35:45,839 - CompRatioSelect - INFO - Layer layer2.0.downsample.0, comp_ratio 0.333333 ==> eval_score=81.250000\n",
      "2022-02-03 21:35:45,840 - CompRatioSelect - INFO - Analyzing compression ratio: 0.6666666666666666666666666666 =====================>\n"
     ]
    },
    {
     "name": "stderr",
     "output_type": "stream",
     "text": [
      "/usr/local/lib/python3.6/dist-packages/aimet_torch/winnow/mask_propagation_winnower.py:96: UserWarning: To copy construct from a tensor, it is recommended to use sourceTensor.clone().detach() or sourceTensor.clone().detach().requires_grad_(True), rather than torch.tensor(sourceTensor).\n",
      "  dummy_input = torch.tensor(dummy_input).cuda()  # pylint: disable=not-callable\n"
     ]
    },
    {
     "name": "stdout",
     "output_type": "stream",
     "text": [
      "2022-02-03 21:35:46,715 - ChannelPruning - INFO - finished linear regression fit \n",
      "2022-02-03 21:35:47,549 - Dataloader - INFO - Dataset consists of 1000 images in 1000 classes\n",
      "2022-02-03 21:35:47,551 - Eval - INFO - Evaluating nn.Module for 1 iterations with batch_size 32\n"
     ]
    },
    {
     "name": "stderr",
     "output_type": "stream",
     "text": [
      "100% (1 of 1) |##########################| Elapsed Time: 0:00:00 Time:  0:00:00\n"
     ]
    },
    {
     "name": "stdout",
     "output_type": "stream",
     "text": [
      "2022-02-03 21:35:48,035 - Eval - INFO - Avg accuracy Top 1: 81.250000 Avg accuracy Top 5: 93.750000 on validation Dataset\n",
      "2022-02-03 21:35:48,037 - CompRatioSelect - INFO - Layer layer2.0.downsample.0, comp_ratio 0.666667 ==> eval_score=81.250000\n",
      "2022-02-03 21:35:48,038 - CompRatioSelect - INFO - Analyzing compression ratio: 0.3333333333333333333333333333 =====================>\n"
     ]
    },
    {
     "name": "stderr",
     "output_type": "stream",
     "text": [
      "/usr/local/lib/python3.6/dist-packages/aimet_torch/winnow/mask_propagation_winnower.py:96: UserWarning: To copy construct from a tensor, it is recommended to use sourceTensor.clone().detach() or sourceTensor.clone().detach().requires_grad_(True), rather than torch.tensor(sourceTensor).\n",
      "  dummy_input = torch.tensor(dummy_input).cuda()  # pylint: disable=not-callable\n"
     ]
    },
    {
     "name": "stdout",
     "output_type": "stream",
     "text": [
      "2022-02-03 21:35:49,017 - ChannelPruning - INFO - finished linear regression fit \n",
      "2022-02-03 21:35:50,111 - Dataloader - INFO - Dataset consists of 1000 images in 1000 classes\n",
      "2022-02-03 21:35:50,113 - Eval - INFO - Evaluating nn.Module for 1 iterations with batch_size 32\n"
     ]
    },
    {
     "name": "stderr",
     "output_type": "stream",
     "text": [
      "100% (1 of 1) |##########################| Elapsed Time: 0:00:00 Time:  0:00:00\n"
     ]
    },
    {
     "name": "stdout",
     "output_type": "stream",
     "text": [
      "2022-02-03 21:35:50,603 - Eval - INFO - Avg accuracy Top 1: 84.375000 Avg accuracy Top 5: 93.750000 on validation Dataset\n",
      "2022-02-03 21:35:50,605 - CompRatioSelect - INFO - Layer layer2.1.conv1.0, comp_ratio 0.333333 ==> eval_score=84.375000\n",
      "2022-02-03 21:35:50,606 - CompRatioSelect - INFO - Analyzing compression ratio: 0.6666666666666666666666666666 =====================>\n"
     ]
    },
    {
     "name": "stderr",
     "output_type": "stream",
     "text": [
      "/usr/local/lib/python3.6/dist-packages/aimet_torch/winnow/mask_propagation_winnower.py:96: UserWarning: To copy construct from a tensor, it is recommended to use sourceTensor.clone().detach() or sourceTensor.clone().detach().requires_grad_(True), rather than torch.tensor(sourceTensor).\n",
      "  dummy_input = torch.tensor(dummy_input).cuda()  # pylint: disable=not-callable\n"
     ]
    },
    {
     "name": "stdout",
     "output_type": "stream",
     "text": [
      "2022-02-03 21:35:51,541 - ChannelPruning - INFO - finished linear regression fit \n",
      "2022-02-03 21:35:52,563 - Dataloader - INFO - Dataset consists of 1000 images in 1000 classes\n",
      "2022-02-03 21:35:52,566 - Eval - INFO - Evaluating nn.Module for 1 iterations with batch_size 32\n"
     ]
    },
    {
     "name": "stderr",
     "output_type": "stream",
     "text": [
      "100% (1 of 1) |##########################| Elapsed Time: 0:00:00 Time:  0:00:00\n"
     ]
    },
    {
     "name": "stdout",
     "output_type": "stream",
     "text": [
      "2022-02-03 21:35:53,061 - Eval - INFO - Avg accuracy Top 1: 81.250000 Avg accuracy Top 5: 93.750000 on validation Dataset\n",
      "2022-02-03 21:35:53,065 - CompRatioSelect - INFO - Layer layer2.1.conv1.0, comp_ratio 0.666667 ==> eval_score=81.250000\n",
      "2022-02-03 21:35:53,067 - CompRatioSelect - INFO - Analyzing compression ratio: 0.3333333333333333333333333333 =====================>\n"
     ]
    },
    {
     "name": "stderr",
     "output_type": "stream",
     "text": [
      "/usr/local/lib/python3.6/dist-packages/aimet_torch/winnow/mask_propagation_winnower.py:96: UserWarning: To copy construct from a tensor, it is recommended to use sourceTensor.clone().detach() or sourceTensor.clone().detach().requires_grad_(True), rather than torch.tensor(sourceTensor).\n",
      "  dummy_input = torch.tensor(dummy_input).cuda()  # pylint: disable=not-callable\n",
      "/usr/local/lib/python3.6/dist-packages/aimet_torch/winnow/winnow_utils.py:186: UserWarning: To copy construct from a tensor, it is recommended to use sourceTensor.clone().detach() or sourceTensor.clone().detach().requires_grad_(True), rather than torch.tensor(sourceTensor).\n",
      "  result = torch.tensor(tensor)  # pylint: disable=not-callable\n"
     ]
    },
    {
     "name": "stdout",
     "output_type": "stream",
     "text": [
      "2022-02-03 21:35:53,971 - ChannelPruning - INFO - finished linear regression fit \n",
      "2022-02-03 21:35:54,830 - Dataloader - INFO - Dataset consists of 1000 images in 1000 classes\n",
      "2022-02-03 21:35:54,832 - Eval - INFO - Evaluating nn.Module for 1 iterations with batch_size 32\n"
     ]
    },
    {
     "name": "stderr",
     "output_type": "stream",
     "text": [
      "100% (1 of 1) |##########################| Elapsed Time: 0:00:00 Time:  0:00:00\n"
     ]
    },
    {
     "name": "stdout",
     "output_type": "stream",
     "text": [
      "2022-02-03 21:35:55,299 - Eval - INFO - Avg accuracy Top 1: 81.250000 Avg accuracy Top 5: 93.750000 on validation Dataset\n",
      "2022-02-03 21:35:55,300 - CompRatioSelect - INFO - Layer layer2.1.conv1.1, comp_ratio 0.333333 ==> eval_score=81.250000\n",
      "2022-02-03 21:35:55,301 - CompRatioSelect - INFO - Analyzing compression ratio: 0.6666666666666666666666666666 =====================>\n"
     ]
    },
    {
     "name": "stderr",
     "output_type": "stream",
     "text": [
      "/usr/local/lib/python3.6/dist-packages/aimet_torch/winnow/mask_propagation_winnower.py:96: UserWarning: To copy construct from a tensor, it is recommended to use sourceTensor.clone().detach() or sourceTensor.clone().detach().requires_grad_(True), rather than torch.tensor(sourceTensor).\n",
      "  dummy_input = torch.tensor(dummy_input).cuda()  # pylint: disable=not-callable\n",
      "/usr/local/lib/python3.6/dist-packages/aimet_torch/winnow/winnow_utils.py:186: UserWarning: To copy construct from a tensor, it is recommended to use sourceTensor.clone().detach() or sourceTensor.clone().detach().requires_grad_(True), rather than torch.tensor(sourceTensor).\n",
      "  result = torch.tensor(tensor)  # pylint: disable=not-callable\n"
     ]
    },
    {
     "name": "stdout",
     "output_type": "stream",
     "text": [
      "2022-02-03 21:35:56,204 - ChannelPruning - INFO - finished linear regression fit \n",
      "2022-02-03 21:35:57,025 - Dataloader - INFO - Dataset consists of 1000 images in 1000 classes\n",
      "2022-02-03 21:35:57,027 - Eval - INFO - Evaluating nn.Module for 1 iterations with batch_size 32\n"
     ]
    },
    {
     "name": "stderr",
     "output_type": "stream",
     "text": [
      "100% (1 of 1) |##########################| Elapsed Time: 0:00:00 Time:  0:00:00\n"
     ]
    },
    {
     "name": "stdout",
     "output_type": "stream",
     "text": [
      "2022-02-03 21:35:57,486 - Eval - INFO - Avg accuracy Top 1: 84.375000 Avg accuracy Top 5: 93.750000 on validation Dataset\n",
      "2022-02-03 21:35:57,488 - CompRatioSelect - INFO - Layer layer2.1.conv1.1, comp_ratio 0.666667 ==> eval_score=84.375000\n",
      "2022-02-03 21:35:57,489 - CompRatioSelect - INFO - Analyzing compression ratio: 0.3333333333333333333333333333 =====================>\n"
     ]
    },
    {
     "name": "stderr",
     "output_type": "stream",
     "text": [
      "/usr/local/lib/python3.6/dist-packages/aimet_torch/winnow/mask_propagation_winnower.py:96: UserWarning: To copy construct from a tensor, it is recommended to use sourceTensor.clone().detach() or sourceTensor.clone().detach().requires_grad_(True), rather than torch.tensor(sourceTensor).\n",
      "  dummy_input = torch.tensor(dummy_input).cuda()  # pylint: disable=not-callable\n",
      "/usr/local/lib/python3.6/dist-packages/aimet_torch/winnow/winnow_utils.py:186: UserWarning: To copy construct from a tensor, it is recommended to use sourceTensor.clone().detach() or sourceTensor.clone().detach().requires_grad_(True), rather than torch.tensor(sourceTensor).\n",
      "  result = torch.tensor(tensor)  # pylint: disable=not-callable\n"
     ]
    },
    {
     "name": "stdout",
     "output_type": "stream",
     "text": [
      "2022-02-03 21:35:58,416 - ChannelPruning - INFO - finished linear regression fit \n",
      "2022-02-03 21:35:59,313 - Dataloader - INFO - Dataset consists of 1000 images in 1000 classes\n",
      "2022-02-03 21:35:59,315 - Eval - INFO - Evaluating nn.Module for 1 iterations with batch_size 32\n"
     ]
    },
    {
     "name": "stderr",
     "output_type": "stream",
     "text": [
      "100% (1 of 1) |##########################| Elapsed Time: 0:00:00 Time:  0:00:00\n"
     ]
    },
    {
     "name": "stdout",
     "output_type": "stream",
     "text": [
      "2022-02-03 21:35:59,802 - Eval - INFO - Avg accuracy Top 1: 43.750000 Avg accuracy Top 5: 56.250000 on validation Dataset\n",
      "2022-02-03 21:35:59,806 - CompRatioSelect - INFO - Layer layer2.1.conv2, comp_ratio 0.333333 ==> eval_score=43.750000\n",
      "2022-02-03 21:35:59,807 - CompRatioSelect - INFO - Analyzing compression ratio: 0.6666666666666666666666666666 =====================>\n"
     ]
    },
    {
     "name": "stderr",
     "output_type": "stream",
     "text": [
      "/usr/local/lib/python3.6/dist-packages/aimet_torch/winnow/mask_propagation_winnower.py:96: UserWarning: To copy construct from a tensor, it is recommended to use sourceTensor.clone().detach() or sourceTensor.clone().detach().requires_grad_(True), rather than torch.tensor(sourceTensor).\n",
      "  dummy_input = torch.tensor(dummy_input).cuda()  # pylint: disable=not-callable\n",
      "/usr/local/lib/python3.6/dist-packages/aimet_torch/winnow/winnow_utils.py:186: UserWarning: To copy construct from a tensor, it is recommended to use sourceTensor.clone().detach() or sourceTensor.clone().detach().requires_grad_(True), rather than torch.tensor(sourceTensor).\n",
      "  result = torch.tensor(tensor)  # pylint: disable=not-callable\n"
     ]
    },
    {
     "name": "stdout",
     "output_type": "stream",
     "text": [
      "2022-02-03 21:36:00,756 - ChannelPruning - INFO - finished linear regression fit \n",
      "2022-02-03 21:36:01,548 - Dataloader - INFO - Dataset consists of 1000 images in 1000 classes\n",
      "2022-02-03 21:36:01,550 - Eval - INFO - Evaluating nn.Module for 1 iterations with batch_size 32\n"
     ]
    },
    {
     "name": "stderr",
     "output_type": "stream",
     "text": [
      "100% (1 of 1) |##########################| Elapsed Time: 0:00:00 Time:  0:00:00\n"
     ]
    },
    {
     "name": "stdout",
     "output_type": "stream",
     "text": [
      "2022-02-03 21:36:02,028 - Eval - INFO - Avg accuracy Top 1: 87.500000 Avg accuracy Top 5: 90.625000 on validation Dataset\n",
      "2022-02-03 21:36:02,030 - CompRatioSelect - INFO - Layer layer2.1.conv2, comp_ratio 0.666667 ==> eval_score=87.500000\n",
      "2022-02-03 21:36:02,031 - CompRatioSelect - INFO - Analyzing compression ratio: 0.3333333333333333333333333333 =====================>\n"
     ]
    },
    {
     "name": "stderr",
     "output_type": "stream",
     "text": [
      "/usr/local/lib/python3.6/dist-packages/aimet_torch/winnow/mask_propagation_winnower.py:96: UserWarning: To copy construct from a tensor, it is recommended to use sourceTensor.clone().detach() or sourceTensor.clone().detach().requires_grad_(True), rather than torch.tensor(sourceTensor).\n",
      "  dummy_input = torch.tensor(dummy_input).cuda()  # pylint: disable=not-callable\n"
     ]
    },
    {
     "name": "stdout",
     "output_type": "stream",
     "text": [
      "2022-02-03 21:36:02,975 - ChannelPruning - INFO - finished linear regression fit \n",
      "2022-02-03 21:36:03,907 - Dataloader - INFO - Dataset consists of 1000 images in 1000 classes\n",
      "2022-02-03 21:36:03,909 - Eval - INFO - Evaluating nn.Module for 1 iterations with batch_size 32\n"
     ]
    },
    {
     "name": "stderr",
     "output_type": "stream",
     "text": [
      "100% (1 of 1) |##########################| Elapsed Time: 0:00:00 Time:  0:00:00\n"
     ]
    },
    {
     "name": "stdout",
     "output_type": "stream",
     "text": [
      "2022-02-03 21:36:04,382 - Eval - INFO - Avg accuracy Top 1: 81.250000 Avg accuracy Top 5: 93.750000 on validation Dataset\n",
      "2022-02-03 21:36:04,384 - CompRatioSelect - INFO - Layer layer3.0.conv1.0, comp_ratio 0.333333 ==> eval_score=81.250000\n",
      "2022-02-03 21:36:04,386 - CompRatioSelect - INFO - Analyzing compression ratio: 0.6666666666666666666666666666 =====================>\n"
     ]
    },
    {
     "name": "stderr",
     "output_type": "stream",
     "text": [
      "/usr/local/lib/python3.6/dist-packages/aimet_torch/winnow/mask_propagation_winnower.py:96: UserWarning: To copy construct from a tensor, it is recommended to use sourceTensor.clone().detach() or sourceTensor.clone().detach().requires_grad_(True), rather than torch.tensor(sourceTensor).\n",
      "  dummy_input = torch.tensor(dummy_input).cuda()  # pylint: disable=not-callable\n"
     ]
    },
    {
     "name": "stdout",
     "output_type": "stream",
     "text": [
      "2022-02-03 21:36:05,295 - ChannelPruning - INFO - finished linear regression fit \n",
      "2022-02-03 21:36:06,176 - Dataloader - INFO - Dataset consists of 1000 images in 1000 classes\n",
      "2022-02-03 21:36:06,178 - Eval - INFO - Evaluating nn.Module for 1 iterations with batch_size 32\n"
     ]
    },
    {
     "name": "stderr",
     "output_type": "stream",
     "text": [
      "100% (1 of 1) |##########################| Elapsed Time: 0:00:00 Time:  0:00:00\n"
     ]
    },
    {
     "name": "stdout",
     "output_type": "stream",
     "text": [
      "2022-02-03 21:36:06,664 - Eval - INFO - Avg accuracy Top 1: 78.125000 Avg accuracy Top 5: 93.750000 on validation Dataset\n",
      "2022-02-03 21:36:06,668 - CompRatioSelect - INFO - Layer layer3.0.conv1.0, comp_ratio 0.666667 ==> eval_score=78.125000\n",
      "2022-02-03 21:36:06,669 - CompRatioSelect - INFO - Analyzing compression ratio: 0.3333333333333333333333333333 =====================>\n"
     ]
    },
    {
     "name": "stderr",
     "output_type": "stream",
     "text": [
      "/usr/local/lib/python3.6/dist-packages/aimet_torch/winnow/mask_propagation_winnower.py:96: UserWarning: To copy construct from a tensor, it is recommended to use sourceTensor.clone().detach() or sourceTensor.clone().detach().requires_grad_(True), rather than torch.tensor(sourceTensor).\n",
      "  dummy_input = torch.tensor(dummy_input).cuda()  # pylint: disable=not-callable\n",
      "/usr/local/lib/python3.6/dist-packages/aimet_torch/winnow/winnow_utils.py:186: UserWarning: To copy construct from a tensor, it is recommended to use sourceTensor.clone().detach() or sourceTensor.clone().detach().requires_grad_(True), rather than torch.tensor(sourceTensor).\n",
      "  result = torch.tensor(tensor)  # pylint: disable=not-callable\n"
     ]
    },
    {
     "name": "stdout",
     "output_type": "stream",
     "text": [
      "2022-02-03 21:36:07,538 - ChannelPruning - INFO - finished linear regression fit \n",
      "2022-02-03 21:36:08,598 - Dataloader - INFO - Dataset consists of 1000 images in 1000 classes\n",
      "2022-02-03 21:36:08,600 - Eval - INFO - Evaluating nn.Module for 1 iterations with batch_size 32\n"
     ]
    },
    {
     "name": "stderr",
     "output_type": "stream",
     "text": [
      "100% (1 of 1) |##########################| Elapsed Time: 0:00:00 Time:  0:00:00\n"
     ]
    },
    {
     "name": "stdout",
     "output_type": "stream",
     "text": [
      "2022-02-03 21:36:09,087 - Eval - INFO - Avg accuracy Top 1: 78.125000 Avg accuracy Top 5: 90.625000 on validation Dataset\n",
      "2022-02-03 21:36:09,089 - CompRatioSelect - INFO - Layer layer3.0.conv1.1, comp_ratio 0.333333 ==> eval_score=78.125000\n",
      "2022-02-03 21:36:09,090 - CompRatioSelect - INFO - Analyzing compression ratio: 0.6666666666666666666666666666 =====================>\n"
     ]
    },
    {
     "name": "stderr",
     "output_type": "stream",
     "text": [
      "/usr/local/lib/python3.6/dist-packages/aimet_torch/winnow/mask_propagation_winnower.py:96: UserWarning: To copy construct from a tensor, it is recommended to use sourceTensor.clone().detach() or sourceTensor.clone().detach().requires_grad_(True), rather than torch.tensor(sourceTensor).\n",
      "  dummy_input = torch.tensor(dummy_input).cuda()  # pylint: disable=not-callable\n",
      "/usr/local/lib/python3.6/dist-packages/aimet_torch/winnow/winnow_utils.py:186: UserWarning: To copy construct from a tensor, it is recommended to use sourceTensor.clone().detach() or sourceTensor.clone().detach().requires_grad_(True), rather than torch.tensor(sourceTensor).\n",
      "  result = torch.tensor(tensor)  # pylint: disable=not-callable\n"
     ]
    },
    {
     "name": "stdout",
     "output_type": "stream",
     "text": [
      "2022-02-03 21:36:10,008 - ChannelPruning - INFO - finished linear regression fit \n",
      "2022-02-03 21:36:10,802 - Dataloader - INFO - Dataset consists of 1000 images in 1000 classes\n",
      "2022-02-03 21:36:10,804 - Eval - INFO - Evaluating nn.Module for 1 iterations with batch_size 32\n"
     ]
    },
    {
     "name": "stderr",
     "output_type": "stream",
     "text": [
      "100% (1 of 1) |##########################| Elapsed Time: 0:00:00 Time:  0:00:00\n"
     ]
    },
    {
     "name": "stdout",
     "output_type": "stream",
     "text": [
      "2022-02-03 21:36:11,259 - Eval - INFO - Avg accuracy Top 1: 84.375000 Avg accuracy Top 5: 93.750000 on validation Dataset\n",
      "2022-02-03 21:36:11,261 - CompRatioSelect - INFO - Layer layer3.0.conv1.1, comp_ratio 0.666667 ==> eval_score=84.375000\n",
      "2022-02-03 21:36:11,261 - CompRatioSelect - INFO - Analyzing compression ratio: 0.3333333333333333333333333333 =====================>\n"
     ]
    },
    {
     "name": "stderr",
     "output_type": "stream",
     "text": [
      "/usr/local/lib/python3.6/dist-packages/aimet_torch/winnow/mask_propagation_winnower.py:96: UserWarning: To copy construct from a tensor, it is recommended to use sourceTensor.clone().detach() or sourceTensor.clone().detach().requires_grad_(True), rather than torch.tensor(sourceTensor).\n",
      "  dummy_input = torch.tensor(dummy_input).cuda()  # pylint: disable=not-callable\n",
      "/usr/local/lib/python3.6/dist-packages/aimet_torch/winnow/winnow_utils.py:186: UserWarning: To copy construct from a tensor, it is recommended to use sourceTensor.clone().detach() or sourceTensor.clone().detach().requires_grad_(True), rather than torch.tensor(sourceTensor).\n",
      "  result = torch.tensor(tensor)  # pylint: disable=not-callable\n"
     ]
    },
    {
     "name": "stdout",
     "output_type": "stream",
     "text": [
      "2022-02-03 21:36:12,384 - ChannelPruning - INFO - finished linear regression fit \n",
      "2022-02-03 21:36:13,223 - Dataloader - INFO - Dataset consists of 1000 images in 1000 classes\n",
      "2022-02-03 21:36:13,225 - Eval - INFO - Evaluating nn.Module for 1 iterations with batch_size 32\n"
     ]
    },
    {
     "name": "stderr",
     "output_type": "stream",
     "text": [
      "100% (1 of 1) |##########################| Elapsed Time: 0:00:00 Time:  0:00:00\n"
     ]
    },
    {
     "name": "stdout",
     "output_type": "stream",
     "text": [
      "2022-02-03 21:36:13,846 - Eval - INFO - Avg accuracy Top 1: 59.375000 Avg accuracy Top 5: 87.500000 on validation Dataset\n",
      "2022-02-03 21:36:13,850 - CompRatioSelect - INFO - Layer layer3.0.conv2, comp_ratio 0.333333 ==> eval_score=59.375000\n",
      "2022-02-03 21:36:13,851 - CompRatioSelect - INFO - Analyzing compression ratio: 0.6666666666666666666666666666 =====================>\n"
     ]
    },
    {
     "name": "stderr",
     "output_type": "stream",
     "text": [
      "/usr/local/lib/python3.6/dist-packages/aimet_torch/winnow/mask_propagation_winnower.py:96: UserWarning: To copy construct from a tensor, it is recommended to use sourceTensor.clone().detach() or sourceTensor.clone().detach().requires_grad_(True), rather than torch.tensor(sourceTensor).\n",
      "  dummy_input = torch.tensor(dummy_input).cuda()  # pylint: disable=not-callable\n",
      "/usr/local/lib/python3.6/dist-packages/aimet_torch/winnow/winnow_utils.py:186: UserWarning: To copy construct from a tensor, it is recommended to use sourceTensor.clone().detach() or sourceTensor.clone().detach().requires_grad_(True), rather than torch.tensor(sourceTensor).\n",
      "  result = torch.tensor(tensor)  # pylint: disable=not-callable\n"
     ]
    },
    {
     "name": "stdout",
     "output_type": "stream",
     "text": [
      "2022-02-03 21:36:14,958 - ChannelPruning - INFO - finished linear regression fit \n",
      "2022-02-03 21:36:15,789 - Dataloader - INFO - Dataset consists of 1000 images in 1000 classes\n",
      "2022-02-03 21:36:15,791 - Eval - INFO - Evaluating nn.Module for 1 iterations with batch_size 32\n"
     ]
    },
    {
     "name": "stderr",
     "output_type": "stream",
     "text": [
      "100% (1 of 1) |##########################| Elapsed Time: 0:00:00 Time:  0:00:00\n"
     ]
    },
    {
     "name": "stdout",
     "output_type": "stream",
     "text": [
      "2022-02-03 21:36:16,286 - Eval - INFO - Avg accuracy Top 1: 71.875000 Avg accuracy Top 5: 90.625000 on validation Dataset\n",
      "2022-02-03 21:36:16,288 - CompRatioSelect - INFO - Layer layer3.0.conv2, comp_ratio 0.666667 ==> eval_score=71.875000\n",
      "2022-02-03 21:36:16,289 - CompRatioSelect - INFO - Analyzing compression ratio: 0.3333333333333333333333333333 =====================>\n"
     ]
    },
    {
     "name": "stderr",
     "output_type": "stream",
     "text": [
      "/usr/local/lib/python3.6/dist-packages/aimet_torch/winnow/mask_propagation_winnower.py:96: UserWarning: To copy construct from a tensor, it is recommended to use sourceTensor.clone().detach() or sourceTensor.clone().detach().requires_grad_(True), rather than torch.tensor(sourceTensor).\n",
      "  dummy_input = torch.tensor(dummy_input).cuda()  # pylint: disable=not-callable\n"
     ]
    },
    {
     "name": "stdout",
     "output_type": "stream",
     "text": [
      "2022-02-03 21:36:17,167 - ChannelPruning - INFO - finished linear regression fit \n",
      "2022-02-03 21:36:17,940 - Dataloader - INFO - Dataset consists of 1000 images in 1000 classes\n",
      "2022-02-03 21:36:17,942 - Eval - INFO - Evaluating nn.Module for 1 iterations with batch_size 32\n"
     ]
    },
    {
     "name": "stderr",
     "output_type": "stream",
     "text": [
      "100% (1 of 1) |##########################| Elapsed Time: 0:00:00 Time:  0:00:00\n"
     ]
    },
    {
     "name": "stdout",
     "output_type": "stream",
     "text": [
      "2022-02-03 21:36:18,399 - Eval - INFO - Avg accuracy Top 1: 81.250000 Avg accuracy Top 5: 93.750000 on validation Dataset\n",
      "2022-02-03 21:36:18,400 - CompRatioSelect - INFO - Layer layer3.0.downsample.0.0, comp_ratio 0.333333 ==> eval_score=81.250000\n",
      "2022-02-03 21:36:18,401 - CompRatioSelect - INFO - Analyzing compression ratio: 0.6666666666666666666666666666 =====================>\n"
     ]
    },
    {
     "name": "stderr",
     "output_type": "stream",
     "text": [
      "/usr/local/lib/python3.6/dist-packages/aimet_torch/winnow/mask_propagation_winnower.py:96: UserWarning: To copy construct from a tensor, it is recommended to use sourceTensor.clone().detach() or sourceTensor.clone().detach().requires_grad_(True), rather than torch.tensor(sourceTensor).\n",
      "  dummy_input = torch.tensor(dummy_input).cuda()  # pylint: disable=not-callable\n"
     ]
    },
    {
     "name": "stdout",
     "output_type": "stream",
     "text": [
      "2022-02-03 21:36:19,259 - ChannelPruning - INFO - finished linear regression fit \n",
      "2022-02-03 21:36:20,072 - Dataloader - INFO - Dataset consists of 1000 images in 1000 classes\n",
      "2022-02-03 21:36:20,074 - Eval - INFO - Evaluating nn.Module for 1 iterations with batch_size 32\n"
     ]
    },
    {
     "name": "stderr",
     "output_type": "stream",
     "text": [
      "100% (1 of 1) |##########################| Elapsed Time: 0:00:00 Time:  0:00:00\n"
     ]
    },
    {
     "name": "stdout",
     "output_type": "stream",
     "text": [
      "2022-02-03 21:36:20,565 - Eval - INFO - Avg accuracy Top 1: 81.250000 Avg accuracy Top 5: 93.750000 on validation Dataset\n",
      "2022-02-03 21:36:20,569 - CompRatioSelect - INFO - Layer layer3.0.downsample.0.0, comp_ratio 0.666667 ==> eval_score=81.250000\n",
      "2022-02-03 21:36:20,571 - CompRatioSelect - INFO - Analyzing compression ratio: 0.3333333333333333333333333333 =====================>\n"
     ]
    },
    {
     "name": "stderr",
     "output_type": "stream",
     "text": [
      "/usr/local/lib/python3.6/dist-packages/aimet_torch/winnow/mask_propagation_winnower.py:96: UserWarning: To copy construct from a tensor, it is recommended to use sourceTensor.clone().detach() or sourceTensor.clone().detach().requires_grad_(True), rather than torch.tensor(sourceTensor).\n",
      "  dummy_input = torch.tensor(dummy_input).cuda()  # pylint: disable=not-callable\n",
      "/usr/local/lib/python3.6/dist-packages/aimet_torch/winnow/winnow_utils.py:186: UserWarning: To copy construct from a tensor, it is recommended to use sourceTensor.clone().detach() or sourceTensor.clone().detach().requires_grad_(True), rather than torch.tensor(sourceTensor).\n",
      "  result = torch.tensor(tensor)  # pylint: disable=not-callable\n"
     ]
    },
    {
     "name": "stdout",
     "output_type": "stream",
     "text": [
      "2022-02-03 21:36:21,426 - ChannelPruning - INFO - finished linear regression fit \n",
      "2022-02-03 21:36:22,308 - Dataloader - INFO - Dataset consists of 1000 images in 1000 classes\n",
      "2022-02-03 21:36:22,310 - Eval - INFO - Evaluating nn.Module for 1 iterations with batch_size 32\n"
     ]
    },
    {
     "name": "stderr",
     "output_type": "stream",
     "text": [
      "100% (1 of 1) |##########################| Elapsed Time: 0:00:00 Time:  0:00:00\n"
     ]
    },
    {
     "name": "stdout",
     "output_type": "stream",
     "text": [
      "2022-02-03 21:36:22,803 - Eval - INFO - Avg accuracy Top 1: 81.250000 Avg accuracy Top 5: 90.625000 on validation Dataset\n",
      "2022-02-03 21:36:22,805 - CompRatioSelect - INFO - Layer layer3.0.downsample.0.1, comp_ratio 0.333333 ==> eval_score=81.250000\n",
      "2022-02-03 21:36:22,805 - CompRatioSelect - INFO - Analyzing compression ratio: 0.6666666666666666666666666666 =====================>\n"
     ]
    },
    {
     "name": "stderr",
     "output_type": "stream",
     "text": [
      "/usr/local/lib/python3.6/dist-packages/aimet_torch/winnow/mask_propagation_winnower.py:96: UserWarning: To copy construct from a tensor, it is recommended to use sourceTensor.clone().detach() or sourceTensor.clone().detach().requires_grad_(True), rather than torch.tensor(sourceTensor).\n",
      "  dummy_input = torch.tensor(dummy_input).cuda()  # pylint: disable=not-callable\n",
      "/usr/local/lib/python3.6/dist-packages/aimet_torch/winnow/winnow_utils.py:186: UserWarning: To copy construct from a tensor, it is recommended to use sourceTensor.clone().detach() or sourceTensor.clone().detach().requires_grad_(True), rather than torch.tensor(sourceTensor).\n",
      "  result = torch.tensor(tensor)  # pylint: disable=not-callable\n"
     ]
    },
    {
     "name": "stdout",
     "output_type": "stream",
     "text": [
      "2022-02-03 21:36:23,681 - ChannelPruning - INFO - finished linear regression fit \n",
      "2022-02-03 21:36:24,672 - Dataloader - INFO - Dataset consists of 1000 images in 1000 classes\n",
      "2022-02-03 21:36:24,675 - Eval - INFO - Evaluating nn.Module for 1 iterations with batch_size 32\n"
     ]
    },
    {
     "name": "stderr",
     "output_type": "stream",
     "text": [
      "100% (1 of 1) |##########################| Elapsed Time: 0:00:00 Time:  0:00:00\n"
     ]
    },
    {
     "name": "stdout",
     "output_type": "stream",
     "text": [
      "2022-02-03 21:36:25,185 - Eval - INFO - Avg accuracy Top 1: 81.250000 Avg accuracy Top 5: 93.750000 on validation Dataset\n",
      "2022-02-03 21:36:25,188 - CompRatioSelect - INFO - Layer layer3.0.downsample.0.1, comp_ratio 0.666667 ==> eval_score=81.250000\n",
      "2022-02-03 21:36:25,189 - CompRatioSelect - INFO - Analyzing compression ratio: 0.3333333333333333333333333333 =====================>\n"
     ]
    },
    {
     "name": "stderr",
     "output_type": "stream",
     "text": [
      "/usr/local/lib/python3.6/dist-packages/aimet_torch/winnow/mask_propagation_winnower.py:96: UserWarning: To copy construct from a tensor, it is recommended to use sourceTensor.clone().detach() or sourceTensor.clone().detach().requires_grad_(True), rather than torch.tensor(sourceTensor).\n",
      "  dummy_input = torch.tensor(dummy_input).cuda()  # pylint: disable=not-callable\n"
     ]
    },
    {
     "name": "stdout",
     "output_type": "stream",
     "text": [
      "2022-02-03 21:36:26,149 - ChannelPruning - INFO - finished linear regression fit \n",
      "2022-02-03 21:36:27,128 - Dataloader - INFO - Dataset consists of 1000 images in 1000 classes\n",
      "2022-02-03 21:36:27,130 - Eval - INFO - Evaluating nn.Module for 1 iterations with batch_size 32\n"
     ]
    },
    {
     "name": "stderr",
     "output_type": "stream",
     "text": [
      "100% (1 of 1) |##########################| Elapsed Time: 0:00:00 Time:  0:00:00\n"
     ]
    },
    {
     "name": "stdout",
     "output_type": "stream",
     "text": [
      "2022-02-03 21:36:27,611 - Eval - INFO - Avg accuracy Top 1: 78.125000 Avg accuracy Top 5: 93.750000 on validation Dataset\n",
      "2022-02-03 21:36:27,613 - CompRatioSelect - INFO - Layer layer3.1.conv1.0, comp_ratio 0.333333 ==> eval_score=78.125000\n",
      "2022-02-03 21:36:27,613 - CompRatioSelect - INFO - Analyzing compression ratio: 0.6666666666666666666666666666 =====================>\n"
     ]
    },
    {
     "name": "stderr",
     "output_type": "stream",
     "text": [
      "/usr/local/lib/python3.6/dist-packages/aimet_torch/winnow/mask_propagation_winnower.py:96: UserWarning: To copy construct from a tensor, it is recommended to use sourceTensor.clone().detach() or sourceTensor.clone().detach().requires_grad_(True), rather than torch.tensor(sourceTensor).\n",
      "  dummy_input = torch.tensor(dummy_input).cuda()  # pylint: disable=not-callable\n"
     ]
    },
    {
     "name": "stdout",
     "output_type": "stream",
     "text": [
      "2022-02-03 21:36:28,534 - ChannelPruning - INFO - finished linear regression fit \n",
      "2022-02-03 21:36:29,402 - Dataloader - INFO - Dataset consists of 1000 images in 1000 classes\n",
      "2022-02-03 21:36:29,404 - Eval - INFO - Evaluating nn.Module for 1 iterations with batch_size 32\n"
     ]
    },
    {
     "name": "stderr",
     "output_type": "stream",
     "text": [
      "100% (1 of 1) |##########################| Elapsed Time: 0:00:00 Time:  0:00:00\n"
     ]
    },
    {
     "name": "stdout",
     "output_type": "stream",
     "text": [
      "2022-02-03 21:36:29,873 - Eval - INFO - Avg accuracy Top 1: 71.875000 Avg accuracy Top 5: 93.750000 on validation Dataset\n",
      "2022-02-03 21:36:29,875 - CompRatioSelect - INFO - Layer layer3.1.conv1.0, comp_ratio 0.666667 ==> eval_score=71.875000\n",
      "2022-02-03 21:36:29,876 - CompRatioSelect - INFO - Analyzing compression ratio: 0.3333333333333333333333333333 =====================>\n"
     ]
    },
    {
     "name": "stderr",
     "output_type": "stream",
     "text": [
      "/usr/local/lib/python3.6/dist-packages/aimet_torch/winnow/mask_propagation_winnower.py:96: UserWarning: To copy construct from a tensor, it is recommended to use sourceTensor.clone().detach() or sourceTensor.clone().detach().requires_grad_(True), rather than torch.tensor(sourceTensor).\n",
      "  dummy_input = torch.tensor(dummy_input).cuda()  # pylint: disable=not-callable\n",
      "/usr/local/lib/python3.6/dist-packages/aimet_torch/winnow/winnow_utils.py:186: UserWarning: To copy construct from a tensor, it is recommended to use sourceTensor.clone().detach() or sourceTensor.clone().detach().requires_grad_(True), rather than torch.tensor(sourceTensor).\n",
      "  result = torch.tensor(tensor)  # pylint: disable=not-callable\n"
     ]
    },
    {
     "name": "stdout",
     "output_type": "stream",
     "text": [
      "2022-02-03 21:36:30,763 - ChannelPruning - INFO - finished linear regression fit \n",
      "2022-02-03 21:36:31,551 - Dataloader - INFO - Dataset consists of 1000 images in 1000 classes\n",
      "2022-02-03 21:36:31,553 - Eval - INFO - Evaluating nn.Module for 1 iterations with batch_size 32\n"
     ]
    },
    {
     "name": "stderr",
     "output_type": "stream",
     "text": [
      "100% (1 of 1) |##########################| Elapsed Time: 0:00:00 Time:  0:00:00\n"
     ]
    },
    {
     "name": "stdout",
     "output_type": "stream",
     "text": [
      "2022-02-03 21:36:31,998 - Eval - INFO - Avg accuracy Top 1: 84.375000 Avg accuracy Top 5: 90.625000 on validation Dataset\n",
      "2022-02-03 21:36:32,000 - CompRatioSelect - INFO - Layer layer3.1.conv1.1, comp_ratio 0.333333 ==> eval_score=84.375000\n",
      "2022-02-03 21:36:32,000 - CompRatioSelect - INFO - Analyzing compression ratio: 0.6666666666666666666666666666 =====================>\n"
     ]
    },
    {
     "name": "stderr",
     "output_type": "stream",
     "text": [
      "/usr/local/lib/python3.6/dist-packages/aimet_torch/winnow/mask_propagation_winnower.py:96: UserWarning: To copy construct from a tensor, it is recommended to use sourceTensor.clone().detach() or sourceTensor.clone().detach().requires_grad_(True), rather than torch.tensor(sourceTensor).\n",
      "  dummy_input = torch.tensor(dummy_input).cuda()  # pylint: disable=not-callable\n",
      "/usr/local/lib/python3.6/dist-packages/aimet_torch/winnow/winnow_utils.py:186: UserWarning: To copy construct from a tensor, it is recommended to use sourceTensor.clone().detach() or sourceTensor.clone().detach().requires_grad_(True), rather than torch.tensor(sourceTensor).\n",
      "  result = torch.tensor(tensor)  # pylint: disable=not-callable\n"
     ]
    },
    {
     "name": "stdout",
     "output_type": "stream",
     "text": [
      "2022-02-03 21:36:32,893 - ChannelPruning - INFO - finished linear regression fit \n",
      "2022-02-03 21:36:33,763 - Dataloader - INFO - Dataset consists of 1000 images in 1000 classes\n",
      "2022-02-03 21:36:33,765 - Eval - INFO - Evaluating nn.Module for 1 iterations with batch_size 32\n"
     ]
    },
    {
     "name": "stderr",
     "output_type": "stream",
     "text": [
      "100% (1 of 1) |##########################| Elapsed Time: 0:00:00 Time:  0:00:00\n"
     ]
    },
    {
     "name": "stdout",
     "output_type": "stream",
     "text": [
      "2022-02-03 21:36:34,272 - Eval - INFO - Avg accuracy Top 1: 78.125000 Avg accuracy Top 5: 96.875000 on validation Dataset\n",
      "2022-02-03 21:36:34,275 - CompRatioSelect - INFO - Layer layer3.1.conv1.1, comp_ratio 0.666667 ==> eval_score=78.125000\n",
      "2022-02-03 21:36:34,277 - CompRatioSelect - INFO - Analyzing compression ratio: 0.3333333333333333333333333333 =====================>\n"
     ]
    },
    {
     "name": "stderr",
     "output_type": "stream",
     "text": [
      "/usr/local/lib/python3.6/dist-packages/aimet_torch/winnow/mask_propagation_winnower.py:96: UserWarning: To copy construct from a tensor, it is recommended to use sourceTensor.clone().detach() or sourceTensor.clone().detach().requires_grad_(True), rather than torch.tensor(sourceTensor).\n",
      "  dummy_input = torch.tensor(dummy_input).cuda()  # pylint: disable=not-callable\n",
      "/usr/local/lib/python3.6/dist-packages/aimet_torch/winnow/winnow_utils.py:186: UserWarning: To copy construct from a tensor, it is recommended to use sourceTensor.clone().detach() or sourceTensor.clone().detach().requires_grad_(True), rather than torch.tensor(sourceTensor).\n",
      "  result = torch.tensor(tensor)  # pylint: disable=not-callable\n"
     ]
    },
    {
     "name": "stdout",
     "output_type": "stream",
     "text": [
      "2022-02-03 21:36:35,203 - ChannelPruning - INFO - finished linear regression fit \n",
      "2022-02-03 21:36:36,007 - Dataloader - INFO - Dataset consists of 1000 images in 1000 classes\n",
      "2022-02-03 21:36:36,009 - Eval - INFO - Evaluating nn.Module for 1 iterations with batch_size 32\n"
     ]
    },
    {
     "name": "stderr",
     "output_type": "stream",
     "text": [
      "100% (1 of 1) |##########################| Elapsed Time: 0:00:00 Time:  0:00:00\n"
     ]
    },
    {
     "name": "stdout",
     "output_type": "stream",
     "text": [
      "2022-02-03 21:36:36,488 - Eval - INFO - Avg accuracy Top 1: 56.250000 Avg accuracy Top 5: 78.125000 on validation Dataset\n",
      "2022-02-03 21:36:36,490 - CompRatioSelect - INFO - Layer layer3.1.conv2.0, comp_ratio 0.333333 ==> eval_score=56.250000\n",
      "2022-02-03 21:36:36,491 - CompRatioSelect - INFO - Analyzing compression ratio: 0.6666666666666666666666666666 =====================>\n"
     ]
    },
    {
     "name": "stderr",
     "output_type": "stream",
     "text": [
      "/usr/local/lib/python3.6/dist-packages/aimet_torch/winnow/mask_propagation_winnower.py:96: UserWarning: To copy construct from a tensor, it is recommended to use sourceTensor.clone().detach() or sourceTensor.clone().detach().requires_grad_(True), rather than torch.tensor(sourceTensor).\n",
      "  dummy_input = torch.tensor(dummy_input).cuda()  # pylint: disable=not-callable\n",
      "/usr/local/lib/python3.6/dist-packages/aimet_torch/winnow/winnow_utils.py:186: UserWarning: To copy construct from a tensor, it is recommended to use sourceTensor.clone().detach() or sourceTensor.clone().detach().requires_grad_(True), rather than torch.tensor(sourceTensor).\n",
      "  result = torch.tensor(tensor)  # pylint: disable=not-callable\n"
     ]
    },
    {
     "name": "stdout",
     "output_type": "stream",
     "text": [
      "2022-02-03 21:36:37,420 - ChannelPruning - INFO - finished linear regression fit \n",
      "2022-02-03 21:36:38,370 - Dataloader - INFO - Dataset consists of 1000 images in 1000 classes\n",
      "2022-02-03 21:36:38,372 - Eval - INFO - Evaluating nn.Module for 1 iterations with batch_size 32\n"
     ]
    },
    {
     "name": "stderr",
     "output_type": "stream",
     "text": [
      "100% (1 of 1) |##########################| Elapsed Time: 0:00:00 Time:  0:00:00\n"
     ]
    },
    {
     "name": "stdout",
     "output_type": "stream",
     "text": [
      "2022-02-03 21:36:38,847 - Eval - INFO - Avg accuracy Top 1: 75.000000 Avg accuracy Top 5: 93.750000 on validation Dataset\n",
      "2022-02-03 21:36:38,850 - CompRatioSelect - INFO - Layer layer3.1.conv2.0, comp_ratio 0.666667 ==> eval_score=75.000000\n",
      "2022-02-03 21:36:38,851 - CompRatioSelect - INFO - Analyzing compression ratio: 0.3333333333333333333333333333 =====================>\n"
     ]
    },
    {
     "name": "stderr",
     "output_type": "stream",
     "text": [
      "/usr/local/lib/python3.6/dist-packages/aimet_torch/winnow/mask_propagation_winnower.py:96: UserWarning: To copy construct from a tensor, it is recommended to use sourceTensor.clone().detach() or sourceTensor.clone().detach().requires_grad_(True), rather than torch.tensor(sourceTensor).\n",
      "  dummy_input = torch.tensor(dummy_input).cuda()  # pylint: disable=not-callable\n",
      "/usr/local/lib/python3.6/dist-packages/aimet_torch/winnow/winnow_utils.py:186: UserWarning: To copy construct from a tensor, it is recommended to use sourceTensor.clone().detach() or sourceTensor.clone().detach().requires_grad_(True), rather than torch.tensor(sourceTensor).\n",
      "  result = torch.tensor(tensor)  # pylint: disable=not-callable\n"
     ]
    },
    {
     "name": "stdout",
     "output_type": "stream",
     "text": [
      "2022-02-03 21:36:39,780 - ChannelPruning - INFO - finished linear regression fit \n",
      "2022-02-03 21:36:40,616 - Dataloader - INFO - Dataset consists of 1000 images in 1000 classes\n",
      "2022-02-03 21:36:40,618 - Eval - INFO - Evaluating nn.Module for 1 iterations with batch_size 32\n"
     ]
    },
    {
     "name": "stderr",
     "output_type": "stream",
     "text": [
      "100% (1 of 1) |##########################| Elapsed Time: 0:00:00 Time:  0:00:00\n"
     ]
    },
    {
     "name": "stdout",
     "output_type": "stream",
     "text": [
      "2022-02-03 21:36:41,076 - Eval - INFO - Avg accuracy Top 1: 71.875000 Avg accuracy Top 5: 96.875000 on validation Dataset\n",
      "2022-02-03 21:36:41,080 - CompRatioSelect - INFO - Layer layer3.1.conv2.1, comp_ratio 0.333333 ==> eval_score=71.875000\n",
      "2022-02-03 21:36:41,081 - CompRatioSelect - INFO - Analyzing compression ratio: 0.6666666666666666666666666666 =====================>\n"
     ]
    },
    {
     "name": "stderr",
     "output_type": "stream",
     "text": [
      "/usr/local/lib/python3.6/dist-packages/aimet_torch/winnow/mask_propagation_winnower.py:96: UserWarning: To copy construct from a tensor, it is recommended to use sourceTensor.clone().detach() or sourceTensor.clone().detach().requires_grad_(True), rather than torch.tensor(sourceTensor).\n",
      "  dummy_input = torch.tensor(dummy_input).cuda()  # pylint: disable=not-callable\n",
      "/usr/local/lib/python3.6/dist-packages/aimet_torch/winnow/winnow_utils.py:186: UserWarning: To copy construct from a tensor, it is recommended to use sourceTensor.clone().detach() or sourceTensor.clone().detach().requires_grad_(True), rather than torch.tensor(sourceTensor).\n",
      "  result = torch.tensor(tensor)  # pylint: disable=not-callable\n"
     ]
    },
    {
     "name": "stdout",
     "output_type": "stream",
     "text": [
      "2022-02-03 21:36:42,025 - ChannelPruning - INFO - finished linear regression fit \n",
      "2022-02-03 21:36:42,913 - Dataloader - INFO - Dataset consists of 1000 images in 1000 classes\n",
      "2022-02-03 21:36:42,915 - Eval - INFO - Evaluating nn.Module for 1 iterations with batch_size 32\n"
     ]
    },
    {
     "name": "stderr",
     "output_type": "stream",
     "text": [
      "100% (1 of 1) |##########################| Elapsed Time: 0:00:00 Time:  0:00:00\n"
     ]
    },
    {
     "name": "stdout",
     "output_type": "stream",
     "text": [
      "2022-02-03 21:36:43,412 - Eval - INFO - Avg accuracy Top 1: 84.375000 Avg accuracy Top 5: 93.750000 on validation Dataset\n",
      "2022-02-03 21:36:43,414 - CompRatioSelect - INFO - Layer layer3.1.conv2.1, comp_ratio 0.666667 ==> eval_score=84.375000\n",
      "2022-02-03 21:36:43,414 - CompRatioSelect - INFO - Analyzing compression ratio: 0.3333333333333333333333333333 =====================>\n"
     ]
    },
    {
     "name": "stderr",
     "output_type": "stream",
     "text": [
      "/usr/local/lib/python3.6/dist-packages/aimet_torch/winnow/mask_propagation_winnower.py:96: UserWarning: To copy construct from a tensor, it is recommended to use sourceTensor.clone().detach() or sourceTensor.clone().detach().requires_grad_(True), rather than torch.tensor(sourceTensor).\n",
      "  dummy_input = torch.tensor(dummy_input).cuda()  # pylint: disable=not-callable\n"
     ]
    },
    {
     "name": "stdout",
     "output_type": "stream",
     "text": [
      "2022-02-03 21:36:44,417 - ChannelPruning - INFO - finished linear regression fit \n",
      "2022-02-03 21:36:45,255 - Dataloader - INFO - Dataset consists of 1000 images in 1000 classes\n",
      "2022-02-03 21:36:45,257 - Eval - INFO - Evaluating nn.Module for 1 iterations with batch_size 32\n"
     ]
    },
    {
     "name": "stderr",
     "output_type": "stream",
     "text": [
      "100% (1 of 1) |##########################| Elapsed Time: 0:00:00 Time:  0:00:00\n"
     ]
    },
    {
     "name": "stdout",
     "output_type": "stream",
     "text": [
      "2022-02-03 21:36:45,771 - Eval - INFO - Avg accuracy Top 1: 71.875000 Avg accuracy Top 5: 93.750000 on validation Dataset\n",
      "2022-02-03 21:36:45,772 - CompRatioSelect - INFO - Layer layer4.0.conv1, comp_ratio 0.333333 ==> eval_score=71.875000\n",
      "2022-02-03 21:36:45,772 - CompRatioSelect - INFO - Analyzing compression ratio: 0.6666666666666666666666666666 =====================>\n"
     ]
    },
    {
     "name": "stderr",
     "output_type": "stream",
     "text": [
      "/usr/local/lib/python3.6/dist-packages/aimet_torch/winnow/mask_propagation_winnower.py:96: UserWarning: To copy construct from a tensor, it is recommended to use sourceTensor.clone().detach() or sourceTensor.clone().detach().requires_grad_(True), rather than torch.tensor(sourceTensor).\n",
      "  dummy_input = torch.tensor(dummy_input).cuda()  # pylint: disable=not-callable\n"
     ]
    },
    {
     "name": "stdout",
     "output_type": "stream",
     "text": [
      "2022-02-03 21:36:46,781 - ChannelPruning - INFO - finished linear regression fit \n",
      "2022-02-03 21:36:47,611 - Dataloader - INFO - Dataset consists of 1000 images in 1000 classes\n",
      "2022-02-03 21:36:47,614 - Eval - INFO - Evaluating nn.Module for 1 iterations with batch_size 32\n"
     ]
    },
    {
     "name": "stderr",
     "output_type": "stream",
     "text": [
      "100% (1 of 1) |##########################| Elapsed Time: 0:00:00 Time:  0:00:00\n"
     ]
    },
    {
     "name": "stdout",
     "output_type": "stream",
     "text": [
      "2022-02-03 21:36:48,090 - Eval - INFO - Avg accuracy Top 1: 75.000000 Avg accuracy Top 5: 90.625000 on validation Dataset\n",
      "2022-02-03 21:36:48,094 - CompRatioSelect - INFO - Layer layer4.0.conv1, comp_ratio 0.666667 ==> eval_score=75.000000\n",
      "2022-02-03 21:36:48,095 - CompRatioSelect - INFO - Analyzing compression ratio: 0.3333333333333333333333333333 =====================>\n"
     ]
    },
    {
     "name": "stderr",
     "output_type": "stream",
     "text": [
      "/usr/local/lib/python3.6/dist-packages/aimet_torch/winnow/mask_propagation_winnower.py:96: UserWarning: To copy construct from a tensor, it is recommended to use sourceTensor.clone().detach() or sourceTensor.clone().detach().requires_grad_(True), rather than torch.tensor(sourceTensor).\n",
      "  dummy_input = torch.tensor(dummy_input).cuda()  # pylint: disable=not-callable\n",
      "/usr/local/lib/python3.6/dist-packages/aimet_torch/winnow/winnow_utils.py:186: UserWarning: To copy construct from a tensor, it is recommended to use sourceTensor.clone().detach() or sourceTensor.clone().detach().requires_grad_(True), rather than torch.tensor(sourceTensor).\n",
      "  result = torch.tensor(tensor)  # pylint: disable=not-callable\n"
     ]
    },
    {
     "name": "stdout",
     "output_type": "stream",
     "text": [
      "2022-02-03 21:36:49,095 - ChannelPruning - INFO - finished linear regression fit \n",
      "2022-02-03 21:36:49,841 - Dataloader - INFO - Dataset consists of 1000 images in 1000 classes\n",
      "2022-02-03 21:36:49,843 - Eval - INFO - Evaluating nn.Module for 1 iterations with batch_size 32\n"
     ]
    },
    {
     "name": "stderr",
     "output_type": "stream",
     "text": [
      "100% (1 of 1) |##########################| Elapsed Time: 0:00:00 Time:  0:00:00\n"
     ]
    },
    {
     "name": "stdout",
     "output_type": "stream",
     "text": [
      "2022-02-03 21:36:50,316 - Eval - INFO - Avg accuracy Top 1: 59.375000 Avg accuracy Top 5: 78.125000 on validation Dataset\n",
      "2022-02-03 21:36:50,317 - CompRatioSelect - INFO - Layer layer4.0.conv2.0, comp_ratio 0.333333 ==> eval_score=59.375000\n",
      "2022-02-03 21:36:50,318 - CompRatioSelect - INFO - Analyzing compression ratio: 0.6666666666666666666666666666 =====================>\n"
     ]
    },
    {
     "name": "stderr",
     "output_type": "stream",
     "text": [
      "/usr/local/lib/python3.6/dist-packages/aimet_torch/winnow/mask_propagation_winnower.py:96: UserWarning: To copy construct from a tensor, it is recommended to use sourceTensor.clone().detach() or sourceTensor.clone().detach().requires_grad_(True), rather than torch.tensor(sourceTensor).\n",
      "  dummy_input = torch.tensor(dummy_input).cuda()  # pylint: disable=not-callable\n",
      "/usr/local/lib/python3.6/dist-packages/aimet_torch/winnow/winnow_utils.py:186: UserWarning: To copy construct from a tensor, it is recommended to use sourceTensor.clone().detach() or sourceTensor.clone().detach().requires_grad_(True), rather than torch.tensor(sourceTensor).\n",
      "  result = torch.tensor(tensor)  # pylint: disable=not-callable\n"
     ]
    },
    {
     "name": "stdout",
     "output_type": "stream",
     "text": [
      "2022-02-03 21:36:51,370 - ChannelPruning - INFO - finished linear regression fit \n",
      "2022-02-03 21:36:52,130 - Dataloader - INFO - Dataset consists of 1000 images in 1000 classes\n",
      "2022-02-03 21:36:52,132 - Eval - INFO - Evaluating nn.Module for 1 iterations with batch_size 32\n"
     ]
    },
    {
     "name": "stderr",
     "output_type": "stream",
     "text": [
      "100% (1 of 1) |##########################| Elapsed Time: 0:00:00 Time:  0:00:00\n"
     ]
    },
    {
     "name": "stdout",
     "output_type": "stream",
     "text": [
      "2022-02-03 21:36:52,611 - Eval - INFO - Avg accuracy Top 1: 78.125000 Avg accuracy Top 5: 87.500000 on validation Dataset\n",
      "2022-02-03 21:36:52,613 - CompRatioSelect - INFO - Layer layer4.0.conv2.0, comp_ratio 0.666667 ==> eval_score=78.125000\n",
      "2022-02-03 21:36:52,614 - CompRatioSelect - INFO - Analyzing compression ratio: 0.3333333333333333333333333333 =====================>\n"
     ]
    },
    {
     "name": "stderr",
     "output_type": "stream",
     "text": [
      "/usr/local/lib/python3.6/dist-packages/aimet_torch/winnow/mask_propagation_winnower.py:96: UserWarning: To copy construct from a tensor, it is recommended to use sourceTensor.clone().detach() or sourceTensor.clone().detach().requires_grad_(True), rather than torch.tensor(sourceTensor).\n",
      "  dummy_input = torch.tensor(dummy_input).cuda()  # pylint: disable=not-callable\n",
      "/usr/local/lib/python3.6/dist-packages/aimet_torch/winnow/winnow_utils.py:186: UserWarning: To copy construct from a tensor, it is recommended to use sourceTensor.clone().detach() or sourceTensor.clone().detach().requires_grad_(True), rather than torch.tensor(sourceTensor).\n",
      "  result = torch.tensor(tensor)  # pylint: disable=not-callable\n"
     ]
    },
    {
     "name": "stdout",
     "output_type": "stream",
     "text": [
      "2022-02-03 21:36:53,586 - ChannelPruning - INFO - finished linear regression fit \n",
      "2022-02-03 21:36:54,392 - Dataloader - INFO - Dataset consists of 1000 images in 1000 classes\n",
      "2022-02-03 21:36:54,394 - Eval - INFO - Evaluating nn.Module for 1 iterations with batch_size 32\n"
     ]
    },
    {
     "name": "stderr",
     "output_type": "stream",
     "text": [
      "100% (1 of 1) |##########################| Elapsed Time: 0:00:00 Time:  0:00:00\n"
     ]
    },
    {
     "name": "stdout",
     "output_type": "stream",
     "text": [
      "2022-02-03 21:36:54,863 - Eval - INFO - Avg accuracy Top 1: 75.000000 Avg accuracy Top 5: 90.625000 on validation Dataset\n",
      "2022-02-03 21:36:54,867 - CompRatioSelect - INFO - Layer layer4.0.conv2.1, comp_ratio 0.333333 ==> eval_score=75.000000\n",
      "2022-02-03 21:36:54,869 - CompRatioSelect - INFO - Analyzing compression ratio: 0.6666666666666666666666666666 =====================>\n"
     ]
    },
    {
     "name": "stderr",
     "output_type": "stream",
     "text": [
      "/usr/local/lib/python3.6/dist-packages/aimet_torch/winnow/mask_propagation_winnower.py:96: UserWarning: To copy construct from a tensor, it is recommended to use sourceTensor.clone().detach() or sourceTensor.clone().detach().requires_grad_(True), rather than torch.tensor(sourceTensor).\n",
      "  dummy_input = torch.tensor(dummy_input).cuda()  # pylint: disable=not-callable\n",
      "/usr/local/lib/python3.6/dist-packages/aimet_torch/winnow/winnow_utils.py:186: UserWarning: To copy construct from a tensor, it is recommended to use sourceTensor.clone().detach() or sourceTensor.clone().detach().requires_grad_(True), rather than torch.tensor(sourceTensor).\n",
      "  result = torch.tensor(tensor)  # pylint: disable=not-callable\n"
     ]
    },
    {
     "name": "stdout",
     "output_type": "stream",
     "text": [
      "2022-02-03 21:36:55,830 - ChannelPruning - INFO - finished linear regression fit \n",
      "2022-02-03 21:36:56,598 - Dataloader - INFO - Dataset consists of 1000 images in 1000 classes\n",
      "2022-02-03 21:36:56,601 - Eval - INFO - Evaluating nn.Module for 1 iterations with batch_size 32\n"
     ]
    },
    {
     "name": "stderr",
     "output_type": "stream",
     "text": [
      "100% (1 of 1) |##########################| Elapsed Time: 0:00:00 Time:  0:00:00\n"
     ]
    },
    {
     "name": "stdout",
     "output_type": "stream",
     "text": [
      "2022-02-03 21:36:57,074 - Eval - INFO - Avg accuracy Top 1: 78.125000 Avg accuracy Top 5: 93.750000 on validation Dataset\n",
      "2022-02-03 21:36:57,076 - CompRatioSelect - INFO - Layer layer4.0.conv2.1, comp_ratio 0.666667 ==> eval_score=78.125000\n",
      "2022-02-03 21:36:57,077 - CompRatioSelect - INFO - Analyzing compression ratio: 0.3333333333333333333333333333 =====================>\n"
     ]
    },
    {
     "name": "stderr",
     "output_type": "stream",
     "text": [
      "/usr/local/lib/python3.6/dist-packages/aimet_torch/winnow/mask_propagation_winnower.py:96: UserWarning: To copy construct from a tensor, it is recommended to use sourceTensor.clone().detach() or sourceTensor.clone().detach().requires_grad_(True), rather than torch.tensor(sourceTensor).\n",
      "  dummy_input = torch.tensor(dummy_input).cuda()  # pylint: disable=not-callable\n"
     ]
    },
    {
     "name": "stdout",
     "output_type": "stream",
     "text": [
      "2022-02-03 21:36:57,988 - ChannelPruning - INFO - finished linear regression fit \n",
      "2022-02-03 21:36:58,761 - Dataloader - INFO - Dataset consists of 1000 images in 1000 classes\n",
      "2022-02-03 21:36:58,764 - Eval - INFO - Evaluating nn.Module for 1 iterations with batch_size 32\n"
     ]
    },
    {
     "name": "stderr",
     "output_type": "stream",
     "text": [
      "100% (1 of 1) |##########################| Elapsed Time: 0:00:00 Time:  0:00:00\n"
     ]
    },
    {
     "name": "stdout",
     "output_type": "stream",
     "text": [
      "2022-02-03 21:36:59,228 - Eval - INFO - Avg accuracy Top 1: 81.250000 Avg accuracy Top 5: 93.750000 on validation Dataset\n",
      "2022-02-03 21:36:59,230 - CompRatioSelect - INFO - Layer layer4.0.downsample.0, comp_ratio 0.333333 ==> eval_score=81.250000\n",
      "2022-02-03 21:36:59,231 - CompRatioSelect - INFO - Analyzing compression ratio: 0.6666666666666666666666666666 =====================>\n"
     ]
    },
    {
     "name": "stderr",
     "output_type": "stream",
     "text": [
      "/usr/local/lib/python3.6/dist-packages/aimet_torch/winnow/mask_propagation_winnower.py:96: UserWarning: To copy construct from a tensor, it is recommended to use sourceTensor.clone().detach() or sourceTensor.clone().detach().requires_grad_(True), rather than torch.tensor(sourceTensor).\n",
      "  dummy_input = torch.tensor(dummy_input).cuda()  # pylint: disable=not-callable\n"
     ]
    },
    {
     "name": "stdout",
     "output_type": "stream",
     "text": [
      "2022-02-03 21:37:00,162 - ChannelPruning - INFO - finished linear regression fit \n",
      "2022-02-03 21:37:00,924 - Dataloader - INFO - Dataset consists of 1000 images in 1000 classes\n",
      "2022-02-03 21:37:00,926 - Eval - INFO - Evaluating nn.Module for 1 iterations with batch_size 32\n"
     ]
    },
    {
     "name": "stderr",
     "output_type": "stream",
     "text": [
      "100% (1 of 1) |##########################| Elapsed Time: 0:00:00 Time:  0:00:00\n"
     ]
    },
    {
     "name": "stdout",
     "output_type": "stream",
     "text": [
      "2022-02-03 21:37:01,420 - Eval - INFO - Avg accuracy Top 1: 81.250000 Avg accuracy Top 5: 93.750000 on validation Dataset\n",
      "2022-02-03 21:37:01,423 - CompRatioSelect - INFO - Layer layer4.0.downsample.0, comp_ratio 0.666667 ==> eval_score=81.250000\n",
      "2022-02-03 21:37:01,425 - CompRatioSelect - INFO - Analyzing compression ratio: 0.3333333333333333333333333333 =====================>\n"
     ]
    },
    {
     "name": "stderr",
     "output_type": "stream",
     "text": [
      "/usr/local/lib/python3.6/dist-packages/aimet_torch/winnow/mask_propagation_winnower.py:96: UserWarning: To copy construct from a tensor, it is recommended to use sourceTensor.clone().detach() or sourceTensor.clone().detach().requires_grad_(True), rather than torch.tensor(sourceTensor).\n",
      "  dummy_input = torch.tensor(dummy_input).cuda()  # pylint: disable=not-callable\n"
     ]
    },
    {
     "name": "stdout",
     "output_type": "stream",
     "text": [
      "2022-02-03 21:37:02,504 - ChannelPruning - INFO - finished linear regression fit \n",
      "2022-02-03 21:37:03,288 - Dataloader - INFO - Dataset consists of 1000 images in 1000 classes\n",
      "2022-02-03 21:37:03,290 - Eval - INFO - Evaluating nn.Module for 1 iterations with batch_size 32\n"
     ]
    },
    {
     "name": "stderr",
     "output_type": "stream",
     "text": [
      "100% (1 of 1) |##########################| Elapsed Time: 0:00:00 Time:  0:00:00\n"
     ]
    },
    {
     "name": "stdout",
     "output_type": "stream",
     "text": [
      "2022-02-03 21:37:03,761 - Eval - INFO - Avg accuracy Top 1: 68.750000 Avg accuracy Top 5: 93.750000 on validation Dataset\n",
      "2022-02-03 21:37:03,763 - CompRatioSelect - INFO - Layer layer4.1.conv1, comp_ratio 0.333333 ==> eval_score=68.750000\n",
      "2022-02-03 21:37:03,763 - CompRatioSelect - INFO - Analyzing compression ratio: 0.6666666666666666666666666666 =====================>\n"
     ]
    },
    {
     "name": "stderr",
     "output_type": "stream",
     "text": [
      "/usr/local/lib/python3.6/dist-packages/aimet_torch/winnow/mask_propagation_winnower.py:96: UserWarning: To copy construct from a tensor, it is recommended to use sourceTensor.clone().detach() or sourceTensor.clone().detach().requires_grad_(True), rather than torch.tensor(sourceTensor).\n",
      "  dummy_input = torch.tensor(dummy_input).cuda()  # pylint: disable=not-callable\n"
     ]
    },
    {
     "name": "stdout",
     "output_type": "stream",
     "text": [
      "2022-02-03 21:37:04,815 - ChannelPruning - INFO - finished linear regression fit \n",
      "2022-02-03 21:37:05,576 - Dataloader - INFO - Dataset consists of 1000 images in 1000 classes\n",
      "2022-02-03 21:37:05,579 - Eval - INFO - Evaluating nn.Module for 1 iterations with batch_size 32\n"
     ]
    },
    {
     "name": "stderr",
     "output_type": "stream",
     "text": [
      "100% (1 of 1) |##########################| Elapsed Time: 0:00:00 Time:  0:00:00\n"
     ]
    },
    {
     "name": "stdout",
     "output_type": "stream",
     "text": [
      "2022-02-03 21:37:06,045 - Eval - INFO - Avg accuracy Top 1: 71.875000 Avg accuracy Top 5: 87.500000 on validation Dataset\n",
      "2022-02-03 21:37:06,047 - CompRatioSelect - INFO - Layer layer4.1.conv1, comp_ratio 0.666667 ==> eval_score=71.875000\n",
      "2022-02-03 21:37:06,049 - CompRatioSelect - INFO - Analyzing compression ratio: 0.3333333333333333333333333333 =====================>\n"
     ]
    },
    {
     "name": "stderr",
     "output_type": "stream",
     "text": [
      "/usr/local/lib/python3.6/dist-packages/aimet_torch/winnow/mask_propagation_winnower.py:96: UserWarning: To copy construct from a tensor, it is recommended to use sourceTensor.clone().detach() or sourceTensor.clone().detach().requires_grad_(True), rather than torch.tensor(sourceTensor).\n",
      "  dummy_input = torch.tensor(dummy_input).cuda()  # pylint: disable=not-callable\n",
      "/usr/local/lib/python3.6/dist-packages/aimet_torch/winnow/winnow_utils.py:186: UserWarning: To copy construct from a tensor, it is recommended to use sourceTensor.clone().detach() or sourceTensor.clone().detach().requires_grad_(True), rather than torch.tensor(sourceTensor).\n",
      "  result = torch.tensor(tensor)  # pylint: disable=not-callable\n"
     ]
    },
    {
     "name": "stdout",
     "output_type": "stream",
     "text": [
      "2022-02-03 21:37:06,992 - ChannelPruning - INFO - finished linear regression fit \n",
      "2022-02-03 21:37:07,774 - Dataloader - INFO - Dataset consists of 1000 images in 1000 classes\n",
      "2022-02-03 21:37:07,776 - Eval - INFO - Evaluating nn.Module for 1 iterations with batch_size 32\n"
     ]
    },
    {
     "name": "stderr",
     "output_type": "stream",
     "text": [
      "100% (1 of 1) |##########################| Elapsed Time: 0:00:00 Time:  0:00:00\n"
     ]
    },
    {
     "name": "stdout",
     "output_type": "stream",
     "text": [
      "2022-02-03 21:37:08,250 - Eval - INFO - Avg accuracy Top 1: 75.000000 Avg accuracy Top 5: 93.750000 on validation Dataset\n",
      "2022-02-03 21:37:08,254 - CompRatioSelect - INFO - Layer layer4.1.conv2.0, comp_ratio 0.333333 ==> eval_score=75.000000\n",
      "2022-02-03 21:37:08,255 - CompRatioSelect - INFO - Analyzing compression ratio: 0.6666666666666666666666666666 =====================>\n"
     ]
    },
    {
     "name": "stderr",
     "output_type": "stream",
     "text": [
      "/usr/local/lib/python3.6/dist-packages/aimet_torch/winnow/mask_propagation_winnower.py:96: UserWarning: To copy construct from a tensor, it is recommended to use sourceTensor.clone().detach() or sourceTensor.clone().detach().requires_grad_(True), rather than torch.tensor(sourceTensor).\n",
      "  dummy_input = torch.tensor(dummy_input).cuda()  # pylint: disable=not-callable\n",
      "/usr/local/lib/python3.6/dist-packages/aimet_torch/winnow/winnow_utils.py:186: UserWarning: To copy construct from a tensor, it is recommended to use sourceTensor.clone().detach() or sourceTensor.clone().detach().requires_grad_(True), rather than torch.tensor(sourceTensor).\n",
      "  result = torch.tensor(tensor)  # pylint: disable=not-callable\n"
     ]
    },
    {
     "name": "stdout",
     "output_type": "stream",
     "text": [
      "2022-02-03 21:37:09,188 - ChannelPruning - INFO - finished linear regression fit \n",
      "2022-02-03 21:37:09,973 - Dataloader - INFO - Dataset consists of 1000 images in 1000 classes\n",
      "2022-02-03 21:37:09,975 - Eval - INFO - Evaluating nn.Module for 1 iterations with batch_size 32\n"
     ]
    },
    {
     "name": "stderr",
     "output_type": "stream",
     "text": [
      "100% (1 of 1) |##########################| Elapsed Time: 0:00:00 Time:  0:00:00\n"
     ]
    },
    {
     "name": "stdout",
     "output_type": "stream",
     "text": [
      "2022-02-03 21:37:10,445 - Eval - INFO - Avg accuracy Top 1: 75.000000 Avg accuracy Top 5: 96.875000 on validation Dataset\n",
      "2022-02-03 21:37:10,447 - CompRatioSelect - INFO - Layer layer4.1.conv2.0, comp_ratio 0.666667 ==> eval_score=75.000000\n",
      "2022-02-03 21:37:10,448 - CompRatioSelect - INFO - Analyzing compression ratio: 0.3333333333333333333333333333 =====================>\n"
     ]
    },
    {
     "name": "stderr",
     "output_type": "stream",
     "text": [
      "/usr/local/lib/python3.6/dist-packages/aimet_torch/winnow/mask_propagation_winnower.py:96: UserWarning: To copy construct from a tensor, it is recommended to use sourceTensor.clone().detach() or sourceTensor.clone().detach().requires_grad_(True), rather than torch.tensor(sourceTensor).\n",
      "  dummy_input = torch.tensor(dummy_input).cuda()  # pylint: disable=not-callable\n",
      "/usr/local/lib/python3.6/dist-packages/aimet_torch/winnow/winnow_utils.py:186: UserWarning: To copy construct from a tensor, it is recommended to use sourceTensor.clone().detach() or sourceTensor.clone().detach().requires_grad_(True), rather than torch.tensor(sourceTensor).\n",
      "  result = torch.tensor(tensor)  # pylint: disable=not-callable\n"
     ]
    },
    {
     "name": "stdout",
     "output_type": "stream",
     "text": [
      "2022-02-03 21:37:11,514 - ChannelPruning - INFO - finished linear regression fit \n",
      "2022-02-03 21:37:12,311 - Dataloader - INFO - Dataset consists of 1000 images in 1000 classes\n",
      "2022-02-03 21:37:12,313 - Eval - INFO - Evaluating nn.Module for 1 iterations with batch_size 32\n"
     ]
    },
    {
     "name": "stderr",
     "output_type": "stream",
     "text": [
      "100% (1 of 1) |##########################| Elapsed Time: 0:00:00 Time:  0:00:00\n"
     ]
    },
    {
     "name": "stdout",
     "output_type": "stream",
     "text": [
      "2022-02-03 21:37:12,772 - Eval - INFO - Avg accuracy Top 1: 75.000000 Avg accuracy Top 5: 90.625000 on validation Dataset\n",
      "2022-02-03 21:37:12,774 - CompRatioSelect - INFO - Layer layer4.1.conv2.1, comp_ratio 0.333333 ==> eval_score=75.000000\n",
      "2022-02-03 21:37:12,774 - CompRatioSelect - INFO - Analyzing compression ratio: 0.6666666666666666666666666666 =====================>\n"
     ]
    },
    {
     "name": "stderr",
     "output_type": "stream",
     "text": [
      "/usr/local/lib/python3.6/dist-packages/aimet_torch/winnow/mask_propagation_winnower.py:96: UserWarning: To copy construct from a tensor, it is recommended to use sourceTensor.clone().detach() or sourceTensor.clone().detach().requires_grad_(True), rather than torch.tensor(sourceTensor).\n",
      "  dummy_input = torch.tensor(dummy_input).cuda()  # pylint: disable=not-callable\n",
      "/usr/local/lib/python3.6/dist-packages/aimet_torch/winnow/winnow_utils.py:186: UserWarning: To copy construct from a tensor, it is recommended to use sourceTensor.clone().detach() or sourceTensor.clone().detach().requires_grad_(True), rather than torch.tensor(sourceTensor).\n",
      "  result = torch.tensor(tensor)  # pylint: disable=not-callable\n"
     ]
    },
    {
     "name": "stdout",
     "output_type": "stream",
     "text": [
      "2022-02-03 21:37:13,713 - ChannelPruning - INFO - finished linear regression fit \n",
      "2022-02-03 21:37:14,534 - Dataloader - INFO - Dataset consists of 1000 images in 1000 classes\n",
      "2022-02-03 21:37:14,536 - Eval - INFO - Evaluating nn.Module for 1 iterations with batch_size 32\n"
     ]
    },
    {
     "name": "stderr",
     "output_type": "stream",
     "text": [
      "100% (1 of 1) |##########################| Elapsed Time: 0:00:00 Time:  0:00:00\n"
     ]
    },
    {
     "name": "stdout",
     "output_type": "stream",
     "text": [
      "2022-02-03 21:37:15,020 - Eval - INFO - Avg accuracy Top 1: 87.500000 Avg accuracy Top 5: 93.750000 on validation Dataset\n",
      "2022-02-03 21:37:15,024 - CompRatioSelect - INFO - Layer layer4.1.conv2.1, comp_ratio 0.666667 ==> eval_score=87.500000\n",
      "2022-02-03 21:37:15,029 - CompRatioSelect - INFO - Greedy selection: Saved eval dict to ./data/greedy_selection_eval_scores_dict.pkl\n",
      "2022-02-03 21:37:15,030 - CompRatioSelect - INFO - Greedy selection: overall_min_score=43.750000, overall_max_score=87.500000\n",
      "2022-02-03 21:37:15,031 - CompRatioSelect - INFO - Greedy selection: Original model cost=(Cost: memory=8440512, mac=1440814080)\n"
     ]
    },
    {
     "name": "stderr",
     "output_type": "stream",
     "text": [
      "/usr/local/lib/python3.6/dist-packages/aimet_torch/winnow/mask_propagation_winnower.py:96: UserWarning: To copy construct from a tensor, it is recommended to use sourceTensor.clone().detach() or sourceTensor.clone().detach().requires_grad_(True), rather than torch.tensor(sourceTensor).\n",
      "  dummy_input = torch.tensor(dummy_input).cuda()  # pylint: disable=not-callable\n",
      "/usr/local/lib/python3.6/dist-packages/aimet_torch/winnow/winnow_utils.py:186: UserWarning: To copy construct from a tensor, it is recommended to use sourceTensor.clone().detach() or sourceTensor.clone().detach().requires_grad_(True), rather than torch.tensor(sourceTensor).\n",
      "  result = torch.tensor(tensor)  # pylint: disable=not-callable\n"
     ]
    },
    {
     "name": "stdout",
     "output_type": "stream",
     "text": [
      "2022-02-03 21:38:08,439 - CompRatioSelect - INFO - Greedy selection: final choice - comp_ratio=0.858849, score=84.373093\n",
      "2022-02-03 21:38:09,355 - ChannelPruning - INFO - finished linear regression fit \n"
     ]
    },
    {
     "name": "stderr",
     "output_type": "stream",
     "text": [
      "/usr/local/lib/python3.6/dist-packages/aimet_torch/winnow/mask_propagation_winnower.py:96: UserWarning: To copy construct from a tensor, it is recommended to use sourceTensor.clone().detach() or sourceTensor.clone().detach().requires_grad_(True), rather than torch.tensor(sourceTensor).\n",
      "  dummy_input = torch.tensor(dummy_input).cuda()  # pylint: disable=not-callable\n",
      "/usr/local/lib/python3.6/dist-packages/aimet_torch/winnow/winnow_utils.py:186: UserWarning: To copy construct from a tensor, it is recommended to use sourceTensor.clone().detach() or sourceTensor.clone().detach().requires_grad_(True), rather than torch.tensor(sourceTensor).\n",
      "  result = torch.tensor(tensor)  # pylint: disable=not-callable\n"
     ]
    },
    {
     "name": "stdout",
     "output_type": "stream",
     "text": [
      "2022-02-03 21:38:10,286 - ChannelPruning - INFO - finished linear regression fit \n"
     ]
    },
    {
     "name": "stderr",
     "output_type": "stream",
     "text": [
      "/usr/local/lib/python3.6/dist-packages/aimet_torch/winnow/mask_propagation_winnower.py:96: UserWarning: To copy construct from a tensor, it is recommended to use sourceTensor.clone().detach() or sourceTensor.clone().detach().requires_grad_(True), rather than torch.tensor(sourceTensor).\n",
      "  dummy_input = torch.tensor(dummy_input).cuda()  # pylint: disable=not-callable\n",
      "/usr/local/lib/python3.6/dist-packages/aimet_torch/winnow/winnow_utils.py:186: UserWarning: To copy construct from a tensor, it is recommended to use sourceTensor.clone().detach() or sourceTensor.clone().detach().requires_grad_(True), rather than torch.tensor(sourceTensor).\n",
      "  result = torch.tensor(tensor)  # pylint: disable=not-callable\n"
     ]
    },
    {
     "name": "stdout",
     "output_type": "stream",
     "text": [
      "2022-02-03 21:38:11,226 - ChannelPruning - INFO - finished linear regression fit \n"
     ]
    },
    {
     "name": "stderr",
     "output_type": "stream",
     "text": [
      "/usr/local/lib/python3.6/dist-packages/aimet_torch/winnow/mask_propagation_winnower.py:96: UserWarning: To copy construct from a tensor, it is recommended to use sourceTensor.clone().detach() or sourceTensor.clone().detach().requires_grad_(True), rather than torch.tensor(sourceTensor).\n",
      "  dummy_input = torch.tensor(dummy_input).cuda()  # pylint: disable=not-callable\n",
      "/usr/local/lib/python3.6/dist-packages/aimet_torch/winnow/winnow_utils.py:186: UserWarning: To copy construct from a tensor, it is recommended to use sourceTensor.clone().detach() or sourceTensor.clone().detach().requires_grad_(True), rather than torch.tensor(sourceTensor).\n",
      "  result = torch.tensor(tensor)  # pylint: disable=not-callable\n"
     ]
    },
    {
     "name": "stdout",
     "output_type": "stream",
     "text": [
      "2022-02-03 21:38:12,159 - ChannelPruning - INFO - finished linear regression fit \n"
     ]
    },
    {
     "name": "stderr",
     "output_type": "stream",
     "text": [
      "/usr/local/lib/python3.6/dist-packages/aimet_torch/winnow/mask_propagation_winnower.py:96: UserWarning: To copy construct from a tensor, it is recommended to use sourceTensor.clone().detach() or sourceTensor.clone().detach().requires_grad_(True), rather than torch.tensor(sourceTensor).\n",
      "  dummy_input = torch.tensor(dummy_input).cuda()  # pylint: disable=not-callable\n",
      "/usr/local/lib/python3.6/dist-packages/aimet_torch/winnow/winnow_utils.py:186: UserWarning: To copy construct from a tensor, it is recommended to use sourceTensor.clone().detach() or sourceTensor.clone().detach().requires_grad_(True), rather than torch.tensor(sourceTensor).\n",
      "  result = torch.tensor(tensor)  # pylint: disable=not-callable\n"
     ]
    },
    {
     "name": "stdout",
     "output_type": "stream",
     "text": [
      "2022-02-03 21:38:13,124 - ChannelPruning - INFO - finished linear regression fit \n"
     ]
    },
    {
     "name": "stderr",
     "output_type": "stream",
     "text": [
      "/usr/local/lib/python3.6/dist-packages/aimet_torch/winnow/mask_propagation_winnower.py:96: UserWarning: To copy construct from a tensor, it is recommended to use sourceTensor.clone().detach() or sourceTensor.clone().detach().requires_grad_(True), rather than torch.tensor(sourceTensor).\n",
      "  dummy_input = torch.tensor(dummy_input).cuda()  # pylint: disable=not-callable\n",
      "/usr/local/lib/python3.6/dist-packages/aimet_torch/winnow/winnow_utils.py:186: UserWarning: To copy construct from a tensor, it is recommended to use sourceTensor.clone().detach() or sourceTensor.clone().detach().requires_grad_(True), rather than torch.tensor(sourceTensor).\n",
      "  result = torch.tensor(tensor)  # pylint: disable=not-callable\n"
     ]
    },
    {
     "name": "stdout",
     "output_type": "stream",
     "text": [
      "2022-02-03 21:38:14,102 - ChannelPruning - INFO - finished linear regression fit \n"
     ]
    },
    {
     "name": "stderr",
     "output_type": "stream",
     "text": [
      "/usr/local/lib/python3.6/dist-packages/aimet_torch/winnow/mask_propagation_winnower.py:96: UserWarning: To copy construct from a tensor, it is recommended to use sourceTensor.clone().detach() or sourceTensor.clone().detach().requires_grad_(True), rather than torch.tensor(sourceTensor).\n",
      "  dummy_input = torch.tensor(dummy_input).cuda()  # pylint: disable=not-callable\n",
      "/usr/local/lib/python3.6/dist-packages/aimet_torch/winnow/winnow_utils.py:186: UserWarning: To copy construct from a tensor, it is recommended to use sourceTensor.clone().detach() or sourceTensor.clone().detach().requires_grad_(True), rather than torch.tensor(sourceTensor).\n",
      "  result = torch.tensor(tensor)  # pylint: disable=not-callable\n"
     ]
    },
    {
     "name": "stdout",
     "output_type": "stream",
     "text": [
      "2022-02-03 21:38:15,159 - ChannelPruning - INFO - finished linear regression fit \n"
     ]
    },
    {
     "name": "stderr",
     "output_type": "stream",
     "text": [
      "/usr/local/lib/python3.6/dist-packages/aimet_torch/winnow/mask_propagation_winnower.py:96: UserWarning: To copy construct from a tensor, it is recommended to use sourceTensor.clone().detach() or sourceTensor.clone().detach().requires_grad_(True), rather than torch.tensor(sourceTensor).\n",
      "  dummy_input = torch.tensor(dummy_input).cuda()  # pylint: disable=not-callable\n",
      "/usr/local/lib/python3.6/dist-packages/aimet_torch/winnow/winnow_utils.py:186: UserWarning: To copy construct from a tensor, it is recommended to use sourceTensor.clone().detach() or sourceTensor.clone().detach().requires_grad_(True), rather than torch.tensor(sourceTensor).\n",
      "  result = torch.tensor(tensor)  # pylint: disable=not-callable\n"
     ]
    },
    {
     "name": "stdout",
     "output_type": "stream",
     "text": [
      "2022-02-03 21:38:16,141 - ChannelPruning - INFO - finished linear regression fit \n",
      "2022-02-03 21:38:17,695 - Dataloader - INFO - Dataset consists of 1000 images in 1000 classes\n",
      "2022-02-03 21:38:17,697 - Eval - INFO - No value of iteration is provided, running evaluation on complete dataset.\n",
      "2022-02-03 21:38:17,698 - Eval - INFO - Evaluating nn.Module for 32 iterations with batch_size 32\n"
     ]
    },
    {
     "name": "stderr",
     "output_type": "stream",
     "text": [
      "100% (32 of 32) |########################| Elapsed Time: 0:00:04 Time:  0:00:04\n"
     ]
    },
    {
     "name": "stdout",
     "output_type": "stream",
     "text": [
      "2022-02-03 21:38:22,757 - Eval - INFO - Avg accuracy Top 1: 67.968750 Avg accuracy Top 5: 87.011719 on validation Dataset\n",
      "2022-02-03 21:38:23,554 - Dataloader - INFO - Dataset consists of 1000 images in 1000 classes\n",
      "2022-02-03 21:38:23,556 - Eval - INFO - No value of iteration is provided, running evaluation on complete dataset.\n",
      "2022-02-03 21:38:23,557 - Eval - INFO - Evaluating nn.Module for 32 iterations with batch_size 32\n"
     ]
    },
    {
     "name": "stderr",
     "output_type": "stream",
     "text": [
      "100% (32 of 32) |########################| Elapsed Time: 0:00:04 Time:  0:00:04\n"
     ]
    },
    {
     "name": "stdout",
     "output_type": "stream",
     "text": [
      "2022-02-03 21:38:28,619 - Eval - INFO - Avg accuracy Top 1: 2.636719 Avg accuracy Top 5: 3.710938 on validation Dataset\n",
      "**********************************************************************************************\n",
      "Compressed Model Statistics\n",
      "Baseline model accuracy: 67.968750, Compressed model accuracy: 2.636719\n",
      "Compression ratio for memory=0.930391, mac=0.858849\n",
      "\n",
      "**********************************************************************************************\n",
      "\n",
      "Per-layer Stats\n",
      "    Name:layer1.0.conv1, compression-ratio: 0.3333333333333333333333333333\n",
      "    Name:layer1.0.conv2, compression-ratio: None\n",
      "    Name:layer1.1.conv1.0, compression-ratio: None\n",
      "    Name:layer1.1.conv1.1, compression-ratio: None\n",
      "    Name:layer1.1.conv2, compression-ratio: 0.6666666666666666666666666666\n",
      "    Name:layer2.0.conv1, compression-ratio: None\n",
      "    Name:layer2.0.conv2.0, compression-ratio: None\n",
      "    Name:layer2.0.conv2.1, compression-ratio: 0.6666666666666666666666666666\n",
      "    Name:layer2.0.downsample.0, compression-ratio: None\n",
      "    Name:layer2.1.conv1.0, compression-ratio: None\n",
      "    Name:layer2.1.conv1.1, compression-ratio: 0.6666666666666666666666666666\n",
      "    Name:layer2.1.conv2, compression-ratio: 0.6666666666666666666666666666\n",
      "    Name:layer3.0.conv1.0, compression-ratio: None\n",
      "    Name:layer3.0.conv1.1, compression-ratio: 0.6666666666666666666666666666\n",
      "    Name:layer3.0.conv2, compression-ratio: None\n",
      "    Name:layer3.0.downsample.0.0, compression-ratio: None\n",
      "    Name:layer3.0.downsample.0.1, compression-ratio: None\n",
      "    Name:layer3.1.conv1.0, compression-ratio: None\n",
      "    Name:layer3.1.conv1.1, compression-ratio: None\n",
      "    Name:layer3.1.conv2.0, compression-ratio: None\n",
      "    Name:layer3.1.conv2.1, compression-ratio: 0.6666666666666666666666666666\n",
      "    Name:layer4.0.conv1, compression-ratio: None\n",
      "    Name:layer4.0.conv2.0, compression-ratio: None\n",
      "    Name:layer4.0.conv2.1, compression-ratio: None\n",
      "    Name:layer4.0.downsample.0, compression-ratio: None\n",
      "    Name:layer4.1.conv1, compression-ratio: None\n",
      "    Name:layer4.1.conv2.0, compression-ratio: None\n",
      "    Name:layer4.1.conv2.1, compression-ratio: 0.6666666666666666666666666666\n",
      "\n",
      "**********************************************************************************************\n",
      "\n",
      "Greedy Eval Dict\n",
      "    Layer: layer1.0.conv1\n",
      "        Ratio=0.3333333333333333333333333333, Eval score=84.375\n",
      "        Ratio=0.6666666666666666666666666666, Eval score=84.375\n",
      "    Layer: layer1.0.conv2\n",
      "        Ratio=0.3333333333333333333333333333, Eval score=62.5\n",
      "        Ratio=0.6666666666666666666666666666, Eval score=65.625\n",
      "    Layer: layer1.1.conv1.0\n",
      "        Ratio=0.3333333333333333333333333333, Eval score=81.25\n",
      "        Ratio=0.6666666666666666666666666666, Eval score=81.25\n",
      "    Layer: layer1.1.conv1.1\n",
      "        Ratio=0.3333333333333333333333333333, Eval score=78.125\n",
      "        Ratio=0.6666666666666666666666666666, Eval score=81.25\n",
      "    Layer: layer1.1.conv2\n",
      "        Ratio=0.3333333333333333333333333333, Eval score=75.0\n",
      "        Ratio=0.6666666666666666666666666666, Eval score=87.5\n",
      "    Layer: layer2.0.conv1\n",
      "        Ratio=0.3333333333333333333333333333, Eval score=81.25\n",
      "        Ratio=0.6666666666666666666666666666, Eval score=81.25\n",
      "    Layer: layer2.0.conv2.0\n",
      "        Ratio=0.3333333333333333333333333333, Eval score=65.625\n",
      "        Ratio=0.6666666666666666666666666666, Eval score=68.75\n",
      "    Layer: layer2.0.conv2.1\n",
      "        Ratio=0.3333333333333333333333333333, Eval score=81.25\n",
      "        Ratio=0.6666666666666666666666666666, Eval score=84.375\n",
      "    Layer: layer2.0.downsample.0\n",
      "        Ratio=0.3333333333333333333333333333, Eval score=81.25\n",
      "        Ratio=0.6666666666666666666666666666, Eval score=81.25\n",
      "    Layer: layer2.1.conv1.0\n",
      "        Ratio=0.3333333333333333333333333333, Eval score=84.375\n",
      "        Ratio=0.6666666666666666666666666666, Eval score=81.25\n",
      "    Layer: layer2.1.conv1.1\n",
      "        Ratio=0.3333333333333333333333333333, Eval score=81.25\n",
      "        Ratio=0.6666666666666666666666666666, Eval score=84.375\n",
      "    Layer: layer2.1.conv2\n",
      "        Ratio=0.3333333333333333333333333333, Eval score=43.75\n",
      "        Ratio=0.6666666666666666666666666666, Eval score=87.5\n",
      "    Layer: layer3.0.conv1.0\n",
      "        Ratio=0.3333333333333333333333333333, Eval score=81.25\n",
      "        Ratio=0.6666666666666666666666666666, Eval score=78.125\n",
      "    Layer: layer3.0.conv1.1\n",
      "        Ratio=0.3333333333333333333333333333, Eval score=78.125\n",
      "        Ratio=0.6666666666666666666666666666, Eval score=84.375\n",
      "    Layer: layer3.0.conv2\n",
      "        Ratio=0.3333333333333333333333333333, Eval score=59.375\n",
      "        Ratio=0.6666666666666666666666666666, Eval score=71.875\n",
      "    Layer: layer3.0.downsample.0.0\n",
      "        Ratio=0.3333333333333333333333333333, Eval score=81.25\n",
      "        Ratio=0.6666666666666666666666666666, Eval score=81.25\n",
      "    Layer: layer3.0.downsample.0.1\n",
      "        Ratio=0.3333333333333333333333333333, Eval score=81.25\n",
      "        Ratio=0.6666666666666666666666666666, Eval score=81.25\n",
      "    Layer: layer3.1.conv1.0\n",
      "        Ratio=0.3333333333333333333333333333, Eval score=78.125\n",
      "        Ratio=0.6666666666666666666666666666, Eval score=71.875\n",
      "    Layer: layer3.1.conv1.1\n",
      "        Ratio=0.3333333333333333333333333333, Eval score=84.375\n",
      "        Ratio=0.6666666666666666666666666666, Eval score=78.125\n",
      "    Layer: layer3.1.conv2.0\n",
      "        Ratio=0.3333333333333333333333333333, Eval score=56.25\n",
      "        Ratio=0.6666666666666666666666666666, Eval score=75.0\n",
      "    Layer: layer3.1.conv2.1\n",
      "        Ratio=0.3333333333333333333333333333, Eval score=71.875\n",
      "        Ratio=0.6666666666666666666666666666, Eval score=84.375\n",
      "    Layer: layer4.0.conv1\n",
      "        Ratio=0.3333333333333333333333333333, Eval score=71.875\n",
      "        Ratio=0.6666666666666666666666666666, Eval score=75.0\n",
      "    Layer: layer4.0.conv2.0\n",
      "        Ratio=0.3333333333333333333333333333, Eval score=59.375\n",
      "        Ratio=0.6666666666666666666666666666, Eval score=78.125\n",
      "    Layer: layer4.0.conv2.1\n",
      "        Ratio=0.3333333333333333333333333333, Eval score=75.0\n",
      "        Ratio=0.6666666666666666666666666666, Eval score=78.125\n",
      "    Layer: layer4.0.downsample.0\n",
      "        Ratio=0.3333333333333333333333333333, Eval score=81.25\n",
      "        Ratio=0.6666666666666666666666666666, Eval score=81.25\n",
      "    Layer: layer4.1.conv1\n",
      "        Ratio=0.3333333333333333333333333333, Eval score=68.75\n",
      "        Ratio=0.6666666666666666666666666666, Eval score=71.875\n",
      "    Layer: layer4.1.conv2.0\n",
      "        Ratio=0.3333333333333333333333333333, Eval score=75.0\n",
      "        Ratio=0.6666666666666666666666666666, Eval score=75.0\n",
      "    Layer: layer4.1.conv2.1\n",
      "        Ratio=0.3333333333333333333333333333, Eval score=75.0\n",
      "        Ratio=0.6666666666666666666666666666, Eval score=87.5\n",
      "\n",
      "**********************************************************************************************\n",
      "\n"
     ]
    }
   ],
   "source": [
    "ssvd_cp_compressed_model, cp_comp_stats = ModelCompressor.compress_model(model=ssvd_compressed_model,\n",
    "                                                                         eval_callback=eval_callback,\n",
    "                                                                         eval_iterations=eval_iterations,\n",
    "                                                                         input_shape=(1, 3, 224, 224),\n",
    "                                                                         compress_scheme=compress_scheme,\n",
    "                                                                         cost_metric=cost_metric,\n",
    "                                                                         parameters=params)\n",
    "\n",
    "print(cp_comp_stats)"
   ]
  },
  {
   "cell_type": "markdown",
   "metadata": {},
   "source": [
    "---\n",
    "Ok so we have a compressed model. We can pass this model to the same evaluation routine we used before to calculated compressed model accuracy."
   ]
  },
  {
   "cell_type": "code",
   "execution_count": 14,
   "metadata": {},
   "outputs": [
    {
     "name": "stdout",
     "output_type": "stream",
     "text": [
      "2022-02-03 21:38:29,428 - Dataloader - INFO - Dataset consists of 1000 images in 1000 classes\n",
      "2022-02-03 21:38:29,430 - Eval - INFO - No value of iteration is provided, running evaluation on complete dataset.\n",
      "2022-02-03 21:38:29,431 - Eval - INFO - Evaluating nn.Module for 32 iterations with batch_size 32\n"
     ]
    },
    {
     "name": "stderr",
     "output_type": "stream",
     "text": [
      "100% (32 of 32) |########################| Elapsed Time: 0:00:04 Time:  0:00:04\n"
     ]
    },
    {
     "name": "stdout",
     "output_type": "stream",
     "text": [
      "2022-02-03 21:38:34,420 - Eval - INFO - Avg accuracy Top 1: 2.636719 Avg accuracy Top 5: 3.710938 on validation Dataset\n",
      "2.63671875\n"
     ]
    }
   ],
   "source": [
    "accuracy = ImageNetDataPipeline.evaluate(ssvd_cp_compressed_model, iterations=None, use_cuda=use_cuda)\n",
    "print(accuracy)"
   ]
  },
  {
   "cell_type": "markdown",
   "metadata": {},
   "source": [
    "---\n",
    "As you can see the model accuracy fell sharply after compression. This is expected. We will use model fine-tuning to recover this accuracy back."
   ]
  },
  {
   "cell_type": "markdown",
   "metadata": {},
   "source": [
    "### 3.4. Fine-tune the model after Channel Pruning\n",
    "\n",
    "After the model is compressed using Spatial SVD followed by Channel Pruning, we can simply train the model for a few more epochs (typically 15-20). As with any training job, hyper-parameters need to be searched for optimal results. Good starting points are to use a learning rate on the same order as the ending learning rate when training the original model, and to drop the learning rate by a factor of 10 every 5 epochs or so.\n",
    "\n",
    "For the purpose of this example notebook, we are going to train only for 1 epoch. But feel free to change these parameters as you see fit."
   ]
  },
  {
   "cell_type": "code",
   "execution_count": 15,
   "metadata": {},
   "outputs": [
    {
     "name": "stdout",
     "output_type": "stream",
     "text": [
      "2022-02-03 21:38:36,216 - Dataloader - INFO - Dataset consists of 1000 images in 1000 classes\n",
      "2022-02-03 21:38:37,152 - Dataloader - INFO - Dataset consists of 1000 images in 1000 classes\n"
     ]
    },
    {
     "name": "stderr",
     "output_type": "stream",
     "text": [
      "/usr/local/lib/python3.6/dist-packages/torch/utils/data/dataloader.py:481: UserWarning: This DataLoader will create 32 worker processes in total. Our suggested max number of worker in current system is 8, which is smaller than what this DataLoader is going to create. Please be aware that excessive worker creation might get DataLoader running slow or even freeze, lower the worker number to avoid potential slowness/freeze if necessary.\n",
      "  cpuset_checked))\n",
      "100% (63 of 63) |########################| Elapsed Time: 0:00:04 Time:  0:00:04\n"
     ]
    },
    {
     "name": "stdout",
     "output_type": "stream",
     "text": [
      "2022-02-03 21:38:42,128 - Eval - INFO - No value of iteration is provided, running evaluation on complete dataset.\n",
      "2022-02-03 21:38:42,129 - Eval - INFO - Evaluating nn.Module for 63 iterations with batch_size 16\n"
     ]
    },
    {
     "name": "stderr",
     "output_type": "stream",
     "text": [
      "100% (63 of 63) |########################| Elapsed Time: 0:00:01 Time:  0:00:01\n"
     ]
    },
    {
     "name": "stdout",
     "output_type": "stream",
     "text": [
      "2022-02-03 21:38:46,073 - Eval - INFO - Avg accuracy Top 1: 0.099206 Avg accuracy Top 5: 2.083333 on validation Dataset\n",
      "eval :  0.0992063492063492\n",
      "2022-02-03 21:38:46,074 - Trainer - INFO - At the end of Epoch #1/2: Global Avg Loss=7.185546, Eval Accuracy=0.099206\n"
     ]
    },
    {
     "name": "stderr",
     "output_type": "stream",
     "text": [
      "100% (63 of 63) |########################| Elapsed Time: 0:00:04 Time:  0:00:04\n"
     ]
    },
    {
     "name": "stdout",
     "output_type": "stream",
     "text": [
      "2022-02-03 21:38:50,991 - Eval - INFO - No value of iteration is provided, running evaluation on complete dataset.\n",
      "2022-02-03 21:38:50,992 - Eval - INFO - Evaluating nn.Module for 63 iterations with batch_size 16\n"
     ]
    },
    {
     "name": "stderr",
     "output_type": "stream",
     "text": [
      "100% (63 of 63) |########################| Elapsed Time: 0:00:01 Time:  0:00:01\n"
     ]
    },
    {
     "name": "stdout",
     "output_type": "stream",
     "text": [
      "2022-02-03 21:38:54,896 - Eval - INFO - Avg accuracy Top 1: 1.091270 Avg accuracy Top 5: 3.670635 on validation Dataset\n",
      "eval :  1.0912698412698412\n",
      "2022-02-03 21:38:54,898 - Trainer - INFO - At the end of Epoch #2/2: Global Avg Loss=6.467459, Eval Accuracy=1.091270\n"
     ]
    }
   ],
   "source": [
    "ImageNetDataPipeline.finetune(ssvd_cp_compressed_model, epochs=2, learning_rate=15e-4, learning_rate_schedule=[1],\n",
    "                              use_cuda=use_cuda)"
   ]
  },
  {
   "cell_type": "markdown",
   "metadata": {},
   "source": [
    "---\n",
    "After we are done with finetuing the compressed model, we can check the floating point accuracy against the same validation dataset at the end to observe any improvements in accuracy."
   ]
  },
  {
   "cell_type": "code",
   "execution_count": 16,
   "metadata": {},
   "outputs": [
    {
     "name": "stdout",
     "output_type": "stream",
     "text": [
      "2022-02-03 21:38:55,707 - Dataloader - INFO - Dataset consists of 1000 images in 1000 classes\n",
      "2022-02-03 21:38:55,709 - Eval - INFO - No value of iteration is provided, running evaluation on complete dataset.\n",
      "2022-02-03 21:38:55,710 - Eval - INFO - Evaluating nn.Module for 32 iterations with batch_size 32\n"
     ]
    },
    {
     "name": "stderr",
     "output_type": "stream",
     "text": [
      "100% (32 of 32) |########################| Elapsed Time: 0:00:04 Time:  0:00:04\n"
     ]
    },
    {
     "name": "stdout",
     "output_type": "stream",
     "text": [
      "2022-02-03 21:39:00,694 - Eval - INFO - Avg accuracy Top 1: 1.269531 Avg accuracy Top 5: 4.003906 on validation Dataset\n",
      "1.26953125\n"
     ]
    }
   ],
   "source": [
    "accuracy = ImageNetDataPipeline.evaluate(ssvd_cp_compressed_model, iterations=None, use_cuda=use_cuda)\n",
    "print(accuracy)"
   ]
  },
  {
   "cell_type": "markdown",
   "metadata": {},
   "source": [
    "---\n",
    "Depending on your settings you may have observed a slight gain in accuracy after one epoch of training. Ofcourse, this was just an example. Please try this against the model of your choice and play with the hyper-parameters to get the best results.\n",
    "\n",
    "So we have an improved model after compression using spatial SVD followed by Channel Pruning. Optionally, this model now can be saved like a regular PyTorch model."
   ]
  },
  {
   "cell_type": "code",
   "execution_count": 17,
   "metadata": {},
   "outputs": [],
   "source": [
    "os.makedirs('./output/', exist_ok=True)\n",
    "torch.save(ssvd_cp_compressed_model, './output/ssvd_cp_finetuned_model')"
   ]
  },
  {
   "cell_type": "markdown",
   "metadata": {},
   "source": [
    "---\n",
    "## Summary\n",
    "\n",
    "Hope this notebook was useful for you to understand how to use AIMET for performing compression with Spatial SVD followed by Channel Pruning. As indicated above, some parameters have been chosen in a way to run the example faster.\n",
    "\n",
    "Few additional resources\n",
    "- Refer to the AIMET API docs to know more details of the APIs and optional parameters\n",
    "- Refer to the other example notebooks to understand how to use AIMET compression and quantization techniques"
   ]
  }
 ],
 "metadata": {
  "kernelspec": {
   "display_name": "Python 3",
   "language": "python",
   "name": "python3"
  },
  "language_info": {
   "codemirror_mode": {
    "name": "ipython",
    "version": 3
   },
   "file_extension": ".py",
   "mimetype": "text/x-python",
   "name": "python",
   "nbconvert_exporter": "python",
   "pygments_lexer": "ipython3",
   "version": "3.6.9"
  }
 },
 "nbformat": 4,
 "nbformat_minor": 2
}
