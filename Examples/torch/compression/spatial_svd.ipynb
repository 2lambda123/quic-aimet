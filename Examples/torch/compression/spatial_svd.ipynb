{
 "cells": [
  {
   "cell_type": "markdown",
   "metadata": {},
   "source": [
    "# Model compression using Spatial SVD \n",
    "\n",
    "This notebook shows a working code example of how to use AIMET to perform model compression. The Spatial SVD technique is used in this notebook to achieve model compression.\n",
    "\n",
    "Here is a brief introduction to the techniques. Please refer to the AIMET user guide for more details.\n",
    "\n",
    "1. **Spatial SVD**: This is a tensor-decomposition technique generally applied to convolutional layers (Conv2D). Applying this technique will decompose a single convolutional layer into two. The weight tensor of the layer to be split is flattended to a 2D matrix and singular value decomposition (SVD) is applied to this matrix. Compression is achieved by discarding the least significant singular values in the diagonal matrix. The decomposed matrices are combined back into two separate convolutional layers.\n",
    "\n",
    "\n",
    "2. **Channel Pruning**: In this technique AIMET will discard least significant (using a magnitude metric) input channels of a given convolutional (Conv2D) layer. The layers of the model feeding into this convolutional layer also have the channels dimension modified to get back to a working graph. This technique also uses a layer-by-layer reconstruction procedure that modifies the weights of the compressed layers to minimize the distance of the compressed layer output to the corresponding layer output of the original model.\n",
    "\n",
    "Both of the above techniques are structured pruning techniques that aim to reduce computational macs or memory requirements of the model. Subsequent to applying either of these techniques, the compressed model needs to be fine-tuned (meaning trained again for a few epochs) to recover accuracy close to the original model.\n",
    "\n",
    "This notebook shows working code example of how the technique #1 can be used to compress the model. You can find a separate notebook for #2, and #1 followed by #2 in the same folder.\n",
    "\n",
    "#### Overall flow\n",
    "This notebook covers the following\n",
    "1. Instantiate the example evaluation and training pipeline\n",
    "2. Load the model and evaluate it to find the baseline accuracy\n",
    "3. Compress the model and fine-tune:  \n",
    "    3.1 Compress model using Spatial SVD and evaluate it to find post-compression accuracy  \n",
    "    3.2 Fine-tune the model\n",
    "\n",
    "\n",
    "#### What this notebook is not \n",
    "* This notebook is not designed to show state-of-the-art compression results. For example, some optimization parameters such as num_comp_ratio_candidates, num_eval_iterations and epochs are deliberately chosen to have the notebook execute more quickly.\n"
   ]
  },
  {
   "cell_type": "markdown",
   "metadata": {},
   "source": [
    "---\n",
    "## Dataset\n",
    "\n",
    "This notebook relies on the ImageNet dataset for the task of image classification. If you already have a version of the dataset readily available, please use that. Else, please download the dataset from appropriate location (e.g. https://image-net.org/challenges/LSVRC/2012/index.php#).\n",
    "\n",
    "**Note1**: The ImageNet dataset typically has the following characteristics and the dataloader provided in this example notebook rely on these\n",
    "- Subfolders 'train' for the training samples and 'val' for the validation samples\n",
    "- A subdirectory per class, and a file per each image sample\n",
    "\n",
    "**Note2**: To speed up the execution of this notebook, you may use a reduced subset of the ImageNet dataset. E.g. the entire ILSVRC2012 dataset has 1000 classes, 1000 training samples per class and 50 validation samples per class. But for the purpose of running this notebook, you could perhaps reduce the dataset to say 2 samples per class. This exercise is left upto the reader and is not necessary.\n",
    "\n",
    "Edit the cell below and specify the directory where the downloaded ImageNet dataset is saved."
   ]
  },
  {
   "cell_type": "code",
   "execution_count": 1,
   "metadata": {},
   "outputs": [],
   "source": [
    "DATASET_DIR = 'path/to/dataset'         # Please replace this with a real directory"
   ]
  },
  {
   "cell_type": "markdown",
   "metadata": {},
   "source": [
    "---\n",
    "## 1. Example evaluation and training pipeline\n",
    "\n",
    "The following is an example training and validation loop for this image classification task.\n",
    "\n",
    "- **Does AIMET have any limitations on how the training, validation pipeline is written?** Not really. We will see later that AIMET will modify the user's model to compress it and the resultant model is still a PyTorch model. This compressed model can be used in place of the original model when doing inference or training.\n",
    "- **Does AIMET put any limitation on the interface of the evaluate() or train() methods?** Not really, but evaluate() method should return a single number representing the accuracy of the model. Ideally, You should be able to use your existing evaluate and train routines as-is.\n"
   ]
  },
  {
   "cell_type": "code",
   "execution_count": 2,
   "metadata": {},
   "outputs": [],
   "source": [
    "import os\n",
    "import torch\n",
    "from typing import List\n",
    "from Examples.common import image_net_config\n",
    "from Examples.torch.utils.image_net_evaluator import ImageNetEvaluator\n",
    "from Examples.torch.utils.image_net_trainer import ImageNetTrainer\n",
    "from Examples.torch.utils.image_net_data_loader import ImageNetDataLoader\n",
    "\n",
    "class ImageNetDataPipeline:\n",
    "\n",
    "    @staticmethod\n",
    "    def evaluate(model: torch.nn.Module, iterations: int, use_cuda: bool) -> float:\n",
    "        \"\"\"\n",
    "        Given a torch model, evaluates its Top-1 accuracy on the dataset\n",
    "        :param model: the model to evaluate\n",
    "        :param iterations: the number of batches to be used to evaluate the model. A value of 'None' means the model will be\n",
    "                           evaluated on the entire dataset once.\n",
    "        :param use_cuda: whether or not the GPU should be used.\n",
    "        \"\"\"\n",
    "        evaluator = ImageNetEvaluator(DATASET_DIR, image_size=image_net_config.dataset['image_size'],\n",
    "                                      batch_size=image_net_config.evaluation['batch_size'],\n",
    "                                      num_workers=image_net_config.evaluation['num_workers'])\n",
    "\n",
    "        return evaluator.evaluate(model, iterations=iterations, use_cuda=use_cuda)\n",
    "\n",
    "    @staticmethod\n",
    "    def finetune(model: torch.nn.Module, epochs: int, learning_rate: float, learning_rate_schedule: List, use_cuda: bool):\n",
    "        \"\"\"\n",
    "        Given a torch model, finetunes the model to improve its accuracy\n",
    "        :param model: the model to finetune\n",
    "        :param epochs: The number of epochs used during the finetuning step.\n",
    "        :param learning_rate: The learning rate used during the finetuning step.\n",
    "        :param learning_rate_schedule: The learning rate schedule used during the finetuning step.\n",
    "        :param use_cuda: whether or not the GPU should be used.\n",
    "        \"\"\"\n",
    "        trainer = ImageNetTrainer(DATASET_DIR, image_size=image_net_config.dataset['image_size'],\n",
    "                                  batch_size=image_net_config.train['batch_size'],\n",
    "                                  num_workers=image_net_config.train['num_workers'])\n",
    "\n",
    "        trainer.train(model, max_epochs=epochs, learning_rate=learning_rate,\n",
    "                      learning_rate_schedule=learning_rate_schedule, use_cuda=use_cuda)"
   ]
  },
  {
   "cell_type": "markdown",
   "metadata": {},
   "source": [
    "---\n",
    "## 2. Load the model and evaluate it to find the baseline accuracy"
   ]
  },
  {
   "cell_type": "markdown",
   "metadata": {},
   "source": [
    "For this example notebook, we are going to load a pretrained resnet18 model from torchvision. Similarly, you can load any pretrained PyTorch model instead."
   ]
  },
  {
   "cell_type": "code",
   "execution_count": 3,
   "metadata": {},
   "outputs": [],
   "source": [
    "from torchvision.models import resnet18\n",
    "\n",
    "model = resnet18(pretrained=True)"
   ]
  },
  {
   "cell_type": "markdown",
   "metadata": {},
   "source": [
    "---\n",
    "We should decide whether to place the model on a CPU or CUDA device. This example code will use CUDA if available in your current execution environment. You can change this logic and force a device placement if needed."
   ]
  },
  {
   "cell_type": "code",
   "execution_count": 4,
   "metadata": {},
   "outputs": [],
   "source": [
    "use_cuda = False\n",
    "if torch.cuda.is_available():\n",
    "    use_cuda = True\n",
    "    model.to(torch.device('cuda'))"
   ]
  },
  {
   "cell_type": "markdown",
   "metadata": {},
   "source": [
    "---\n",
    "Let's determine the FP32 (floating point 32-bit) accuracy of this model using the evaluate() routine"
   ]
  },
  {
   "cell_type": "code",
   "execution_count": 5,
   "metadata": {},
   "outputs": [
    {
     "name": "stderr",
     "output_type": "stream",
     "text": [
      "100% (32 of 32) |########################| Elapsed Time: 0:00:05 Time:  0:00:05\n"
     ]
    },
    {
     "name": "stdout",
     "output_type": "stream",
     "text": [
      "69.23828125\n"
     ]
    }
   ],
   "source": [
    "accuracy = ImageNetDataPipeline.evaluate(model, iterations=None, use_cuda=use_cuda)\n",
    "print(accuracy)"
   ]
  },
  {
   "cell_type": "markdown",
   "metadata": {},
   "source": [
    "## 3. Compress the model and fine-tune\n",
    "\n",
    "### 3.1. Compress model using Spatial SVD and evaluate it to find post-compression accuracy\n",
    "Now we use AIMET to define compression parameters for Spatial SVD, few of which are explained here\n",
    "\n",
    "- **target_comp_ratio**: The desired compression ratio for Spatial SVD. We are using 0.8 to compress the model by 20%.\n",
    "\n",
    "- **num_comp_ratio_candidates**: As part of determining how compressible each layer is, AIMET performs various measurements. This number denotes the different compression ratios tried by the AIMET for each layer. We are using 3 here which translates to  0.33, 0.66 and 1.00 compression ratios at each layer. Optimal value is 10. The higher the number of candidates the more granular the measurements for each layer, but also the higher the time taken to complete these measurements.\n",
    "\n",
    "- **modules_to_ignore**: This list can contain the references of model-layers that should be ignored during compression. We have added the first layer to be ignored to preserve the way the input interacts with the model; other layers can be added too if desired.\n",
    "\n",
    "- **mode**: We are chossing **Auto** mode which means AIMET performs per-layer compressibility analysis and determines how much to compress each layer. The alternate choice is **Manual**.\n",
    "\n",
    "- **eval_callback**: The model evaluation function. The expected signature of the evaluate function should be `<function_name>(model, eval_iterations, use_cuda)` and it is expected to return an accuracy metric.\n",
    "\n",
    "- **eval_iterations**: The number of batches of data to use for evaluating the model while the model is compressing. We are using 1 to speed up the notebook execution. But please choose a high enough number of samples so that we can trust the accuracy of the model given those samples. It is expected that the eval callback would use the same samples for every invocation of the callback.\n",
    "\n",
    "- **compress_scheme**: We choose the 'spatial svd' compression scheme.\n",
    "\n",
    "- **cost_metric**: Determines whether we want to target either to reduce MACs or memory by the desired compression ratio. We are chossing 'mac' here.\n"
   ]
  },
  {
   "cell_type": "code",
   "execution_count": 6,
   "metadata": {},
   "outputs": [],
   "source": [
    "from decimal import Decimal\n",
    "from aimet_torch.defs import GreedySelectionParameters, SpatialSvdParameters\n",
    "from aimet_common.defs import CompressionScheme, CostMetric\n",
    "\n",
    "greedy_params = GreedySelectionParameters(target_comp_ratio=Decimal(0.8),\n",
    "                                          num_comp_ratio_candidates=3)\n",
    "modules_to_ignore = [model.conv1]\n",
    "auto_params = SpatialSvdParameters.AutoModeParams(greedy_select_params=greedy_params,\n",
    "                                                  modules_to_ignore=modules_to_ignore)\n",
    "params = SpatialSvdParameters(mode=SpatialSvdParameters.Mode.auto, params=auto_params)\n",
    "\n",
    "eval_callback = ImageNetDataPipeline.evaluate\n",
    "eval_iterations = 1\n",
    "compress_scheme = CompressionScheme.spatial_svd\n",
    "cost_metric = CostMetric.mac"
   ]
  },
  {
   "cell_type": "markdown",
   "metadata": {},
   "source": [
    "---\n",
    "We call the AIMET ModelCompressor.compress_model API using the above parameters. This call returns a compressed model as well as relevant statistics.  \n",
    "**Note**: the ModelCompressor evaluates the model while compressing using the same evaluate function that is in our data pipeline.\n"
   ]
  },
  {
   "cell_type": "code",
   "execution_count": 7,
   "metadata": {
    "scrolled": true
   },
   "outputs": [
    {
     "name": "stdout",
     "output_type": "stream",
     "text": [
      "2022-02-03 21:53:26,402 - CompRatioSelect - INFO - Analyzing compression ratio: 0.3333333333333333333333333333 =====================>\n",
      "2022-02-03 21:53:26,414 - Svd - INFO - Spatial SVD splitting layer: layer1.0.conv1 using rank: 32\n",
      "2022-02-03 21:53:27,378 - Dataloader - INFO - Dataset consists of 1000 images in 1000 classes\n",
      "2022-02-03 21:53:27,382 - Eval - INFO - Evaluating nn.Module for 1 iterations with batch_size 32\n"
     ]
    },
    {
     "name": "stderr",
     "output_type": "stream",
     "text": [
      "100% (1 of 1) |##########################| Elapsed Time: 0:00:00 Time:  0:00:00\n"
     ]
    },
    {
     "name": "stdout",
     "output_type": "stream",
     "text": [
      "2022-02-03 21:53:27,847 - Eval - INFO - Avg accuracy Top 1: 81.250000 Avg accuracy Top 5: 96.875000 on validation Dataset\n",
      "2022-02-03 21:53:27,850 - CompRatioSelect - INFO - Layer layer1.0.conv1, comp_ratio 0.333333 ==> eval_score=81.250000\n",
      "2022-02-03 21:53:27,851 - CompRatioSelect - INFO - Analyzing compression ratio: 0.6666666666666666666666666666 =====================>\n",
      "2022-02-03 21:53:27,869 - Svd - INFO - Spatial SVD splitting layer: layer1.0.conv1 using rank: 63\n",
      "2022-02-03 21:53:28,668 - Dataloader - INFO - Dataset consists of 1000 images in 1000 classes\n",
      "2022-02-03 21:53:28,670 - Eval - INFO - Evaluating nn.Module for 1 iterations with batch_size 32\n"
     ]
    },
    {
     "name": "stderr",
     "output_type": "stream",
     "text": [
      "100% (1 of 1) |##########################| Elapsed Time: 0:00:00 Time:  0:00:00\n"
     ]
    },
    {
     "name": "stdout",
     "output_type": "stream",
     "text": [
      "2022-02-03 21:53:29,128 - Eval - INFO - Avg accuracy Top 1: 81.250000 Avg accuracy Top 5: 93.750000 on validation Dataset\n",
      "2022-02-03 21:53:29,131 - CompRatioSelect - INFO - Layer layer1.0.conv1, comp_ratio 0.666667 ==> eval_score=81.250000\n",
      "2022-02-03 21:53:29,131 - CompRatioSelect - INFO - Analyzing compression ratio: 0.3333333333333333333333333333 =====================>\n",
      "2022-02-03 21:53:29,148 - Svd - INFO - Spatial SVD splitting layer: layer1.0.conv2 using rank: 32\n",
      "2022-02-03 21:53:29,945 - Dataloader - INFO - Dataset consists of 1000 images in 1000 classes\n",
      "2022-02-03 21:53:29,947 - Eval - INFO - Evaluating nn.Module for 1 iterations with batch_size 32\n"
     ]
    },
    {
     "name": "stderr",
     "output_type": "stream",
     "text": [
      "100% (1 of 1) |##########################| Elapsed Time: 0:00:00 Time:  0:00:00\n"
     ]
    },
    {
     "name": "stdout",
     "output_type": "stream",
     "text": [
      "2022-02-03 21:53:30,402 - Eval - INFO - Avg accuracy Top 1: 81.250000 Avg accuracy Top 5: 93.750000 on validation Dataset\n",
      "2022-02-03 21:53:30,404 - CompRatioSelect - INFO - Layer layer1.0.conv2, comp_ratio 0.333333 ==> eval_score=81.250000\n",
      "2022-02-03 21:53:30,405 - CompRatioSelect - INFO - Analyzing compression ratio: 0.6666666666666666666666666666 =====================>\n",
      "2022-02-03 21:53:30,423 - Svd - INFO - Spatial SVD splitting layer: layer1.0.conv2 using rank: 63\n",
      "2022-02-03 21:53:31,217 - Dataloader - INFO - Dataset consists of 1000 images in 1000 classes\n",
      "2022-02-03 21:53:31,219 - Eval - INFO - Evaluating nn.Module for 1 iterations with batch_size 32\n"
     ]
    },
    {
     "name": "stderr",
     "output_type": "stream",
     "text": [
      "100% (1 of 1) |##########################| Elapsed Time: 0:00:00 Time:  0:00:00\n"
     ]
    },
    {
     "name": "stdout",
     "output_type": "stream",
     "text": [
      "2022-02-03 21:53:31,690 - Eval - INFO - Avg accuracy Top 1: 81.250000 Avg accuracy Top 5: 96.875000 on validation Dataset\n",
      "2022-02-03 21:53:31,693 - CompRatioSelect - INFO - Layer layer1.0.conv2, comp_ratio 0.666667 ==> eval_score=81.250000\n",
      "2022-02-03 21:53:31,694 - CompRatioSelect - INFO - Analyzing compression ratio: 0.3333333333333333333333333333 =====================>\n",
      "2022-02-03 21:53:31,716 - Svd - INFO - Spatial SVD splitting layer: layer1.1.conv1 using rank: 32\n",
      "2022-02-03 21:53:32,628 - Dataloader - INFO - Dataset consists of 1000 images in 1000 classes\n",
      "2022-02-03 21:53:32,631 - Eval - INFO - Evaluating nn.Module for 1 iterations with batch_size 32\n"
     ]
    },
    {
     "name": "stderr",
     "output_type": "stream",
     "text": [
      "100% (1 of 1) |##########################| Elapsed Time: 0:00:00 Time:  0:00:00\n"
     ]
    },
    {
     "name": "stdout",
     "output_type": "stream",
     "text": [
      "2022-02-03 21:53:33,102 - Eval - INFO - Avg accuracy Top 1: 75.000000 Avg accuracy Top 5: 90.625000 on validation Dataset\n",
      "2022-02-03 21:53:33,105 - CompRatioSelect - INFO - Layer layer1.1.conv1, comp_ratio 0.333333 ==> eval_score=75.000000\n",
      "2022-02-03 21:53:33,106 - CompRatioSelect - INFO - Analyzing compression ratio: 0.6666666666666666666666666666 =====================>\n",
      "2022-02-03 21:53:33,123 - Svd - INFO - Spatial SVD splitting layer: layer1.1.conv1 using rank: 63\n",
      "2022-02-03 21:53:34,194 - Dataloader - INFO - Dataset consists of 1000 images in 1000 classes\n",
      "2022-02-03 21:53:34,196 - Eval - INFO - Evaluating nn.Module for 1 iterations with batch_size 32\n"
     ]
    },
    {
     "name": "stderr",
     "output_type": "stream",
     "text": [
      "100% (1 of 1) |##########################| Elapsed Time: 0:00:00 Time:  0:00:00\n"
     ]
    },
    {
     "name": "stdout",
     "output_type": "stream",
     "text": [
      "2022-02-03 21:53:34,677 - Eval - INFO - Avg accuracy Top 1: 84.375000 Avg accuracy Top 5: 93.750000 on validation Dataset\n",
      "2022-02-03 21:53:34,680 - CompRatioSelect - INFO - Layer layer1.1.conv1, comp_ratio 0.666667 ==> eval_score=84.375000\n",
      "2022-02-03 21:53:34,681 - CompRatioSelect - INFO - Analyzing compression ratio: 0.3333333333333333333333333333 =====================>\n",
      "2022-02-03 21:53:34,698 - Svd - INFO - Spatial SVD splitting layer: layer1.1.conv2 using rank: 32\n",
      "2022-02-03 21:53:35,762 - Dataloader - INFO - Dataset consists of 1000 images in 1000 classes\n",
      "2022-02-03 21:53:35,764 - Eval - INFO - Evaluating nn.Module for 1 iterations with batch_size 32\n"
     ]
    },
    {
     "name": "stderr",
     "output_type": "stream",
     "text": [
      "100% (1 of 1) |##########################| Elapsed Time: 0:00:00 Time:  0:00:00\n"
     ]
    },
    {
     "name": "stdout",
     "output_type": "stream",
     "text": [
      "2022-02-03 21:53:36,274 - Eval - INFO - Avg accuracy Top 1: 71.875000 Avg accuracy Top 5: 93.750000 on validation Dataset\n",
      "2022-02-03 21:53:36,276 - CompRatioSelect - INFO - Layer layer1.1.conv2, comp_ratio 0.333333 ==> eval_score=71.875000\n",
      "2022-02-03 21:53:36,277 - CompRatioSelect - INFO - Analyzing compression ratio: 0.6666666666666666666666666666 =====================>\n",
      "2022-02-03 21:53:36,295 - Svd - INFO - Spatial SVD splitting layer: layer1.1.conv2 using rank: 63\n",
      "2022-02-03 21:53:37,175 - Dataloader - INFO - Dataset consists of 1000 images in 1000 classes\n",
      "2022-02-03 21:53:37,177 - Eval - INFO - Evaluating nn.Module for 1 iterations with batch_size 32\n"
     ]
    },
    {
     "name": "stderr",
     "output_type": "stream",
     "text": [
      "100% (1 of 1) |##########################| Elapsed Time: 0:00:00 Time:  0:00:00\n"
     ]
    },
    {
     "name": "stdout",
     "output_type": "stream",
     "text": [
      "2022-02-03 21:53:37,641 - Eval - INFO - Avg accuracy Top 1: 81.250000 Avg accuracy Top 5: 96.875000 on validation Dataset\n",
      "2022-02-03 21:53:37,643 - CompRatioSelect - INFO - Layer layer1.1.conv2, comp_ratio 0.666667 ==> eval_score=81.250000\n",
      "2022-02-03 21:53:37,644 - CompRatioSelect - INFO - Analyzing compression ratio: 0.3333333333333333333333333333 =====================>\n",
      "2022-02-03 21:53:37,660 - Svd - INFO - Spatial SVD splitting layer: layer2.0.conv1 using rank: 32\n",
      "2022-02-03 21:53:38,530 - Dataloader - INFO - Dataset consists of 1000 images in 1000 classes\n",
      "2022-02-03 21:53:38,532 - Eval - INFO - Evaluating nn.Module for 1 iterations with batch_size 32\n"
     ]
    },
    {
     "name": "stderr",
     "output_type": "stream",
     "text": [
      "100% (1 of 1) |##########################| Elapsed Time: 0:00:00 Time:  0:00:00\n"
     ]
    },
    {
     "name": "stdout",
     "output_type": "stream",
     "text": [
      "2022-02-03 21:53:39,005 - Eval - INFO - Avg accuracy Top 1: 56.250000 Avg accuracy Top 5: 71.875000 on validation Dataset\n",
      "2022-02-03 21:53:39,008 - CompRatioSelect - INFO - Layer layer2.0.conv1, comp_ratio 0.333333 ==> eval_score=56.250000\n",
      "2022-02-03 21:53:39,010 - CompRatioSelect - INFO - Analyzing compression ratio: 0.6666666666666666666666666666 =====================>\n",
      "2022-02-03 21:53:39,029 - Svd - INFO - Spatial SVD splitting layer: layer2.0.conv1 using rank: 64\n",
      "2022-02-03 21:53:39,916 - Dataloader - INFO - Dataset consists of 1000 images in 1000 classes\n",
      "2022-02-03 21:53:39,918 - Eval - INFO - Evaluating nn.Module for 1 iterations with batch_size 32\n"
     ]
    },
    {
     "name": "stderr",
     "output_type": "stream",
     "text": [
      "100% (1 of 1) |##########################| Elapsed Time: 0:00:00 Time:  0:00:00\n"
     ]
    },
    {
     "name": "stdout",
     "output_type": "stream",
     "text": [
      "2022-02-03 21:53:40,384 - Eval - INFO - Avg accuracy Top 1: 71.875000 Avg accuracy Top 5: 87.500000 on validation Dataset\n",
      "2022-02-03 21:53:40,385 - CompRatioSelect - INFO - Layer layer2.0.conv1, comp_ratio 0.666667 ==> eval_score=71.875000\n",
      "2022-02-03 21:53:40,386 - CompRatioSelect - INFO - Analyzing compression ratio: 0.3333333333333333333333333333 =====================>\n",
      "2022-02-03 21:53:40,402 - Svd - INFO - Spatial SVD splitting layer: layer2.0.conv2 using rank: 64\n",
      "2022-02-03 21:53:41,444 - Dataloader - INFO - Dataset consists of 1000 images in 1000 classes\n",
      "2022-02-03 21:53:41,446 - Eval - INFO - Evaluating nn.Module for 1 iterations with batch_size 32\n"
     ]
    },
    {
     "name": "stderr",
     "output_type": "stream",
     "text": [
      "100% (1 of 1) |##########################| Elapsed Time: 0:00:00 Time:  0:00:00\n"
     ]
    },
    {
     "name": "stdout",
     "output_type": "stream",
     "text": [
      "2022-02-03 21:53:41,969 - Eval - INFO - Avg accuracy Top 1: 81.250000 Avg accuracy Top 5: 93.750000 on validation Dataset\n",
      "2022-02-03 21:53:41,972 - CompRatioSelect - INFO - Layer layer2.0.conv2, comp_ratio 0.333333 ==> eval_score=81.250000\n",
      "2022-02-03 21:53:41,973 - CompRatioSelect - INFO - Analyzing compression ratio: 0.6666666666666666666666666666 =====================>\n",
      "2022-02-03 21:53:41,990 - Svd - INFO - Spatial SVD splitting layer: layer2.0.conv2 using rank: 127\n",
      "2022-02-03 21:53:42,882 - Dataloader - INFO - Dataset consists of 1000 images in 1000 classes\n",
      "2022-02-03 21:53:42,884 - Eval - INFO - Evaluating nn.Module for 1 iterations with batch_size 32\n"
     ]
    },
    {
     "name": "stderr",
     "output_type": "stream",
     "text": [
      "100% (1 of 1) |##########################| Elapsed Time: 0:00:00 Time:  0:00:00\n"
     ]
    },
    {
     "name": "stdout",
     "output_type": "stream",
     "text": [
      "2022-02-03 21:53:43,352 - Eval - INFO - Avg accuracy Top 1: 84.375000 Avg accuracy Top 5: 93.750000 on validation Dataset\n",
      "2022-02-03 21:53:43,356 - CompRatioSelect - INFO - Layer layer2.0.conv2, comp_ratio 0.666667 ==> eval_score=84.375000\n",
      "2022-02-03 21:53:43,357 - CompRatioSelect - INFO - Analyzing compression ratio: 0.3333333333333333333333333333 =====================>\n",
      "2022-02-03 21:53:43,373 - Svd - INFO - Spatial SVD splitting layer: layer2.0.downsample.0 using rank: 10\n",
      "2022-02-03 21:53:44,159 - Dataloader - INFO - Dataset consists of 1000 images in 1000 classes\n",
      "2022-02-03 21:53:44,161 - Eval - INFO - Evaluating nn.Module for 1 iterations with batch_size 32\n"
     ]
    },
    {
     "name": "stderr",
     "output_type": "stream",
     "text": [
      "100% (1 of 1) |##########################| Elapsed Time: 0:00:00 Time:  0:00:00\n"
     ]
    },
    {
     "name": "stdout",
     "output_type": "stream",
     "text": [
      "2022-02-03 21:53:44,628 - Eval - INFO - Avg accuracy Top 1: 53.125000 Avg accuracy Top 5: 78.125000 on validation Dataset\n",
      "2022-02-03 21:53:44,632 - CompRatioSelect - INFO - Layer layer2.0.downsample.0, comp_ratio 0.333333 ==> eval_score=53.125000\n",
      "2022-02-03 21:53:44,633 - CompRatioSelect - INFO - Analyzing compression ratio: 0.6666666666666666666666666666 =====================>\n",
      "2022-02-03 21:53:44,648 - Svd - INFO - Spatial SVD splitting layer: layer2.0.downsample.0 using rank: 21\n",
      "2022-02-03 21:53:45,497 - Dataloader - INFO - Dataset consists of 1000 images in 1000 classes\n",
      "2022-02-03 21:53:45,499 - Eval - INFO - Evaluating nn.Module for 1 iterations with batch_size 32\n"
     ]
    },
    {
     "name": "stderr",
     "output_type": "stream",
     "text": [
      "100% (1 of 1) |##########################| Elapsed Time: 0:00:00 Time:  0:00:00\n"
     ]
    },
    {
     "name": "stdout",
     "output_type": "stream",
     "text": [
      "2022-02-03 21:53:45,960 - Eval - INFO - Avg accuracy Top 1: 75.000000 Avg accuracy Top 5: 78.125000 on validation Dataset\n",
      "2022-02-03 21:53:45,962 - CompRatioSelect - INFO - Layer layer2.0.downsample.0, comp_ratio 0.666667 ==> eval_score=75.000000\n",
      "2022-02-03 21:53:45,963 - CompRatioSelect - INFO - Analyzing compression ratio: 0.3333333333333333333333333333 =====================>\n",
      "2022-02-03 21:53:45,977 - Svd - INFO - Spatial SVD splitting layer: layer2.1.conv1 using rank: 64\n",
      "2022-02-03 21:53:47,085 - Dataloader - INFO - Dataset consists of 1000 images in 1000 classes\n",
      "2022-02-03 21:53:47,087 - Eval - INFO - Evaluating nn.Module for 1 iterations with batch_size 32\n"
     ]
    },
    {
     "name": "stderr",
     "output_type": "stream",
     "text": [
      "100% (1 of 1) |##########################| Elapsed Time: 0:00:00 Time:  0:00:00\n"
     ]
    },
    {
     "name": "stdout",
     "output_type": "stream",
     "text": [
      "2022-02-03 21:53:47,542 - Eval - INFO - Avg accuracy Top 1: 78.125000 Avg accuracy Top 5: 90.625000 on validation Dataset\n",
      "2022-02-03 21:53:47,545 - CompRatioSelect - INFO - Layer layer2.1.conv1, comp_ratio 0.333333 ==> eval_score=78.125000\n",
      "2022-02-03 21:53:47,546 - CompRatioSelect - INFO - Analyzing compression ratio: 0.6666666666666666666666666666 =====================>\n",
      "2022-02-03 21:53:47,564 - Svd - INFO - Spatial SVD splitting layer: layer2.1.conv1 using rank: 127\n",
      "2022-02-03 21:53:48,741 - Dataloader - INFO - Dataset consists of 1000 images in 1000 classes\n",
      "2022-02-03 21:53:48,743 - Eval - INFO - Evaluating nn.Module for 1 iterations with batch_size 32\n"
     ]
    },
    {
     "name": "stderr",
     "output_type": "stream",
     "text": [
      "100% (1 of 1) |##########################| Elapsed Time: 0:00:00 Time:  0:00:00\n"
     ]
    },
    {
     "name": "stdout",
     "output_type": "stream",
     "text": [
      "2022-02-03 21:53:49,211 - Eval - INFO - Avg accuracy Top 1: 84.375000 Avg accuracy Top 5: 93.750000 on validation Dataset\n",
      "2022-02-03 21:53:49,214 - CompRatioSelect - INFO - Layer layer2.1.conv1, comp_ratio 0.666667 ==> eval_score=84.375000\n",
      "2022-02-03 21:53:49,215 - CompRatioSelect - INFO - Analyzing compression ratio: 0.3333333333333333333333333333 =====================>\n",
      "2022-02-03 21:53:49,231 - Svd - INFO - Spatial SVD splitting layer: layer2.1.conv2 using rank: 64\n",
      "2022-02-03 21:53:50,126 - Dataloader - INFO - Dataset consists of 1000 images in 1000 classes\n",
      "2022-02-03 21:53:50,128 - Eval - INFO - Evaluating nn.Module for 1 iterations with batch_size 32\n"
     ]
    },
    {
     "name": "stderr",
     "output_type": "stream",
     "text": [
      "100% (1 of 1) |##########################| Elapsed Time: 0:00:00 Time:  0:00:00\n"
     ]
    },
    {
     "name": "stdout",
     "output_type": "stream",
     "text": [
      "2022-02-03 21:53:50,622 - Eval - INFO - Avg accuracy Top 1: 81.250000 Avg accuracy Top 5: 90.625000 on validation Dataset\n",
      "2022-02-03 21:53:50,624 - CompRatioSelect - INFO - Layer layer2.1.conv2, comp_ratio 0.333333 ==> eval_score=81.250000\n",
      "2022-02-03 21:53:50,625 - CompRatioSelect - INFO - Analyzing compression ratio: 0.6666666666666666666666666666 =====================>\n",
      "2022-02-03 21:53:50,643 - Svd - INFO - Spatial SVD splitting layer: layer2.1.conv2 using rank: 127\n",
      "2022-02-03 21:53:51,541 - Dataloader - INFO - Dataset consists of 1000 images in 1000 classes\n",
      "2022-02-03 21:53:51,543 - Eval - INFO - Evaluating nn.Module for 1 iterations with batch_size 32\n"
     ]
    },
    {
     "name": "stderr",
     "output_type": "stream",
     "text": [
      "100% (1 of 1) |##########################| Elapsed Time: 0:00:00 Time:  0:00:00\n"
     ]
    },
    {
     "name": "stdout",
     "output_type": "stream",
     "text": [
      "2022-02-03 21:53:52,024 - Eval - INFO - Avg accuracy Top 1: 81.250000 Avg accuracy Top 5: 93.750000 on validation Dataset\n",
      "2022-02-03 21:53:52,027 - CompRatioSelect - INFO - Layer layer2.1.conv2, comp_ratio 0.666667 ==> eval_score=81.250000\n",
      "2022-02-03 21:53:52,028 - CompRatioSelect - INFO - Analyzing compression ratio: 0.3333333333333333333333333333 =====================>\n",
      "2022-02-03 21:53:52,045 - Svd - INFO - Spatial SVD splitting layer: layer3.0.conv1 using rank: 64\n",
      "2022-02-03 21:53:53,217 - Dataloader - INFO - Dataset consists of 1000 images in 1000 classes\n",
      "2022-02-03 21:53:53,219 - Eval - INFO - Evaluating nn.Module for 1 iterations with batch_size 32\n"
     ]
    },
    {
     "name": "stderr",
     "output_type": "stream",
     "text": [
      "100% (1 of 1) |##########################| Elapsed Time: 0:00:00 Time:  0:00:00\n"
     ]
    },
    {
     "name": "stdout",
     "output_type": "stream",
     "text": [
      "2022-02-03 21:53:53,708 - Eval - INFO - Avg accuracy Top 1: 68.750000 Avg accuracy Top 5: 87.500000 on validation Dataset\n",
      "2022-02-03 21:53:53,711 - CompRatioSelect - INFO - Layer layer3.0.conv1, comp_ratio 0.333333 ==> eval_score=68.750000\n",
      "2022-02-03 21:53:53,712 - CompRatioSelect - INFO - Analyzing compression ratio: 0.6666666666666666666666666666 =====================>\n",
      "2022-02-03 21:53:53,729 - Svd - INFO - Spatial SVD splitting layer: layer3.0.conv1 using rank: 128\n",
      "2022-02-03 21:53:54,971 - Dataloader - INFO - Dataset consists of 1000 images in 1000 classes\n",
      "2022-02-03 21:53:54,974 - Eval - INFO - Evaluating nn.Module for 1 iterations with batch_size 32\n"
     ]
    },
    {
     "name": "stderr",
     "output_type": "stream",
     "text": [
      "100% (1 of 1) |##########################| Elapsed Time: 0:00:00 Time:  0:00:00\n"
     ]
    },
    {
     "name": "stdout",
     "output_type": "stream",
     "text": [
      "2022-02-03 21:53:55,454 - Eval - INFO - Avg accuracy Top 1: 84.375000 Avg accuracy Top 5: 96.875000 on validation Dataset\n",
      "2022-02-03 21:53:55,456 - CompRatioSelect - INFO - Layer layer3.0.conv1, comp_ratio 0.666667 ==> eval_score=84.375000\n",
      "2022-02-03 21:53:55,458 - CompRatioSelect - INFO - Analyzing compression ratio: 0.3333333333333333333333333333 =====================>\n",
      "2022-02-03 21:53:55,475 - Svd - INFO - Spatial SVD splitting layer: layer3.0.conv2 using rank: 128\n",
      "2022-02-03 21:53:56,787 - Dataloader - INFO - Dataset consists of 1000 images in 1000 classes\n",
      "2022-02-03 21:53:56,789 - Eval - INFO - Evaluating nn.Module for 1 iterations with batch_size 32\n"
     ]
    },
    {
     "name": "stderr",
     "output_type": "stream",
     "text": [
      "100% (1 of 1) |##########################| Elapsed Time: 0:00:00 Time:  0:00:00\n"
     ]
    },
    {
     "name": "stdout",
     "output_type": "stream",
     "text": [
      "2022-02-03 21:53:57,270 - Eval - INFO - Avg accuracy Top 1: 78.125000 Avg accuracy Top 5: 90.625000 on validation Dataset\n",
      "2022-02-03 21:53:57,272 - CompRatioSelect - INFO - Layer layer3.0.conv2, comp_ratio 0.333333 ==> eval_score=78.125000\n",
      "2022-02-03 21:53:57,272 - CompRatioSelect - INFO - Analyzing compression ratio: 0.6666666666666666666666666666 =====================>\n",
      "2022-02-03 21:53:57,291 - Svd - INFO - Spatial SVD splitting layer: layer3.0.conv2 using rank: 255\n",
      "2022-02-03 21:53:58,473 - Dataloader - INFO - Dataset consists of 1000 images in 1000 classes\n",
      "2022-02-03 21:53:58,475 - Eval - INFO - Evaluating nn.Module for 1 iterations with batch_size 32\n"
     ]
    },
    {
     "name": "stderr",
     "output_type": "stream",
     "text": [
      "100% (1 of 1) |##########################| Elapsed Time: 0:00:00 Time:  0:00:00\n"
     ]
    },
    {
     "name": "stdout",
     "output_type": "stream",
     "text": [
      "2022-02-03 21:53:58,926 - Eval - INFO - Avg accuracy Top 1: 81.250000 Avg accuracy Top 5: 93.750000 on validation Dataset\n",
      "2022-02-03 21:53:58,929 - CompRatioSelect - INFO - Layer layer3.0.conv2, comp_ratio 0.666667 ==> eval_score=81.250000\n",
      "2022-02-03 21:53:58,930 - CompRatioSelect - INFO - Analyzing compression ratio: 0.3333333333333333333333333333 =====================>\n",
      "2022-02-03 21:53:58,946 - Svd - INFO - Spatial SVD splitting layer: layer3.0.downsample.0 using rank: 21\n",
      "2022-02-03 21:53:59,786 - Dataloader - INFO - Dataset consists of 1000 images in 1000 classes\n",
      "2022-02-03 21:53:59,787 - Eval - INFO - Evaluating nn.Module for 1 iterations with batch_size 32\n"
     ]
    },
    {
     "name": "stderr",
     "output_type": "stream",
     "text": [
      "100% (1 of 1) |##########################| Elapsed Time: 0:00:00 Time:  0:00:00\n"
     ]
    },
    {
     "name": "stdout",
     "output_type": "stream",
     "text": [
      "2022-02-03 21:54:00,252 - Eval - INFO - Avg accuracy Top 1: 84.375000 Avg accuracy Top 5: 93.750000 on validation Dataset\n",
      "2022-02-03 21:54:00,255 - CompRatioSelect - INFO - Layer layer3.0.downsample.0, comp_ratio 0.333333 ==> eval_score=84.375000\n",
      "2022-02-03 21:54:00,256 - CompRatioSelect - INFO - Analyzing compression ratio: 0.6666666666666666666666666666 =====================>\n",
      "2022-02-03 21:54:00,275 - Svd - INFO - Spatial SVD splitting layer: layer3.0.downsample.0 using rank: 42\n",
      "2022-02-03 21:54:01,148 - Dataloader - INFO - Dataset consists of 1000 images in 1000 classes\n",
      "2022-02-03 21:54:01,151 - Eval - INFO - Evaluating nn.Module for 1 iterations with batch_size 32\n"
     ]
    },
    {
     "name": "stderr",
     "output_type": "stream",
     "text": [
      "100% (1 of 1) |##########################| Elapsed Time: 0:00:00 Time:  0:00:00\n"
     ]
    },
    {
     "name": "stdout",
     "output_type": "stream",
     "text": [
      "2022-02-03 21:54:01,638 - Eval - INFO - Avg accuracy Top 1: 84.375000 Avg accuracy Top 5: 96.875000 on validation Dataset\n",
      "2022-02-03 21:54:01,640 - CompRatioSelect - INFO - Layer layer3.0.downsample.0, comp_ratio 0.666667 ==> eval_score=84.375000\n",
      "2022-02-03 21:54:01,641 - CompRatioSelect - INFO - Analyzing compression ratio: 0.3333333333333333333333333333 =====================>\n",
      "2022-02-03 21:54:01,660 - Svd - INFO - Spatial SVD splitting layer: layer3.1.conv1 using rank: 128\n",
      "2022-02-03 21:54:03,000 - Dataloader - INFO - Dataset consists of 1000 images in 1000 classes\n",
      "2022-02-03 21:54:03,002 - Eval - INFO - Evaluating nn.Module for 1 iterations with batch_size 32\n"
     ]
    },
    {
     "name": "stderr",
     "output_type": "stream",
     "text": [
      "100% (1 of 1) |##########################| Elapsed Time: 0:00:00 Time:  0:00:00\n"
     ]
    },
    {
     "name": "stdout",
     "output_type": "stream",
     "text": [
      "2022-02-03 21:54:03,478 - Eval - INFO - Avg accuracy Top 1: 84.375000 Avg accuracy Top 5: 93.750000 on validation Dataset\n",
      "2022-02-03 21:54:03,481 - CompRatioSelect - INFO - Layer layer3.1.conv1, comp_ratio 0.333333 ==> eval_score=84.375000\n",
      "2022-02-03 21:54:03,482 - CompRatioSelect - INFO - Analyzing compression ratio: 0.6666666666666666666666666666 =====================>\n",
      "2022-02-03 21:54:03,497 - Svd - INFO - Spatial SVD splitting layer: layer3.1.conv1 using rank: 255\n",
      "2022-02-03 21:54:04,527 - Dataloader - INFO - Dataset consists of 1000 images in 1000 classes\n",
      "2022-02-03 21:54:04,529 - Eval - INFO - Evaluating nn.Module for 1 iterations with batch_size 32\n"
     ]
    },
    {
     "name": "stderr",
     "output_type": "stream",
     "text": [
      "100% (1 of 1) |##########################| Elapsed Time: 0:00:00 Time:  0:00:00\n"
     ]
    },
    {
     "name": "stdout",
     "output_type": "stream",
     "text": [
      "2022-02-03 21:54:04,972 - Eval - INFO - Avg accuracy Top 1: 84.375000 Avg accuracy Top 5: 93.750000 on validation Dataset\n",
      "2022-02-03 21:54:04,975 - CompRatioSelect - INFO - Layer layer3.1.conv1, comp_ratio 0.666667 ==> eval_score=84.375000\n",
      "2022-02-03 21:54:04,976 - CompRatioSelect - INFO - Analyzing compression ratio: 0.3333333333333333333333333333 =====================>\n",
      "2022-02-03 21:54:04,993 - Svd - INFO - Spatial SVD splitting layer: layer3.1.conv2 using rank: 128\n",
      "2022-02-03 21:54:06,151 - Dataloader - INFO - Dataset consists of 1000 images in 1000 classes\n",
      "2022-02-03 21:54:06,153 - Eval - INFO - Evaluating nn.Module for 1 iterations with batch_size 32\n"
     ]
    },
    {
     "name": "stderr",
     "output_type": "stream",
     "text": [
      "100% (1 of 1) |##########################| Elapsed Time: 0:00:00 Time:  0:00:00\n"
     ]
    },
    {
     "name": "stdout",
     "output_type": "stream",
     "text": [
      "2022-02-03 21:54:06,628 - Eval - INFO - Avg accuracy Top 1: 81.250000 Avg accuracy Top 5: 93.750000 on validation Dataset\n",
      "2022-02-03 21:54:06,631 - CompRatioSelect - INFO - Layer layer3.1.conv2, comp_ratio 0.333333 ==> eval_score=81.250000\n",
      "2022-02-03 21:54:06,632 - CompRatioSelect - INFO - Analyzing compression ratio: 0.6666666666666666666666666666 =====================>\n",
      "2022-02-03 21:54:06,648 - Svd - INFO - Spatial SVD splitting layer: layer3.1.conv2 using rank: 255\n",
      "2022-02-03 21:54:07,729 - Dataloader - INFO - Dataset consists of 1000 images in 1000 classes\n",
      "2022-02-03 21:54:07,731 - Eval - INFO - Evaluating nn.Module for 1 iterations with batch_size 32\n"
     ]
    },
    {
     "name": "stderr",
     "output_type": "stream",
     "text": [
      "100% (1 of 1) |##########################| Elapsed Time: 0:00:00 Time:  0:00:00\n"
     ]
    },
    {
     "name": "stdout",
     "output_type": "stream",
     "text": [
      "2022-02-03 21:54:08,170 - Eval - INFO - Avg accuracy Top 1: 84.375000 Avg accuracy Top 5: 93.750000 on validation Dataset\n",
      "2022-02-03 21:54:08,173 - CompRatioSelect - INFO - Layer layer3.1.conv2, comp_ratio 0.666667 ==> eval_score=84.375000\n",
      "2022-02-03 21:54:08,173 - CompRatioSelect - INFO - Analyzing compression ratio: 0.3333333333333333333333333333 =====================>\n",
      "2022-02-03 21:54:08,191 - Svd - INFO - Spatial SVD splitting layer: layer4.0.conv1 using rank: 128\n",
      "2022-02-03 21:54:09,524 - Dataloader - INFO - Dataset consists of 1000 images in 1000 classes\n",
      "2022-02-03 21:54:09,526 - Eval - INFO - Evaluating nn.Module for 1 iterations with batch_size 32\n"
     ]
    },
    {
     "name": "stderr",
     "output_type": "stream",
     "text": [
      "100% (1 of 1) |##########################| Elapsed Time: 0:00:00 Time:  0:00:00\n"
     ]
    },
    {
     "name": "stdout",
     "output_type": "stream",
     "text": [
      "2022-02-03 21:54:09,976 - Eval - INFO - Avg accuracy Top 1: 75.000000 Avg accuracy Top 5: 90.625000 on validation Dataset\n",
      "2022-02-03 21:54:09,978 - CompRatioSelect - INFO - Layer layer4.0.conv1, comp_ratio 0.333333 ==> eval_score=75.000000\n",
      "2022-02-03 21:54:09,980 - CompRatioSelect - INFO - Analyzing compression ratio: 0.6666666666666666666666666666 =====================>\n",
      "2022-02-03 21:54:09,995 - Svd - INFO - Spatial SVD splitting layer: layer4.0.conv1 using rank: 256\n",
      "2022-02-03 21:54:11,249 - Dataloader - INFO - Dataset consists of 1000 images in 1000 classes\n",
      "2022-02-03 21:54:11,250 - Eval - INFO - Evaluating nn.Module for 1 iterations with batch_size 32\n"
     ]
    },
    {
     "name": "stderr",
     "output_type": "stream",
     "text": [
      "100% (1 of 1) |##########################| Elapsed Time: 0:00:00 Time:  0:00:00\n"
     ]
    },
    {
     "name": "stdout",
     "output_type": "stream",
     "text": [
      "2022-02-03 21:54:11,706 - Eval - INFO - Avg accuracy Top 1: 78.125000 Avg accuracy Top 5: 93.750000 on validation Dataset\n",
      "2022-02-03 21:54:11,709 - CompRatioSelect - INFO - Layer layer4.0.conv1, comp_ratio 0.666667 ==> eval_score=78.125000\n",
      "2022-02-03 21:54:11,711 - CompRatioSelect - INFO - Analyzing compression ratio: 0.3333333333333333333333333333 =====================>\n",
      "2022-02-03 21:54:11,725 - Svd - INFO - Spatial SVD splitting layer: layer4.0.conv2 using rank: 256\n",
      "2022-02-03 21:54:14,118 - Dataloader - INFO - Dataset consists of 1000 images in 1000 classes\n",
      "2022-02-03 21:54:14,120 - Eval - INFO - Evaluating nn.Module for 1 iterations with batch_size 32\n"
     ]
    },
    {
     "name": "stderr",
     "output_type": "stream",
     "text": [
      "100% (1 of 1) |##########################| Elapsed Time: 0:00:00 Time:  0:00:00\n"
     ]
    },
    {
     "name": "stdout",
     "output_type": "stream",
     "text": [
      "2022-02-03 21:54:14,573 - Eval - INFO - Avg accuracy Top 1: 78.125000 Avg accuracy Top 5: 87.500000 on validation Dataset\n",
      "2022-02-03 21:54:14,576 - CompRatioSelect - INFO - Layer layer4.0.conv2, comp_ratio 0.333333 ==> eval_score=78.125000\n",
      "2022-02-03 21:54:14,577 - CompRatioSelect - INFO - Analyzing compression ratio: 0.6666666666666666666666666666 =====================>\n",
      "2022-02-03 21:54:14,596 - Svd - INFO - Spatial SVD splitting layer: layer4.0.conv2 using rank: 511\n",
      "2022-02-03 21:54:17,261 - Dataloader - INFO - Dataset consists of 1000 images in 1000 classes\n",
      "2022-02-03 21:54:17,264 - Eval - INFO - Evaluating nn.Module for 1 iterations with batch_size 32\n"
     ]
    },
    {
     "name": "stderr",
     "output_type": "stream",
     "text": [
      "100% (1 of 1) |##########################| Elapsed Time: 0:00:00 Time:  0:00:00\n"
     ]
    },
    {
     "name": "stdout",
     "output_type": "stream",
     "text": [
      "2022-02-03 21:54:17,722 - Eval - INFO - Avg accuracy Top 1: 84.375000 Avg accuracy Top 5: 93.750000 on validation Dataset\n",
      "2022-02-03 21:54:17,726 - CompRatioSelect - INFO - Layer layer4.0.conv2, comp_ratio 0.666667 ==> eval_score=84.375000\n",
      "2022-02-03 21:54:17,727 - CompRatioSelect - INFO - Analyzing compression ratio: 0.3333333333333333333333333333 =====================>\n",
      "2022-02-03 21:54:17,745 - Svd - INFO - Spatial SVD splitting layer: layer4.0.downsample.0 using rank: 42\n",
      "2022-02-03 21:54:18,624 - Dataloader - INFO - Dataset consists of 1000 images in 1000 classes\n",
      "2022-02-03 21:54:18,626 - Eval - INFO - Evaluating nn.Module for 1 iterations with batch_size 32\n"
     ]
    },
    {
     "name": "stderr",
     "output_type": "stream",
     "text": [
      "100% (1 of 1) |##########################| Elapsed Time: 0:00:00 Time:  0:00:00\n"
     ]
    },
    {
     "name": "stdout",
     "output_type": "stream",
     "text": [
      "2022-02-03 21:54:19,099 - Eval - INFO - Avg accuracy Top 1: 75.000000 Avg accuracy Top 5: 90.625000 on validation Dataset\n",
      "2022-02-03 21:54:19,102 - CompRatioSelect - INFO - Layer layer4.0.downsample.0, comp_ratio 0.333333 ==> eval_score=75.000000\n",
      "2022-02-03 21:54:19,104 - CompRatioSelect - INFO - Analyzing compression ratio: 0.6666666666666666666666666666 =====================>\n",
      "2022-02-03 21:54:19,125 - Svd - INFO - Spatial SVD splitting layer: layer4.0.downsample.0 using rank: 85\n",
      "2022-02-03 21:54:19,928 - Dataloader - INFO - Dataset consists of 1000 images in 1000 classes\n",
      "2022-02-03 21:54:19,930 - Eval - INFO - Evaluating nn.Module for 1 iterations with batch_size 32\n"
     ]
    },
    {
     "name": "stderr",
     "output_type": "stream",
     "text": [
      "100% (1 of 1) |##########################| Elapsed Time: 0:00:00 Time:  0:00:00\n"
     ]
    },
    {
     "name": "stdout",
     "output_type": "stream",
     "text": [
      "2022-02-03 21:54:20,385 - Eval - INFO - Avg accuracy Top 1: 81.250000 Avg accuracy Top 5: 96.875000 on validation Dataset\n",
      "2022-02-03 21:54:20,388 - CompRatioSelect - INFO - Layer layer4.0.downsample.0, comp_ratio 0.666667 ==> eval_score=81.250000\n",
      "2022-02-03 21:54:20,390 - CompRatioSelect - INFO - Analyzing compression ratio: 0.3333333333333333333333333333 =====================>\n",
      "2022-02-03 21:54:20,409 - Svd - INFO - Spatial SVD splitting layer: layer4.1.conv1 using rank: 256\n",
      "2022-02-03 21:54:22,887 - Dataloader - INFO - Dataset consists of 1000 images in 1000 classes\n",
      "2022-02-03 21:54:22,889 - Eval - INFO - Evaluating nn.Module for 1 iterations with batch_size 32\n"
     ]
    },
    {
     "name": "stderr",
     "output_type": "stream",
     "text": [
      "100% (1 of 1) |##########################| Elapsed Time: 0:00:00 Time:  0:00:00\n"
     ]
    },
    {
     "name": "stdout",
     "output_type": "stream",
     "text": [
      "2022-02-03 21:54:23,354 - Eval - INFO - Avg accuracy Top 1: 78.125000 Avg accuracy Top 5: 96.875000 on validation Dataset\n",
      "2022-02-03 21:54:23,356 - CompRatioSelect - INFO - Layer layer4.1.conv1, comp_ratio 0.333333 ==> eval_score=78.125000\n",
      "2022-02-03 21:54:23,358 - CompRatioSelect - INFO - Analyzing compression ratio: 0.6666666666666666666666666666 =====================>\n",
      "2022-02-03 21:54:23,376 - Svd - INFO - Spatial SVD splitting layer: layer4.1.conv1 using rank: 511\n",
      "2022-02-03 21:54:25,855 - Dataloader - INFO - Dataset consists of 1000 images in 1000 classes\n",
      "2022-02-03 21:54:25,857 - Eval - INFO - Evaluating nn.Module for 1 iterations with batch_size 32\n"
     ]
    },
    {
     "name": "stderr",
     "output_type": "stream",
     "text": [
      "100% (1 of 1) |##########################| Elapsed Time: 0:00:00 Time:  0:00:00\n"
     ]
    },
    {
     "name": "stdout",
     "output_type": "stream",
     "text": [
      "2022-02-03 21:54:26,317 - Eval - INFO - Avg accuracy Top 1: 81.250000 Avg accuracy Top 5: 96.875000 on validation Dataset\n",
      "2022-02-03 21:54:26,320 - CompRatioSelect - INFO - Layer layer4.1.conv1, comp_ratio 0.666667 ==> eval_score=81.250000\n",
      "2022-02-03 21:54:26,321 - CompRatioSelect - INFO - Analyzing compression ratio: 0.3333333333333333333333333333 =====================>\n",
      "2022-02-03 21:54:26,341 - Svd - INFO - Spatial SVD splitting layer: layer4.1.conv2 using rank: 256\n",
      "2022-02-03 21:54:29,230 - Dataloader - INFO - Dataset consists of 1000 images in 1000 classes\n",
      "2022-02-03 21:54:29,232 - Eval - INFO - Evaluating nn.Module for 1 iterations with batch_size 32\n"
     ]
    },
    {
     "name": "stderr",
     "output_type": "stream",
     "text": [
      "100% (1 of 1) |##########################| Elapsed Time: 0:00:00 Time:  0:00:00\n"
     ]
    },
    {
     "name": "stdout",
     "output_type": "stream",
     "text": [
      "2022-02-03 21:54:29,938 - Eval - INFO - Avg accuracy Top 1: 84.375000 Avg accuracy Top 5: 93.750000 on validation Dataset\n",
      "2022-02-03 21:54:29,941 - CompRatioSelect - INFO - Layer layer4.1.conv2, comp_ratio 0.333333 ==> eval_score=84.375000\n",
      "2022-02-03 21:54:29,942 - CompRatioSelect - INFO - Analyzing compression ratio: 0.6666666666666666666666666666 =====================>\n",
      "2022-02-03 21:54:29,960 - Svd - INFO - Spatial SVD splitting layer: layer4.1.conv2 using rank: 511\n",
      "2022-02-03 21:54:32,407 - Dataloader - INFO - Dataset consists of 1000 images in 1000 classes\n",
      "2022-02-03 21:54:32,409 - Eval - INFO - Evaluating nn.Module for 1 iterations with batch_size 32\n"
     ]
    },
    {
     "name": "stderr",
     "output_type": "stream",
     "text": [
      "100% (1 of 1) |##########################| Elapsed Time: 0:00:00 Time:  0:00:00\n"
     ]
    },
    {
     "name": "stdout",
     "output_type": "stream",
     "text": [
      "2022-02-03 21:54:32,870 - Eval - INFO - Avg accuracy Top 1: 84.375000 Avg accuracy Top 5: 93.750000 on validation Dataset\n",
      "2022-02-03 21:54:32,873 - CompRatioSelect - INFO - Layer layer4.1.conv2, comp_ratio 0.666667 ==> eval_score=84.375000\n",
      "2022-02-03 21:54:32,878 - CompRatioSelect - INFO - Greedy selection: Saved eval dict to ./data/greedy_selection_eval_scores_dict.pkl\n",
      "2022-02-03 21:54:32,881 - CompRatioSelect - INFO - Greedy selection: overall_min_score=53.125000, overall_max_score=84.375000\n",
      "2022-02-03 21:54:32,882 - CompRatioSelect - INFO - Greedy selection: Original model cost=(Cost: memory=11678912, mac=1814073344)\n",
      "2022-02-03 21:54:32,992 - CompRatioSelect - INFO - Greedy selection: final choice - comp_ratio=0.794242, score=84.373093\n",
      "2022-02-03 21:54:33,007 - Svd - INFO - Spatial SVD splitting layer: layer1.1.conv1 using rank: 63\n",
      "2022-02-03 21:54:33,031 - Svd - INFO - Spatial SVD splitting layer: layer2.0.conv2 using rank: 127\n",
      "2022-02-03 21:54:33,095 - Svd - INFO - Spatial SVD splitting layer: layer2.1.conv1 using rank: 127\n",
      "2022-02-03 21:54:33,171 - Svd - INFO - Spatial SVD splitting layer: layer3.0.conv1 using rank: 128\n",
      "2022-02-03 21:54:33,286 - Svd - INFO - Spatial SVD splitting layer: layer3.0.downsample.0 using rank: 21\n",
      "2022-02-03 21:54:33,307 - Svd - INFO - Spatial SVD splitting layer: layer3.1.conv1 using rank: 128\n",
      "2022-02-03 21:54:33,651 - Svd - INFO - Spatial SVD splitting layer: layer3.1.conv2 using rank: 255\n",
      "2022-02-03 21:54:33,928 - Svd - INFO - Spatial SVD splitting layer: layer4.0.conv2 using rank: 511\n",
      "2022-02-03 21:54:35,466 - Svd - INFO - Spatial SVD splitting layer: layer4.1.conv2 using rank: 256\n",
      "2022-02-03 21:54:37,935 - Dataloader - INFO - Dataset consists of 1000 images in 1000 classes\n",
      "2022-02-03 21:54:37,937 - Eval - INFO - No value of iteration is provided, running evaluation on complete dataset.\n",
      "2022-02-03 21:54:37,938 - Eval - INFO - Evaluating nn.Module for 32 iterations with batch_size 32\n"
     ]
    },
    {
     "name": "stderr",
     "output_type": "stream",
     "text": [
      "100% (32 of 32) |########################| Elapsed Time: 0:00:04 Time:  0:00:04\n"
     ]
    },
    {
     "name": "stdout",
     "output_type": "stream",
     "text": [
      "2022-02-03 21:54:42,934 - Eval - INFO - Avg accuracy Top 1: 69.238281 Avg accuracy Top 5: 88.671875 on validation Dataset\n",
      "2022-02-03 21:54:43,727 - Dataloader - INFO - Dataset consists of 1000 images in 1000 classes\n",
      "2022-02-03 21:54:43,729 - Eval - INFO - No value of iteration is provided, running evaluation on complete dataset.\n",
      "2022-02-03 21:54:43,730 - Eval - INFO - Evaluating nn.Module for 32 iterations with batch_size 32\n"
     ]
    },
    {
     "name": "stderr",
     "output_type": "stream",
     "text": [
      "100% (32 of 32) |########################| Elapsed Time: 0:00:04 Time:  0:00:04\n"
     ]
    },
    {
     "name": "stdout",
     "output_type": "stream",
     "text": [
      "2022-02-03 21:54:48,807 - Eval - INFO - Avg accuracy Top 1: 66.015625 Avg accuracy Top 5: 85.644531 on validation Dataset\n",
      "**********************************************************************************************\n",
      "Compressed Model Statistics\n",
      "Baseline model accuracy: 69.238281, Compressed model accuracy: 66.015625\n",
      "Compression ratio for memory=0.722714, mac=0.794242\n",
      "\n",
      "**********************************************************************************************\n",
      "\n",
      "Per-layer Stats\n",
      "    Name:layer1.0.conv1, compression-ratio: None\n",
      "    Name:layer1.0.conv2, compression-ratio: None\n",
      "    Name:layer1.1.conv1, compression-ratio: 0.6666666666666666666666666666\n",
      "    Name:layer1.1.conv2, compression-ratio: None\n",
      "    Name:layer2.0.conv1, compression-ratio: None\n",
      "    Name:layer2.0.conv2, compression-ratio: 0.6666666666666666666666666666\n",
      "    Name:layer2.0.downsample.0, compression-ratio: None\n",
      "    Name:layer2.1.conv1, compression-ratio: 0.6666666666666666666666666666\n",
      "    Name:layer2.1.conv2, compression-ratio: None\n",
      "    Name:layer3.0.conv1, compression-ratio: 0.6666666666666666666666666666\n",
      "    Name:layer3.0.conv2, compression-ratio: None\n",
      "    Name:layer3.0.downsample.0, compression-ratio: 0.3333333333333333333333333333\n",
      "    Name:layer3.1.conv1, compression-ratio: 0.3333333333333333333333333333\n",
      "    Name:layer3.1.conv2, compression-ratio: 0.6666666666666666666666666666\n",
      "    Name:layer4.0.conv1, compression-ratio: None\n",
      "    Name:layer4.0.conv2, compression-ratio: 0.6666666666666666666666666666\n",
      "    Name:layer4.0.downsample.0, compression-ratio: None\n",
      "    Name:layer4.1.conv1, compression-ratio: None\n",
      "    Name:layer4.1.conv2, compression-ratio: 0.3333333333333333333333333333\n",
      "\n",
      "**********************************************************************************************\n",
      "\n",
      "Greedy Eval Dict\n",
      "    Layer: layer1.0.conv1\n",
      "        Ratio=0.3333333333333333333333333333, Eval score=81.25\n",
      "        Ratio=0.6666666666666666666666666666, Eval score=81.25\n",
      "    Layer: layer1.0.conv2\n",
      "        Ratio=0.3333333333333333333333333333, Eval score=81.25\n",
      "        Ratio=0.6666666666666666666666666666, Eval score=81.25\n",
      "    Layer: layer1.1.conv1\n",
      "        Ratio=0.3333333333333333333333333333, Eval score=75.0\n",
      "        Ratio=0.6666666666666666666666666666, Eval score=84.375\n",
      "    Layer: layer1.1.conv2\n",
      "        Ratio=0.3333333333333333333333333333, Eval score=71.875\n",
      "        Ratio=0.6666666666666666666666666666, Eval score=81.25\n",
      "    Layer: layer2.0.conv1\n",
      "        Ratio=0.3333333333333333333333333333, Eval score=56.25\n",
      "        Ratio=0.6666666666666666666666666666, Eval score=71.875\n",
      "    Layer: layer2.0.conv2\n",
      "        Ratio=0.3333333333333333333333333333, Eval score=81.25\n",
      "        Ratio=0.6666666666666666666666666666, Eval score=84.375\n",
      "    Layer: layer2.0.downsample.0\n",
      "        Ratio=0.3333333333333333333333333333, Eval score=53.125\n",
      "        Ratio=0.6666666666666666666666666666, Eval score=75.0\n",
      "    Layer: layer2.1.conv1\n",
      "        Ratio=0.3333333333333333333333333333, Eval score=78.125\n",
      "        Ratio=0.6666666666666666666666666666, Eval score=84.375\n",
      "    Layer: layer2.1.conv2\n",
      "        Ratio=0.3333333333333333333333333333, Eval score=81.25\n",
      "        Ratio=0.6666666666666666666666666666, Eval score=81.25\n",
      "    Layer: layer3.0.conv1\n",
      "        Ratio=0.3333333333333333333333333333, Eval score=68.75\n",
      "        Ratio=0.6666666666666666666666666666, Eval score=84.375\n",
      "    Layer: layer3.0.conv2\n",
      "        Ratio=0.3333333333333333333333333333, Eval score=78.125\n",
      "        Ratio=0.6666666666666666666666666666, Eval score=81.25\n",
      "    Layer: layer3.0.downsample.0\n",
      "        Ratio=0.3333333333333333333333333333, Eval score=84.375\n",
      "        Ratio=0.6666666666666666666666666666, Eval score=84.375\n",
      "    Layer: layer3.1.conv1\n",
      "        Ratio=0.3333333333333333333333333333, Eval score=84.375\n",
      "        Ratio=0.6666666666666666666666666666, Eval score=84.375\n",
      "    Layer: layer3.1.conv2\n",
      "        Ratio=0.3333333333333333333333333333, Eval score=81.25\n",
      "        Ratio=0.6666666666666666666666666666, Eval score=84.375\n",
      "    Layer: layer4.0.conv1\n",
      "        Ratio=0.3333333333333333333333333333, Eval score=75.0\n",
      "        Ratio=0.6666666666666666666666666666, Eval score=78.125\n",
      "    Layer: layer4.0.conv2\n",
      "        Ratio=0.3333333333333333333333333333, Eval score=78.125\n",
      "        Ratio=0.6666666666666666666666666666, Eval score=84.375\n",
      "    Layer: layer4.0.downsample.0\n",
      "        Ratio=0.3333333333333333333333333333, Eval score=75.0\n",
      "        Ratio=0.6666666666666666666666666666, Eval score=81.25\n",
      "    Layer: layer4.1.conv1\n",
      "        Ratio=0.3333333333333333333333333333, Eval score=78.125\n",
      "        Ratio=0.6666666666666666666666666666, Eval score=81.25\n",
      "    Layer: layer4.1.conv2\n",
      "        Ratio=0.3333333333333333333333333333, Eval score=84.375\n",
      "        Ratio=0.6666666666666666666666666666, Eval score=84.375\n",
      "\n",
      "**********************************************************************************************\n",
      "\n"
     ]
    }
   ],
   "source": [
    "from aimet_torch.compress import ModelCompressor\n",
    "compressed_model, comp_stats = ModelCompressor.compress_model(model=model,\n",
    "                                                              eval_callback=eval_callback,\n",
    "                                                              eval_iterations=eval_iterations,\n",
    "                                                              input_shape=(1, 3, 224, 224),\n",
    "                                                              compress_scheme=compress_scheme,\n",
    "                                                              cost_metric=cost_metric,\n",
    "                                                              parameters=params)\n",
    "\n",
    "print(comp_stats)"
   ]
  },
  {
   "cell_type": "markdown",
   "metadata": {},
   "source": [
    "---\n",
    "Now the compressed model is ready to be used for inference or training. First we can pass this model to the same evaluation routine we used before to calculated compressed model accuracy."
   ]
  },
  {
   "cell_type": "code",
   "execution_count": 8,
   "metadata": {},
   "outputs": [
    {
     "name": "stdout",
     "output_type": "stream",
     "text": [
      "2022-02-03 21:54:49,593 - Dataloader - INFO - Dataset consists of 1000 images in 1000 classes\n",
      "2022-02-03 21:54:49,595 - Eval - INFO - No value of iteration is provided, running evaluation on complete dataset.\n",
      "2022-02-03 21:54:49,596 - Eval - INFO - Evaluating nn.Module for 32 iterations with batch_size 32\n"
     ]
    },
    {
     "name": "stderr",
     "output_type": "stream",
     "text": [
      "100% (32 of 32) |########################| Elapsed Time: 0:00:05 Time:  0:00:05\n"
     ]
    },
    {
     "name": "stdout",
     "output_type": "stream",
     "text": [
      "2022-02-03 21:54:55,005 - Eval - INFO - Avg accuracy Top 1: 66.015625 Avg accuracy Top 5: 85.644531 on validation Dataset\n",
      "66.015625\n"
     ]
    }
   ],
   "source": [
    "accuracy = ImageNetDataPipeline.evaluate(compressed_model, iterations=None, use_cuda=use_cuda)\n",
    "print(accuracy)"
   ]
  },
  {
   "cell_type": "markdown",
   "metadata": {},
   "source": [
    "---\n",
    "As you can see the model accuracy fell sharply after compression. This is expected. We will use model fine-tuning to recover this accuracy back."
   ]
  },
  {
   "cell_type": "markdown",
   "metadata": {},
   "source": [
    "### 3.2. Fine-tune the model\n",
    "\n",
    "After the model is compressed using Spatial SVD, we can simply train the model for a few more epochs (typically 15-20). As with any training job, hyper-parameters need to be searched for optimal results. Good starting points are to use a learning rate on the same order as the ending learning rate when training the original model, and to drop the learning rate by a factor of 10 every 5 epochs or so.\n",
    "\n",
    "For the purpose of this example notebook, we are going to train only for 1 epoch. But feel free to change these parameters as you see fit."
   ]
  },
  {
   "cell_type": "code",
   "execution_count": 9,
   "metadata": {},
   "outputs": [
    {
     "name": "stdout",
     "output_type": "stream",
     "text": [
      "2022-02-03 21:54:58,704 - Dataloader - INFO - Dataset consists of 1000 images in 1000 classes\n",
      "2022-02-03 21:55:00,397 - Dataloader - INFO - Dataset consists of 1000 images in 1000 classes\n"
     ]
    },
    {
     "name": "stderr",
     "output_type": "stream",
     "text": [
      "/usr/local/lib/python3.6/dist-packages/torch/utils/data/dataloader.py:481: UserWarning: This DataLoader will create 32 worker processes in total. Our suggested max number of worker in current system is 8, which is smaller than what this DataLoader is going to create. Please be aware that excessive worker creation might get DataLoader running slow or even freeze, lower the worker number to avoid potential slowness/freeze if necessary.\n",
      "  cpuset_checked))\n",
      "100% (63 of 63) |########################| Elapsed Time: 0:00:04 Time:  0:00:04\n"
     ]
    },
    {
     "name": "stdout",
     "output_type": "stream",
     "text": [
      "2022-02-03 21:55:05,175 - Eval - INFO - No value of iteration is provided, running evaluation on complete dataset.\n",
      "2022-02-03 21:55:05,177 - Eval - INFO - Evaluating nn.Module for 63 iterations with batch_size 16\n"
     ]
    },
    {
     "name": "stderr",
     "output_type": "stream",
     "text": [
      "100% (63 of 63) |########################| Elapsed Time: 0:00:01 Time:  0:00:01\n"
     ]
    },
    {
     "name": "stdout",
     "output_type": "stream",
     "text": [
      "2022-02-03 21:55:08,546 - Eval - INFO - Avg accuracy Top 1: 67.162698 Avg accuracy Top 5: 86.805556 on validation Dataset\n",
      "eval :  67.16269841269842\n",
      "2022-02-03 21:55:08,547 - Trainer - INFO - At the end of Epoch #1/1: Global Avg Loss=1.739739, Eval Accuracy=67.162698\n"
     ]
    }
   ],
   "source": [
    "ImageNetDataPipeline.finetune(compressed_model, epochs=1, learning_rate=5e-7, learning_rate_schedule=[5, 10],\n",
    "                              use_cuda=use_cuda)"
   ]
  },
  {
   "cell_type": "markdown",
   "metadata": {},
   "source": [
    "---\n",
    "After we are done with finetuing the compressed model, we can check the floating point accuracy against the same validation dataset at the end to observe any improvements in accuracy."
   ]
  },
  {
   "cell_type": "code",
   "execution_count": 10,
   "metadata": {},
   "outputs": [
    {
     "name": "stdout",
     "output_type": "stream",
     "text": [
      "2022-02-03 21:55:09,377 - Dataloader - INFO - Dataset consists of 1000 images in 1000 classes\n",
      "2022-02-03 21:55:09,379 - Eval - INFO - No value of iteration is provided, running evaluation on complete dataset.\n",
      "2022-02-03 21:55:09,381 - Eval - INFO - Evaluating nn.Module for 32 iterations with batch_size 32\n"
     ]
    },
    {
     "name": "stderr",
     "output_type": "stream",
     "text": [
      "100% (32 of 32) |########################| Elapsed Time: 0:00:04 Time:  0:00:04\n"
     ]
    },
    {
     "name": "stdout",
     "output_type": "stream",
     "text": [
      "2022-02-03 21:55:14,373 - Eval - INFO - Avg accuracy Top 1: 67.480469 Avg accuracy Top 5: 86.816406 on validation Dataset\n",
      "67.48046875\n"
     ]
    }
   ],
   "source": [
    "accuracy = ImageNetDataPipeline.evaluate(compressed_model, iterations=None, use_cuda=use_cuda)\n",
    "print(accuracy)"
   ]
  },
  {
   "cell_type": "markdown",
   "metadata": {},
   "source": [
    "---\n",
    "Depending on your settings you should have observed a slight gain in accuracy after one epoch of training. Ofcourse, this was just an example. Please try this against the model of your choice and play with the hyper-parameters to get the best results.\n",
    "\n",
    "So we have an improved model after compression using spatial SVD. Optionally, this model now can be saved like a regular PyTorch model."
   ]
  },
  {
   "cell_type": "code",
   "execution_count": 11,
   "metadata": {},
   "outputs": [],
   "source": [
    "os.makedirs('./output/', exist_ok=True)\n",
    "torch.save(compressed_model, './output/finetuned_model')"
   ]
  },
  {
   "cell_type": "markdown",
   "metadata": {},
   "source": [
    "---\n",
    "## Summary\n",
    "\n",
    "Hope this notebook was useful to you to understand how to use AIMET for performing compression with Spatial SVD. As indicated above, some parameters have been chosen in a way to run the example faster.\n",
    "\n",
    "Few additional resources\n",
    "- Refer to the AIMET API docs to know more details of the APIs and optional parameters\n",
    "- Refer to the other example notebooks to understand how to use AIMET compression and quantization techniques"
   ]
  }
 ],
 "metadata": {
  "kernelspec": {
   "display_name": "Python 3",
   "language": "python",
   "name": "python3"
  },
  "language_info": {
   "codemirror_mode": {
    "name": "ipython",
    "version": 3
   },
   "file_extension": ".py",
   "mimetype": "text/x-python",
   "name": "python",
   "nbconvert_exporter": "python",
   "pygments_lexer": "ipython3",
   "version": "3.6.9"
  }
 },
 "nbformat": 4,
 "nbformat_minor": 2
}
