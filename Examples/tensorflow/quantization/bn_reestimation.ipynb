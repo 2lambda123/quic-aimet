{
 "cells": [
  {
   "cell_type": "markdown",
   "metadata": {
    "pycharm": {
     "name": "#%% md\n"
    }
   },
   "source": [
    "# Quantization-Aware Training with BatchNorm Re-estimation\n",
    "\n",
    "This notebook shows a working code example of how to use AIMET to perform QAT (Quantization-aware training) with batchnorm re-estimation.\n",
    "Batchnorm re-estimation is a technique for countering potential instability of batchnrom statistics (i.e. running mean and variance) during QAT. More specifically, batchnorm re-estimation recalculates the batchnorm statistics based on the model after QAT. By doing so, we aim to make our model learn batchnorm statistics from from stable outputs after QAT, rather than from likely noisy outputs during QAT.\n",
    "\n",
    "#### Overall flow\n",
    "This notebook covers the following steps:\n",
    "1. Create a quantization simulation model with fake quantization ops inserted.\n",
    "2. Finetune and evaluate the quantization simulation model\n",
    "3. Re-estimate batchnorm statistics and compare the eval score before and after re-estimation.\n",
    "4. Fold the re-estimated batchnorm layers and export the quantization simulation model\n",
    "\n",
    "#### What this notebook is not\n",
    "In this notebook, we will focus how to apply batchnorm re-estimation after QAT, rather than covering all the details about QAT itself. For more information about QAT, please refer to [QAT notebook](https://github.com/quic/aimet/blob/develop/Examples/tensorflow/quantization/qat.ipynb) or [QAT range learning notebook](https://github.com/quic/aimet/blob/develop/Examples/tensorflow/quantization/qat_range_learning.ipynb)."
   ]
  },
  {
   "cell_type": "markdown",
   "metadata": {},
   "source": [
    "---\n",
    "## Dataset\n",
    "\n",
    "This notebook relies on the ImageNet dataset for the task of image classification. If you already have a version of the dataset readily available, please use that. Else, please download the dataset from appropriate location (e.g. https://image-net.org/challenges/LSVRC/2012/index.php#).\n",
    "\n",
    "**Note1**: The ImageNet dataset typically has the following characteristics and the dataloader provided in this example notebook rely on these\n",
    "- Subfolders 'train' for the training samples and 'val' for the validation samples. Please see the [pytorch dataset description](https://pytorch.org/vision/0.8/_modules/torchvision/datasets/imagenet.html) for more details.\n",
    "- A subdirectory per class, and a file per each image sample\n",
    "\n",
    "**Note2**: To speed up the execution of this notebook, you may use a reduced subset of the ImageNet dataset. E.g. the entire ILSVRC2012 dataset has 1000 classes, 1000 training samples per class and 50 validation samples per class. But for the purpose of running this notebook, you could perhaps reduce the dataset to say 2 samples per class. This exercise is left upto the reader and is not necessary.\n",
    "\n",
    "Edit the cell below and specify the directory where the downloaded ImageNet dataset is saved."
   ]
  },
  {
   "cell_type": "code",
   "execution_count": null,
   "metadata": {
    "pycharm": {
     "is_executing": true
    }
   },
   "outputs": [],
   "source": [
    "TFRECORDS_DIR = '/path/to/dataset/'         # Please replace this with a real directory"
   ]
  },
  {
   "cell_type": "markdown",
   "metadata": {
    "pycharm": {
     "name": "#%% md\n"
    }
   },
   "source": [
    "---\n",
    "## 1. Example evaluation and training pipeline\n",
    "\n",
    "The following is an example training and validation loop for this image classification task.\n",
    "\n",
    "- **Does AIMET have any limitations on how the training, validation pipeline is written?** Not really. We will see later that AIMET will modify the user's model to create a QuantizationSim model which is still a PyTorch model. This QuantizationSim model can be used in place of the original model when doing inference or training.\n",
    "- **Does AIMET put any limitation on the interface of the evaluate() or train() methods?** Not really. You should be able to use your existing evaluate and train routines as-is.\n"
   ]
  },
  {
   "cell_type": "code",
   "execution_count": null,
   "metadata": {
    "pycharm": {
     "is_executing": true,
     "name": "#%%\n"
    }
   },
   "outputs": [],
   "source": [
    "import os\n",
    "os.environ['TF_CPP_MIN_LOG_LEVEL'] = '2'\n",
    "import tensorflow.compat.v1 as tf\n",
    "tf.disable_eager_execution()\n",
    "tf.logging.set_verbosity(tf.logging.ERROR)\n",
    "from typing import List\n",
    "\n",
    "from Examples.common import image_net_config\n",
    "from Examples.tensorflow.utils.image_net_evaluator import ImageNetDataLoader\n",
    "from Examples.tensorflow.utils.image_net_evaluator import ImageNetEvaluator\n",
    "from Examples.tensorflow.utils.image_net_trainer import ImageNetTrainer\n",
    "\n",
    "class ImageNetDataPipeline:\n",
    "    \"\"\"\n",
    "    Provides APIs for model evaluation and finetuning using ImageNet Dataset.\n",
    "    \"\"\"\n",
    "\n",
    "    @staticmethod\n",
    "    def get_val_dataloader():\n",
    "        \"\"\"\n",
    "        Instantiates a validation dataloader for ImageNet dataset and returns it\n",
    "        \"\"\"\n",
    "        data_loader = ImageNetDataLoader(TFRECORDS_DIR,\n",
    "                                         image_size=image_net_config.dataset['image_size'],\n",
    "                                         batch_size=image_net_config.evaluation['batch_size'],\n",
    "                                         format_bgr=True)\n",
    "\n",
    "        return data_loader\n",
    "\n",
    "    @staticmethod\n",
    "    def evaluate(sess: tf.Session) -> float:\n",
    "        \"\"\"\n",
    "        Given a TF session, evaluates its Top-1 accuracy on the validation dataset\n",
    "        :param sess: The sess graph to be evaluated.\n",
    "        :return: The accuracy for the sample with the maximum accuracy.\n",
    "        \"\"\"\n",
    "        evaluator = ImageNetEvaluator(TFRECORDS_DIR, training_inputs=['keras_learning_phase:0'],\n",
    "                                      data_inputs=['input_1:0'], validation_inputs=['labels:0'],\n",
    "                                      image_size=image_net_config.dataset['image_size'],\n",
    "                                      batch_size=image_net_config.evaluation['batch_size'],\n",
    "                                      format_bgr=True)\n",
    "\n",
    "        return evaluator.evaluate(sess)\n",
    "\n",
    "\n",
    "    @staticmethod\n",
    "    def finetune(sess: tf.Session, update_ops_name: List[str], epochs: int, learning_rate: float, decay_steps: int):\n",
    "        \"\"\"\n",
    "        Given a TF session, finetunes it to improve its accuracy\n",
    "        :param sess: The sess graph to fine-tune.\n",
    "        :param update_ops_name: list of name of update ops (mostly BatchNorms' moving averages).\n",
    "                                tf.GraphKeys.UPDATE_OPS collections is always used\n",
    "                                in addition to this list\n",
    "        :param epochs: The number of epochs used during the finetuning step.\n",
    "        :param learning_rate: The learning rate used during the finetuning step.\n",
    "        :param decay_steps: A number used to adjust(decay) the learning rate after every decay_steps epochs in training.\n",
    "        \"\"\"\n",
    "        trainer = ImageNetTrainer(TFRECORDS_DIR, training_inputs=['keras_learning_phase:0'],\n",
    "                                  data_inputs=['input_1:0'], validation_inputs=['labels:0'],\n",
    "                                  image_size=image_net_config.dataset['image_size'],\n",
    "                                  batch_size=image_net_config.train['batch_size'],\n",
    "                                  num_epochs=epochs, format_bgr=True)\n",
    "\n",
    "        trainer.train(sess, update_ops_name=update_ops_name, learning_rate=learning_rate, decay_steps=decay_steps)"
   ]
  },
  {
   "cell_type": "markdown",
   "metadata": {
    "pycharm": {
     "name": "#%% md\n"
    }
   },
   "source": [
    "---\n",
    "## 2. Load FP32 model"
   ]
  },
  {
   "cell_type": "markdown",
   "metadata": {
    "pycharm": {
     "name": "#%% md\n"
    }
   },
   "source": [
    "AIMET features currently support tensorflow sessions. For this example notebook, we are going to load a pretrained\n",
    "ResNet50 model from keras and covert it to a tensorflow session, for Similarly, you can load any pretrained\n",
    "tensorflow model instead.."
   ]
  },
  {
   "cell_type": "code",
   "execution_count": null,
   "metadata": {
    "pycharm": {
     "name": "#%%\n"
    }
   },
   "outputs": [],
   "source": [
    "from tensorflow.compat.v1.keras.applications.resnet import ResNet50\n",
    "\n",
    "tf.keras.backend.clear_session()\n",
    "model = ResNet50(weights='imagenet', input_shape=(224, 224, 3))\n",
    "sess = tf.keras.backend.get_session()\n",
    "\n",
    "# Add_image_net_computational_nodes_in_graph adds an output layer, softmax and loss functions to the Resnet50 model graph.Since all tensorflow input and output tensors have names, we identify the tensors needed by AIMET APIs here.Let's determine the FP32 (floating point 32-bit) accuracy of this model using the evaluate() routine\n",
    "from Examples.tensorflow.utils.add_computational_nodes_in_graph import add_image_net_computational_nodes_in_graph\n",
    "\n",
    "add_image_net_computational_nodes_in_graph(sess, model.output.name, image_net_config.dataset['images_classes'])"
   ]
  },
  {
   "cell_type": "markdown",
   "metadata": {
    "pycharm": {
     "name": "#%% md\n"
    }
   },
   "source": [
    "Since all tensorflow input and output tensors have names, we identify the tensors needed by AIMET APIs here."
   ]
  },
  {
   "cell_type": "code",
   "execution_count": null,
   "metadata": {
    "pycharm": {
     "name": "#%%\n"
    }
   },
   "outputs": [],
   "source": [
    "input_op_names = [model.input.name.split(\":\")[0]]\n",
    "output_op_names = [model.output.name.split(\":\")[0]]"
   ]
  },
  {
   "cell_type": "markdown",
   "metadata": {
    "pycharm": {
     "name": "#%% md\n"
    }
   },
   "source": [
    "We are checking if TensorFlow is using CPU or CUDA device. This example code will use CUDA if available in your current execution environment."
   ]
  },
  {
   "cell_type": "code",
   "execution_count": null,
   "metadata": {
    "pycharm": {
     "name": "#%%\n"
    }
   },
   "outputs": [],
   "source": [
    "use_cuda = tf.test.is_gpu_available(cuda_only=True)"
   ]
  },
  {
   "cell_type": "markdown",
   "metadata": {
    "pycharm": {
     "name": "#%% md\n"
    }
   },
   "source": [
    "Let’s determine the FP32 (floating point 32-bit) accuracy of this model using the evaluate() routine"
   ]
  },
  {
   "cell_type": "code",
   "execution_count": null,
   "metadata": {
    "pycharm": {
     "name": "#%%\n"
    }
   },
   "outputs": [],
   "source": [
    "# Initializes given model with bias.Adds zero bias to conv/linear layers without bias param, in given model\n",
    "from aimet_tensorflow.utils.op.conv import BiasUtils\n",
    "sess = BiasUtils.initialize_model_with_bias(sess, input_op_names, output_op_names)\n",
    "\n",
    "# modifys BN layers of TF Graph to be mutable\n",
    "from aimet_tensorflow.utils.op.bn_mutable import modify_sess_bn_mutable\n",
    "modify_sess_bn_mutable(sess, input_op_names, output_op_names, training_tf_placeholder=False)\n",
    "\n",
    "accuracy = ImageNetDataPipeline.evaluate(sess=sess)\n",
    "print(accuracy)"
   ]
  },
  {
   "cell_type": "markdown",
   "metadata": {
    "pycharm": {
     "name": "#%% md\n"
    }
   },
   "source": [
    "---\n",
    "## 3. Create a quantization simulation model and Perform QAT\n",
    "\n",
    "### Create Quantization Sim Model\n",
    "\n",
    "Now we use AIMET to create a QuantizationSimModel. This basically means that AIMET will insert fake quantization ops in the model graph and will configure them.\n",
    "A few of the parameters are explained here\n",
    "- **quant_scheme**: We set this to \"QuantScheme.post_training_tf_enhanced\"\n",
    "    - Supported options are 'tf_enhanced' or 'tf' or using Quant Scheme Enum QuantScheme.post_training_tf or QuantScheme.post_training_tf_enhanced\n",
    "- **default_output_bw**: Setting this to 8, essentially means that we are asking AIMET to perform all activation quantizations in the model using integer 8-bit precision\n",
    "- **default_param_bw**: Setting this to 8, essentially means that we are asking AIMET to perform all parameter quantizations in the model using integer 8-bit precision\n",
    "\n",
    "There are other parameters that are set to default values in this example. Please check the AIMET API documentation of QuantizationSimModel to see reference documentation for all the parameters.\n",
    "\n",
    "**NOTE**: Note that, unlike in other QAT example scripts, we didn't fold batchnorm layers before QAT. This is because we aim to finetune our model with batchnorm layers present and re-estimate the batchnorm statatistics for better accuracy. The batchnorm layers will be folded after re-estimation."
   ]
  },
  {
   "cell_type": "code",
   "execution_count": null,
   "metadata": {},
   "outputs": [],
   "source": [
    "import json\n",
    "from aimet_common.defs import QuantScheme\n",
    "from aimet_tensorflow.quantsim import QuantizationSimModel\n",
    "\n",
    "sim = QuantizationSimModel(sess, input_op_names, output_op_names, use_cuda=True,\n",
    "                                   quant_scheme=QuantScheme.training_range_learning_with_tf_init,\n",
    "                                   config_file='../../TrainingExtensions/common/src/python/aimet_common/'\n",
    "                                                    'quantsim_config/default_config_per_channel.json')"
   ]
  },
  {
   "cell_type": "markdown",
   "metadata": {
    "pycharm": {
     "name": "#%% md\n"
    }
   },
   "source": [
    "---\n",
    "## Compute Encodings\n",
    "Even though AIMET has added 'quantizer' nodes to the model graph but the model is not ready to be used yet. Before we can use the sim model for inference or training, we need to find appropriate scale/offset quantization parameters for each 'quantizer' node. For activation quantization nodes, we need to pass unlabeled data samples through the model to collect range statistics which will then let AIMET calculate appropriate scale/offset quantization parameters. This process is sometimes referred to as calibration. AIMET simply refers to it as 'computing encodings'.\n",
    "\n",
    "So we create a routine to pass unlabeled data samples through the model. This should be fairly simple - use the existing train or validation data loader to extract some samples and pass them to the model. We don't need to compute any loss metric etc. So we can just ignore the model output for this purpose. A few pointers regarding the data samples\n",
    "- In practice, we need a very small percentage of the overall data samples for computing encodings. For example, the training dataset for ImageNet has 1M samples. For computing encodings we only need 500 or 1000 samples.\n",
    "- It may be beneficial if the samples used for computing encoding are well distributed. It's not necessary that all classes need to be covered etc. since we are only looking at the range of values at every layer activation. However, we definitely want to avoid an extreme scenario like all 'dark' or 'light' samples are used - e.g. only using pictures captured at night might not give ideal results.\n",
    "\n",
    "The following shows an example of a routine that passes unlabeled samples through the model for computing encodings. This routine can be written in many different ways, this is just an example."
   ]
  },
  {
   "cell_type": "code",
   "execution_count": null,
   "metadata": {
    "pycharm": {
     "name": "#%%\n"
    }
   },
   "outputs": [],
   "source": [
    "def pass_calibration_data(session: tf.compat.v1.Session, _):\n",
    "    data_loader = ImageNetDataPipeline.get_val_dataloader()\n",
    "    batch_size = data_loader.batch_size\n",
    "\n",
    "    input_label_tensors = [session.graph.get_tensor_by_name('input_1:0'),\n",
    "                           session.graph.get_tensor_by_name('labels:0')]\n",
    "\n",
    "    train_tensors = [session.graph.get_tensor_by_name('keras_learning_phase:0')]\n",
    "    train_tensors_dict = dict.fromkeys(train_tensors, False)\n",
    "\n",
    "    eval_outputs = [session.graph.get_operation_by_name('top1-acc').outputs[0]]\n",
    "\n",
    "    samples = 500\n",
    "\n",
    "    batch_cntr = 0\n",
    "    for input_label in data_loader:\n",
    "        input_label_tensors_dict = dict(zip(input_label_tensors, input_label))\n",
    "\n",
    "        feed_dict = {**input_label_tensors_dict, **train_tensors_dict}\n",
    "\n",
    "        with session.graph.as_default():\n",
    "            _ = session.run(eval_outputs, feed_dict=feed_dict)\n",
    "\n",
    "        batch_cntr += 1\n",
    "        if (batch_cntr * batch_size) > samples:\n",
    "            break\n",
    "\n",
    "sim.compute_encodings(forward_pass_callback=pass_calibration_data,\n",
    "                      forward_pass_callback_args=None)"
   ]
  },
  {
   "cell_type": "markdown",
   "metadata": {
    "pycharm": {
     "name": "#%% md\n"
    }
   },
   "source": [
    "---\n",
    "Now the QuantizationSim model is ready to be used for inference or training. First we can pass this model to the same evaluation routine we used before. The evaluation routine will now give us a simulated quantized accuracy score for INT8 quantization instead of the FP32 accuracy score we saw before."
   ]
  },
  {
   "cell_type": "code",
   "execution_count": null,
   "metadata": {
    "pycharm": {
     "name": "#%%\n"
    }
   },
   "outputs": [],
   "source": [
    "accuracy = ImageNetDataPipeline.evaluate(sim.session)\n",
    "print(accuracy)"
   ]
  },
  {
   "cell_type": "markdown",
   "metadata": {},
   "source": [
    "### Perform QAT\n",
    "\n",
    "To perform quantization aware training (QAT), we simply train the model for a few more epochs (typically 15-20). As with any training job, hyper-parameters need to be searched for optimal results. Good starting points are to use a learning rate on the same order as the ending learning rate when training the original model, and to drop the learning rate by a factor of 10 every 5 epochs or so.\n",
    "\n",
    "For the purpose of this example notebook, we are going to train only for 1 epoch. But feel free to change these parameters as you see fit."
   ]
  },
  {
   "cell_type": "code",
   "execution_count": null,
   "metadata": {},
   "outputs": [],
   "source": [
    "update_ops_name = [op.name for op in model.updates] # Used for finetuning\n",
    "ImageNetDataPipeline.finetune(sim.session, update_ops_name=update_ops_name, epochs=1, learning_rate=5e-7, decay_steps=5)"
   ]
  },
  {
   "cell_type": "markdown",
   "metadata": {},
   "source": [
    "After we are done with QAT, we can run quantization simulation inference against the validation dataset at the end to observe any improvements in accuracy."
   ]
  },
  {
   "cell_type": "code",
   "execution_count": null,
   "metadata": {
    "pycharm": {
     "name": "#%%\n"
    }
   },
   "outputs": [],
   "source": [
    "finetuned_accuracy  = ImageNetDataPipeline.evaluate(sim.session)\n",
    "print(finetuned_accuracy)"
   ]
  },
  {
   "cell_type": "markdown",
   "metadata": {},
   "source": [
    "---\n",
    "## 4. Perform BatchNorm Reestimation\n",
    "\n",
    "### Re-estimate BatchNorm Statistics\n",
    "AIMET provides a helper function, `reestimate_bn_stats`, for re-estimating batchnorm statistics.\n",
    "Here is the full list of parameters for this function:\n",
    "* **model**: Model to re-estimate the BatchNorm statistics.\n",
    "* **dataloader** Train dataloader.\n",
    "* **num_batches** (optional): The number of batches to be used for reestimation. (Default: 100)\n",
    "* **forward_fn** (optional): Optional adapter function that performs forward pass given a model and a input batch yielded from the data loader. If not specified, it is expected that inputs yielded from dataloader can be passed directly to the model."
   ]
  },
  {
   "cell_type": "code",
   "execution_count": null,
   "metadata": {},
   "outputs": [],
   "source": [
    "from aimet_tensorflow.bn_reestimation import reestimate_bn_stats\n",
    "import numpy as np\n",
    "\n",
    "data_loader = ImageNetDataLoader(TFRECORDS_DIR,\n",
    "                                         image_size=image_net_config.dataset['image_size'],\n",
    "                                         batch_size=image_net_config.evaluation['batch_size'],\n",
    "                                         format_bgr=True)\n",
    "arrays=[]\n",
    "for input_label in data_loader:\n",
    "    arrays.append(input_label[0])\n",
    "real_inputs = np.vstack(arrays)\n",
    "print(real_inputs.shape)\n",
    "dataset = tf.compat.v1.data.Dataset.from_tensor_slices(real_inputs)\n",
    "bn_re_restimation_dataset = dataset.batch(32)\n",
    "\n",
    "reestimate_bn_stats(sim, start_op_names=input_op_names, output_op_names=output_op_names,\n",
    "                    bn_re_estimation_dataset=bn_re_restimation_dataset, bn_num_batches=100)\n",
    "\n",
    "finetuned_accuracy_bn_reestimated = ImageNetDataPipeline.evaluate(sim.session)\n",
    "print(finetuned_accuracy_bn_reestimated)"
   ]
  },
  {
   "cell_type": "markdown",
   "metadata": {},
   "source": [
    "### Fold BatchNorm Layers\n",
    "\n",
    "So far, we have improved our quantization simulation model through QAT and batchnorm re-estimation. The next step would be to actually take this model to target. But first, we should fold the batchnorm layers for our model to run on target devices more efficiently."
   ]
  },
  {
   "cell_type": "code",
   "execution_count": null,
   "metadata": {},
   "outputs": [],
   "source": [
    "from aimet_tensorflow.batch_norm_fold import fold_all_batch_norms_to_scale\n",
    "\n",
    "fold_all_batch_norms_to_scale(sim, input_op_names, output_op_names)"
   ]
  },
  {
   "cell_type": "markdown",
   "metadata": {},
   "source": [
    "---\n",
    "## 5. Export Model\n",
    "As the final step, we will export the model to run it on actual target devices. AIMET QuantizationSimModel provides an export API for this purpose."
   ]
  },
  {
   "cell_type": "code",
   "execution_count": null,
   "metadata": {
    "pycharm": {
     "name": "#%%\n"
    }
   },
   "outputs": [],
   "source": [
    "os.makedirs('./output/', exist_ok=True)\n",
    "sim.export(path='./output/', filename_prefix='resnet50_after_bn_re_estimation_qat_range_learning')"
   ]
  },
  {
   "cell_type": "markdown",
   "metadata": {},
   "source": [
    "## Summary\n",
    "\n",
    "Hope this notebook was useful for you to understand how to use batchnorm re-estimation feature of AIMET.\n",
    "\n",
    "Few additional resources\n",
    "- Refer to the [AIMET API docs](https://quic.github.io/aimet-pages/AimetDocs/api_docs/index.html) to know more details of the APIs and optional parameters.\n",
    "- Refer to the [other example notebooks](https://github.com/quic/aimet/tree/develop/Examples/tensorflow/quantization) to understand how to use AIMET post-training quantization techniques and QAT methods."
   ]
  }
 ],
 "metadata": {
  "kernelspec": {
   "display_name": "Python 3",
   "language": "python",
   "name": "python3"
  },
  "language_info": {
   "codemirror_mode": {
    "name": "ipython",
    "version": 3
   },
   "file_extension": ".py",
   "mimetype": "text/x-python",
   "name": "python",
   "nbconvert_exporter": "python",
   "pygments_lexer": "ipython3",
   "version": "3.8.0"
  }
 },
 "nbformat": 4,
 "nbformat_minor": 2
}
