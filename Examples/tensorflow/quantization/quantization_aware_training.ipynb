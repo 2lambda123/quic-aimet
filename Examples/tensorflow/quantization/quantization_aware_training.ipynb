{
 "cells": [
  {
   "cell_type": "markdown",
   "metadata": {},
   "source": [
    "# Quantization-Aware Training\n",
    "\n",
    "This notebook shows a working code example of how to use AIMET to perform QAT (Quantization-aware training). QAT is an AIMET feature adding quantization simulation ops (also called fake quantization ops sometimes) to a trained ML model and using a standard training pipeline to fine-tune or train the model for a few epochs. The resulting model should show improved accuracy on quantized ML accelerators.\n",
    "\n",
    "AIMET supports two different types of QAT\n",
    "1. Simply referred to as QAT - quantization parameters like per-tensor scale/offsets for activations are computed once. During fine-tuning, the model weights are updated to minimize the effects of quantization in the forward pass, keeping the quantization parameters constant.\n",
    "2. Referred to as QAT with range-learning - quantization parameters like per-tensor scale/offsets for activations are computed initially. Then both the quantization parameters and the model weights are jointly updated during fine-tuning to minimize the effects of quantization in the forward pass.\n",
    "\n",
    "This notebook specifically shows working code example for #1 above. You can find a separate notebook for #2 in the same folder.\n",
    "\n",
    "#### Overall flow\n",
    "This notebook covers the following\n",
    "1. Instantiate the example evaluation and training pipeline\n",
    "2. Load the FP32 model and evaluate the model to find the baseline FP32 accuracy\n",
    "3. Create a quantization simulation model (with fake quantization ops inserted) and evaluate this simuation model to get a quantized accuracy score\n",
    "4. Fine-tune the quantization simulation model and evaluate the simulation model to get a post-finetuned quantized accuracy score\n",
    "\n",
    "#### What this notebook is not\n",
    "* This notebook is not designed to show state-of-the-art QAT results. For example, it uses a relatively quantization-friendly model like Resnet50. Also, some optimization parameters like number of epochs to fine-tune are deliberately chosen to have the notebook execute more quickly."
   ]
  },
  {
   "cell_type": "markdown",
   "metadata": {},
   "source": [
    "---\n",
    "## Dataset\n",
    "\n",
    "This notebook relies on the ImageNet dataset for the task of image classification. If you already have a version of the dataset readily available, please use that. Else, please download the dataset from appropriate location (e.g. https://image-net.org/challenges/LSVRC/2012/index.php#) and convert them into tfrecords.\n",
    "\n",
    "**Note1**: The ImageNet tfrecords dataset typically has the following characteristics and the dataloader provided in this example notebook rely on these\n",
    "- A folder containing tfrecords files starting with **'train\\*'** for training files and **'valid\\*'** for validation files. Each tfrecord file should have features: **'image/encoded'** for image data and **'image/class/label'** for its corresponding class.\n",
    "\n",
    "**Note2**: To speed up the execution of this notebook, you may use a reduced subset of the ImageNet dataset. E.g. the entire ILSVRC2012 dataset has 1000 classes, 1000 training samples per class and 50 validation samples per class. But for the purpose of running this notebook, you could perhaps reduce the dataset to say 2 samples per class and then convert it into tfrecords. This exercise is left upto the reader and is not necessary.\n",
    "\n",
    "Edit the cell below and specify the directory where the downloaded ImageNet dataset is saved."
   ]
  },
  {
   "cell_type": "code",
   "execution_count": 18,
   "metadata": {},
   "outputs": [],
   "source": [
    "TFRECORDS_DIR = '/path/to/tfrecords/dir/'        # Please replace this with a real directory"
   ]
  },
  {
   "cell_type": "markdown",
   "metadata": {},
   "source": [
    "We disable logs at the INFO level and disable eager execution. We set verbosity to the level as displayed (ERORR), so TensorFlow will display all messages that have the label ERROR (or more critical)."
   ]
  },
  {
   "cell_type": "code",
   "execution_count": null,
   "metadata": {},
   "outputs": [],
   "source": [
    "import os\n",
    "os.environ['TF_CPP_MIN_LOG_LEVEL'] = '2'\n",
    "\n",
    "import tensorflow.compat.v1 as tf\n",
    "tf.disable_eager_execution()\n",
    "tf.logging.set_verbosity(tf.logging.ERROR)"
   ]
  },
  {
   "cell_type": "markdown",
   "metadata": {},
   "source": [
    "---\n",
    "## 1. Example evaluation and training pipeline\n",
    "\n",
    "The following is an example training and validation loop for this image classification task.\n",
    "\n",
    "- **Does AIMET have any limitations on how the training, validation pipeline is written?** Not really. We will see later that AIMET will modify the user's model to create a QuantizationSim model which is still a TensorFlow model. This QuantizationSim model can be used in place of the original model when doing inference or training.\n",
    "- **Does AIMET put any limitation on the interface of the evaluate() or train() methods?** Not really. You should be able to use your existing evaluate and train routines as-is.\n"
   ]
  },
  {
   "cell_type": "code",
   "execution_count": 3,
   "metadata": {},
   "outputs": [
    {
     "name": "stdout",
     "output_type": "stream",
     "text": [
      "2022-02-22 14:26:43,914 - root - INFO - aimetpro-1.21.0_Build_Id_0.142.0.1983.tf-gpu-universal\n"
     ]
    }
   ],
   "source": [
    "from typing import List\n",
    "\n",
    "from Examples.common import image_net_config\n",
    "from Examples.tensorflow.utils.image_net_evaluator import ImageNetDataLoader\n",
    "from Examples.tensorflow.utils.image_net_evaluator import ImageNetEvaluator\n",
    "from Examples.tensorflow.utils.image_net_trainer import ImageNetTrainer\n",
    "\n",
    "class ImageNetDataPipeline:\n",
    "    \"\"\"\n",
    "    Provides APIs for model evaluation and finetuning using ImageNet Dataset.\n",
    "    \"\"\"\n",
    "    \n",
    "    @staticmethod\n",
    "    def get_val_dataloader():\n",
    "        \"\"\"\n",
    "        Instantiates a validation dataloader for ImageNet dataset and returns it\n",
    "        \"\"\"\n",
    "        data_loader = ImageNetDataLoader(TFRECORDS_DIR,\n",
    "                                         image_size=image_net_config.dataset['image_size'],\n",
    "                                         batch_size=image_net_config.evaluation['batch_size'],\n",
    "                                         format_bgr=True)\n",
    "\n",
    "        return data_loader\n",
    "    \n",
    "    @staticmethod\n",
    "    def evaluate(sess: tf.Session) -> float:\n",
    "        \"\"\"\n",
    "        Given a TF session, evaluates its Top-1 accuracy on the validation dataset\n",
    "        :param sess: The sess graph to be evaluated.\n",
    "        :return: The accuracy for the sample with the maximum accuracy.\n",
    "        \"\"\"\n",
    "        evaluator = ImageNetEvaluator(TFRECORDS_DIR, training_inputs=['keras_learning_phase:0'],\n",
    "                                      data_inputs=['input_1:0'], validation_inputs=['labels:0'],\n",
    "                                      image_size=image_net_config.dataset['image_size'],\n",
    "                                      batch_size=image_net_config.evaluation['batch_size'],\n",
    "                                      format_bgr=True)\n",
    "\n",
    "        return evaluator.evaluate(sess)\n",
    "\n",
    "    \n",
    "    @staticmethod\n",
    "    def finetune(sess: tf.Session, update_ops_name: List[str], epochs: int, learning_rate: float, decay_steps: int):\n",
    "        \"\"\"\n",
    "        Given a TF session, finetunes it to improve its accuracy\n",
    "        :param sess: The sess graph to fine-tune.\n",
    "        :param update_ops_name: list of name of update ops (mostly BatchNorms' moving averages).\n",
    "                                tf.GraphKeys.UPDATE_OPS collections is always used\n",
    "                                in addition to this list\n",
    "        :param epochs: The number of epochs used during the finetuning step.\n",
    "        :param learning_rate: The learning rate used during the finetuning step.\n",
    "        :param decay_steps: A number used to adjust(decay) the learning rate after every decay_steps epochs in training.\n",
    "        \"\"\"\n",
    "        trainer = ImageNetTrainer(TFRECORDS_DIR, training_inputs=['keras_learning_phase:0'],\n",
    "                                  data_inputs=['input_1:0'], validation_inputs=['labels:0'],\n",
    "                                  image_size=image_net_config.dataset['image_size'],\n",
    "                                  batch_size=image_net_config.train['batch_size'],\n",
    "                                  num_epochs=epochs, format_bgr=True)\n",
    "\n",
    "        trainer.train(sess, update_ops_name=update_ops_name, learning_rate=learning_rate, decay_steps=decay_steps)\n"
   ]
  },
  {
   "cell_type": "markdown",
   "metadata": {},
   "source": [
    "---\n",
    "## 2. Load the model and evaluate to get a baseline FP32 accuracy score"
   ]
  },
  {
   "cell_type": "markdown",
   "metadata": {},
   "source": [
    "For this example notebook, we are going to load a pretrained ResNet50 model from keras and covert it to a tensorflow session. Similarly, you can load any pretrained tensorflow model instead.\n",
    "\n",
    "\n",
    "Calling clear_session() releases the global state: this helps avoid clutter from old models and layers, especially when memory is limited.\n",
    "\n",
    "\n",
    "By default the update ops are placed in tf.GraphKeys.UPDATE_OPS, so they need to be added as a dependency to the train_op."
   ]
  },
  {
   "cell_type": "code",
   "execution_count": 4,
   "metadata": {
    "scrolled": true
   },
   "outputs": [],
   "source": [
    "from tensorflow.compat.v1.keras.applications.resnet import ResNet50\n",
    "\n",
    "tf.keras.backend.clear_session()\n",
    "\n",
    "model = ResNet50(weights='imagenet', input_shape=(224, 224, 3))\n",
    "update_ops_name = [op.name for op in model.updates] # Used for finetuning"
   ]
  },
  {
   "cell_type": "markdown",
   "metadata": {},
   "source": [
    "The following utility method in AIMET sets BN layers in the model to eval mode. This allows AIMET to more easily read the BN parameters from the graph. Eventually we will fold BN layers into adjacent conv layers."
   ]
  },
  {
   "cell_type": "code",
   "execution_count": 5,
   "metadata": {},
   "outputs": [],
   "source": [
    "from aimet_tensorflow.utils.graph import update_keras_bn_ops_trainable_flag\n",
    "\n",
    "model = update_keras_bn_ops_trainable_flag(model, load_save_path=\"./\", trainable=False)"
   ]
  },
  {
   "cell_type": "markdown",
   "metadata": {},
   "source": [
    "AIMET features currently support tensorflow sessions. **add_image_net_computational_nodes_in_graph** adds an output layer, softmax and loss functions to the Resnet50 model graph."
   ]
  },
  {
   "cell_type": "code",
   "execution_count": 6,
   "metadata": {},
   "outputs": [],
   "source": [
    "from Examples.tensorflow.utils.add_computational_nodes_in_graph import add_image_net_computational_nodes_in_graph\n",
    "\n",
    "sess = tf.keras.backend.get_session()\n",
    "add_image_net_computational_nodes_in_graph(sess, model.output.name, image_net_config.dataset['images_classes'])"
   ]
  },
  {
   "cell_type": "markdown",
   "metadata": {},
   "source": [
    "Since all tensorflow input and output tensors have names, we identify the tensors needed by AIMET APIs here. "
   ]
  },
  {
   "cell_type": "code",
   "execution_count": 7,
   "metadata": {},
   "outputs": [],
   "source": [
    "starting_op_names = [model.input.name.split(\":\")[0]]\n",
    "output_op_names = [model.output.name.split(\":\")[0]]"
   ]
  },
  {
   "cell_type": "markdown",
   "metadata": {},
   "source": [
    "We are checking if TensorFlow is using CPU or CUDA device. This example code will use CUDA if available in your current execution environment."
   ]
  },
  {
   "cell_type": "code",
   "execution_count": 8,
   "metadata": {},
   "outputs": [],
   "source": [
    "use_cuda = tf.test.is_gpu_available(cuda_only=True)"
   ]
  },
  {
   "cell_type": "markdown",
   "metadata": {},
   "source": [
    "---\n",
    "Let's determine the FP32 (floating point 32-bit) accuracy of this model using the evaluate() routine"
   ]
  },
  {
   "cell_type": "code",
   "execution_count": 9,
   "metadata": {
    "scrolled": true
   },
   "outputs": [
    {
     "name": "stdout",
     "output_type": "stream",
     "text": [
      "WARNING: AutoGraph could not transform <function ImageNetDataLoader.__init__.<locals>.<lambda> at 0x7ff18dd5dd08> and will run it as-is.\n",
      "Please report this to the TensorFlow team. When filing the bug, set the verbosity to 10 (on Linux, `export AUTOGRAPH_VERBOSITY=10`) and attach the full output.\n",
      "Cause: 'arguments' object has no attribute 'posonlyargs'\n",
      "To silence this warning, decorate the function with @tf.autograph.experimental.do_not_convert\n",
      "WARNING: AutoGraph could not transform <bound method ImageNetDataLoader.parse of <Examples.tensorflow.utils.image_net_data_loader.ImageNetDataLoader object at 0x7ff248430f98>> and will run it as-is.\n",
      "Please report this to the TensorFlow team. When filing the bug, set the verbosity to 10 (on Linux, `export AUTOGRAPH_VERBOSITY=10`) and attach the full output.\n",
      "Cause: module 'gast' has no attribute 'Constant'\n",
      "To silence this warning, decorate the function with @tf.autograph.experimental.do_not_convert\n",
      "2022-02-22 14:27:10,739 - Eval - INFO - Evaluating graph for 1562 iterations with batch_size 32\n"
     ]
    },
    {
     "name": "stderr",
     "output_type": "stream",
     "text": [
      "100% (1562 of 1562) |####################| Elapsed Time: 0:00:01 Time:  0:00:01\n"
     ]
    },
    {
     "name": "stdout",
     "output_type": "stream",
     "text": [
      "2022-02-22 14:27:15,332 - Eval - INFO - Avg accuracy Top 1: 0.721228 Avg accuracy Top 5: 0.915601 on validation Dataset\n",
      "0.721227621788259\n"
     ]
    }
   ],
   "source": [
    "accuracy = ImageNetDataPipeline.evaluate(sess=sess)\n",
    "print(accuracy)"
   ]
  },
  {
   "cell_type": "markdown",
   "metadata": {},
   "source": [
    "---\n",
    "## 3. Create a quantization simulation model and determine quantized accuracy\n",
    "\n",
    "## Fold Batch Normalization layers\n",
    "Before we determine the simulated quantized accuracy using QuantizationSimModel, we will fold the BatchNormalization (BN) layers in the model. These layers get folded into adjacent Convolutional layers. The BN layers that cannot be folded are left as they are.\n",
    "\n",
    "**Why do we need to this?**\n",
    "On quantized runtimes (like TFLite, SnapDragon Neural Processing SDK, etc.), it is a common practice to fold the BN layers. Doing so, results in an inferences/sec speedup since unnecessary computation is avoided. Now from a floating point compute perspective, a BN-folded model is mathematically equivalent to a model with BN layers from an inference perspective, and produces the same accuracy. However, folding the BN layers can increase the range of the tensor values for the weight parameters of the adjacent layers. And this can have a negative impact on the quantized accuracy of the model (especially when using INT8 or lower precision). So, we want to simulate that on-target behavior by doing BN folding here.\n",
    "\n",
    "The following code calls AIMET to fold the BN layers on the given model and returns a new session"
   ]
  },
  {
   "cell_type": "code",
   "execution_count": 10,
   "metadata": {
    "scrolled": true
   },
   "outputs": [
    {
     "name": "stdout",
     "output_type": "stream",
     "text": [
      "2022-02-22 14:30:05,068 - Utils - INFO - ...... subset to store [conv1_conv/Conv2D, conv1_bn]\n",
      "2022-02-22 14:30:05,069 - Utils - INFO - ...... subset to store [conv1_conv/Conv2D, conv1_bn]\n",
      "2022-02-22 14:30:05,069 - Utils - INFO - ...... subset to store [conv2_block1_0_conv/Conv2D, conv2_block1_0_bn]\n",
      "2022-02-22 14:30:05,070 - Utils - INFO - ...... subset to store [conv2_block1_0_conv/Conv2D, conv2_block1_0_bn]\n",
      "2022-02-22 14:30:05,071 - Utils - INFO - ...... subset to store [conv3_block1_0_conv/Conv2D, conv3_block1_0_bn]\n",
      "2022-02-22 14:30:05,072 - Utils - INFO - ...... subset to store [conv3_block1_0_conv/Conv2D, conv3_block1_0_bn]\n",
      "2022-02-22 14:30:05,072 - Utils - INFO - ...... subset to store [conv4_block1_0_conv/Conv2D, conv4_block1_0_bn]\n",
      "2022-02-22 14:30:05,073 - Utils - INFO - ...... subset to store [conv4_block1_0_conv/Conv2D, conv4_block1_0_bn]\n",
      "2022-02-22 14:30:05,074 - Utils - INFO - ...... subset to store [conv5_block1_0_conv/Conv2D, conv5_block1_0_bn]\n",
      "2022-02-22 14:30:05,074 - Utils - INFO - ...... subset to store [conv5_block1_0_conv/Conv2D, conv5_block1_0_bn]\n",
      "2022-02-22 14:30:05,075 - Utils - INFO - ...... subset to store [conv5_block3_1_conv/Conv2D, conv5_block3_1_bn]\n",
      "2022-02-22 14:30:05,076 - Utils - INFO - ...... subset to store [conv5_block3_1_conv/Conv2D, conv5_block3_1_bn]\n",
      "2022-02-22 14:30:05,077 - Utils - INFO - ...... subset to store [conv5_block3_2_conv/Conv2D, conv5_block3_2_bn]\n",
      "2022-02-22 14:30:05,077 - Utils - INFO - ...... subset to store [conv5_block3_2_conv/Conv2D, conv5_block3_2_bn]\n",
      "2022-02-22 14:30:05,078 - Utils - INFO - ...... subset to store [conv5_block3_3_conv/Conv2D, conv5_block3_3_bn]\n",
      "2022-02-22 14:30:05,078 - Utils - INFO - ...... subset to store [conv5_block2_1_conv/Conv2D, conv5_block2_1_bn]\n",
      "2022-02-22 14:30:05,079 - Utils - INFO - ...... subset to store [conv5_block2_1_conv/Conv2D, conv5_block2_1_bn]\n",
      "2022-02-22 14:30:05,080 - Utils - INFO - ...... subset to store [conv5_block2_2_conv/Conv2D, conv5_block2_2_bn]\n",
      "2022-02-22 14:30:05,080 - Utils - INFO - ...... subset to store [conv5_block2_2_conv/Conv2D, conv5_block2_2_bn]\n",
      "2022-02-22 14:30:05,081 - Utils - INFO - ...... subset to store [conv5_block2_3_conv/Conv2D, conv5_block2_3_bn]\n",
      "2022-02-22 14:30:05,082 - Utils - INFO - ...... subset to store [conv5_block1_1_conv/Conv2D, conv5_block1_1_bn]\n",
      "2022-02-22 14:30:05,082 - Utils - INFO - ...... subset to store [conv5_block1_1_conv/Conv2D, conv5_block1_1_bn]\n",
      "2022-02-22 14:30:05,083 - Utils - INFO - ...... subset to store [conv5_block1_2_conv/Conv2D, conv5_block1_2_bn]\n",
      "2022-02-22 14:30:05,084 - Utils - INFO - ...... subset to store [conv5_block1_2_conv/Conv2D, conv5_block1_2_bn]\n",
      "2022-02-22 14:30:05,084 - Utils - INFO - ...... subset to store [conv5_block1_3_conv/Conv2D, conv5_block1_3_bn]\n",
      "2022-02-22 14:30:05,085 - Utils - INFO - ...... subset to store [conv4_block6_1_conv/Conv2D, conv4_block6_1_bn]\n",
      "2022-02-22 14:30:05,086 - Utils - INFO - ...... subset to store [conv4_block6_1_conv/Conv2D, conv4_block6_1_bn]\n",
      "2022-02-22 14:30:05,086 - Utils - INFO - ...... subset to store [conv4_block6_2_conv/Conv2D, conv4_block6_2_bn]\n",
      "2022-02-22 14:30:05,087 - Utils - INFO - ...... subset to store [conv4_block6_2_conv/Conv2D, conv4_block6_2_bn]\n",
      "2022-02-22 14:30:05,087 - Utils - INFO - ...... subset to store [conv4_block6_3_conv/Conv2D, conv4_block6_3_bn]\n",
      "2022-02-22 14:30:05,088 - Utils - INFO - ...... subset to store [conv4_block5_1_conv/Conv2D, conv4_block5_1_bn]\n",
      "2022-02-22 14:30:05,088 - Utils - INFO - ...... subset to store [conv4_block5_1_conv/Conv2D, conv4_block5_1_bn]\n",
      "2022-02-22 14:30:05,089 - Utils - INFO - ...... subset to store [conv4_block5_2_conv/Conv2D, conv4_block5_2_bn]\n",
      "2022-02-22 14:30:05,090 - Utils - INFO - ...... subset to store [conv4_block5_2_conv/Conv2D, conv4_block5_2_bn]\n",
      "2022-02-22 14:30:05,090 - Utils - INFO - ...... subset to store [conv4_block5_3_conv/Conv2D, conv4_block5_3_bn]\n",
      "2022-02-22 14:30:05,091 - Utils - INFO - ...... subset to store [conv4_block4_1_conv/Conv2D, conv4_block4_1_bn]\n",
      "2022-02-22 14:30:05,091 - Utils - INFO - ...... subset to store [conv4_block4_1_conv/Conv2D, conv4_block4_1_bn]\n",
      "2022-02-22 14:30:05,092 - Utils - INFO - ...... subset to store [conv4_block4_2_conv/Conv2D, conv4_block4_2_bn]\n",
      "2022-02-22 14:30:05,093 - Utils - INFO - ...... subset to store [conv4_block4_2_conv/Conv2D, conv4_block4_2_bn]\n",
      "2022-02-22 14:30:05,094 - Utils - INFO - ...... subset to store [conv4_block4_3_conv/Conv2D, conv4_block4_3_bn]\n",
      "2022-02-22 14:30:05,094 - Utils - INFO - ...... subset to store [conv4_block3_1_conv/Conv2D, conv4_block3_1_bn]\n",
      "2022-02-22 14:30:05,095 - Utils - INFO - ...... subset to store [conv4_block3_1_conv/Conv2D, conv4_block3_1_bn]\n",
      "2022-02-22 14:30:05,095 - Utils - INFO - ...... subset to store [conv4_block3_2_conv/Conv2D, conv4_block3_2_bn]\n",
      "2022-02-22 14:30:05,096 - Utils - INFO - ...... subset to store [conv4_block3_2_conv/Conv2D, conv4_block3_2_bn]\n",
      "2022-02-22 14:30:05,096 - Utils - INFO - ...... subset to store [conv4_block3_3_conv/Conv2D, conv4_block3_3_bn]\n",
      "2022-02-22 14:30:05,097 - Utils - INFO - ...... subset to store [conv4_block2_1_conv/Conv2D, conv4_block2_1_bn]\n",
      "2022-02-22 14:30:05,097 - Utils - INFO - ...... subset to store [conv4_block2_1_conv/Conv2D, conv4_block2_1_bn]\n",
      "2022-02-22 14:30:05,098 - Utils - INFO - ...... subset to store [conv4_block2_2_conv/Conv2D, conv4_block2_2_bn]\n",
      "2022-02-22 14:30:05,098 - Utils - INFO - ...... subset to store [conv4_block2_2_conv/Conv2D, conv4_block2_2_bn]\n",
      "2022-02-22 14:30:05,099 - Utils - INFO - ...... subset to store [conv4_block2_3_conv/Conv2D, conv4_block2_3_bn]\n",
      "2022-02-22 14:30:05,099 - Utils - INFO - ...... subset to store [conv4_block1_1_conv/Conv2D, conv4_block1_1_bn]\n",
      "2022-02-22 14:30:05,100 - Utils - INFO - ...... subset to store [conv4_block1_1_conv/Conv2D, conv4_block1_1_bn]\n",
      "2022-02-22 14:30:05,100 - Utils - INFO - ...... subset to store [conv4_block1_2_conv/Conv2D, conv4_block1_2_bn]\n",
      "2022-02-22 14:30:05,101 - Utils - INFO - ...... subset to store [conv4_block1_2_conv/Conv2D, conv4_block1_2_bn]\n",
      "2022-02-22 14:30:05,101 - Utils - INFO - ...... subset to store [conv4_block1_3_conv/Conv2D, conv4_block1_3_bn]\n",
      "2022-02-22 14:30:05,102 - Utils - INFO - ...... subset to store [conv3_block4_1_conv/Conv2D, conv3_block4_1_bn]\n",
      "2022-02-22 14:30:05,102 - Utils - INFO - ...... subset to store [conv3_block4_1_conv/Conv2D, conv3_block4_1_bn]\n",
      "2022-02-22 14:30:05,103 - Utils - INFO - ...... subset to store [conv3_block4_2_conv/Conv2D, conv3_block4_2_bn]\n",
      "2022-02-22 14:30:05,104 - Utils - INFO - ...... subset to store [conv3_block4_2_conv/Conv2D, conv3_block4_2_bn]\n",
      "2022-02-22 14:30:05,104 - Utils - INFO - ...... subset to store [conv3_block4_3_conv/Conv2D, conv3_block4_3_bn]\n",
      "2022-02-22 14:30:05,105 - Utils - INFO - ...... subset to store [conv3_block3_1_conv/Conv2D, conv3_block3_1_bn]\n",
      "2022-02-22 14:30:05,105 - Utils - INFO - ...... subset to store [conv3_block3_1_conv/Conv2D, conv3_block3_1_bn]\n",
      "2022-02-22 14:30:05,106 - Utils - INFO - ...... subset to store [conv3_block3_2_conv/Conv2D, conv3_block3_2_bn]\n",
      "2022-02-22 14:30:05,106 - Utils - INFO - ...... subset to store [conv3_block3_2_conv/Conv2D, conv3_block3_2_bn]\n",
      "2022-02-22 14:30:05,107 - Utils - INFO - ...... subset to store [conv3_block3_3_conv/Conv2D, conv3_block3_3_bn]\n",
      "2022-02-22 14:30:05,107 - Utils - INFO - ...... subset to store [conv3_block2_1_conv/Conv2D, conv3_block2_1_bn]\n",
      "2022-02-22 14:30:05,108 - Utils - INFO - ...... subset to store [conv3_block2_1_conv/Conv2D, conv3_block2_1_bn]\n",
      "2022-02-22 14:30:05,109 - Utils - INFO - ...... subset to store [conv3_block2_2_conv/Conv2D, conv3_block2_2_bn]\n",
      "2022-02-22 14:30:05,109 - Utils - INFO - ...... subset to store [conv3_block2_2_conv/Conv2D, conv3_block2_2_bn]\n",
      "2022-02-22 14:30:05,110 - Utils - INFO - ...... subset to store [conv3_block2_3_conv/Conv2D, conv3_block2_3_bn]\n",
      "2022-02-22 14:30:05,110 - Utils - INFO - ...... subset to store [conv3_block1_1_conv/Conv2D, conv3_block1_1_bn]\n",
      "2022-02-22 14:30:05,111 - Utils - INFO - ...... subset to store [conv3_block1_1_conv/Conv2D, conv3_block1_1_bn]\n",
      "2022-02-22 14:30:05,111 - Utils - INFO - ...... subset to store [conv3_block1_2_conv/Conv2D, conv3_block1_2_bn]\n",
      "2022-02-22 14:30:05,112 - Utils - INFO - ...... subset to store [conv3_block1_2_conv/Conv2D, conv3_block1_2_bn]\n"
     ]
    },
    {
     "name": "stdout",
     "output_type": "stream",
     "text": [
      "2022-02-22 14:30:05,112 - Utils - INFO - ...... subset to store [conv3_block1_3_conv/Conv2D, conv3_block1_3_bn]\n",
      "2022-02-22 14:30:05,113 - Utils - INFO - ...... subset to store [conv2_block3_1_conv/Conv2D, conv2_block3_1_bn]\n",
      "2022-02-22 14:30:05,123 - Utils - INFO - ...... subset to store [conv2_block3_1_conv/Conv2D, conv2_block3_1_bn]\n",
      "2022-02-22 14:30:05,126 - Utils - INFO - ...... subset to store [conv2_block3_2_conv/Conv2D, conv2_block3_2_bn]\n",
      "2022-02-22 14:30:05,126 - Utils - INFO - ...... subset to store [conv2_block3_2_conv/Conv2D, conv2_block3_2_bn]\n",
      "2022-02-22 14:30:05,127 - Utils - INFO - ...... subset to store [conv2_block3_3_conv/Conv2D, conv2_block3_3_bn]\n",
      "2022-02-22 14:30:05,127 - Utils - INFO - ...... subset to store [conv2_block2_1_conv/Conv2D, conv2_block2_1_bn]\n",
      "2022-02-22 14:30:05,128 - Utils - INFO - ...... subset to store [conv2_block2_1_conv/Conv2D, conv2_block2_1_bn]\n",
      "2022-02-22 14:30:05,129 - Utils - INFO - ...... subset to store [conv2_block2_2_conv/Conv2D, conv2_block2_2_bn]\n",
      "2022-02-22 14:30:05,129 - Utils - INFO - ...... subset to store [conv2_block2_2_conv/Conv2D, conv2_block2_2_bn]\n",
      "2022-02-22 14:30:05,130 - Utils - INFO - ...... subset to store [conv2_block2_3_conv/Conv2D, conv2_block2_3_bn]\n",
      "2022-02-22 14:30:05,132 - Utils - INFO - ...... subset to store [conv2_block1_1_conv/Conv2D, conv2_block1_1_bn]\n",
      "2022-02-22 14:30:05,132 - Utils - INFO - ...... subset to store [conv2_block1_1_conv/Conv2D, conv2_block1_1_bn]\n",
      "2022-02-22 14:30:05,133 - Utils - INFO - ...... subset to store [conv2_block1_2_conv/Conv2D, conv2_block1_2_bn]\n",
      "2022-02-22 14:30:05,133 - Utils - INFO - ...... subset to store [conv2_block1_2_conv/Conv2D, conv2_block1_2_bn]\n",
      "2022-02-22 14:30:05,134 - Utils - INFO - ...... subset to store [conv2_block1_3_conv/Conv2D, conv2_block1_3_bn]\n"
     ]
    }
   ],
   "source": [
    "from aimet_tensorflow.batch_norm_fold import fold_all_batch_norms\n",
    "\n",
    "bn_folded_sess, _= fold_all_batch_norms(sess,\n",
    "                                        input_op_names=starting_op_names,\n",
    "                                        output_op_names=output_op_names)"
   ]
  },
  {
   "cell_type": "markdown",
   "metadata": {},
   "source": [
    "## Create Quantization Sim Model\n",
    "\n",
    "Now we use AIMET to create a QuantizationSimModel. This basically means that AIMET will insert fake quantization ops in the model graph and will configure them.\n",
    "A few of the parameters are explained here\n",
    "- **quant_scheme**: We set this to \"QuantScheme.post_training_tf_enhanced\"\n",
    "    - Supported options are 'tf_enhanced' or 'tf' or using Quant Scheme Enum QuantScheme.post_training_tf or QuantScheme.post_training_tf_enhanced\n",
    "- **default_output_bw**: Setting this to 8, essentially means that we are asking AIMET to perform all activation quantizations in the model using integer 8-bit precision\n",
    "- **default_param_bw**: Setting this to 8, essentially means that we are asking AIMET to perform all parameter quantizations in the model using integer 8-bit precision\n",
    "\n",
    "There are other parameters that are set to default values in this example. Please check the AIMET API documentation of QuantizationSimModel to see reference documentation for all the parameters."
   ]
  },
  {
   "cell_type": "markdown",
   "metadata": {},
   "source": [
    "The next cell sets up the quantizer, and quantizes the model. The new session that contains all the changes to the graph is quantizer.session, and this is then evaluated on the dataset. Note that the quantizer uses the same evaluate function as the one defined in our data pipeline when computing the new weights."
   ]
  },
  {
   "cell_type": "code",
   "execution_count": 11,
   "metadata": {
    "scrolled": true
   },
   "outputs": [
    {
     "name": "stdout",
     "output_type": "stream",
     "text": [
      "2022-02-22 14:30:27,340 - Quant - INFO - No config file provided, defaulting to config file at /usr/local/lib/python3.6/dist-packages/aimet_common/quantsim_config/default_config.json\n",
      "2022-02-22 14:30:27,356 - Quant - INFO - Adding weight quantization op conv1_conv/Conv2D/ReadVariableOp_quantized\n",
      "2022-02-22 14:30:27,472 - Quant - INFO - Adding weight quantization op conv1_conv/BiasAdd/ReadVariableOp_quantized\n",
      "2022-02-22 14:30:27,590 - Quant - INFO - Adding weight quantization op conv2_block1_1_conv/Conv2D/ReadVariableOp_quantized\n",
      "2022-02-22 14:30:27,707 - Quant - INFO - Adding weight quantization op conv2_block1_1_conv/BiasAdd/ReadVariableOp_quantized\n",
      "2022-02-22 14:30:27,827 - Quant - INFO - Adding weight quantization op conv2_block1_2_conv/Conv2D/ReadVariableOp_quantized\n",
      "2022-02-22 14:30:27,947 - Quant - INFO - Adding weight quantization op conv2_block1_2_conv/BiasAdd/ReadVariableOp_quantized\n",
      "2022-02-22 14:30:28,068 - Quant - INFO - Adding weight quantization op conv2_block1_0_conv/Conv2D/ReadVariableOp_quantized\n",
      "2022-02-22 14:30:28,189 - Quant - INFO - Adding weight quantization op conv2_block1_0_conv/BiasAdd/ReadVariableOp_quantized\n",
      "2022-02-22 14:30:28,313 - Quant - INFO - Adding weight quantization op conv2_block1_3_conv/Conv2D/ReadVariableOp_quantized\n",
      "2022-02-22 14:30:28,437 - Quant - INFO - Adding weight quantization op conv2_block1_3_conv/BiasAdd/ReadVariableOp_quantized\n",
      "2022-02-22 14:30:28,565 - Quant - INFO - Adding weight quantization op conv2_block2_1_conv/Conv2D/ReadVariableOp_quantized\n",
      "2022-02-22 14:30:28,693 - Quant - INFO - Adding weight quantization op conv2_block2_1_conv/BiasAdd/ReadVariableOp_quantized\n",
      "2022-02-22 14:30:28,824 - Quant - INFO - Adding weight quantization op conv2_block2_2_conv/Conv2D/ReadVariableOp_quantized\n",
      "2022-02-22 14:30:28,964 - Quant - INFO - Adding weight quantization op conv2_block2_2_conv/BiasAdd/ReadVariableOp_quantized\n",
      "2022-02-22 14:30:29,091 - Quant - INFO - Adding weight quantization op conv2_block2_3_conv/Conv2D/ReadVariableOp_quantized\n",
      "2022-02-22 14:30:29,220 - Quant - INFO - Adding weight quantization op conv2_block2_3_conv/BiasAdd/ReadVariableOp_quantized\n",
      "2022-02-22 14:30:29,349 - Quant - INFO - Adding weight quantization op conv2_block3_1_conv/Conv2D/ReadVariableOp_quantized\n",
      "2022-02-22 14:30:29,480 - Quant - INFO - Adding weight quantization op conv2_block3_1_conv/BiasAdd/ReadVariableOp_quantized\n",
      "2022-02-22 14:30:29,612 - Quant - INFO - Adding weight quantization op conv2_block3_2_conv/Conv2D/ReadVariableOp_quantized\n",
      "2022-02-22 14:30:29,749 - Quant - INFO - Adding weight quantization op conv2_block3_2_conv/BiasAdd/ReadVariableOp_quantized\n",
      "2022-02-22 14:30:29,897 - Quant - INFO - Adding weight quantization op conv2_block3_3_conv/Conv2D/ReadVariableOp_quantized\n",
      "2022-02-22 14:30:30,033 - Quant - INFO - Adding weight quantization op conv2_block3_3_conv/BiasAdd/ReadVariableOp_quantized\n",
      "2022-02-22 14:30:30,168 - Quant - INFO - Adding weight quantization op conv3_block1_1_conv/Conv2D/ReadVariableOp_quantized\n",
      "2022-02-22 14:30:30,310 - Quant - INFO - Adding weight quantization op conv3_block1_1_conv/BiasAdd/ReadVariableOp_quantized\n",
      "2022-02-22 14:30:30,461 - Quant - INFO - Adding weight quantization op conv3_block1_2_conv/Conv2D/ReadVariableOp_quantized\n",
      "2022-02-22 14:30:30,600 - Quant - INFO - Adding weight quantization op conv3_block1_2_conv/BiasAdd/ReadVariableOp_quantized\n",
      "2022-02-22 14:30:30,740 - Quant - INFO - Adding weight quantization op conv3_block1_0_conv/Conv2D/ReadVariableOp_quantized\n",
      "2022-02-22 14:30:30,884 - Quant - INFO - Adding weight quantization op conv3_block1_0_conv/BiasAdd/ReadVariableOp_quantized\n",
      "2022-02-22 14:30:31,030 - Quant - INFO - Adding weight quantization op conv3_block1_3_conv/Conv2D/ReadVariableOp_quantized\n",
      "2022-02-22 14:30:31,173 - Quant - INFO - Adding weight quantization op conv3_block1_3_conv/BiasAdd/ReadVariableOp_quantized\n",
      "2022-02-22 14:30:31,317 - Quant - INFO - Adding weight quantization op conv3_block2_1_conv/Conv2D/ReadVariableOp_quantized\n",
      "2022-02-22 14:30:31,463 - Quant - INFO - Adding weight quantization op conv3_block2_1_conv/BiasAdd/ReadVariableOp_quantized\n",
      "2022-02-22 14:30:31,610 - Quant - INFO - Adding weight quantization op conv3_block2_2_conv/Conv2D/ReadVariableOp_quantized\n",
      "2022-02-22 14:30:31,758 - Quant - INFO - Adding weight quantization op conv3_block2_2_conv/BiasAdd/ReadVariableOp_quantized\n",
      "2022-02-22 14:30:31,907 - Quant - INFO - Adding weight quantization op conv3_block2_3_conv/Conv2D/ReadVariableOp_quantized\n",
      "2022-02-22 14:30:32,056 - Quant - INFO - Adding weight quantization op conv3_block2_3_conv/BiasAdd/ReadVariableOp_quantized\n",
      "2022-02-22 14:30:32,206 - Quant - INFO - Adding weight quantization op conv3_block3_1_conv/Conv2D/ReadVariableOp_quantized\n",
      "2022-02-22 14:30:32,359 - Quant - INFO - Adding weight quantization op conv3_block3_1_conv/BiasAdd/ReadVariableOp_quantized\n",
      "2022-02-22 14:30:32,519 - Quant - INFO - Adding weight quantization op conv3_block3_2_conv/Conv2D/ReadVariableOp_quantized\n",
      "2022-02-22 14:30:32,687 - Quant - INFO - Adding weight quantization op conv3_block3_2_conv/BiasAdd/ReadVariableOp_quantized\n",
      "2022-02-22 14:30:32,845 - Quant - INFO - Adding weight quantization op conv3_block3_3_conv/Conv2D/ReadVariableOp_quantized\n",
      "2022-02-22 14:30:33,001 - Quant - INFO - Adding weight quantization op conv3_block3_3_conv/BiasAdd/ReadVariableOp_quantized\n",
      "2022-02-22 14:30:33,159 - Quant - INFO - Adding weight quantization op conv3_block4_1_conv/Conv2D/ReadVariableOp_quantized\n",
      "2022-02-22 14:30:33,318 - Quant - INFO - Adding weight quantization op conv3_block4_1_conv/BiasAdd/ReadVariableOp_quantized\n",
      "2022-02-22 14:30:33,478 - Quant - INFO - Adding weight quantization op conv3_block4_2_conv/Conv2D/ReadVariableOp_quantized\n",
      "2022-02-22 14:30:33,639 - Quant - INFO - Adding weight quantization op conv3_block4_2_conv/BiasAdd/ReadVariableOp_quantized\n",
      "2022-02-22 14:30:33,801 - Quant - INFO - Adding weight quantization op conv3_block4_3_conv/Conv2D/ReadVariableOp_quantized\n",
      "2022-02-22 14:30:33,963 - Quant - INFO - Adding weight quantization op conv3_block4_3_conv/BiasAdd/ReadVariableOp_quantized\n",
      "2022-02-22 14:30:34,127 - Quant - INFO - Adding weight quantization op conv4_block1_1_conv/Conv2D/ReadVariableOp_quantized\n",
      "2022-02-22 14:30:34,293 - Quant - INFO - Adding weight quantization op conv4_block1_1_conv/BiasAdd/ReadVariableOp_quantized\n",
      "2022-02-22 14:30:34,459 - Quant - INFO - Adding weight quantization op conv4_block1_2_conv/Conv2D/ReadVariableOp_quantized\n",
      "2022-02-22 14:30:34,626 - Quant - INFO - Adding weight quantization op conv4_block1_2_conv/BiasAdd/ReadVariableOp_quantized\n",
      "2022-02-22 14:30:34,795 - Quant - INFO - Adding weight quantization op conv4_block1_0_conv/Conv2D/ReadVariableOp_quantized\n",
      "2022-02-22 14:30:34,969 - Quant - INFO - Adding weight quantization op conv4_block1_0_conv/BiasAdd/ReadVariableOp_quantized\n",
      "2022-02-22 14:30:35,150 - Quant - INFO - Adding weight quantization op conv4_block1_3_conv/Conv2D/ReadVariableOp_quantized\n",
      "2022-02-22 14:30:35,325 - Quant - INFO - Adding weight quantization op conv4_block1_3_conv/BiasAdd/ReadVariableOp_quantized\n",
      "2022-02-22 14:30:35,511 - Quant - INFO - Adding weight quantization op conv4_block2_1_conv/Conv2D/ReadVariableOp_quantized\n",
      "2022-02-22 14:30:35,684 - Quant - INFO - Adding weight quantization op conv4_block2_1_conv/BiasAdd/ReadVariableOp_quantized\n",
      "2022-02-22 14:30:35,862 - Quant - INFO - Adding weight quantization op conv4_block2_2_conv/Conv2D/ReadVariableOp_quantized\n",
      "2022-02-22 14:30:36,054 - Quant - INFO - Adding weight quantization op conv4_block2_2_conv/BiasAdd/ReadVariableOp_quantized\n",
      "2022-02-22 14:30:36,246 - Quant - INFO - Adding weight quantization op conv4_block2_3_conv/Conv2D/ReadVariableOp_quantized\n",
      "2022-02-22 14:30:36,435 - Quant - INFO - Adding weight quantization op conv4_block2_3_conv/BiasAdd/ReadVariableOp_quantized\n",
      "2022-02-22 14:30:36,614 - Quant - INFO - Adding weight quantization op conv4_block3_1_conv/Conv2D/ReadVariableOp_quantized\n",
      "2022-02-22 14:30:36,794 - Quant - INFO - Adding weight quantization op conv4_block3_1_conv/BiasAdd/ReadVariableOp_quantized\n",
      "2022-02-22 14:30:36,980 - Quant - INFO - Adding weight quantization op conv4_block3_2_conv/Conv2D/ReadVariableOp_quantized\n",
      "2022-02-22 14:30:37,175 - Quant - INFO - Adding weight quantization op conv4_block3_2_conv/BiasAdd/ReadVariableOp_quantized\n"
     ]
    },
    {
     "name": "stdout",
     "output_type": "stream",
     "text": [
      "2022-02-22 14:30:37,358 - Quant - INFO - Adding weight quantization op conv4_block3_3_conv/Conv2D/ReadVariableOp_quantized\n",
      "2022-02-22 14:30:37,542 - Quant - INFO - Adding weight quantization op conv4_block3_3_conv/BiasAdd/ReadVariableOp_quantized\n",
      "2022-02-22 14:30:37,731 - Quant - INFO - Adding weight quantization op conv4_block4_1_conv/Conv2D/ReadVariableOp_quantized\n",
      "2022-02-22 14:30:37,931 - Quant - INFO - Adding weight quantization op conv4_block4_1_conv/BiasAdd/ReadVariableOp_quantized\n",
      "2022-02-22 14:30:38,117 - Quant - INFO - Adding weight quantization op conv4_block4_2_conv/Conv2D/ReadVariableOp_quantized\n",
      "2022-02-22 14:30:38,310 - Quant - INFO - Adding weight quantization op conv4_block4_2_conv/BiasAdd/ReadVariableOp_quantized\n",
      "2022-02-22 14:30:38,510 - Quant - INFO - Adding weight quantization op conv4_block4_3_conv/Conv2D/ReadVariableOp_quantized\n",
      "2022-02-22 14:30:38,700 - Quant - INFO - Adding weight quantization op conv4_block4_3_conv/BiasAdd/ReadVariableOp_quantized\n",
      "2022-02-22 14:30:38,891 - Quant - INFO - Adding weight quantization op conv4_block5_1_conv/Conv2D/ReadVariableOp_quantized\n",
      "2022-02-22 14:30:39,081 - Quant - INFO - Adding weight quantization op conv4_block5_1_conv/BiasAdd/ReadVariableOp_quantized\n",
      "2022-02-22 14:30:39,273 - Quant - INFO - Adding weight quantization op conv4_block5_2_conv/Conv2D/ReadVariableOp_quantized\n",
      "2022-02-22 14:30:39,465 - Quant - INFO - Adding weight quantization op conv4_block5_2_conv/BiasAdd/ReadVariableOp_quantized\n",
      "2022-02-22 14:30:39,659 - Quant - INFO - Adding weight quantization op conv4_block5_3_conv/Conv2D/ReadVariableOp_quantized\n",
      "2022-02-22 14:30:39,855 - Quant - INFO - Adding weight quantization op conv4_block5_3_conv/BiasAdd/ReadVariableOp_quantized\n",
      "2022-02-22 14:30:40,054 - Quant - INFO - Adding weight quantization op conv4_block6_1_conv/Conv2D/ReadVariableOp_quantized\n",
      "2022-02-22 14:30:40,268 - Quant - INFO - Adding weight quantization op conv4_block6_1_conv/BiasAdd/ReadVariableOp_quantized\n",
      "2022-02-22 14:30:40,468 - Quant - INFO - Adding weight quantization op conv4_block6_2_conv/Conv2D/ReadVariableOp_quantized\n",
      "2022-02-22 14:30:40,670 - Quant - INFO - Adding weight quantization op conv4_block6_2_conv/BiasAdd/ReadVariableOp_quantized\n",
      "2022-02-22 14:30:40,873 - Quant - INFO - Adding weight quantization op conv4_block6_3_conv/Conv2D/ReadVariableOp_quantized\n",
      "2022-02-22 14:30:41,077 - Quant - INFO - Adding weight quantization op conv4_block6_3_conv/BiasAdd/ReadVariableOp_quantized\n",
      "2022-02-22 14:30:41,281 - Quant - INFO - Adding weight quantization op conv5_block1_1_conv/Conv2D/ReadVariableOp_quantized\n",
      "2022-02-22 14:30:41,489 - Quant - INFO - Adding weight quantization op conv5_block1_1_conv/BiasAdd/ReadVariableOp_quantized\n",
      "2022-02-22 14:30:41,708 - Quant - INFO - Adding weight quantization op conv5_block1_2_conv/Conv2D/ReadVariableOp_quantized\n",
      "2022-02-22 14:30:41,916 - Quant - INFO - Adding weight quantization op conv5_block1_2_conv/BiasAdd/ReadVariableOp_quantized\n",
      "2022-02-22 14:30:42,124 - Quant - INFO - Adding weight quantization op conv5_block1_0_conv/Conv2D/ReadVariableOp_quantized\n",
      "2022-02-22 14:30:42,337 - Quant - INFO - Adding weight quantization op conv5_block1_0_conv/BiasAdd/ReadVariableOp_quantized\n",
      "2022-02-22 14:30:42,562 - Quant - INFO - Adding weight quantization op conv5_block1_3_conv/Conv2D/ReadVariableOp_quantized\n",
      "2022-02-22 14:30:42,787 - Quant - INFO - Adding weight quantization op conv5_block1_3_conv/BiasAdd/ReadVariableOp_quantized\n",
      "2022-02-22 14:30:43,000 - Quant - INFO - Adding weight quantization op conv5_block2_1_conv/Conv2D/ReadVariableOp_quantized\n",
      "2022-02-22 14:30:43,214 - Quant - INFO - Adding weight quantization op conv5_block2_1_conv/BiasAdd/ReadVariableOp_quantized\n",
      "2022-02-22 14:30:43,429 - Quant - INFO - Adding weight quantization op conv5_block2_2_conv/Conv2D/ReadVariableOp_quantized\n",
      "2022-02-22 14:30:43,644 - Quant - INFO - Adding weight quantization op conv5_block2_2_conv/BiasAdd/ReadVariableOp_quantized\n",
      "2022-02-22 14:30:43,861 - Quant - INFO - Adding weight quantization op conv5_block2_3_conv/Conv2D/ReadVariableOp_quantized\n",
      "2022-02-22 14:30:44,078 - Quant - INFO - Adding weight quantization op conv5_block2_3_conv/BiasAdd/ReadVariableOp_quantized\n",
      "2022-02-22 14:30:44,297 - Quant - INFO - Adding weight quantization op conv5_block3_1_conv/Conv2D/ReadVariableOp_quantized\n",
      "2022-02-22 14:30:44,521 - Quant - INFO - Adding weight quantization op conv5_block3_1_conv/BiasAdd/ReadVariableOp_quantized\n",
      "2022-02-22 14:30:44,752 - Quant - INFO - Adding weight quantization op conv5_block3_2_conv/Conv2D/ReadVariableOp_quantized\n",
      "2022-02-22 14:30:44,975 - Quant - INFO - Adding weight quantization op conv5_block3_2_conv/BiasAdd/ReadVariableOp_quantized\n",
      "2022-02-22 14:30:45,202 - Quant - INFO - Adding weight quantization op conv5_block3_3_conv/Conv2D/ReadVariableOp_quantized\n",
      "2022-02-22 14:30:45,439 - Quant - INFO - Adding weight quantization op conv5_block3_3_conv/BiasAdd/ReadVariableOp_quantized\n",
      "2022-02-22 14:30:45,664 - Quant - INFO - Adding weight quantization op predictions/MatMul/ReadVariableOp_quantized\n",
      "2022-02-22 14:30:45,891 - Quant - INFO - Adding weight quantization op predictions/BiasAdd/ReadVariableOp_quantized\n",
      "2022-02-22 14:30:46,118 - Quant - INFO - Adding activation quantization op input_1_quantized\n",
      "2022-02-22 14:30:46,347 - Quant - INFO - Adding activation quantization op conv1_pad/Pad_quantized\n",
      "2022-02-22 14:30:46,580 - Quant - INFO - Adding activation quantization op conv1_conv/BiasAdd_quantized\n",
      "2022-02-22 14:30:46,828 - Quant - INFO - Adding activation quantization op conv1_relu/Relu_quantized\n",
      "2022-02-22 14:30:47,071 - Quant - INFO - Adding activation quantization op pool1_pad/Pad_quantized\n",
      "2022-02-22 14:30:47,303 - Quant - INFO - Adding activation quantization op pool1_pool/MaxPool_quantized\n",
      "2022-02-22 14:30:47,536 - Quant - INFO - Adding activation quantization op conv2_block1_0_conv/BiasAdd_quantized\n",
      "2022-02-22 14:30:47,769 - Quant - INFO - Adding activation quantization op conv2_block1_add/add_quantized\n",
      "2022-02-22 14:30:48,004 - Quant - INFO - Adding activation quantization op conv2_block1_out/Relu_quantized\n",
      "2022-02-22 14:30:48,240 - Quant - INFO - Adding activation quantization op conv2_block2_add/add_quantized\n",
      "2022-02-22 14:30:48,477 - Quant - INFO - Adding activation quantization op conv2_block2_out/Relu_quantized\n",
      "2022-02-22 14:30:48,718 - Quant - INFO - Adding activation quantization op conv2_block3_add/add_quantized\n",
      "2022-02-22 14:30:48,974 - Quant - INFO - Adding activation quantization op conv2_block3_out/Relu_quantized\n",
      "2022-02-22 14:30:49,225 - Quant - INFO - Adding activation quantization op conv3_block1_0_conv/BiasAdd_quantized\n",
      "2022-02-22 14:30:49,467 - Quant - INFO - Adding activation quantization op conv3_block1_add/add_quantized\n",
      "2022-02-22 14:30:49,713 - Quant - INFO - Adding activation quantization op conv3_block1_out/Relu_quantized\n",
      "2022-02-22 14:30:49,970 - Quant - INFO - Adding activation quantization op conv3_block2_add/add_quantized\n",
      "2022-02-22 14:30:50,216 - Quant - INFO - Adding activation quantization op conv3_block2_out/Relu_quantized\n",
      "2022-02-22 14:30:50,475 - Quant - INFO - Adding activation quantization op conv3_block3_add/add_quantized\n",
      "2022-02-22 14:30:50,721 - Quant - INFO - Adding activation quantization op conv3_block3_out/Relu_quantized\n",
      "2022-02-22 14:30:50,969 - Quant - INFO - Adding activation quantization op conv3_block4_add/add_quantized\n",
      "2022-02-22 14:30:51,216 - Quant - INFO - Adding activation quantization op conv3_block4_out/Relu_quantized\n",
      "2022-02-22 14:30:51,463 - Quant - INFO - Adding activation quantization op conv4_block1_0_conv/BiasAdd_quantized\n",
      "2022-02-22 14:30:51,713 - Quant - INFO - Adding activation quantization op conv4_block1_add/add_quantized\n",
      "2022-02-22 14:30:51,970 - Quant - INFO - Adding activation quantization op conv4_block1_out/Relu_quantized\n",
      "2022-02-22 14:30:52,238 - Quant - INFO - Adding activation quantization op conv4_block2_add/add_quantized\n",
      "2022-02-22 14:30:52,493 - Quant - INFO - Adding activation quantization op conv4_block2_out/Relu_quantized\n",
      "2022-02-22 14:30:52,860 - Quant - INFO - Adding activation quantization op conv4_block3_add/add_quantized\n",
      "2022-02-22 14:30:53,116 - Quant - INFO - Adding activation quantization op conv4_block3_out/Relu_quantized\n"
     ]
    },
    {
     "name": "stdout",
     "output_type": "stream",
     "text": [
      "2022-02-22 14:30:53,376 - Quant - INFO - Adding activation quantization op conv4_block4_add/add_quantized\n",
      "2022-02-22 14:30:53,648 - Quant - INFO - Adding activation quantization op conv4_block4_out/Relu_quantized\n",
      "2022-02-22 14:30:53,906 - Quant - INFO - Adding activation quantization op conv4_block5_add/add_quantized\n",
      "2022-02-22 14:30:54,164 - Quant - INFO - Adding activation quantization op conv4_block5_out/Relu_quantized\n",
      "2022-02-22 14:30:54,424 - Quant - INFO - Adding activation quantization op conv4_block6_add/add_quantized\n",
      "2022-02-22 14:30:54,685 - Quant - INFO - Adding activation quantization op conv4_block6_out/Relu_quantized\n",
      "2022-02-22 14:30:54,946 - Quant - INFO - Adding activation quantization op conv5_block1_0_conv/BiasAdd_quantized\n",
      "2022-02-22 14:30:55,209 - Quant - INFO - Adding activation quantization op conv5_block1_add/add_quantized\n",
      "2022-02-22 14:30:55,473 - Quant - INFO - Adding activation quantization op conv5_block1_out/Relu_quantized\n",
      "2022-02-22 14:30:55,738 - Quant - INFO - Adding activation quantization op conv5_block2_add/add_quantized\n",
      "2022-02-22 14:30:56,004 - Quant - INFO - Adding activation quantization op conv5_block2_out/Relu_quantized\n",
      "2022-02-22 14:30:56,269 - Quant - INFO - Adding activation quantization op conv5_block3_add/add_quantized\n",
      "2022-02-22 14:30:56,542 - Quant - INFO - Adding activation quantization op conv5_block3_out/Relu_quantized\n",
      "2022-02-22 14:30:56,828 - Quant - INFO - Adding activation quantization op avg_pool/Mean_quantized\n",
      "2022-02-22 14:30:57,105 - Quant - INFO - Adding activation quantization op predictions/BiasAdd_quantized\n",
      "2022-02-22 14:30:57,389 - Quant - INFO - Adding activation quantization op predictions/Softmax_quantized\n",
      "2022-02-22 14:30:57,662 - Quant - INFO - Adding activation quantization op conv5_block3_1_conv/BiasAdd_quantized\n",
      "2022-02-22 14:30:57,938 - Quant - INFO - Adding activation quantization op conv5_block3_1_relu/Relu_quantized\n",
      "2022-02-22 14:30:58,215 - Quant - INFO - Adding activation quantization op conv5_block3_2_conv/BiasAdd_quantized\n",
      "2022-02-22 14:30:58,492 - Quant - INFO - Adding activation quantization op conv5_block3_2_relu/Relu_quantized\n",
      "2022-02-22 14:30:58,773 - Quant - INFO - Adding activation quantization op conv5_block3_3_conv/BiasAdd_quantized\n",
      "2022-02-22 14:30:59,052 - Quant - INFO - Adding activation quantization op conv5_block2_1_conv/BiasAdd_quantized\n",
      "2022-02-22 14:30:59,332 - Quant - INFO - Adding activation quantization op conv5_block2_1_relu/Relu_quantized\n",
      "2022-02-22 14:30:59,617 - Quant - INFO - Adding activation quantization op conv5_block2_2_conv/BiasAdd_quantized\n",
      "2022-02-22 14:30:59,911 - Quant - INFO - Adding activation quantization op conv5_block2_2_relu/Relu_quantized\n",
      "2022-02-22 14:31:00,197 - Quant - INFO - Adding activation quantization op conv5_block2_3_conv/BiasAdd_quantized\n",
      "2022-02-22 14:31:00,484 - Quant - INFO - Adding activation quantization op conv5_block1_1_conv/BiasAdd_quantized\n",
      "2022-02-22 14:31:00,768 - Quant - INFO - Adding activation quantization op conv5_block1_1_relu/Relu_quantized\n",
      "2022-02-22 14:31:01,055 - Quant - INFO - Adding activation quantization op conv5_block1_2_conv/BiasAdd_quantized\n",
      "2022-02-22 14:31:01,342 - Quant - INFO - Adding activation quantization op conv5_block1_2_relu/Relu_quantized\n",
      "2022-02-22 14:31:01,630 - Quant - INFO - Adding activation quantization op conv5_block1_3_conv/BiasAdd_quantized\n",
      "2022-02-22 14:31:01,919 - Quant - INFO - Adding activation quantization op conv4_block6_1_conv/BiasAdd_quantized\n",
      "2022-02-22 14:31:02,209 - Quant - INFO - Adding activation quantization op conv4_block6_1_relu/Relu_quantized\n",
      "2022-02-22 14:31:02,501 - Quant - INFO - Adding activation quantization op conv4_block6_2_conv/BiasAdd_quantized\n",
      "2022-02-22 14:31:02,795 - Quant - INFO - Adding activation quantization op conv4_block6_2_relu/Relu_quantized\n",
      "2022-02-22 14:31:03,095 - Quant - INFO - Adding activation quantization op conv4_block6_3_conv/BiasAdd_quantized\n",
      "2022-02-22 14:31:03,388 - Quant - INFO - Adding activation quantization op conv4_block5_1_conv/BiasAdd_quantized\n",
      "2022-02-22 14:31:03,682 - Quant - INFO - Adding activation quantization op conv4_block5_1_relu/Relu_quantized\n",
      "2022-02-22 14:31:03,979 - Quant - INFO - Adding activation quantization op conv4_block5_2_conv/BiasAdd_quantized\n",
      "2022-02-22 14:31:04,276 - Quant - INFO - Adding activation quantization op conv4_block5_2_relu/Relu_quantized\n",
      "2022-02-22 14:31:04,577 - Quant - INFO - Adding activation quantization op conv4_block5_3_conv/BiasAdd_quantized\n",
      "2022-02-22 14:31:04,892 - Quant - INFO - Adding activation quantization op conv4_block4_1_conv/BiasAdd_quantized\n",
      "2022-02-22 14:31:05,192 - Quant - INFO - Adding activation quantization op conv4_block4_1_relu/Relu_quantized\n",
      "2022-02-22 14:31:05,495 - Quant - INFO - Adding activation quantization op conv4_block4_2_conv/BiasAdd_quantized\n",
      "2022-02-22 14:31:05,798 - Quant - INFO - Adding activation quantization op conv4_block4_2_relu/Relu_quantized\n",
      "2022-02-22 14:31:06,103 - Quant - INFO - Adding activation quantization op conv4_block4_3_conv/BiasAdd_quantized\n",
      "2022-02-22 14:31:06,411 - Quant - INFO - Adding activation quantization op conv4_block3_1_conv/BiasAdd_quantized\n",
      "2022-02-22 14:31:06,718 - Quant - INFO - Adding activation quantization op conv4_block3_1_relu/Relu_quantized\n",
      "2022-02-22 14:31:07,028 - Quant - INFO - Adding activation quantization op conv4_block3_2_conv/BiasAdd_quantized\n",
      "2022-02-22 14:31:07,340 - Quant - INFO - Adding activation quantization op conv4_block3_2_relu/Relu_quantized\n",
      "2022-02-22 14:31:07,657 - Quant - INFO - Adding activation quantization op conv4_block3_3_conv/BiasAdd_quantized\n",
      "2022-02-22 14:31:07,988 - Quant - INFO - Adding activation quantization op conv4_block2_1_conv/BiasAdd_quantized\n",
      "2022-02-22 14:31:08,305 - Quant - INFO - Adding activation quantization op conv4_block2_1_relu/Relu_quantized\n",
      "2022-02-22 14:31:08,622 - Quant - INFO - Adding activation quantization op conv4_block2_2_conv/BiasAdd_quantized\n",
      "2022-02-22 14:31:08,941 - Quant - INFO - Adding activation quantization op conv4_block2_2_relu/Relu_quantized\n",
      "2022-02-22 14:31:09,264 - Quant - INFO - Adding activation quantization op conv4_block2_3_conv/BiasAdd_quantized\n",
      "2022-02-22 14:31:09,598 - Quant - INFO - Adding activation quantization op conv4_block1_1_conv/BiasAdd_quantized\n",
      "2022-02-22 14:31:09,920 - Quant - INFO - Adding activation quantization op conv4_block1_1_relu/Relu_quantized\n",
      "2022-02-22 14:31:10,244 - Quant - INFO - Adding activation quantization op conv4_block1_2_conv/BiasAdd_quantized\n",
      "2022-02-22 14:31:10,571 - Quant - INFO - Adding activation quantization op conv4_block1_2_relu/Relu_quantized\n",
      "2022-02-22 14:31:10,908 - Quant - INFO - Adding activation quantization op conv4_block1_3_conv/BiasAdd_quantized\n",
      "2022-02-22 14:31:11,232 - Quant - INFO - Adding activation quantization op conv3_block4_1_conv/BiasAdd_quantized\n",
      "2022-02-22 14:31:11,559 - Quant - INFO - Adding activation quantization op conv3_block4_1_relu/Relu_quantized\n",
      "2022-02-22 14:31:11,887 - Quant - INFO - Adding activation quantization op conv3_block4_2_conv/BiasAdd_quantized\n",
      "2022-02-22 14:31:12,216 - Quant - INFO - Adding activation quantization op conv3_block4_2_relu/Relu_quantized\n",
      "2022-02-22 14:31:12,546 - Quant - INFO - Adding activation quantization op conv3_block4_3_conv/BiasAdd_quantized\n",
      "2022-02-22 14:31:12,877 - Quant - INFO - Adding activation quantization op conv3_block3_1_conv/BiasAdd_quantized\n",
      "2022-02-22 14:31:13,215 - Quant - INFO - Adding activation quantization op conv3_block3_1_relu/Relu_quantized\n",
      "2022-02-22 14:31:13,563 - Quant - INFO - Adding activation quantization op conv3_block3_2_conv/BiasAdd_quantized\n",
      "2022-02-22 14:31:13,898 - Quant - INFO - Adding activation quantization op conv3_block3_2_relu/Relu_quantized\n",
      "2022-02-22 14:31:14,232 - Quant - INFO - Adding activation quantization op conv3_block3_3_conv/BiasAdd_quantized\n",
      "2022-02-22 14:31:14,569 - Quant - INFO - Adding activation quantization op conv3_block2_1_conv/BiasAdd_quantized\n",
      "2022-02-22 14:31:14,907 - Quant - INFO - Adding activation quantization op conv3_block2_1_relu/Relu_quantized\n",
      "2022-02-22 14:31:15,246 - Quant - INFO - Adding activation quantization op conv3_block2_2_conv/BiasAdd_quantized\n",
      "2022-02-22 14:31:15,587 - Quant - INFO - Adding activation quantization op conv3_block2_2_relu/Relu_quantized\n"
     ]
    },
    {
     "name": "stdout",
     "output_type": "stream",
     "text": [
      "2022-02-22 14:31:15,931 - Quant - INFO - Adding activation quantization op conv3_block2_3_conv/BiasAdd_quantized\n",
      "2022-02-22 14:31:16,274 - Quant - INFO - Adding activation quantization op conv3_block1_1_conv/BiasAdd_quantized\n",
      "2022-02-22 14:31:16,618 - Quant - INFO - Adding activation quantization op conv3_block1_1_relu/Relu_quantized\n",
      "2022-02-22 14:31:16,965 - Quant - INFO - Adding activation quantization op conv3_block1_2_conv/BiasAdd_quantized\n",
      "2022-02-22 14:31:17,311 - Quant - INFO - Adding activation quantization op conv3_block1_2_relu/Relu_quantized\n",
      "2022-02-22 14:31:17,658 - Quant - INFO - Adding activation quantization op conv3_block1_3_conv/BiasAdd_quantized\n",
      "2022-02-22 14:31:18,007 - Quant - INFO - Adding activation quantization op conv2_block3_1_conv/BiasAdd_quantized\n",
      "2022-02-22 14:31:18,356 - Quant - INFO - Adding activation quantization op conv2_block3_1_relu/Relu_quantized\n",
      "2022-02-22 14:31:18,707 - Quant - INFO - Adding activation quantization op conv2_block3_2_conv/BiasAdd_quantized\n",
      "2022-02-22 14:31:19,060 - Quant - INFO - Adding activation quantization op conv2_block3_2_relu/Relu_quantized\n",
      "2022-02-22 14:31:19,413 - Quant - INFO - Adding activation quantization op conv2_block3_3_conv/BiasAdd_quantized\n",
      "2022-02-22 14:31:19,767 - Quant - INFO - Adding activation quantization op conv2_block2_1_conv/BiasAdd_quantized\n",
      "2022-02-22 14:31:20,123 - Quant - INFO - Adding activation quantization op conv2_block2_1_relu/Relu_quantized\n",
      "2022-02-22 14:31:20,480 - Quant - INFO - Adding activation quantization op conv2_block2_2_conv/BiasAdd_quantized\n",
      "2022-02-22 14:31:20,838 - Quant - INFO - Adding activation quantization op conv2_block2_2_relu/Relu_quantized\n",
      "2022-02-22 14:31:21,200 - Quant - INFO - Adding activation quantization op conv2_block2_3_conv/BiasAdd_quantized\n",
      "2022-02-22 14:31:21,573 - Quant - INFO - Adding activation quantization op conv2_block1_1_conv/BiasAdd_quantized\n",
      "2022-02-22 14:31:21,933 - Quant - INFO - Adding activation quantization op conv2_block1_1_relu/Relu_quantized\n",
      "2022-02-22 14:31:22,296 - Quant - INFO - Adding activation quantization op conv2_block1_2_conv/BiasAdd_quantized\n",
      "2022-02-22 14:31:22,657 - Quant - INFO - Adding activation quantization op conv2_block1_2_relu/Relu_quantized\n",
      "2022-02-22 14:31:23,021 - Quant - INFO - Adding activation quantization op conv2_block1_3_conv/BiasAdd_quantized\n",
      "2022-02-22 14:31:41,010 - Utils - INFO - ...... subset to store [conv1_conv/Conv2D, conv1_relu/Relu]\n",
      "2022-02-22 14:31:41,014 - Utils - INFO - ...... subset to store [conv2_block1_add/add, conv2_block1_out/Relu]\n",
      "2022-02-22 14:31:41,018 - Utils - INFO - ...... subset to store [conv2_block2_add/add, conv2_block2_out/Relu]\n",
      "2022-02-22 14:31:41,022 - Utils - INFO - ...... subset to store [conv2_block3_add/add, conv2_block3_out/Relu]\n",
      "2022-02-22 14:31:41,026 - Utils - INFO - ...... subset to store [conv3_block1_add/add, conv3_block1_out/Relu]\n",
      "2022-02-22 14:31:41,029 - Utils - INFO - ...... subset to store [conv3_block2_add/add, conv3_block2_out/Relu]\n",
      "2022-02-22 14:31:41,033 - Utils - INFO - ...... subset to store [conv3_block3_add/add, conv3_block3_out/Relu]\n",
      "2022-02-22 14:31:41,037 - Utils - INFO - ...... subset to store [conv3_block4_add/add, conv3_block4_out/Relu]\n",
      "2022-02-22 14:31:41,041 - Utils - INFO - ...... subset to store [conv4_block1_add/add, conv4_block1_out/Relu]\n",
      "2022-02-22 14:31:41,044 - Utils - INFO - ...... subset to store [conv4_block2_add/add, conv4_block2_out/Relu]\n",
      "2022-02-22 14:31:41,048 - Utils - INFO - ...... subset to store [conv4_block3_add/add, conv4_block3_out/Relu]\n",
      "2022-02-22 14:31:41,052 - Utils - INFO - ...... subset to store [conv4_block4_add/add, conv4_block4_out/Relu]\n",
      "2022-02-22 14:31:41,056 - Utils - INFO - ...... subset to store [conv4_block5_add/add, conv4_block5_out/Relu]\n",
      "2022-02-22 14:31:41,059 - Utils - INFO - ...... subset to store [conv4_block6_add/add, conv4_block6_out/Relu]\n",
      "2022-02-22 14:31:41,063 - Utils - INFO - ...... subset to store [conv5_block1_add/add, conv5_block1_out/Relu]\n",
      "2022-02-22 14:31:41,067 - Utils - INFO - ...... subset to store [conv5_block2_add/add, conv5_block2_out/Relu]\n",
      "2022-02-22 14:31:41,071 - Utils - INFO - ...... subset to store [conv5_block3_add/add, conv5_block3_out/Relu]\n",
      "2022-02-22 14:31:41,075 - Utils - INFO - ...... subset to store [conv5_block3_1_conv/Conv2D, conv5_block3_1_relu/Relu]\n",
      "2022-02-22 14:31:41,079 - Utils - INFO - ...... subset to store [conv5_block3_2_conv/Conv2D, conv5_block3_2_relu/Relu]\n",
      "2022-02-22 14:31:41,082 - Utils - INFO - ...... subset to store [conv5_block2_1_conv/Conv2D, conv5_block2_1_relu/Relu]\n",
      "2022-02-22 14:31:41,086 - Utils - INFO - ...... subset to store [conv5_block2_2_conv/Conv2D, conv5_block2_2_relu/Relu]\n",
      "2022-02-22 14:31:41,090 - Utils - INFO - ...... subset to store [conv5_block1_1_conv/Conv2D, conv5_block1_1_relu/Relu]\n",
      "2022-02-22 14:31:41,094 - Utils - INFO - ...... subset to store [conv5_block1_2_conv/Conv2D, conv5_block1_2_relu/Relu]\n",
      "2022-02-22 14:31:41,097 - Utils - INFO - ...... subset to store [conv4_block6_1_conv/Conv2D, conv4_block6_1_relu/Relu]\n",
      "2022-02-22 14:31:41,101 - Utils - INFO - ...... subset to store [conv4_block6_2_conv/Conv2D, conv4_block6_2_relu/Relu]\n",
      "2022-02-22 14:31:41,105 - Utils - INFO - ...... subset to store [conv4_block5_1_conv/Conv2D, conv4_block5_1_relu/Relu]\n",
      "2022-02-22 14:31:41,108 - Utils - INFO - ...... subset to store [conv4_block5_2_conv/Conv2D, conv4_block5_2_relu/Relu]\n",
      "2022-02-22 14:31:41,112 - Utils - INFO - ...... subset to store [conv4_block4_1_conv/Conv2D, conv4_block4_1_relu/Relu]\n",
      "2022-02-22 14:31:41,116 - Utils - INFO - ...... subset to store [conv4_block4_2_conv/Conv2D, conv4_block4_2_relu/Relu]\n",
      "2022-02-22 14:31:41,120 - Utils - INFO - ...... subset to store [conv4_block3_1_conv/Conv2D, conv4_block3_1_relu/Relu]\n",
      "2022-02-22 14:31:41,124 - Utils - INFO - ...... subset to store [conv4_block3_2_conv/Conv2D, conv4_block3_2_relu/Relu]\n",
      "2022-02-22 14:31:41,128 - Utils - INFO - ...... subset to store [conv4_block2_1_conv/Conv2D, conv4_block2_1_relu/Relu]\n",
      "2022-02-22 14:31:41,137 - Utils - INFO - ...... subset to store [conv4_block2_2_conv/Conv2D, conv4_block2_2_relu/Relu]\n",
      "2022-02-22 14:31:41,150 - Utils - INFO - ...... subset to store [conv4_block1_1_conv/Conv2D, conv4_block1_1_relu/Relu]\n",
      "2022-02-22 14:31:41,161 - Utils - INFO - ...... subset to store [conv4_block1_2_conv/Conv2D, conv4_block1_2_relu/Relu]\n",
      "2022-02-22 14:31:41,164 - Utils - INFO - ...... subset to store [conv3_block4_1_conv/Conv2D, conv3_block4_1_relu/Relu]\n",
      "2022-02-22 14:31:41,179 - Utils - INFO - ...... subset to store [conv3_block4_2_conv/Conv2D, conv3_block4_2_relu/Relu]\n",
      "2022-02-22 14:31:41,193 - Utils - INFO - ...... subset to store [conv3_block3_1_conv/Conv2D, conv3_block3_1_relu/Relu]\n",
      "2022-02-22 14:31:41,202 - Utils - INFO - ...... subset to store [conv3_block3_2_conv/Conv2D, conv3_block3_2_relu/Relu]\n",
      "2022-02-22 14:31:41,206 - Utils - INFO - ...... subset to store [conv3_block2_1_conv/Conv2D, conv3_block2_1_relu/Relu]\n",
      "2022-02-22 14:31:41,210 - Utils - INFO - ...... subset to store [conv3_block2_2_conv/Conv2D, conv3_block2_2_relu/Relu]\n",
      "2022-02-22 14:31:41,213 - Utils - INFO - ...... subset to store [conv3_block1_1_conv/Conv2D, conv3_block1_1_relu/Relu]\n",
      "2022-02-22 14:31:41,216 - Utils - INFO - ...... subset to store [conv3_block1_2_conv/Conv2D, conv3_block1_2_relu/Relu]\n",
      "2022-02-22 14:31:41,219 - Utils - INFO - ...... subset to store [conv2_block3_1_conv/Conv2D, conv2_block3_1_relu/Relu]\n",
      "2022-02-22 14:31:41,223 - Utils - INFO - ...... subset to store [conv2_block3_2_conv/Conv2D, conv2_block3_2_relu/Relu]\n",
      "2022-02-22 14:31:41,226 - Utils - INFO - ...... subset to store [conv2_block2_1_conv/Conv2D, conv2_block2_1_relu/Relu]\n",
      "2022-02-22 14:31:41,230 - Utils - INFO - ...... subset to store [conv2_block2_2_conv/Conv2D, conv2_block2_2_relu/Relu]\n",
      "2022-02-22 14:31:41,233 - Utils - INFO - ...... subset to store [conv2_block1_1_conv/Conv2D, conv2_block1_1_relu/Relu]\n",
      "2022-02-22 14:31:41,237 - Utils - INFO - ...... subset to store [conv2_block1_2_conv/Conv2D, conv2_block1_2_relu/Relu]\n"
     ]
    }
   ],
   "source": [
    "from aimet_common.defs import QuantScheme\n",
    "from aimet_tensorflow.quantsim import QuantizationSimModel\n",
    "\n",
    "sim = QuantizationSimModel(session=bn_folded_sess,\n",
    "                           starting_op_names=starting_op_names,\n",
    "                           output_op_names=output_op_names,\n",
    "                           quant_scheme= QuantScheme.post_training_tf_enhanced,\n",
    "                           default_output_bw=8,\n",
    "                           default_param_bw=8,\n",
    "                           use_cuda=use_cuda)"
   ]
  },
  {
   "cell_type": "markdown",
   "metadata": {},
   "source": [
    "---\n",
    "## Compute Encodings\n",
    "Even though AIMET has added 'quantizer' nodes to the model graph but the model is not ready to be used yet. Before we can use the sim model for inference or training, we need to find appropriate scale/offset quantization parameters for each 'quantizer' node. For activation quantization nodes, we need to pass unlabeled data samples through the model to collect range statistics which will then let AIMET calculate appropriate scale/offset quantization parameters. This process is sometimes referred to as calibration. AIMET simply refers to it as 'computing encodings'.\n",
    "\n",
    "So we create a routine to pass unlabeled data samples through the model. This should be fairly simple - use the existing train or validation data loader to extract some samples and pass them to the model. We don't need to compute any loss metric etc. So we can just ignore the model output for this purpose. A few pointers regarding the data samples\n",
    "- In practice, we need a very small percentage of the overall data samples for computing encodings. For example, the training dataset for ImageNet has 1M samples. For computing encodings we only need 500 or 1000 samples.\n",
    "- It may be beneficial if the samples used for computing encoding are well distributed. It's not necessary that all classes need to be covered etc. since we are only looking at the range of values at every layer activation. However, we definitely want to avoid an extreme scenario like all 'dark' or 'light' samples are used - e.g. only using pictures captured at night might not give ideal results.\n",
    "\n",
    "The following shows an example of a routine that passes unlabeled samples through the model for computing encodings. This routine can be written in many different ways, this is just an example."
   ]
  },
  {
   "cell_type": "code",
   "execution_count": 12,
   "metadata": {},
   "outputs": [],
   "source": [
    "def pass_calibration_data(session: tf.compat.v1.Session, _):\n",
    "    data_loader = ImageNetDataPipeline.get_val_dataloader()\n",
    "    batch_size = data_loader.batch_size\n",
    "\n",
    "    input_label_tensors = [session.graph.get_tensor_by_name('input_1:0'),\n",
    "                           session.graph.get_tensor_by_name('labels:0')]\n",
    "    \n",
    "    train_tensors = [session.graph.get_tensor_by_name('keras_learning_phase:0')]\n",
    "    train_tensors_dict = dict.fromkeys(train_tensors, False)\n",
    "    \n",
    "    eval_outputs = [session.graph.get_operation_by_name('top1-acc').outputs[0]]\n",
    "\n",
    "    samples = 500\n",
    "\n",
    "    batch_cntr = 0\n",
    "    for input_label in data_loader:\n",
    "        input_label_tensors_dict = dict(zip(input_label_tensors, input_label))\n",
    "\n",
    "        feed_dict = {**input_label_tensors_dict, **train_tensors_dict}\n",
    "\n",
    "        with session.graph.as_default():\n",
    "            _ = session.run(eval_outputs, feed_dict=feed_dict)\n",
    "\n",
    "        batch_cntr += 1\n",
    "        if (batch_cntr * batch_size) > samples:\n",
    "            break"
   ]
  },
  {
   "cell_type": "markdown",
   "metadata": {},
   "source": [
    "---\n",
    "Now we call AIMET to use the above routine to pass data through the model and then subsequently compute the quantization encodings. Encodings here refer to scale/offset quantization parameters."
   ]
  },
  {
   "cell_type": "code",
   "execution_count": 13,
   "metadata": {},
   "outputs": [
    {
     "name": "stdout",
     "output_type": "stream",
     "text": [
      "WARNING: AutoGraph could not transform <function ImageNetDataLoader.__init__.<locals>.<lambda> at 0x7ff1a3d5d0d0> and will run it as-is.\n",
      "Please report this to the TensorFlow team. When filing the bug, set the verbosity to 10 (on Linux, `export AUTOGRAPH_VERBOSITY=10`) and attach the full output.\n",
      "Cause: 'arguments' object has no attribute 'posonlyargs'\n",
      "To silence this warning, decorate the function with @tf.autograph.experimental.do_not_convert\n"
     ]
    }
   ],
   "source": [
    "sim.compute_encodings(forward_pass_callback=pass_calibration_data,\n",
    "                      forward_pass_callback_args=None)"
   ]
  },
  {
   "cell_type": "markdown",
   "metadata": {},
   "source": [
    "---\n",
    "Now the QuantizationSim model is ready to be used for inference or training. First we can pass this model to the same evaluation routine we used before. The evaluation routine will now give us a simulated quantized accuracy score for INT8 quantization instead of the FP32 accuracy score we saw before."
   ]
  },
  {
   "cell_type": "code",
   "execution_count": 14,
   "metadata": {},
   "outputs": [
    {
     "name": "stdout",
     "output_type": "stream",
     "text": [
      "WARNING: AutoGraph could not transform <function ImageNetDataLoader.__init__.<locals>.<lambda> at 0x7ff1817eb7b8> and will run it as-is.\n",
      "Please report this to the TensorFlow team. When filing the bug, set the verbosity to 10 (on Linux, `export AUTOGRAPH_VERBOSITY=10`) and attach the full output.\n",
      "Cause: 'arguments' object has no attribute 'posonlyargs'\n",
      "To silence this warning, decorate the function with @tf.autograph.experimental.do_not_convert\n",
      "2022-02-22 14:35:13,182 - Eval - INFO - Evaluating graph for 1562 iterations with batch_size 32\n"
     ]
    },
    {
     "name": "stderr",
     "output_type": "stream",
     "text": [
      "100% (1562 of 1562) |####################| Elapsed Time: 0:00:05 Time:  0:00:05\n"
     ]
    },
    {
     "name": "stdout",
     "output_type": "stream",
     "text": [
      "2022-02-22 14:35:20,510 - Eval - INFO - Avg accuracy Top 1: 0.716113 Avg accuracy Top 5: 0.923274 on validation Dataset\n",
      "0.7161125322741926\n"
     ]
    }
   ],
   "source": [
    "accuracy = ImageNetDataPipeline.evaluate(sim.session)\n",
    "print(accuracy)"
   ]
  },
  {
   "cell_type": "markdown",
   "metadata": {},
   "source": [
    "---\n",
    "## 4. Perform QAT\n",
    "\n",
    "To perform quantization aware training (QAT), we simply train the model for a few more epochs (typically 15-20). As with any training job, hyper-parameters need to be searched for optimal results. Good starting points are to use a learning rate on the same order as the ending learning rate when training the original model, and to drop the learning rate by a factor of 10 every 5 epochs or so.\n",
    "\n",
    "For the purpose of this example notebook, we are going to train only for 1 epoch. But feel free to change these parameters as you see fit."
   ]
  },
  {
   "cell_type": "code",
   "execution_count": 15,
   "metadata": {},
   "outputs": [
    {
     "name": "stdout",
     "output_type": "stream",
     "text": [
      "WARNING: AutoGraph could not transform <function ImageNetDataLoader.__init__.<locals>.<lambda> at 0x7ff1806341e0> and will run it as-is.\n",
      "Please report this to the TensorFlow team. When filing the bug, set the verbosity to 10 (on Linux, `export AUTOGRAPH_VERBOSITY=10`) and attach the full output.\n",
      "Cause: 'arguments' object has no attribute 'posonlyargs'\n",
      "To silence this warning, decorate the function with @tf.autograph.experimental.do_not_convert\n",
      "2022-02-22 14:35:26,368 - Utils - INFO - Initializing uninitialized variables\n",
      "2022-02-22 14:35:27,498 - Train - INFO - Training graph for 80072 iterations with batch_size 16 for 1 Epochs\n"
     ]
    },
    {
     "name": "stderr",
     "output_type": "stream",
     "text": [
      "\r",
      "  0% (0 of 80072) |                      | Elapsed Time: 0:00:00 ETA:  --:--:--"
     ]
    },
    {
     "name": "stdout",
     "output_type": "stream",
     "text": [
      "WARNING: AutoGraph could not transform <function ImageNetDataLoader.__init__.<locals>.<lambda> at 0x7ff12403f510> and will run it as-is.\n",
      "Please report this to the TensorFlow team. When filing the bug, set the verbosity to 10 (on Linux, `export AUTOGRAPH_VERBOSITY=10`) and attach the full output.\n",
      "Cause: 'arguments' object has no attribute 'posonlyargs'\n",
      "To silence this warning, decorate the function with @tf.autograph.experimental.do_not_convert\n",
      "2022-02-22 14:35:35,345 - Eval - INFO - Evaluating graph for 3125 iterations with batch_size 16\n"
     ]
    },
    {
     "name": "stderr",
     "output_type": "stream",
     "text": [
      "100% (3125 of 3125) |####################| Elapsed Time: 0:00:11 Time:  0:00:11\n"
     ]
    },
    {
     "name": "stdout",
     "output_type": "stream",
     "text": [
      "2022-02-22 14:35:47,114 - Eval - INFO - Avg accuracy Top 1: 0.000000 Avg accuracy Top 5: 0.040921 on validation Dataset\n",
      "2022-02-22 14:35:47,115 - Train - INFO - Epoch #1/1: iteration #0/80072: Global Avg Loss=inf, Eval Accuracy=0.000000\n"
     ]
    },
    {
     "name": "stderr",
     "output_type": "stream",
     "text": [
      "/prj/neo-nas/users/dkhullar/aimet-mirror/Examples/tensorflow/utils/image_net_trainer.py:235: RuntimeWarning: divide by zero encountered in double_scalars\n",
      "  avg_loss / curr_iter, eval_accuracy)\n",
      "100% (80072 of 80072) |##################| Elapsed Time: 0:02:06 Time:  0:02:06\n"
     ]
    },
    {
     "name": "stdout",
     "output_type": "stream",
     "text": [
      "WARNING: AutoGraph could not transform <function ImageNetDataLoader.__init__.<locals>.<lambda> at 0x7ff11470d268> and will run it as-is.\n",
      "Please report this to the TensorFlow team. When filing the bug, set the verbosity to 10 (on Linux, `export AUTOGRAPH_VERBOSITY=10`) and attach the full output.\n",
      "Cause: 'arguments' object has no attribute 'posonlyargs'\n",
      "To silence this warning, decorate the function with @tf.autograph.experimental.do_not_convert\n",
      "2022-02-22 14:37:41,714 - Eval - INFO - Evaluating graph for 3125 iterations with batch_size 16\n"
     ]
    },
    {
     "name": "stderr",
     "output_type": "stream",
     "text": [
      "100% (3125 of 3125) |####################| Elapsed Time: 0:00:09 Time:  0:00:09\n"
     ]
    },
    {
     "name": "stdout",
     "output_type": "stream",
     "text": [
      "2022-02-22 14:37:52,335 - Eval - INFO - Avg accuracy Top 1: 0.000000 Avg accuracy Top 5: 0.805627 on validation Dataset\n",
      "2022-02-22 14:37:52,336 - Train - INFO - At the end of Epoch #1/1: Global Avg Loss=6.905220, Eval Accuracy=0.000000\n"
     ]
    }
   ],
   "source": [
    "ImageNetDataPipeline.finetune(sim.session, update_ops_name=update_ops_name, epochs=1, learning_rate=1e-3, decay_steps=5)"
   ]
  },
  {
   "cell_type": "markdown",
   "metadata": {},
   "source": [
    "---\n",
    "After we are done with QAT, we can run quantization simulation inference against the validation dataset at the end to observe any improvements in accuracy."
   ]
  },
  {
   "cell_type": "code",
   "execution_count": 16,
   "metadata": {},
   "outputs": [
    {
     "name": "stdout",
     "output_type": "stream",
     "text": [
      "WARNING: AutoGraph could not transform <function ImageNetDataLoader.__init__.<locals>.<lambda> at 0x7ff180634488> and will run it as-is.\n",
      "Please report this to the TensorFlow team. When filing the bug, set the verbosity to 10 (on Linux, `export AUTOGRAPH_VERBOSITY=10`) and attach the full output.\n",
      "Cause: 'arguments' object has no attribute 'posonlyargs'\n",
      "To silence this warning, decorate the function with @tf.autograph.experimental.do_not_convert\n",
      "2022-02-22 14:37:52,440 - Eval - INFO - Evaluating graph for 1562 iterations with batch_size 32\n"
     ]
    },
    {
     "name": "stderr",
     "output_type": "stream",
     "text": [
      "100% (1562 of 1562) |####################| Elapsed Time: 0:00:05 Time:  0:00:05\n"
     ]
    },
    {
     "name": "stdout",
     "output_type": "stream",
     "text": [
      "2022-02-22 14:37:58,533 - Eval - INFO - Avg accuracy Top 1: 0.000000 Avg accuracy Top 5: 0.805627 on validation Dataset\n",
      "0.0\n"
     ]
    }
   ],
   "source": [
    "accuracy = ImageNetDataPipeline.evaluate(sim.session)\n",
    "print(accuracy)"
   ]
  },
  {
   "cell_type": "markdown",
   "metadata": {},
   "source": [
    "---\n",
    "Depending on your settings you may have observed a slight gain in accuracy after one epoch of training. Ofcourse, this was just an example. Please try this against the model of your choice and play with the hyper-parameters to get the best results.\n",
    "\n",
    "So we should have an improved model after QAT. Now the next step would be to actually take this model to target. For this purpose, we need to export the model with the updated weights without the fake quant ops. AIMET QuantizationSimModel provides an export API for this purpose. This API would save the model as .encodings .meta etc. TODO"
   ]
  },
  {
   "cell_type": "code",
   "execution_count": 17,
   "metadata": {},
   "outputs": [
    {
     "name": "stdout",
     "output_type": "stream",
     "text": [
      "2022-02-22 14:37:58,544 - Quant - INFO - Original session is not provided, use orig_model_before_quantsim.meta to export\n"
     ]
    }
   ],
   "source": [
    "os.makedirs('./output/', exist_ok=True)\n",
    "sim.export(path='./output/', filename_prefix='resnet50_after_qat')"
   ]
  },
  {
   "cell_type": "markdown",
   "metadata": {},
   "source": [
    "---\n",
    "## Summary\n",
    "\n",
    "Hope this notebook was useful for you to understand how to use AIMET for performing QAT.\n",
    "\n",
    "Few additional resources\n",
    "- Refer to the AIMET API docs to know more details of the APIs and optional parameters\n",
    "- Refer to the other example notebooks to understand how to use AIMET post-training quantization techniques and QAT with range-learning"
   ]
  }
 ],
 "metadata": {
  "kernelspec": {
   "display_name": "Python 3",
   "language": "python",
   "name": "python3"
  },
  "language_info": {
   "codemirror_mode": {
    "name": "ipython",
    "version": 3
   },
   "file_extension": ".py",
   "mimetype": "text/x-python",
   "name": "python",
   "nbconvert_exporter": "python",
   "pygments_lexer": "ipython3",
   "version": "3.6.9"
  }
 },
 "nbformat": 4,
 "nbformat_minor": 2
}
